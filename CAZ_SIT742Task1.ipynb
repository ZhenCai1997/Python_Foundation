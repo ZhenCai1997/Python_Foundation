{
 "cells": [
  {
   "cell_type": "markdown",
   "metadata": {
    "id": "3D514Ei_kSUS"
   },
   "source": [
    "# SIT742: Modern Data Science \n",
    "**(2021 Assessment Task 01 - Data Manipulation)**\n",
    "\n",
    "---\n",
    "- Please refer to the CloudDeakin for the detailed assessment requirements.\n",
    "- Please submit to Clouddeakin before the due date.\n",
    "- Students with difficulty in meeting the deadline because of illness, etc. must apply for an assignment extension (up to 3 days) no later than *12:00pm on 16/04/2021 (Friday)*.\n",
    "\n",
    "\n",
    "Prepared by **SIT742 Teaching Team**\n",
    "\n",
    "\n",
    "---\n",
    "\n",
    "<div class=\"alert alert-block alert-info\">\n",
    "Enter your information in the following cell. Please make sure you fill your Student ID and Name correctly.  \n",
    "</div>\n",
    "\n",
    "**Student Information:** Please fill your information below\n",
    "\n",
    "- Name:  Zhen Cai\n",
    "- Student ID:   219056512\n",
    "- Email:  caz@deakin.edu.au\n",
    "- Lab Session and Tutor (for on campus students): Tue 02.00pm ZiWei Hou\n",
    "\n",
    "---"
   ]
  },
  {
   "cell_type": "markdown",
   "metadata": {
    "id": "1X7L24t43CoU"
   },
   "source": [
    "# Part I - Web Log Data\n",
    "\n",
    "## Overview\n",
    "\n",
    "Hotel TULIP a five-star hotel located at Deakin University, and its CIO Dr Bear Guts has asked the Team-SIT742 team to analyse the weblogs files. As an employee for Hotel Tulip, working in the Information Technology Division, it is required to prepare a set of documentation for Team-SIT742 to allow them to understand the data being dealt with. Throughout this report, some source codes are to explore the weblog, which afterwards the information is presented to Dr Bear Guts in the format of a report.\n",
    "\n",
    "In this part, you are required to use give dataset to finish some required analysis, with the exploreation data analytics skills as well as visuilization skill.\n",
    "\n",
    "\n",
    "You will be required to complete the coding to answer the questions with a neat and clean format, and you must keep outputs for code. Your commenting and adherence to code standards will also be considered when marking. Further information on Python standards, please visit https://www.python.org/dev/peps/pep-0008/ \n",
    "\n",
    "\n",
    "**Note**: You are not necessary to stick to the partial code provided, and you can write your own code to implement the required tasks. But you should provide sufficient comments.\n"
   ]
  },
  {
   "cell_type": "markdown",
   "metadata": {
    "id": "r85LNibZkSUZ"
   },
   "source": [
    "\n",
    "\n",
    "## 1.  Data ETL"
   ]
  },
  {
   "cell_type": "markdown",
   "metadata": {
    "id": "HtL_9QR27_Iu"
   },
   "source": [
    "### 1.1 Data Loading"
   ]
  },
  {
   "cell_type": "code",
   "execution_count": 1,
   "metadata": {
    "id": "19EhpLspkSUZ"
   },
   "outputs": [],
   "source": [
    "import matplotlib.pyplot as plt\n",
    "import numpy as np\n",
    "import pandas as pd\n",
    "import time\n",
    "import datetime\n",
    "from scipy import stats\n",
    "import matplotlib\n"
   ]
  },
  {
   "cell_type": "markdown",
   "metadata": {
    "id": "jY2Br4cBN956"
   },
   "source": [
    " <div class=\"alert alert-block alert-info\">\n",
    "\n",
    "**Code**: \n",
    "    You are required to load Hotel TULIP data into dataframe df_ht and check how many files are loaded.\n",
    "    <br>\n",
    "    *Keep the outputs for code in your notebook.\n",
    "</div>\n",
    "\n"
   ]
  },
  {
   "cell_type": "code",
   "execution_count": 2,
   "metadata": {
    "id": "IIB_xH-hOqEj"
   },
   "outputs": [
    {
     "output_type": "stream",
     "name": "stdout",
     "text": [
      "The number of files been loaded is :  120\n"
     ]
    }
   ],
   "source": [
    "# Import Package\n",
    "from zipfile import ZipFile\n",
    "\n",
    "# Load zipfile\n",
    "z = ZipFile(r'HTWebLog_p1.zip')\n",
    "file_names = z.namelist()\n",
    "\n",
    "print(\"The number of files been loaded is : \", len(file_names))"
   ]
  },
  {
   "cell_type": "code",
   "execution_count": 3,
   "metadata": {},
   "outputs": [
    {
     "output_type": "execute_result",
     "data": {
      "text/plain": [
       "['date',\n",
       " 'time',\n",
       " 's-sitename',\n",
       " 's-ip',\n",
       " 'cs-method',\n",
       " 'cs-uri-stem',\n",
       " 'cs-uri-query',\n",
       " 's-port',\n",
       " 'cs-username',\n",
       " 'c-ip',\n",
       " 'cs(User-Agent)',\n",
       " 'cs(Referer)',\n",
       " 'sc-status',\n",
       " 'sc-substatus',\n",
       " 'sc-win32-status']"
      ]
     },
     "metadata": {},
     "execution_count": 3
    }
   ],
   "source": [
    "file_1 = z.read(file_names[0]).decode('iso-8859-1')    # Read file and change encoding type\n",
    "file_1 = file_1.split(\"\\r\\n\")                          # Split data row by row\n",
    "columns_name = file_1[3]\n",
    "columns_name = columns_name.split(\" \")\n",
    "columns_name = columns_name[1:16]\n",
    "columns_name"
   ]
  },
  {
   "cell_type": "code",
   "execution_count": 4,
   "metadata": {},
   "outputs": [],
   "source": [
    "column = columns_name\n",
    "# Split the row data by space\n",
    "new_file = list()\n",
    "for i in file_1:\n",
    "    new_file.append(i.split(\" \"))\n",
    "\n",
    "# Print the test dataframe    \n",
    "new_df = pd.DataFrame(new_file)"
   ]
  },
  {
   "cell_type": "code",
   "execution_count": 5,
   "metadata": {},
   "outputs": [],
   "source": [
    "# Define function to remove rows with error information and create dataframe\n",
    "def dataframe_construction(file_name, file_index):\n",
    "    z = ZipFile(file_name, mode = 'r')\n",
    "    file_names = z.namelist()\n",
    "    df = z.read(file_names[file_index]).decode('iso-8859-1')\n",
    "    df = df.split(\"\\r\\n\")[4:]\n",
    "    df_new = list()\n",
    "    for i in df:\n",
    "        df_new.append(i.split(\" \"))\n",
    "    df_len = [item for item in df_new if len(item) == len(df_new[0])]   # Remove dirty item in list which len is not 15     \n",
    "    df_data = pd.DataFrame(df_len) \n",
    "    return df_data\n"
   ]
  },
  {
   "cell_type": "code",
   "execution_count": 6,
   "metadata": {},
   "outputs": [],
   "source": [
    "# Create data frame by for loop\n",
    "dataframe = [dataframe_construction('HTWebLog_p1.zip', a) for a in range(len(file_names))]"
   ]
  },
  {
   "cell_type": "code",
   "execution_count": 7,
   "metadata": {},
   "outputs": [
    {
     "output_type": "execute_result",
     "data": {
      "text/plain": [
       "             date      time s-sitename       s-ip cs-method  \\\n",
       "0      2006-11-01  00:00:08     W3SVC1  127.0.0.1       GET   \n",
       "1      2006-11-01  00:00:08     W3SVC1  127.0.0.1       GET   \n",
       "2      2006-11-01  00:00:08     W3SVC1  127.0.0.1       GET   \n",
       "3      2006-11-01  00:00:09     W3SVC1  127.0.0.1       GET   \n",
       "4      2006-11-01  00:00:09     W3SVC1  127.0.0.1       GET   \n",
       "...           ...       ...        ...        ...       ...   \n",
       "63741  2007-02-28  23:59:57     W3SVC1  127.0.0.1       GET   \n",
       "63742  2007-02-28  23:59:57     W3SVC1  127.0.0.1       GET   \n",
       "63743  2007-02-28  23:59:57     W3SVC1  127.0.0.1       GET   \n",
       "63744  2007-02-28  23:59:57     W3SVC1  127.0.0.1       GET   \n",
       "63745  2007-03-01  00:00:00     W3SVC1  127.0.0.1       GET   \n",
       "\n",
       "                                             cs-uri-stem cs-uri-query s-port  \\\n",
       "0                                          /Default.aspx            -     80   \n",
       "1                      /Tulip/home/en-us/home_index.aspx            -     80   \n",
       "2                       /Tulip/includes/js/CommonUtil.js            -     80   \n",
       "3                        /Tulip/common/common_style.aspx   lang=en-us     80   \n",
       "4                 /Tulip/common/en-us/images/top_img.jpg            -     80   \n",
       "...                                                  ...          ...    ...   \n",
       "63741  /Tulip/common/en-us/images/sectionbanner_green...            -     80   \n",
       "63742  /Tulip/common/en-us/images/sectionbanner_recru...            -     80   \n",
       "63743                /Tulip/home/en-us/images/awards.jpg            -     80   \n",
       "63744              /Tulip/common/en-us/images/bottom.jpg            -     80   \n",
       "63745  /Tulip/common/en-us/images/sectionbanner_accom...            -     80   \n",
       "\n",
       "      cs-username           c-ip  \\\n",
       "0               -    70.80.84.76   \n",
       "1               -    70.80.84.76   \n",
       "2               -    70.80.84.76   \n",
       "3               -    70.80.84.76   \n",
       "4               -    70.80.84.76   \n",
       "...           ...            ...   \n",
       "63741           -  74.110.32.161   \n",
       "63742           -  74.110.32.161   \n",
       "63743           -  74.110.32.161   \n",
       "63744           -  74.110.32.161   \n",
       "63745           -  74.110.32.161   \n",
       "\n",
       "                                          cs(User-Agent)  \\\n",
       "0      Mozilla/4.0+(compatible;+MSIE+6.0;+Windows+NT+...   \n",
       "1      Mozilla/4.0+(compatible;+MSIE+6.0;+Windows+NT+...   \n",
       "2      Mozilla/4.0+(compatible;+MSIE+6.0;+Windows+NT+...   \n",
       "3      Mozilla/4.0+(compatible;+MSIE+6.0;+Windows+NT+...   \n",
       "4      Mozilla/4.0+(compatible;+MSIE+6.0;+Windows+NT+...   \n",
       "...                                                  ...   \n",
       "63741  Mozilla/4.0+(compatible;+MSIE+6.0;+Windows+NT+...   \n",
       "63742  Mozilla/4.0+(compatible;+MSIE+6.0;+Windows+NT+...   \n",
       "63743  Mozilla/4.0+(compatible;+MSIE+6.0;+Windows+NT+...   \n",
       "63744  Mozilla/4.0+(compatible;+MSIE+6.0;+Windows+NT+...   \n",
       "63745  Mozilla/4.0+(compatible;+MSIE+6.0;+Windows+NT+...   \n",
       "\n",
       "                                             cs(Referer) sc-status  \\\n",
       "0      http://www.google.com/search?sourceid=navclien...       200   \n",
       "1                                                      -       200   \n",
       "2      http://www.hotelTulip.com.hk/Tulip/home/en-us/...       200   \n",
       "3      http://www.hotelTulip.com.hk/Tulip/home/en-us/...       200   \n",
       "4      http://www.hotelTulip.com.hk/Tulip/home/en-us/...       200   \n",
       "...                                                  ...       ...   \n",
       "63741  http://www.hotelTulip.com.hk/Tulip/home/en-us/...       200   \n",
       "63742  http://www.hotelTulip.com.hk/Tulip/home/en-us/...       200   \n",
       "63743  http://www.hotelTulip.com.hk/Tulip/home/en-us/...       200   \n",
       "63744  http://www.hotelTulip.com.hk/Tulip/home/en-us/...       200   \n",
       "63745  http://www.hotelTulip.com.hk/Tulip/home/en-us/...       200   \n",
       "\n",
       "      sc-substatus sc-win32-status  \n",
       "0                0               0  \n",
       "1                0               0  \n",
       "2                0               0  \n",
       "3                0               0  \n",
       "4                0               0  \n",
       "...            ...             ...  \n",
       "63741            0               0  \n",
       "63742            0               0  \n",
       "63743            0               0  \n",
       "63744            0               0  \n",
       "63745            0               0  \n",
       "\n",
       "[8438928 rows x 15 columns]"
      ],
      "text/html": "<div>\n<style scoped>\n    .dataframe tbody tr th:only-of-type {\n        vertical-align: middle;\n    }\n\n    .dataframe tbody tr th {\n        vertical-align: top;\n    }\n\n    .dataframe thead th {\n        text-align: right;\n    }\n</style>\n<table border=\"1\" class=\"dataframe\">\n  <thead>\n    <tr style=\"text-align: right;\">\n      <th></th>\n      <th>date</th>\n      <th>time</th>\n      <th>s-sitename</th>\n      <th>s-ip</th>\n      <th>cs-method</th>\n      <th>cs-uri-stem</th>\n      <th>cs-uri-query</th>\n      <th>s-port</th>\n      <th>cs-username</th>\n      <th>c-ip</th>\n      <th>cs(User-Agent)</th>\n      <th>cs(Referer)</th>\n      <th>sc-status</th>\n      <th>sc-substatus</th>\n      <th>sc-win32-status</th>\n    </tr>\n  </thead>\n  <tbody>\n    <tr>\n      <th>0</th>\n      <td>2006-11-01</td>\n      <td>00:00:08</td>\n      <td>W3SVC1</td>\n      <td>127.0.0.1</td>\n      <td>GET</td>\n      <td>/Default.aspx</td>\n      <td>-</td>\n      <td>80</td>\n      <td>-</td>\n      <td>70.80.84.76</td>\n      <td>Mozilla/4.0+(compatible;+MSIE+6.0;+Windows+NT+...</td>\n      <td>http://www.google.com/search?sourceid=navclien...</td>\n      <td>200</td>\n      <td>0</td>\n      <td>0</td>\n    </tr>\n    <tr>\n      <th>1</th>\n      <td>2006-11-01</td>\n      <td>00:00:08</td>\n      <td>W3SVC1</td>\n      <td>127.0.0.1</td>\n      <td>GET</td>\n      <td>/Tulip/home/en-us/home_index.aspx</td>\n      <td>-</td>\n      <td>80</td>\n      <td>-</td>\n      <td>70.80.84.76</td>\n      <td>Mozilla/4.0+(compatible;+MSIE+6.0;+Windows+NT+...</td>\n      <td>-</td>\n      <td>200</td>\n      <td>0</td>\n      <td>0</td>\n    </tr>\n    <tr>\n      <th>2</th>\n      <td>2006-11-01</td>\n      <td>00:00:08</td>\n      <td>W3SVC1</td>\n      <td>127.0.0.1</td>\n      <td>GET</td>\n      <td>/Tulip/includes/js/CommonUtil.js</td>\n      <td>-</td>\n      <td>80</td>\n      <td>-</td>\n      <td>70.80.84.76</td>\n      <td>Mozilla/4.0+(compatible;+MSIE+6.0;+Windows+NT+...</td>\n      <td>http://www.hotelTulip.com.hk/Tulip/home/en-us/...</td>\n      <td>200</td>\n      <td>0</td>\n      <td>0</td>\n    </tr>\n    <tr>\n      <th>3</th>\n      <td>2006-11-01</td>\n      <td>00:00:09</td>\n      <td>W3SVC1</td>\n      <td>127.0.0.1</td>\n      <td>GET</td>\n      <td>/Tulip/common/common_style.aspx</td>\n      <td>lang=en-us</td>\n      <td>80</td>\n      <td>-</td>\n      <td>70.80.84.76</td>\n      <td>Mozilla/4.0+(compatible;+MSIE+6.0;+Windows+NT+...</td>\n      <td>http://www.hotelTulip.com.hk/Tulip/home/en-us/...</td>\n      <td>200</td>\n      <td>0</td>\n      <td>0</td>\n    </tr>\n    <tr>\n      <th>4</th>\n      <td>2006-11-01</td>\n      <td>00:00:09</td>\n      <td>W3SVC1</td>\n      <td>127.0.0.1</td>\n      <td>GET</td>\n      <td>/Tulip/common/en-us/images/top_img.jpg</td>\n      <td>-</td>\n      <td>80</td>\n      <td>-</td>\n      <td>70.80.84.76</td>\n      <td>Mozilla/4.0+(compatible;+MSIE+6.0;+Windows+NT+...</td>\n      <td>http://www.hotelTulip.com.hk/Tulip/home/en-us/...</td>\n      <td>200</td>\n      <td>0</td>\n      <td>0</td>\n    </tr>\n    <tr>\n      <th>...</th>\n      <td>...</td>\n      <td>...</td>\n      <td>...</td>\n      <td>...</td>\n      <td>...</td>\n      <td>...</td>\n      <td>...</td>\n      <td>...</td>\n      <td>...</td>\n      <td>...</td>\n      <td>...</td>\n      <td>...</td>\n      <td>...</td>\n      <td>...</td>\n      <td>...</td>\n    </tr>\n    <tr>\n      <th>63741</th>\n      <td>2007-02-28</td>\n      <td>23:59:57</td>\n      <td>W3SVC1</td>\n      <td>127.0.0.1</td>\n      <td>GET</td>\n      <td>/Tulip/common/en-us/images/sectionbanner_green...</td>\n      <td>-</td>\n      <td>80</td>\n      <td>-</td>\n      <td>74.110.32.161</td>\n      <td>Mozilla/4.0+(compatible;+MSIE+6.0;+Windows+NT+...</td>\n      <td>http://www.hotelTulip.com.hk/Tulip/home/en-us/...</td>\n      <td>200</td>\n      <td>0</td>\n      <td>0</td>\n    </tr>\n    <tr>\n      <th>63742</th>\n      <td>2007-02-28</td>\n      <td>23:59:57</td>\n      <td>W3SVC1</td>\n      <td>127.0.0.1</td>\n      <td>GET</td>\n      <td>/Tulip/common/en-us/images/sectionbanner_recru...</td>\n      <td>-</td>\n      <td>80</td>\n      <td>-</td>\n      <td>74.110.32.161</td>\n      <td>Mozilla/4.0+(compatible;+MSIE+6.0;+Windows+NT+...</td>\n      <td>http://www.hotelTulip.com.hk/Tulip/home/en-us/...</td>\n      <td>200</td>\n      <td>0</td>\n      <td>0</td>\n    </tr>\n    <tr>\n      <th>63743</th>\n      <td>2007-02-28</td>\n      <td>23:59:57</td>\n      <td>W3SVC1</td>\n      <td>127.0.0.1</td>\n      <td>GET</td>\n      <td>/Tulip/home/en-us/images/awards.jpg</td>\n      <td>-</td>\n      <td>80</td>\n      <td>-</td>\n      <td>74.110.32.161</td>\n      <td>Mozilla/4.0+(compatible;+MSIE+6.0;+Windows+NT+...</td>\n      <td>http://www.hotelTulip.com.hk/Tulip/home/en-us/...</td>\n      <td>200</td>\n      <td>0</td>\n      <td>0</td>\n    </tr>\n    <tr>\n      <th>63744</th>\n      <td>2007-02-28</td>\n      <td>23:59:57</td>\n      <td>W3SVC1</td>\n      <td>127.0.0.1</td>\n      <td>GET</td>\n      <td>/Tulip/common/en-us/images/bottom.jpg</td>\n      <td>-</td>\n      <td>80</td>\n      <td>-</td>\n      <td>74.110.32.161</td>\n      <td>Mozilla/4.0+(compatible;+MSIE+6.0;+Windows+NT+...</td>\n      <td>http://www.hotelTulip.com.hk/Tulip/home/en-us/...</td>\n      <td>200</td>\n      <td>0</td>\n      <td>0</td>\n    </tr>\n    <tr>\n      <th>63745</th>\n      <td>2007-03-01</td>\n      <td>00:00:00</td>\n      <td>W3SVC1</td>\n      <td>127.0.0.1</td>\n      <td>GET</td>\n      <td>/Tulip/common/en-us/images/sectionbanner_accom...</td>\n      <td>-</td>\n      <td>80</td>\n      <td>-</td>\n      <td>74.110.32.161</td>\n      <td>Mozilla/4.0+(compatible;+MSIE+6.0;+Windows+NT+...</td>\n      <td>http://www.hotelTulip.com.hk/Tulip/home/en-us/...</td>\n      <td>200</td>\n      <td>0</td>\n      <td>0</td>\n    </tr>\n  </tbody>\n</table>\n<p>8438928 rows × 15 columns</p>\n</div>"
     },
     "metadata": {},
     "execution_count": 7
    }
   ],
   "source": [
    "# Combine dataframes\n",
    "column = columns_name\n",
    "df_ht = pd.concat(dataframe)\n",
    "df_ht.columns = column\n",
    "df_ht"
   ]
  },
  {
   "cell_type": "code",
   "execution_count": 8,
   "metadata": {},
   "outputs": [
    {
     "output_type": "stream",
     "name": "stdout",
     "text": [
      "<class 'pandas.core.frame.DataFrame'>\nInt64Index: 8438928 entries, 0 to 63745\nData columns (total 15 columns):\n #   Column           Dtype \n---  ------           ----- \n 0   date             object\n 1   time             object\n 2   s-sitename       object\n 3   s-ip             object\n 4   cs-method        object\n 5   cs-uri-stem      object\n 6   cs-uri-query     object\n 7   s-port           object\n 8   cs-username      object\n 9   c-ip             object\n 10  cs(User-Agent)   object\n 11  cs(Referer)      object\n 12  sc-status        object\n 13  sc-substatus     object\n 14  sc-win32-status  object\ndtypes: object(15)\nmemory usage: 1.0+ GB\n"
     ]
    }
   ],
   "source": [
    "df_ht.info()"
   ]
  },
  {
   "cell_type": "markdown",
   "metadata": {
    "id": "Dyt9lwm_QKFV"
   },
   "source": [
    " <div class=\"alert alert-block alert-info\">\n",
    "\n",
    "**Code**: \n",
    "    Check the data statistics and general information by printing its top 5 rows.\n",
    "    <br>\n",
    "    *Keep the outputs for code in your notebook.\n",
    "</div>\n",
    "\n",
    "<div class=\"alert alert-block alert-warning\">\n",
    "    \n",
    "**Report**: \n",
    "    **Part I 1.1** Please include your result for this coding task into your SIT742-DataDictionary.xlsx, then add to your report - Part I with proper section title '1.1.1' and '1.1.2'.\n",
    "</div>\n",
    "    </div>\n"
   ]
  },
  {
   "cell_type": "code",
   "execution_count": 9,
   "metadata": {},
   "outputs": [
    {
     "output_type": "execute_result",
     "data": {
      "text/plain": [
       "         date      time s-sitename       s-ip cs-method  \\\n",
       "0  2006-11-01  00:00:08     W3SVC1  127.0.0.1       GET   \n",
       "1  2006-11-01  00:00:08     W3SVC1  127.0.0.1       GET   \n",
       "2  2006-11-01  00:00:08     W3SVC1  127.0.0.1       GET   \n",
       "3  2006-11-01  00:00:09     W3SVC1  127.0.0.1       GET   \n",
       "4  2006-11-01  00:00:09     W3SVC1  127.0.0.1       GET   \n",
       "\n",
       "                              cs-uri-stem cs-uri-query s-port cs-username  \\\n",
       "0                           /Default.aspx            -     80           -   \n",
       "1       /Tulip/home/en-us/home_index.aspx            -     80           -   \n",
       "2        /Tulip/includes/js/CommonUtil.js            -     80           -   \n",
       "3         /Tulip/common/common_style.aspx   lang=en-us     80           -   \n",
       "4  /Tulip/common/en-us/images/top_img.jpg            -     80           -   \n",
       "\n",
       "          c-ip                                     cs(User-Agent)  \\\n",
       "0  70.80.84.76  Mozilla/4.0+(compatible;+MSIE+6.0;+Windows+NT+...   \n",
       "1  70.80.84.76  Mozilla/4.0+(compatible;+MSIE+6.0;+Windows+NT+...   \n",
       "2  70.80.84.76  Mozilla/4.0+(compatible;+MSIE+6.0;+Windows+NT+...   \n",
       "3  70.80.84.76  Mozilla/4.0+(compatible;+MSIE+6.0;+Windows+NT+...   \n",
       "4  70.80.84.76  Mozilla/4.0+(compatible;+MSIE+6.0;+Windows+NT+...   \n",
       "\n",
       "                                         cs(Referer) sc-status sc-substatus  \\\n",
       "0  http://www.google.com/search?sourceid=navclien...       200            0   \n",
       "1                                                  -       200            0   \n",
       "2  http://www.hotelTulip.com.hk/Tulip/home/en-us/...       200            0   \n",
       "3  http://www.hotelTulip.com.hk/Tulip/home/en-us/...       200            0   \n",
       "4  http://www.hotelTulip.com.hk/Tulip/home/en-us/...       200            0   \n",
       "\n",
       "  sc-win32-status  \n",
       "0               0  \n",
       "1               0  \n",
       "2               0  \n",
       "3               0  \n",
       "4               0  "
      ],
      "text/html": "<div>\n<style scoped>\n    .dataframe tbody tr th:only-of-type {\n        vertical-align: middle;\n    }\n\n    .dataframe tbody tr th {\n        vertical-align: top;\n    }\n\n    .dataframe thead th {\n        text-align: right;\n    }\n</style>\n<table border=\"1\" class=\"dataframe\">\n  <thead>\n    <tr style=\"text-align: right;\">\n      <th></th>\n      <th>date</th>\n      <th>time</th>\n      <th>s-sitename</th>\n      <th>s-ip</th>\n      <th>cs-method</th>\n      <th>cs-uri-stem</th>\n      <th>cs-uri-query</th>\n      <th>s-port</th>\n      <th>cs-username</th>\n      <th>c-ip</th>\n      <th>cs(User-Agent)</th>\n      <th>cs(Referer)</th>\n      <th>sc-status</th>\n      <th>sc-substatus</th>\n      <th>sc-win32-status</th>\n    </tr>\n  </thead>\n  <tbody>\n    <tr>\n      <th>0</th>\n      <td>2006-11-01</td>\n      <td>00:00:08</td>\n      <td>W3SVC1</td>\n      <td>127.0.0.1</td>\n      <td>GET</td>\n      <td>/Default.aspx</td>\n      <td>-</td>\n      <td>80</td>\n      <td>-</td>\n      <td>70.80.84.76</td>\n      <td>Mozilla/4.0+(compatible;+MSIE+6.0;+Windows+NT+...</td>\n      <td>http://www.google.com/search?sourceid=navclien...</td>\n      <td>200</td>\n      <td>0</td>\n      <td>0</td>\n    </tr>\n    <tr>\n      <th>1</th>\n      <td>2006-11-01</td>\n      <td>00:00:08</td>\n      <td>W3SVC1</td>\n      <td>127.0.0.1</td>\n      <td>GET</td>\n      <td>/Tulip/home/en-us/home_index.aspx</td>\n      <td>-</td>\n      <td>80</td>\n      <td>-</td>\n      <td>70.80.84.76</td>\n      <td>Mozilla/4.0+(compatible;+MSIE+6.0;+Windows+NT+...</td>\n      <td>-</td>\n      <td>200</td>\n      <td>0</td>\n      <td>0</td>\n    </tr>\n    <tr>\n      <th>2</th>\n      <td>2006-11-01</td>\n      <td>00:00:08</td>\n      <td>W3SVC1</td>\n      <td>127.0.0.1</td>\n      <td>GET</td>\n      <td>/Tulip/includes/js/CommonUtil.js</td>\n      <td>-</td>\n      <td>80</td>\n      <td>-</td>\n      <td>70.80.84.76</td>\n      <td>Mozilla/4.0+(compatible;+MSIE+6.0;+Windows+NT+...</td>\n      <td>http://www.hotelTulip.com.hk/Tulip/home/en-us/...</td>\n      <td>200</td>\n      <td>0</td>\n      <td>0</td>\n    </tr>\n    <tr>\n      <th>3</th>\n      <td>2006-11-01</td>\n      <td>00:00:09</td>\n      <td>W3SVC1</td>\n      <td>127.0.0.1</td>\n      <td>GET</td>\n      <td>/Tulip/common/common_style.aspx</td>\n      <td>lang=en-us</td>\n      <td>80</td>\n      <td>-</td>\n      <td>70.80.84.76</td>\n      <td>Mozilla/4.0+(compatible;+MSIE+6.0;+Windows+NT+...</td>\n      <td>http://www.hotelTulip.com.hk/Tulip/home/en-us/...</td>\n      <td>200</td>\n      <td>0</td>\n      <td>0</td>\n    </tr>\n    <tr>\n      <th>4</th>\n      <td>2006-11-01</td>\n      <td>00:00:09</td>\n      <td>W3SVC1</td>\n      <td>127.0.0.1</td>\n      <td>GET</td>\n      <td>/Tulip/common/en-us/images/top_img.jpg</td>\n      <td>-</td>\n      <td>80</td>\n      <td>-</td>\n      <td>70.80.84.76</td>\n      <td>Mozilla/4.0+(compatible;+MSIE+6.0;+Windows+NT+...</td>\n      <td>http://www.hotelTulip.com.hk/Tulip/home/en-us/...</td>\n      <td>200</td>\n      <td>0</td>\n      <td>0</td>\n    </tr>\n  </tbody>\n</table>\n</div>"
     },
     "metadata": {},
     "execution_count": 9
    }
   ],
   "source": [
    "df_ht.head()"
   ]
  },
  {
   "cell_type": "markdown",
   "metadata": {
    "id": "jDUDzs7lkSUa"
   },
   "source": [
    "### 1.2 Data Cleaning"
   ]
  },
  {
   "cell_type": "markdown",
   "metadata": {
    "id": "En0WOURqp7dB"
   },
   "source": [
    "#### Remove all NAs from data"
   ]
  },
  {
   "cell_type": "markdown",
   "metadata": {
    "id": "Efxzawa7Xdv9"
   },
   "source": [
    "\n",
    "<div class=\"alert alert-block alert-warning\">\n",
    "\n",
    "**Code**: \n",
    "    1. Check which columns have NAs, <br>\n",
    "    2. For each of those columns, display the number of NA records, <br> \n",
    "    3. emove all records with any NAs.\n",
    "    <br>\n",
    "    *Keep the outputs for code in your notebook.\n",
    "</div> \n",
    "\n",
    "<div class=\"alert alert-block alert-warning\">\n",
    "    \n",
    "**Report**: \n",
    "    **Part I 1.2** Please include your result for this coding task into your report Part I, with proper section title '1.2'.\n",
    "</div>\n",
    "    </div>\n"
   ]
  },
  {
   "cell_type": "code",
   "execution_count": 10,
   "metadata": {
    "id": "GX3BeD361pTw"
   },
   "outputs": [],
   "source": [
    "# Count NAs in columns\n",
    "\n",
    "count_list_1 = list()     # List for record the number of missing value with -\n",
    "count_list_NaN = list()    # List for record the number of missing value with NaN\n",
    "count_list_None = list()    # List for record the number of missing value with None\n",
    "for i in column:\n",
    "    count_list_1.append(len(df_ht[df_ht[i] == '-']))\n",
    "    count_list_NaN.append(len(df_ht[df_ht[i] == 'NaN']))\n",
    "    count_list_None.append(len(df_ht[df_ht[i] == 'None']))\n"
   ]
  },
  {
   "cell_type": "code",
   "execution_count": 11,
   "metadata": {},
   "outputs": [
    {
     "output_type": "stream",
     "name": "stdout",
     "text": [
      "The Number of - in each column is:\n[0, 0, 0, 0, 0, 0, 7886532, 0, 8438928, 0, 3527, 1308994, 0, 0, 0]\n-------------------------------------------------------------------\nThe Number of NaN in each column is:\n[0, 0, 0, 0, 0, 0, 0, 0, 0, 0, 0, 0, 0, 0, 0]\n-------------------------------------------------------------------\nThe Number of None in each column is:\n[0, 0, 0, 0, 0, 0, 0, 0, 0, 0, 0, 0, 0, 0, 0]\n"
     ]
    }
   ],
   "source": [
    "print(\"The Number of - in each column is:\")\n",
    "print(count_list_1)\n",
    "print(\"-------------------------------------------------------------------\")\n",
    "print(\"The Number of NaN in each column is:\")\n",
    "print(count_list_NaN)\n",
    "print(\"-------------------------------------------------------------------\")\n",
    "print(\"The Number of None in each column is:\")\n",
    "print(count_list_None)\n"
   ]
  },
  {
   "cell_type": "code",
   "execution_count": 13,
   "metadata": {},
   "outputs": [
    {
     "output_type": "stream",
     "name": "stdout",
     "text": [
      "['0.00000%', '0.00000%', '0.00000%', '0.00000%', '0.00000%', '0.00000%', '93.45419%', '0.00000%', '100.00000%', '0.00000%', '0.04179%', '15.51138%', '0.00000%', '0.00000%', '0.00000%']\n[6, 8, 11]\nColumns with missing values are: [6, 8, 11]\n"
     ]
    }
   ],
   "source": [
    "# Count the percentage of missing values in each column\n",
    "NAs_Per = list()\n",
    "for i in count_list_1:\n",
    "    NAs_Per.append(i/len(df_ht))\n",
    "\n",
    "NAs_count = [f\"{i:.5%}\" for i in NAs_Per]\n",
    "print(NAs_count)\n",
    "\n",
    "Remove_Columns = list()\n",
    "for i in NAs_Per:\n",
    "    if i > 0.15:\n",
    "        Remove_Columns.append(NAs_Per.index(i))\n",
    "    else:\n",
    "        continue\n",
    "\n",
    "print(Remove_Columns)\n",
    "print(\"Columns with missing values are:\", Remove_Columns)\n",
    "# Column 6, 8 and 11 has missing value more than 15% which need to be removed."
   ]
  },
  {
   "cell_type": "code",
   "execution_count": 14,
   "metadata": {},
   "outputs": [
    {
     "output_type": "execute_result",
     "data": {
      "text/plain": [
       "         date      time s-sitename       s-ip cs-method  \\\n",
       "0  2006-11-01  00:00:08     W3SVC1  127.0.0.1       GET   \n",
       "1  2006-11-01  00:00:08     W3SVC1  127.0.0.1       GET   \n",
       "2  2006-11-01  00:00:08     W3SVC1  127.0.0.1       GET   \n",
       "3  2006-11-01  00:00:09     W3SVC1  127.0.0.1       GET   \n",
       "4  2006-11-01  00:00:09     W3SVC1  127.0.0.1       GET   \n",
       "\n",
       "                              cs-uri-stem s-port         c-ip  \\\n",
       "0                           /Default.aspx     80  70.80.84.76   \n",
       "1       /Tulip/home/en-us/home_index.aspx     80  70.80.84.76   \n",
       "2        /Tulip/includes/js/CommonUtil.js     80  70.80.84.76   \n",
       "3         /Tulip/common/common_style.aspx     80  70.80.84.76   \n",
       "4  /Tulip/common/en-us/images/top_img.jpg     80  70.80.84.76   \n",
       "\n",
       "                                      cs(User-Agent) sc-status sc-substatus  \\\n",
       "0  Mozilla/4.0+(compatible;+MSIE+6.0;+Windows+NT+...       200            0   \n",
       "1  Mozilla/4.0+(compatible;+MSIE+6.0;+Windows+NT+...       200            0   \n",
       "2  Mozilla/4.0+(compatible;+MSIE+6.0;+Windows+NT+...       200            0   \n",
       "3  Mozilla/4.0+(compatible;+MSIE+6.0;+Windows+NT+...       200            0   \n",
       "4  Mozilla/4.0+(compatible;+MSIE+6.0;+Windows+NT+...       200            0   \n",
       "\n",
       "  sc-win32-status  \n",
       "0               0  \n",
       "1               0  \n",
       "2               0  \n",
       "3               0  \n",
       "4               0  "
      ],
      "text/html": "<div>\n<style scoped>\n    .dataframe tbody tr th:only-of-type {\n        vertical-align: middle;\n    }\n\n    .dataframe tbody tr th {\n        vertical-align: top;\n    }\n\n    .dataframe thead th {\n        text-align: right;\n    }\n</style>\n<table border=\"1\" class=\"dataframe\">\n  <thead>\n    <tr style=\"text-align: right;\">\n      <th></th>\n      <th>date</th>\n      <th>time</th>\n      <th>s-sitename</th>\n      <th>s-ip</th>\n      <th>cs-method</th>\n      <th>cs-uri-stem</th>\n      <th>s-port</th>\n      <th>c-ip</th>\n      <th>cs(User-Agent)</th>\n      <th>sc-status</th>\n      <th>sc-substatus</th>\n      <th>sc-win32-status</th>\n    </tr>\n  </thead>\n  <tbody>\n    <tr>\n      <th>0</th>\n      <td>2006-11-01</td>\n      <td>00:00:08</td>\n      <td>W3SVC1</td>\n      <td>127.0.0.1</td>\n      <td>GET</td>\n      <td>/Default.aspx</td>\n      <td>80</td>\n      <td>70.80.84.76</td>\n      <td>Mozilla/4.0+(compatible;+MSIE+6.0;+Windows+NT+...</td>\n      <td>200</td>\n      <td>0</td>\n      <td>0</td>\n    </tr>\n    <tr>\n      <th>1</th>\n      <td>2006-11-01</td>\n      <td>00:00:08</td>\n      <td>W3SVC1</td>\n      <td>127.0.0.1</td>\n      <td>GET</td>\n      <td>/Tulip/home/en-us/home_index.aspx</td>\n      <td>80</td>\n      <td>70.80.84.76</td>\n      <td>Mozilla/4.0+(compatible;+MSIE+6.0;+Windows+NT+...</td>\n      <td>200</td>\n      <td>0</td>\n      <td>0</td>\n    </tr>\n    <tr>\n      <th>2</th>\n      <td>2006-11-01</td>\n      <td>00:00:08</td>\n      <td>W3SVC1</td>\n      <td>127.0.0.1</td>\n      <td>GET</td>\n      <td>/Tulip/includes/js/CommonUtil.js</td>\n      <td>80</td>\n      <td>70.80.84.76</td>\n      <td>Mozilla/4.0+(compatible;+MSIE+6.0;+Windows+NT+...</td>\n      <td>200</td>\n      <td>0</td>\n      <td>0</td>\n    </tr>\n    <tr>\n      <th>3</th>\n      <td>2006-11-01</td>\n      <td>00:00:09</td>\n      <td>W3SVC1</td>\n      <td>127.0.0.1</td>\n      <td>GET</td>\n      <td>/Tulip/common/common_style.aspx</td>\n      <td>80</td>\n      <td>70.80.84.76</td>\n      <td>Mozilla/4.0+(compatible;+MSIE+6.0;+Windows+NT+...</td>\n      <td>200</td>\n      <td>0</td>\n      <td>0</td>\n    </tr>\n    <tr>\n      <th>4</th>\n      <td>2006-11-01</td>\n      <td>00:00:09</td>\n      <td>W3SVC1</td>\n      <td>127.0.0.1</td>\n      <td>GET</td>\n      <td>/Tulip/common/en-us/images/top_img.jpg</td>\n      <td>80</td>\n      <td>70.80.84.76</td>\n      <td>Mozilla/4.0+(compatible;+MSIE+6.0;+Windows+NT+...</td>\n      <td>200</td>\n      <td>0</td>\n      <td>0</td>\n    </tr>\n  </tbody>\n</table>\n</div>"
     },
     "metadata": {},
     "execution_count": 14
    }
   ],
   "source": [
    "# Remove column 6, 8 and 11\n",
    "df_ht = df_ht.drop(df_ht.columns[Remove_Columns], axis = 1)\n",
    "df_ht.head()\n"
   ]
  },
  {
   "cell_type": "code",
   "execution_count": 15,
   "metadata": {},
   "outputs": [
    {
     "output_type": "execute_result",
     "data": {
      "text/plain": [
       "         date      time s-sitename       s-ip cs-method  \\\n",
       "0  2006-11-01  00:00:08     W3SVC1  127.0.0.1       GET   \n",
       "1  2006-11-01  00:00:08     W3SVC1  127.0.0.1       GET   \n",
       "2  2006-11-01  00:00:08     W3SVC1  127.0.0.1       GET   \n",
       "3  2006-11-01  00:00:09     W3SVC1  127.0.0.1       GET   \n",
       "4  2006-11-01  00:00:09     W3SVC1  127.0.0.1       GET   \n",
       "\n",
       "                              cs-uri-stem s-port         c-ip  \\\n",
       "0                           /Default.aspx     80  70.80.84.76   \n",
       "1       /Tulip/home/en-us/home_index.aspx     80  70.80.84.76   \n",
       "2        /Tulip/includes/js/CommonUtil.js     80  70.80.84.76   \n",
       "3         /Tulip/common/common_style.aspx     80  70.80.84.76   \n",
       "4  /Tulip/common/en-us/images/top_img.jpg     80  70.80.84.76   \n",
       "\n",
       "                                      cs(User-Agent) sc-status sc-substatus  \\\n",
       "0  Mozilla/4.0+(compatible;+MSIE+6.0;+Windows+NT+...       200            0   \n",
       "1  Mozilla/4.0+(compatible;+MSIE+6.0;+Windows+NT+...       200            0   \n",
       "2  Mozilla/4.0+(compatible;+MSIE+6.0;+Windows+NT+...       200            0   \n",
       "3  Mozilla/4.0+(compatible;+MSIE+6.0;+Windows+NT+...       200            0   \n",
       "4  Mozilla/4.0+(compatible;+MSIE+6.0;+Windows+NT+...       200            0   \n",
       "\n",
       "  sc-win32-status  \n",
       "0               0  \n",
       "1               0  \n",
       "2               0  \n",
       "3               0  \n",
       "4               0  "
      ],
      "text/html": "<div>\n<style scoped>\n    .dataframe tbody tr th:only-of-type {\n        vertical-align: middle;\n    }\n\n    .dataframe tbody tr th {\n        vertical-align: top;\n    }\n\n    .dataframe thead th {\n        text-align: right;\n    }\n</style>\n<table border=\"1\" class=\"dataframe\">\n  <thead>\n    <tr style=\"text-align: right;\">\n      <th></th>\n      <th>date</th>\n      <th>time</th>\n      <th>s-sitename</th>\n      <th>s-ip</th>\n      <th>cs-method</th>\n      <th>cs-uri-stem</th>\n      <th>s-port</th>\n      <th>c-ip</th>\n      <th>cs(User-Agent)</th>\n      <th>sc-status</th>\n      <th>sc-substatus</th>\n      <th>sc-win32-status</th>\n    </tr>\n  </thead>\n  <tbody>\n    <tr>\n      <th>0</th>\n      <td>2006-11-01</td>\n      <td>00:00:08</td>\n      <td>W3SVC1</td>\n      <td>127.0.0.1</td>\n      <td>GET</td>\n      <td>/Default.aspx</td>\n      <td>80</td>\n      <td>70.80.84.76</td>\n      <td>Mozilla/4.0+(compatible;+MSIE+6.0;+Windows+NT+...</td>\n      <td>200</td>\n      <td>0</td>\n      <td>0</td>\n    </tr>\n    <tr>\n      <th>1</th>\n      <td>2006-11-01</td>\n      <td>00:00:08</td>\n      <td>W3SVC1</td>\n      <td>127.0.0.1</td>\n      <td>GET</td>\n      <td>/Tulip/home/en-us/home_index.aspx</td>\n      <td>80</td>\n      <td>70.80.84.76</td>\n      <td>Mozilla/4.0+(compatible;+MSIE+6.0;+Windows+NT+...</td>\n      <td>200</td>\n      <td>0</td>\n      <td>0</td>\n    </tr>\n    <tr>\n      <th>2</th>\n      <td>2006-11-01</td>\n      <td>00:00:08</td>\n      <td>W3SVC1</td>\n      <td>127.0.0.1</td>\n      <td>GET</td>\n      <td>/Tulip/includes/js/CommonUtil.js</td>\n      <td>80</td>\n      <td>70.80.84.76</td>\n      <td>Mozilla/4.0+(compatible;+MSIE+6.0;+Windows+NT+...</td>\n      <td>200</td>\n      <td>0</td>\n      <td>0</td>\n    </tr>\n    <tr>\n      <th>3</th>\n      <td>2006-11-01</td>\n      <td>00:00:09</td>\n      <td>W3SVC1</td>\n      <td>127.0.0.1</td>\n      <td>GET</td>\n      <td>/Tulip/common/common_style.aspx</td>\n      <td>80</td>\n      <td>70.80.84.76</td>\n      <td>Mozilla/4.0+(compatible;+MSIE+6.0;+Windows+NT+...</td>\n      <td>200</td>\n      <td>0</td>\n      <td>0</td>\n    </tr>\n    <tr>\n      <th>4</th>\n      <td>2006-11-01</td>\n      <td>00:00:09</td>\n      <td>W3SVC1</td>\n      <td>127.0.0.1</td>\n      <td>GET</td>\n      <td>/Tulip/common/en-us/images/top_img.jpg</td>\n      <td>80</td>\n      <td>70.80.84.76</td>\n      <td>Mozilla/4.0+(compatible;+MSIE+6.0;+Windows+NT+...</td>\n      <td>200</td>\n      <td>0</td>\n      <td>0</td>\n    </tr>\n  </tbody>\n</table>\n</div>"
     },
     "metadata": {},
     "execution_count": 15
    }
   ],
   "source": [
    "# Remove rows with missing values in column cs(User_Agent)\n",
    "df_ht = df_ht[df_ht['cs(User-Agent)'] != '-'] # Only save rows without '-'\n",
    "df_ht.head()\n"
   ]
  },
  {
   "cell_type": "code",
   "execution_count": 16,
   "metadata": {},
   "outputs": [
    {
     "output_type": "stream",
     "name": "stdout",
     "text": [
      "<class 'pandas.core.frame.DataFrame'>\nInt64Index: 8435401 entries, 0 to 63745\nData columns (total 12 columns):\n #   Column           Dtype \n---  ------           ----- \n 0   date             object\n 1   time             object\n 2   s-sitename       object\n 3   s-ip             object\n 4   cs-method        object\n 5   cs-uri-stem      object\n 6   s-port           object\n 7   c-ip             object\n 8   cs(User-Agent)   object\n 9   sc-status        object\n 10  sc-substatus     object\n 11  sc-win32-status  object\ndtypes: object(12)\nmemory usage: 836.6+ MB\n"
     ]
    }
   ],
   "source": [
    "df_ht.info()"
   ]
  },
  {
   "cell_type": "code",
   "execution_count": null,
   "metadata": {},
   "outputs": [],
   "source": []
  },
  {
   "cell_type": "markdown",
   "metadata": {
    "id": "mq3sWOXtrZhF"
   },
   "source": [
    "## 2. Data Statistics Description"
   ]
  },
  {
   "cell_type": "markdown",
   "metadata": {
    "id": "BJuh1nsirmOy"
   },
   "source": [
    "### 2.1 Traffic Analysis"
   ]
  },
  {
   "cell_type": "markdown",
   "metadata": {
    "id": "vzey2OZygD8u"
   },
   "source": [
    "\n",
    "<div class=\"alert alert-block alert-warning\">\n",
    "\n",
    "**Code**: \n",
    "    Discover on the traffics by analysing hourly requests, then plot it into Bar Chart.\n",
    "    <br>\n",
    "    *Keep the outputs for code in your notebook.\n",
    "</div> \n",
    "\n",
    "<div class=\"alert alert-block alert-warning\">\n",
    "    \n",
    "**Report**: \n",
    "    **Part I 2.1.A** Please include your result for this coding task into your report Part I, with proper section title '2.1.A'.\n",
    "</div>\n",
    "    </div>\n"
   ]
  },
  {
   "cell_type": "code",
   "execution_count": 16,
   "metadata": {},
   "outputs": [
    {
     "output_type": "execute_result",
     "data": {
      "text/plain": [
       "        H\n",
       "0      00\n",
       "1      00\n",
       "2      00\n",
       "3      00\n",
       "4      00\n",
       "...    ..\n",
       "63741  23\n",
       "63742  23\n",
       "63743  23\n",
       "63744  23\n",
       "63745  00\n",
       "\n",
       "[8435401 rows x 1 columns]"
      ],
      "text/html": "<div>\n<style scoped>\n    .dataframe tbody tr th:only-of-type {\n        vertical-align: middle;\n    }\n\n    .dataframe tbody tr th {\n        vertical-align: top;\n    }\n\n    .dataframe thead th {\n        text-align: right;\n    }\n</style>\n<table border=\"1\" class=\"dataframe\">\n  <thead>\n    <tr style=\"text-align: right;\">\n      <th></th>\n      <th>H</th>\n    </tr>\n  </thead>\n  <tbody>\n    <tr>\n      <th>0</th>\n      <td>00</td>\n    </tr>\n    <tr>\n      <th>1</th>\n      <td>00</td>\n    </tr>\n    <tr>\n      <th>2</th>\n      <td>00</td>\n    </tr>\n    <tr>\n      <th>3</th>\n      <td>00</td>\n    </tr>\n    <tr>\n      <th>4</th>\n      <td>00</td>\n    </tr>\n    <tr>\n      <th>...</th>\n      <td>...</td>\n    </tr>\n    <tr>\n      <th>63741</th>\n      <td>23</td>\n    </tr>\n    <tr>\n      <th>63742</th>\n      <td>23</td>\n    </tr>\n    <tr>\n      <th>63743</th>\n      <td>23</td>\n    </tr>\n    <tr>\n      <th>63744</th>\n      <td>23</td>\n    </tr>\n    <tr>\n      <th>63745</th>\n      <td>00</td>\n    </tr>\n  </tbody>\n</table>\n<p>8435401 rows × 1 columns</p>\n</div>"
     },
     "metadata": {},
     "execution_count": 16
    }
   ],
   "source": [
    "# Print out the time and split the hours, minutes and sec\n",
    "time_data = df_ht['time']\n",
    "time_data = pd.DataFrame(time_data)\n",
    "\n",
    "time_data = time_data.time.str.split(\":\", expand = True)\n",
    "time_data.columns = [\"H\", \"M\", \"S\"]\n",
    "hour_data = time_data['H']\n",
    "hour_data = pd.DataFrame(hour_data)\n",
    "hour_data"
   ]
  },
  {
   "cell_type": "code",
   "execution_count": 20,
   "metadata": {},
   "outputs": [
    {
     "output_type": "execute_result",
     "data": {
      "text/plain": [
       "09    553564\n",
       "08    550744\n",
       "03    546655\n",
       "06    544734\n",
       "04    529352\n",
       "07    522365\n",
       "14    493695\n",
       "05    487330\n",
       "15    473057\n",
       "10    443519\n",
       "13    442429\n",
       "02    432290\n",
       "16    387291\n",
       "11    368948\n",
       "12    367635\n",
       "01    344334\n",
       "17    250285\n",
       "18    159546\n",
       "00    155914\n",
       "19     93829\n",
       "23     83634\n",
       "20     72559\n",
       "21     66474\n",
       "22     65218\n",
       "Name: H, dtype: int64"
      ]
     },
     "metadata": {},
     "execution_count": 20
    }
   ],
   "source": [
    "# Get the number of request in every hour\n",
    "hourly_request = hour_data[\"H\"].value_counts(ascending =False)\n",
    "hourly_request"
   ]
  },
  {
   "cell_type": "code",
   "execution_count": 18,
   "metadata": {},
   "outputs": [],
   "source": [
    "# Get the x value (00, 01, 02...22, 23)\n",
    "labels = hourly_request.index"
   ]
  },
  {
   "cell_type": "markdown",
   "metadata": {
    "id": "EpEeaqZtxIZg"
   },
   "source": [
    "#### By day and plot \n",
    "\n"
   ]
  },
  {
   "cell_type": "code",
   "execution_count": 19,
   "metadata": {
    "id": "DAH1IrWbfQQW"
   },
   "outputs": [
    {
     "output_type": "display_data",
     "data": {
      "text/plain": "<Figure size 1008x288 with 1 Axes>",
      "image/svg+xml": "<?xml version=\"1.0\" encoding=\"utf-8\" standalone=\"no\"?>\r\n<!DOCTYPE svg PUBLIC \"-//W3C//DTD SVG 1.1//EN\"\r\n  \"http://www.w3.org/Graphics/SVG/1.1/DTD/svg11.dtd\">\r\n<!-- Created with matplotlib (https://matplotlib.org/) -->\r\n<svg height=\"277.314375pt\" version=\"1.1\" viewBox=\"0 0 854.453125 277.314375\" width=\"854.453125pt\" xmlns=\"http://www.w3.org/2000/svg\" xmlns:xlink=\"http://www.w3.org/1999/xlink\">\r\n <metadata>\r\n  <rdf:RDF xmlns:cc=\"http://creativecommons.org/ns#\" xmlns:dc=\"http://purl.org/dc/elements/1.1/\" xmlns:rdf=\"http://www.w3.org/1999/02/22-rdf-syntax-ns#\">\r\n   <cc:Work>\r\n    <dc:type rdf:resource=\"http://purl.org/dc/dcmitype/StillImage\"/>\r\n    <dc:date>2021-04-15T23:26:19.990859</dc:date>\r\n    <dc:format>image/svg+xml</dc:format>\r\n    <dc:creator>\r\n     <cc:Agent>\r\n      <dc:title>Matplotlib v3.3.4, https://matplotlib.org/</dc:title>\r\n     </cc:Agent>\r\n    </dc:creator>\r\n   </cc:Work>\r\n  </rdf:RDF>\r\n </metadata>\r\n <defs>\r\n  <style type=\"text/css\">*{stroke-linecap:butt;stroke-linejoin:round;}</style>\r\n </defs>\r\n <g id=\"figure_1\">\r\n  <g id=\"patch_1\">\r\n   <path d=\"M 0 277.314375 \r\nL 854.453125 277.314375 \r\nL 854.453125 0 \r\nL 0 0 \r\nz\r\n\" style=\"fill:none;\"/>\r\n  </g>\r\n  <g id=\"axes_1\">\r\n   <g id=\"patch_2\">\r\n    <path d=\"M 66.053125 239.758125 \r\nL 847.253125 239.758125 \r\nL 847.253125 22.318125 \r\nL 66.053125 22.318125 \r\nz\r\n\" style=\"fill:#ffffff;\"/>\r\n   </g>\r\n   <g id=\"patch_3\">\r\n    <path clip-path=\"url(#p8e3d7a4e7e)\" d=\"M 101.562216 239.758125 \r\nL 125.433874 239.758125 \r\nL 125.433874 32.672411 \r\nL 101.562216 32.672411 \r\nz\r\n\" style=\"fill:#1f77b4;\"/>\r\n   </g>\r\n   <g id=\"patch_4\">\r\n    <path clip-path=\"url(#p8e3d7a4e7e)\" d=\"M 131.401788 239.758125 \r\nL 155.273446 239.758125 \r\nL 155.273446 33.72736 \r\nL 131.401788 33.72736 \r\nz\r\n\" style=\"fill:#1f77b4;\"/>\r\n   </g>\r\n   <g id=\"patch_5\">\r\n    <path clip-path=\"url(#p8e3d7a4e7e)\" d=\"M 161.24136 239.758125 \r\nL 185.113018 239.758125 \r\nL 185.113018 35.257035 \r\nL 161.24136 35.257035 \r\nz\r\n\" style=\"fill:#1f77b4;\"/>\r\n   </g>\r\n   <g id=\"patch_6\">\r\n    <path clip-path=\"url(#p8e3d7a4e7e)\" d=\"M 191.080932 239.758125 \r\nL 214.95259 239.758125 \r\nL 214.95259 35.975673 \r\nL 191.080932 35.975673 \r\nz\r\n\" style=\"fill:#1f77b4;\"/>\r\n   </g>\r\n   <g id=\"patch_7\">\r\n    <path clip-path=\"url(#p8e3d7a4e7e)\" d=\"M 220.920505 239.758125 \r\nL 244.792162 239.758125 \r\nL 244.792162 41.730007 \r\nL 220.920505 41.730007 \r\nz\r\n\" style=\"fill:#1f77b4;\"/>\r\n   </g>\r\n   <g id=\"patch_8\">\r\n    <path clip-path=\"url(#p8e3d7a4e7e)\" d=\"M 250.760077 239.758125 \r\nL 274.631735 239.758125 \r\nL 274.631735 44.343811 \r\nL 250.760077 44.343811 \r\nz\r\n\" style=\"fill:#1f77b4;\"/>\r\n   </g>\r\n   <g id=\"patch_9\">\r\n    <path clip-path=\"url(#p8e3d7a4e7e)\" d=\"M 280.599649 239.758125 \r\nL 304.471307 239.758125 \r\nL 304.471307 55.069125 \r\nL 280.599649 55.069125 \r\nz\r\n\" style=\"fill:#1f77b4;\"/>\r\n   </g>\r\n   <g id=\"patch_10\">\r\n    <path clip-path=\"url(#p8e3d7a4e7e)\" d=\"M 310.439221 239.758125 \r\nL 334.310879 239.758125 \r\nL 334.310879 57.450242 \r\nL 310.439221 57.450242 \r\nz\r\n\" style=\"fill:#1f77b4;\"/>\r\n   </g>\r\n   <g id=\"patch_11\">\r\n    <path clip-path=\"url(#p8e3d7a4e7e)\" d=\"M 340.278793 239.758125 \r\nL 364.150451 239.758125 \r\nL 364.150451 62.789704 \r\nL 340.278793 62.789704 \r\nz\r\n\" style=\"fill:#1f77b4;\"/>\r\n   </g>\r\n   <g id=\"patch_12\">\r\n    <path clip-path=\"url(#p8e3d7a4e7e)\" d=\"M 370.118366 239.758125 \r\nL 393.990023 239.758125 \r\nL 393.990023 73.839733 \r\nL 370.118366 73.839733 \r\nz\r\n\" style=\"fill:#1f77b4;\"/>\r\n   </g>\r\n   <g id=\"patch_13\">\r\n    <path clip-path=\"url(#p8e3d7a4e7e)\" d=\"M 399.957938 239.758125 \r\nL 423.829596 239.758125 \r\nL 423.829596 74.247497 \r\nL 399.957938 74.247497 \r\nz\r\n\" style=\"fill:#1f77b4;\"/>\r\n   </g>\r\n   <g id=\"patch_14\">\r\n    <path clip-path=\"url(#p8e3d7a4e7e)\" d=\"M 429.79751 239.758125 \r\nL 453.669168 239.758125 \r\nL 453.669168 78.040449 \r\nL 429.79751 78.040449 \r\nz\r\n\" style=\"fill:#1f77b4;\"/>\r\n   </g>\r\n   <g id=\"patch_15\">\r\n    <path clip-path=\"url(#p8e3d7a4e7e)\" d=\"M 459.637082 239.758125 \r\nL 483.50874 239.758125 \r\nL 483.50874 94.874366 \r\nL 459.637082 94.874366 \r\nz\r\n\" style=\"fill:#1f77b4;\"/>\r\n   </g>\r\n   <g id=\"patch_16\">\r\n    <path clip-path=\"url(#p8e3d7a4e7e)\" d=\"M 489.476654 239.758125 \r\nL 513.348312 239.758125 \r\nL 513.348312 101.736397 \r\nL 489.476654 101.736397 \r\nz\r\n\" style=\"fill:#1f77b4;\"/>\r\n   </g>\r\n   <g id=\"patch_17\">\r\n    <path clip-path=\"url(#p8e3d7a4e7e)\" d=\"M 519.316227 239.758125 \r\nL 543.187884 239.758125 \r\nL 543.187884 102.227584 \r\nL 519.316227 102.227584 \r\nz\r\n\" style=\"fill:#1f77b4;\"/>\r\n   </g>\r\n   <g id=\"patch_18\">\r\n    <path clip-path=\"url(#p8e3d7a4e7e)\" d=\"M 549.155799 239.758125 \r\nL 573.027457 239.758125 \r\nL 573.027457 110.944379 \r\nL 549.155799 110.944379 \r\nz\r\n\" style=\"fill:#1f77b4;\"/>\r\n   </g>\r\n   <g id=\"patch_19\">\r\n    <path clip-path=\"url(#p8e3d7a4e7e)\" d=\"M 578.995371 239.758125 \r\nL 602.867029 239.758125 \r\nL 602.867029 146.127672 \r\nL 578.995371 146.127672 \r\nz\r\n\" style=\"fill:#1f77b4;\"/>\r\n   </g>\r\n   <g id=\"patch_20\">\r\n    <path clip-path=\"url(#p8e3d7a4e7e)\" d=\"M 608.834943 239.758125 \r\nL 632.706601 239.758125 \r\nL 632.706601 180.072709 \r\nL 608.834943 180.072709 \r\nz\r\n\" style=\"fill:#1f77b4;\"/>\r\n   </g>\r\n   <g id=\"patch_21\">\r\n    <path clip-path=\"url(#p8e3d7a4e7e)\" d=\"M 638.674515 239.758125 \r\nL 662.546173 239.758125 \r\nL 662.546173 181.431424 \r\nL 638.674515 181.431424 \r\nz\r\n\" style=\"fill:#1f77b4;\"/>\r\n   </g>\r\n   <g id=\"patch_22\">\r\n    <path clip-path=\"url(#p8e3d7a4e7e)\" d=\"M 668.514088 239.758125 \r\nL 692.385745 239.758125 \r\nL 692.385745 204.657133 \r\nL 668.514088 204.657133 \r\nz\r\n\" style=\"fill:#1f77b4;\"/>\r\n   </g>\r\n   <g id=\"patch_23\">\r\n    <path clip-path=\"url(#p8e3d7a4e7e)\" d=\"M 698.35366 239.758125 \r\nL 722.225318 239.758125 \r\nL 722.225318 208.471035 \r\nL 698.35366 208.471035 \r\nz\r\n\" style=\"fill:#1f77b4;\"/>\r\n   </g>\r\n   <g id=\"patch_24\">\r\n    <path clip-path=\"url(#p8e3d7a4e7e)\" d=\"M 728.193232 239.758125 \r\nL 752.06489 239.758125 \r\nL 752.06489 212.614141 \r\nL 728.193232 212.614141 \r\nz\r\n\" style=\"fill:#1f77b4;\"/>\r\n   </g>\r\n   <g id=\"patch_25\">\r\n    <path clip-path=\"url(#p8e3d7a4e7e)\" d=\"M 758.032804 239.758125 \r\nL 781.904462 239.758125 \r\nL 781.904462 214.890511 \r\nL 758.032804 214.890511 \r\nz\r\n\" style=\"fill:#1f77b4;\"/>\r\n   </g>\r\n   <g id=\"patch_26\">\r\n    <path clip-path=\"url(#p8e3d7a4e7e)\" d=\"M 787.872376 239.758125 \r\nL 811.744034 239.758125 \r\nL 811.744034 215.360375 \r\nL 787.872376 215.360375 \r\nz\r\n\" style=\"fill:#1f77b4;\"/>\r\n   </g>\r\n   <g id=\"matplotlib.axis_1\">\r\n    <g id=\"xtick_1\">\r\n     <g id=\"line2d_1\">\r\n      <defs>\r\n       <path d=\"M 0 0 \r\nL 0 3.5 \r\n\" id=\"m3640042465\" style=\"stroke:#000000;stroke-width:0.8;\"/>\r\n      </defs>\r\n      <g>\r\n       <use style=\"stroke:#000000;stroke-width:0.8;\" x=\"113.498045\" xlink:href=\"#m3640042465\" y=\"239.758125\"/>\r\n      </g>\r\n     </g>\r\n     <g id=\"text_1\">\r\n      <!-- 09 -->\r\n      <g transform=\"translate(107.135545 254.356562)scale(0.1 -0.1)\">\r\n       <defs>\r\n        <path d=\"M 31.78125 66.40625 \r\nQ 24.171875 66.40625 20.328125 58.90625 \r\nQ 16.5 51.421875 16.5 36.375 \r\nQ 16.5 21.390625 20.328125 13.890625 \r\nQ 24.171875 6.390625 31.78125 6.390625 \r\nQ 39.453125 6.390625 43.28125 13.890625 \r\nQ 47.125 21.390625 47.125 36.375 \r\nQ 47.125 51.421875 43.28125 58.90625 \r\nQ 39.453125 66.40625 31.78125 66.40625 \r\nz\r\nM 31.78125 74.21875 \r\nQ 44.046875 74.21875 50.515625 64.515625 \r\nQ 56.984375 54.828125 56.984375 36.375 \r\nQ 56.984375 17.96875 50.515625 8.265625 \r\nQ 44.046875 -1.421875 31.78125 -1.421875 \r\nQ 19.53125 -1.421875 13.0625 8.265625 \r\nQ 6.59375 17.96875 6.59375 36.375 \r\nQ 6.59375 54.828125 13.0625 64.515625 \r\nQ 19.53125 74.21875 31.78125 74.21875 \r\nz\r\n\" id=\"DejaVuSans-48\"/>\r\n        <path d=\"M 10.984375 1.515625 \r\nL 10.984375 10.5 \r\nQ 14.703125 8.734375 18.5 7.8125 \r\nQ 22.3125 6.890625 25.984375 6.890625 \r\nQ 35.75 6.890625 40.890625 13.453125 \r\nQ 46.046875 20.015625 46.78125 33.40625 \r\nQ 43.953125 29.203125 39.59375 26.953125 \r\nQ 35.25 24.703125 29.984375 24.703125 \r\nQ 19.046875 24.703125 12.671875 31.3125 \r\nQ 6.296875 37.9375 6.296875 49.421875 \r\nQ 6.296875 60.640625 12.9375 67.421875 \r\nQ 19.578125 74.21875 30.609375 74.21875 \r\nQ 43.265625 74.21875 49.921875 64.515625 \r\nQ 56.59375 54.828125 56.59375 36.375 \r\nQ 56.59375 19.140625 48.40625 8.859375 \r\nQ 40.234375 -1.421875 26.421875 -1.421875 \r\nQ 22.703125 -1.421875 18.890625 -0.6875 \r\nQ 15.09375 0.046875 10.984375 1.515625 \r\nz\r\nM 30.609375 32.421875 \r\nQ 37.25 32.421875 41.125 36.953125 \r\nQ 45.015625 41.5 45.015625 49.421875 \r\nQ 45.015625 57.28125 41.125 61.84375 \r\nQ 37.25 66.40625 30.609375 66.40625 \r\nQ 23.96875 66.40625 20.09375 61.84375 \r\nQ 16.21875 57.28125 16.21875 49.421875 \r\nQ 16.21875 41.5 20.09375 36.953125 \r\nQ 23.96875 32.421875 30.609375 32.421875 \r\nz\r\n\" id=\"DejaVuSans-57\"/>\r\n       </defs>\r\n       <use xlink:href=\"#DejaVuSans-48\"/>\r\n       <use x=\"63.623047\" xlink:href=\"#DejaVuSans-57\"/>\r\n      </g>\r\n     </g>\r\n    </g>\r\n    <g id=\"xtick_2\">\r\n     <g id=\"line2d_2\">\r\n      <g>\r\n       <use style=\"stroke:#000000;stroke-width:0.8;\" x=\"143.337617\" xlink:href=\"#m3640042465\" y=\"239.758125\"/>\r\n      </g>\r\n     </g>\r\n     <g id=\"text_2\">\r\n      <!-- 08 -->\r\n      <g transform=\"translate(136.975117 254.356562)scale(0.1 -0.1)\">\r\n       <defs>\r\n        <path d=\"M 31.78125 34.625 \r\nQ 24.75 34.625 20.71875 30.859375 \r\nQ 16.703125 27.09375 16.703125 20.515625 \r\nQ 16.703125 13.921875 20.71875 10.15625 \r\nQ 24.75 6.390625 31.78125 6.390625 \r\nQ 38.8125 6.390625 42.859375 10.171875 \r\nQ 46.921875 13.96875 46.921875 20.515625 \r\nQ 46.921875 27.09375 42.890625 30.859375 \r\nQ 38.875 34.625 31.78125 34.625 \r\nz\r\nM 21.921875 38.8125 \r\nQ 15.578125 40.375 12.03125 44.71875 \r\nQ 8.5 49.078125 8.5 55.328125 \r\nQ 8.5 64.0625 14.71875 69.140625 \r\nQ 20.953125 74.21875 31.78125 74.21875 \r\nQ 42.671875 74.21875 48.875 69.140625 \r\nQ 55.078125 64.0625 55.078125 55.328125 \r\nQ 55.078125 49.078125 51.53125 44.71875 \r\nQ 48 40.375 41.703125 38.8125 \r\nQ 48.828125 37.15625 52.796875 32.3125 \r\nQ 56.78125 27.484375 56.78125 20.515625 \r\nQ 56.78125 9.90625 50.3125 4.234375 \r\nQ 43.84375 -1.421875 31.78125 -1.421875 \r\nQ 19.734375 -1.421875 13.25 4.234375 \r\nQ 6.78125 9.90625 6.78125 20.515625 \r\nQ 6.78125 27.484375 10.78125 32.3125 \r\nQ 14.796875 37.15625 21.921875 38.8125 \r\nz\r\nM 18.3125 54.390625 \r\nQ 18.3125 48.734375 21.84375 45.5625 \r\nQ 25.390625 42.390625 31.78125 42.390625 \r\nQ 38.140625 42.390625 41.71875 45.5625 \r\nQ 45.3125 48.734375 45.3125 54.390625 \r\nQ 45.3125 60.0625 41.71875 63.234375 \r\nQ 38.140625 66.40625 31.78125 66.40625 \r\nQ 25.390625 66.40625 21.84375 63.234375 \r\nQ 18.3125 60.0625 18.3125 54.390625 \r\nz\r\n\" id=\"DejaVuSans-56\"/>\r\n       </defs>\r\n       <use xlink:href=\"#DejaVuSans-48\"/>\r\n       <use x=\"63.623047\" xlink:href=\"#DejaVuSans-56\"/>\r\n      </g>\r\n     </g>\r\n    </g>\r\n    <g id=\"xtick_3\">\r\n     <g id=\"line2d_3\">\r\n      <g>\r\n       <use style=\"stroke:#000000;stroke-width:0.8;\" x=\"173.177189\" xlink:href=\"#m3640042465\" y=\"239.758125\"/>\r\n      </g>\r\n     </g>\r\n     <g id=\"text_3\">\r\n      <!-- 03 -->\r\n      <g transform=\"translate(166.814689 254.356562)scale(0.1 -0.1)\">\r\n       <defs>\r\n        <path d=\"M 40.578125 39.3125 \r\nQ 47.65625 37.796875 51.625 33 \r\nQ 55.609375 28.21875 55.609375 21.1875 \r\nQ 55.609375 10.40625 48.1875 4.484375 \r\nQ 40.765625 -1.421875 27.09375 -1.421875 \r\nQ 22.515625 -1.421875 17.65625 -0.515625 \r\nQ 12.796875 0.390625 7.625 2.203125 \r\nL 7.625 11.71875 \r\nQ 11.71875 9.328125 16.59375 8.109375 \r\nQ 21.484375 6.890625 26.8125 6.890625 \r\nQ 36.078125 6.890625 40.9375 10.546875 \r\nQ 45.796875 14.203125 45.796875 21.1875 \r\nQ 45.796875 27.640625 41.28125 31.265625 \r\nQ 36.765625 34.90625 28.71875 34.90625 \r\nL 20.21875 34.90625 \r\nL 20.21875 43.015625 \r\nL 29.109375 43.015625 \r\nQ 36.375 43.015625 40.234375 45.921875 \r\nQ 44.09375 48.828125 44.09375 54.296875 \r\nQ 44.09375 59.90625 40.109375 62.90625 \r\nQ 36.140625 65.921875 28.71875 65.921875 \r\nQ 24.65625 65.921875 20.015625 65.03125 \r\nQ 15.375 64.15625 9.8125 62.3125 \r\nL 9.8125 71.09375 \r\nQ 15.4375 72.65625 20.34375 73.4375 \r\nQ 25.25 74.21875 29.59375 74.21875 \r\nQ 40.828125 74.21875 47.359375 69.109375 \r\nQ 53.90625 64.015625 53.90625 55.328125 \r\nQ 53.90625 49.265625 50.4375 45.09375 \r\nQ 46.96875 40.921875 40.578125 39.3125 \r\nz\r\n\" id=\"DejaVuSans-51\"/>\r\n       </defs>\r\n       <use xlink:href=\"#DejaVuSans-48\"/>\r\n       <use x=\"63.623047\" xlink:href=\"#DejaVuSans-51\"/>\r\n      </g>\r\n     </g>\r\n    </g>\r\n    <g id=\"xtick_4\">\r\n     <g id=\"line2d_4\">\r\n      <g>\r\n       <use style=\"stroke:#000000;stroke-width:0.8;\" x=\"203.016761\" xlink:href=\"#m3640042465\" y=\"239.758125\"/>\r\n      </g>\r\n     </g>\r\n     <g id=\"text_4\">\r\n      <!-- 06 -->\r\n      <g transform=\"translate(196.654261 254.356562)scale(0.1 -0.1)\">\r\n       <defs>\r\n        <path d=\"M 33.015625 40.375 \r\nQ 26.375 40.375 22.484375 35.828125 \r\nQ 18.609375 31.296875 18.609375 23.390625 \r\nQ 18.609375 15.53125 22.484375 10.953125 \r\nQ 26.375 6.390625 33.015625 6.390625 \r\nQ 39.65625 6.390625 43.53125 10.953125 \r\nQ 47.40625 15.53125 47.40625 23.390625 \r\nQ 47.40625 31.296875 43.53125 35.828125 \r\nQ 39.65625 40.375 33.015625 40.375 \r\nz\r\nM 52.59375 71.296875 \r\nL 52.59375 62.3125 \r\nQ 48.875 64.0625 45.09375 64.984375 \r\nQ 41.3125 65.921875 37.59375 65.921875 \r\nQ 27.828125 65.921875 22.671875 59.328125 \r\nQ 17.53125 52.734375 16.796875 39.40625 \r\nQ 19.671875 43.65625 24.015625 45.921875 \r\nQ 28.375 48.1875 33.59375 48.1875 \r\nQ 44.578125 48.1875 50.953125 41.515625 \r\nQ 57.328125 34.859375 57.328125 23.390625 \r\nQ 57.328125 12.15625 50.6875 5.359375 \r\nQ 44.046875 -1.421875 33.015625 -1.421875 \r\nQ 20.359375 -1.421875 13.671875 8.265625 \r\nQ 6.984375 17.96875 6.984375 36.375 \r\nQ 6.984375 53.65625 15.1875 63.9375 \r\nQ 23.390625 74.21875 37.203125 74.21875 \r\nQ 40.921875 74.21875 44.703125 73.484375 \r\nQ 48.484375 72.75 52.59375 71.296875 \r\nz\r\n\" id=\"DejaVuSans-54\"/>\r\n       </defs>\r\n       <use xlink:href=\"#DejaVuSans-48\"/>\r\n       <use x=\"63.623047\" xlink:href=\"#DejaVuSans-54\"/>\r\n      </g>\r\n     </g>\r\n    </g>\r\n    <g id=\"xtick_5\">\r\n     <g id=\"line2d_5\">\r\n      <g>\r\n       <use style=\"stroke:#000000;stroke-width:0.8;\" x=\"232.856334\" xlink:href=\"#m3640042465\" y=\"239.758125\"/>\r\n      </g>\r\n     </g>\r\n     <g id=\"text_5\">\r\n      <!-- 04 -->\r\n      <g transform=\"translate(226.493834 254.356562)scale(0.1 -0.1)\">\r\n       <defs>\r\n        <path d=\"M 37.796875 64.3125 \r\nL 12.890625 25.390625 \r\nL 37.796875 25.390625 \r\nz\r\nM 35.203125 72.90625 \r\nL 47.609375 72.90625 \r\nL 47.609375 25.390625 \r\nL 58.015625 25.390625 \r\nL 58.015625 17.1875 \r\nL 47.609375 17.1875 \r\nL 47.609375 0 \r\nL 37.796875 0 \r\nL 37.796875 17.1875 \r\nL 4.890625 17.1875 \r\nL 4.890625 26.703125 \r\nz\r\n\" id=\"DejaVuSans-52\"/>\r\n       </defs>\r\n       <use xlink:href=\"#DejaVuSans-48\"/>\r\n       <use x=\"63.623047\" xlink:href=\"#DejaVuSans-52\"/>\r\n      </g>\r\n     </g>\r\n    </g>\r\n    <g id=\"xtick_6\">\r\n     <g id=\"line2d_6\">\r\n      <g>\r\n       <use style=\"stroke:#000000;stroke-width:0.8;\" x=\"262.695906\" xlink:href=\"#m3640042465\" y=\"239.758125\"/>\r\n      </g>\r\n     </g>\r\n     <g id=\"text_6\">\r\n      <!-- 07 -->\r\n      <g transform=\"translate(256.333406 254.356562)scale(0.1 -0.1)\">\r\n       <defs>\r\n        <path d=\"M 8.203125 72.90625 \r\nL 55.078125 72.90625 \r\nL 55.078125 68.703125 \r\nL 28.609375 0 \r\nL 18.3125 0 \r\nL 43.21875 64.59375 \r\nL 8.203125 64.59375 \r\nz\r\n\" id=\"DejaVuSans-55\"/>\r\n       </defs>\r\n       <use xlink:href=\"#DejaVuSans-48\"/>\r\n       <use x=\"63.623047\" xlink:href=\"#DejaVuSans-55\"/>\r\n      </g>\r\n     </g>\r\n    </g>\r\n    <g id=\"xtick_7\">\r\n     <g id=\"line2d_7\">\r\n      <g>\r\n       <use style=\"stroke:#000000;stroke-width:0.8;\" x=\"292.535478\" xlink:href=\"#m3640042465\" y=\"239.758125\"/>\r\n      </g>\r\n     </g>\r\n     <g id=\"text_7\">\r\n      <!-- 14 -->\r\n      <g transform=\"translate(286.172978 254.356562)scale(0.1 -0.1)\">\r\n       <defs>\r\n        <path d=\"M 12.40625 8.296875 \r\nL 28.515625 8.296875 \r\nL 28.515625 63.921875 \r\nL 10.984375 60.40625 \r\nL 10.984375 69.390625 \r\nL 28.421875 72.90625 \r\nL 38.28125 72.90625 \r\nL 38.28125 8.296875 \r\nL 54.390625 8.296875 \r\nL 54.390625 0 \r\nL 12.40625 0 \r\nz\r\n\" id=\"DejaVuSans-49\"/>\r\n       </defs>\r\n       <use xlink:href=\"#DejaVuSans-49\"/>\r\n       <use x=\"63.623047\" xlink:href=\"#DejaVuSans-52\"/>\r\n      </g>\r\n     </g>\r\n    </g>\r\n    <g id=\"xtick_8\">\r\n     <g id=\"line2d_8\">\r\n      <g>\r\n       <use style=\"stroke:#000000;stroke-width:0.8;\" x=\"322.37505\" xlink:href=\"#m3640042465\" y=\"239.758125\"/>\r\n      </g>\r\n     </g>\r\n     <g id=\"text_8\">\r\n      <!-- 05 -->\r\n      <g transform=\"translate(316.01255 254.356562)scale(0.1 -0.1)\">\r\n       <defs>\r\n        <path d=\"M 10.796875 72.90625 \r\nL 49.515625 72.90625 \r\nL 49.515625 64.59375 \r\nL 19.828125 64.59375 \r\nL 19.828125 46.734375 \r\nQ 21.96875 47.46875 24.109375 47.828125 \r\nQ 26.265625 48.1875 28.421875 48.1875 \r\nQ 40.625 48.1875 47.75 41.5 \r\nQ 54.890625 34.8125 54.890625 23.390625 \r\nQ 54.890625 11.625 47.5625 5.09375 \r\nQ 40.234375 -1.421875 26.90625 -1.421875 \r\nQ 22.3125 -1.421875 17.546875 -0.640625 \r\nQ 12.796875 0.140625 7.71875 1.703125 \r\nL 7.71875 11.625 \r\nQ 12.109375 9.234375 16.796875 8.0625 \r\nQ 21.484375 6.890625 26.703125 6.890625 \r\nQ 35.15625 6.890625 40.078125 11.328125 \r\nQ 45.015625 15.765625 45.015625 23.390625 \r\nQ 45.015625 31 40.078125 35.4375 \r\nQ 35.15625 39.890625 26.703125 39.890625 \r\nQ 22.75 39.890625 18.8125 39.015625 \r\nQ 14.890625 38.140625 10.796875 36.28125 \r\nz\r\n\" id=\"DejaVuSans-53\"/>\r\n       </defs>\r\n       <use xlink:href=\"#DejaVuSans-48\"/>\r\n       <use x=\"63.623047\" xlink:href=\"#DejaVuSans-53\"/>\r\n      </g>\r\n     </g>\r\n    </g>\r\n    <g id=\"xtick_9\">\r\n     <g id=\"line2d_9\">\r\n      <g>\r\n       <use style=\"stroke:#000000;stroke-width:0.8;\" x=\"352.214622\" xlink:href=\"#m3640042465\" y=\"239.758125\"/>\r\n      </g>\r\n     </g>\r\n     <g id=\"text_9\">\r\n      <!-- 15 -->\r\n      <g transform=\"translate(345.852122 254.356562)scale(0.1 -0.1)\">\r\n       <use xlink:href=\"#DejaVuSans-49\"/>\r\n       <use x=\"63.623047\" xlink:href=\"#DejaVuSans-53\"/>\r\n      </g>\r\n     </g>\r\n    </g>\r\n    <g id=\"xtick_10\">\r\n     <g id=\"line2d_10\">\r\n      <g>\r\n       <use style=\"stroke:#000000;stroke-width:0.8;\" x=\"382.054195\" xlink:href=\"#m3640042465\" y=\"239.758125\"/>\r\n      </g>\r\n     </g>\r\n     <g id=\"text_10\">\r\n      <!-- 10 -->\r\n      <g transform=\"translate(375.691695 254.356562)scale(0.1 -0.1)\">\r\n       <use xlink:href=\"#DejaVuSans-49\"/>\r\n       <use x=\"63.623047\" xlink:href=\"#DejaVuSans-48\"/>\r\n      </g>\r\n     </g>\r\n    </g>\r\n    <g id=\"xtick_11\">\r\n     <g id=\"line2d_11\">\r\n      <g>\r\n       <use style=\"stroke:#000000;stroke-width:0.8;\" x=\"411.893767\" xlink:href=\"#m3640042465\" y=\"239.758125\"/>\r\n      </g>\r\n     </g>\r\n     <g id=\"text_11\">\r\n      <!-- 13 -->\r\n      <g transform=\"translate(405.531267 254.356562)scale(0.1 -0.1)\">\r\n       <use xlink:href=\"#DejaVuSans-49\"/>\r\n       <use x=\"63.623047\" xlink:href=\"#DejaVuSans-51\"/>\r\n      </g>\r\n     </g>\r\n    </g>\r\n    <g id=\"xtick_12\">\r\n     <g id=\"line2d_12\">\r\n      <g>\r\n       <use style=\"stroke:#000000;stroke-width:0.8;\" x=\"441.733339\" xlink:href=\"#m3640042465\" y=\"239.758125\"/>\r\n      </g>\r\n     </g>\r\n     <g id=\"text_12\">\r\n      <!-- 02 -->\r\n      <g transform=\"translate(435.370839 254.356562)scale(0.1 -0.1)\">\r\n       <defs>\r\n        <path d=\"M 19.1875 8.296875 \r\nL 53.609375 8.296875 \r\nL 53.609375 0 \r\nL 7.328125 0 \r\nL 7.328125 8.296875 \r\nQ 12.9375 14.109375 22.625 23.890625 \r\nQ 32.328125 33.6875 34.8125 36.53125 \r\nQ 39.546875 41.84375 41.421875 45.53125 \r\nQ 43.3125 49.21875 43.3125 52.78125 \r\nQ 43.3125 58.59375 39.234375 62.25 \r\nQ 35.15625 65.921875 28.609375 65.921875 \r\nQ 23.96875 65.921875 18.8125 64.3125 \r\nQ 13.671875 62.703125 7.8125 59.421875 \r\nL 7.8125 69.390625 \r\nQ 13.765625 71.78125 18.9375 73 \r\nQ 24.125 74.21875 28.421875 74.21875 \r\nQ 39.75 74.21875 46.484375 68.546875 \r\nQ 53.21875 62.890625 53.21875 53.421875 \r\nQ 53.21875 48.921875 51.53125 44.890625 \r\nQ 49.859375 40.875 45.40625 35.40625 \r\nQ 44.1875 33.984375 37.640625 27.21875 \r\nQ 31.109375 20.453125 19.1875 8.296875 \r\nz\r\n\" id=\"DejaVuSans-50\"/>\r\n       </defs>\r\n       <use xlink:href=\"#DejaVuSans-48\"/>\r\n       <use x=\"63.623047\" xlink:href=\"#DejaVuSans-50\"/>\r\n      </g>\r\n     </g>\r\n    </g>\r\n    <g id=\"xtick_13\">\r\n     <g id=\"line2d_13\">\r\n      <g>\r\n       <use style=\"stroke:#000000;stroke-width:0.8;\" x=\"471.572911\" xlink:href=\"#m3640042465\" y=\"239.758125\"/>\r\n      </g>\r\n     </g>\r\n     <g id=\"text_13\">\r\n      <!-- 16 -->\r\n      <g transform=\"translate(465.210411 254.356562)scale(0.1 -0.1)\">\r\n       <use xlink:href=\"#DejaVuSans-49\"/>\r\n       <use x=\"63.623047\" xlink:href=\"#DejaVuSans-54\"/>\r\n      </g>\r\n     </g>\r\n    </g>\r\n    <g id=\"xtick_14\">\r\n     <g id=\"line2d_14\">\r\n      <g>\r\n       <use style=\"stroke:#000000;stroke-width:0.8;\" x=\"501.412483\" xlink:href=\"#m3640042465\" y=\"239.758125\"/>\r\n      </g>\r\n     </g>\r\n     <g id=\"text_14\">\r\n      <!-- 11 -->\r\n      <g transform=\"translate(495.049983 254.356562)scale(0.1 -0.1)\">\r\n       <use xlink:href=\"#DejaVuSans-49\"/>\r\n       <use x=\"63.623047\" xlink:href=\"#DejaVuSans-49\"/>\r\n      </g>\r\n     </g>\r\n    </g>\r\n    <g id=\"xtick_15\">\r\n     <g id=\"line2d_15\">\r\n      <g>\r\n       <use style=\"stroke:#000000;stroke-width:0.8;\" x=\"531.252055\" xlink:href=\"#m3640042465\" y=\"239.758125\"/>\r\n      </g>\r\n     </g>\r\n     <g id=\"text_15\">\r\n      <!-- 12 -->\r\n      <g transform=\"translate(524.889555 254.356562)scale(0.1 -0.1)\">\r\n       <use xlink:href=\"#DejaVuSans-49\"/>\r\n       <use x=\"63.623047\" xlink:href=\"#DejaVuSans-50\"/>\r\n      </g>\r\n     </g>\r\n    </g>\r\n    <g id=\"xtick_16\">\r\n     <g id=\"line2d_16\">\r\n      <g>\r\n       <use style=\"stroke:#000000;stroke-width:0.8;\" x=\"561.091628\" xlink:href=\"#m3640042465\" y=\"239.758125\"/>\r\n      </g>\r\n     </g>\r\n     <g id=\"text_16\">\r\n      <!-- 01 -->\r\n      <g transform=\"translate(554.729128 254.356562)scale(0.1 -0.1)\">\r\n       <use xlink:href=\"#DejaVuSans-48\"/>\r\n       <use x=\"63.623047\" xlink:href=\"#DejaVuSans-49\"/>\r\n      </g>\r\n     </g>\r\n    </g>\r\n    <g id=\"xtick_17\">\r\n     <g id=\"line2d_17\">\r\n      <g>\r\n       <use style=\"stroke:#000000;stroke-width:0.8;\" x=\"590.9312\" xlink:href=\"#m3640042465\" y=\"239.758125\"/>\r\n      </g>\r\n     </g>\r\n     <g id=\"text_17\">\r\n      <!-- 17 -->\r\n      <g transform=\"translate(584.5687 254.356562)scale(0.1 -0.1)\">\r\n       <use xlink:href=\"#DejaVuSans-49\"/>\r\n       <use x=\"63.623047\" xlink:href=\"#DejaVuSans-55\"/>\r\n      </g>\r\n     </g>\r\n    </g>\r\n    <g id=\"xtick_18\">\r\n     <g id=\"line2d_18\">\r\n      <g>\r\n       <use style=\"stroke:#000000;stroke-width:0.8;\" x=\"620.770772\" xlink:href=\"#m3640042465\" y=\"239.758125\"/>\r\n      </g>\r\n     </g>\r\n     <g id=\"text_18\">\r\n      <!-- 18 -->\r\n      <g transform=\"translate(614.408272 254.356562)scale(0.1 -0.1)\">\r\n       <use xlink:href=\"#DejaVuSans-49\"/>\r\n       <use x=\"63.623047\" xlink:href=\"#DejaVuSans-56\"/>\r\n      </g>\r\n     </g>\r\n    </g>\r\n    <g id=\"xtick_19\">\r\n     <g id=\"line2d_19\">\r\n      <g>\r\n       <use style=\"stroke:#000000;stroke-width:0.8;\" x=\"650.610344\" xlink:href=\"#m3640042465\" y=\"239.758125\"/>\r\n      </g>\r\n     </g>\r\n     <g id=\"text_19\">\r\n      <!-- 00 -->\r\n      <g transform=\"translate(644.247844 254.356562)scale(0.1 -0.1)\">\r\n       <use xlink:href=\"#DejaVuSans-48\"/>\r\n       <use x=\"63.623047\" xlink:href=\"#DejaVuSans-48\"/>\r\n      </g>\r\n     </g>\r\n    </g>\r\n    <g id=\"xtick_20\">\r\n     <g id=\"line2d_20\">\r\n      <g>\r\n       <use style=\"stroke:#000000;stroke-width:0.8;\" x=\"680.449916\" xlink:href=\"#m3640042465\" y=\"239.758125\"/>\r\n      </g>\r\n     </g>\r\n     <g id=\"text_20\">\r\n      <!-- 19 -->\r\n      <g transform=\"translate(674.087416 254.356562)scale(0.1 -0.1)\">\r\n       <use xlink:href=\"#DejaVuSans-49\"/>\r\n       <use x=\"63.623047\" xlink:href=\"#DejaVuSans-57\"/>\r\n      </g>\r\n     </g>\r\n    </g>\r\n    <g id=\"xtick_21\">\r\n     <g id=\"line2d_21\">\r\n      <g>\r\n       <use style=\"stroke:#000000;stroke-width:0.8;\" x=\"710.289489\" xlink:href=\"#m3640042465\" y=\"239.758125\"/>\r\n      </g>\r\n     </g>\r\n     <g id=\"text_21\">\r\n      <!-- 23 -->\r\n      <g transform=\"translate(703.926989 254.356562)scale(0.1 -0.1)\">\r\n       <use xlink:href=\"#DejaVuSans-50\"/>\r\n       <use x=\"63.623047\" xlink:href=\"#DejaVuSans-51\"/>\r\n      </g>\r\n     </g>\r\n    </g>\r\n    <g id=\"xtick_22\">\r\n     <g id=\"line2d_22\">\r\n      <g>\r\n       <use style=\"stroke:#000000;stroke-width:0.8;\" x=\"740.129061\" xlink:href=\"#m3640042465\" y=\"239.758125\"/>\r\n      </g>\r\n     </g>\r\n     <g id=\"text_22\">\r\n      <!-- 20 -->\r\n      <g transform=\"translate(733.766561 254.356562)scale(0.1 -0.1)\">\r\n       <use xlink:href=\"#DejaVuSans-50\"/>\r\n       <use x=\"63.623047\" xlink:href=\"#DejaVuSans-48\"/>\r\n      </g>\r\n     </g>\r\n    </g>\r\n    <g id=\"xtick_23\">\r\n     <g id=\"line2d_23\">\r\n      <g>\r\n       <use style=\"stroke:#000000;stroke-width:0.8;\" x=\"769.968633\" xlink:href=\"#m3640042465\" y=\"239.758125\"/>\r\n      </g>\r\n     </g>\r\n     <g id=\"text_23\">\r\n      <!-- 21 -->\r\n      <g transform=\"translate(763.606133 254.356562)scale(0.1 -0.1)\">\r\n       <use xlink:href=\"#DejaVuSans-50\"/>\r\n       <use x=\"63.623047\" xlink:href=\"#DejaVuSans-49\"/>\r\n      </g>\r\n     </g>\r\n    </g>\r\n    <g id=\"xtick_24\">\r\n     <g id=\"line2d_24\">\r\n      <g>\r\n       <use style=\"stroke:#000000;stroke-width:0.8;\" x=\"799.808205\" xlink:href=\"#m3640042465\" y=\"239.758125\"/>\r\n      </g>\r\n     </g>\r\n     <g id=\"text_24\">\r\n      <!-- 22 -->\r\n      <g transform=\"translate(793.445705 254.356562)scale(0.1 -0.1)\">\r\n       <use xlink:href=\"#DejaVuSans-50\"/>\r\n       <use x=\"63.623047\" xlink:href=\"#DejaVuSans-50\"/>\r\n      </g>\r\n     </g>\r\n    </g>\r\n    <g id=\"text_25\">\r\n     <!-- Hour in a day -->\r\n     <g transform=\"translate(423.022656 268.034687)scale(0.1 -0.1)\">\r\n      <defs>\r\n       <path d=\"M 9.8125 72.90625 \r\nL 19.671875 72.90625 \r\nL 19.671875 43.015625 \r\nL 55.515625 43.015625 \r\nL 55.515625 72.90625 \r\nL 65.375 72.90625 \r\nL 65.375 0 \r\nL 55.515625 0 \r\nL 55.515625 34.71875 \r\nL 19.671875 34.71875 \r\nL 19.671875 0 \r\nL 9.8125 0 \r\nz\r\n\" id=\"DejaVuSans-72\"/>\r\n       <path d=\"M 30.609375 48.390625 \r\nQ 23.390625 48.390625 19.1875 42.75 \r\nQ 14.984375 37.109375 14.984375 27.296875 \r\nQ 14.984375 17.484375 19.15625 11.84375 \r\nQ 23.34375 6.203125 30.609375 6.203125 \r\nQ 37.796875 6.203125 41.984375 11.859375 \r\nQ 46.1875 17.53125 46.1875 27.296875 \r\nQ 46.1875 37.015625 41.984375 42.703125 \r\nQ 37.796875 48.390625 30.609375 48.390625 \r\nz\r\nM 30.609375 56 \r\nQ 42.328125 56 49.015625 48.375 \r\nQ 55.71875 40.765625 55.71875 27.296875 \r\nQ 55.71875 13.875 49.015625 6.21875 \r\nQ 42.328125 -1.421875 30.609375 -1.421875 \r\nQ 18.84375 -1.421875 12.171875 6.21875 \r\nQ 5.515625 13.875 5.515625 27.296875 \r\nQ 5.515625 40.765625 12.171875 48.375 \r\nQ 18.84375 56 30.609375 56 \r\nz\r\n\" id=\"DejaVuSans-111\"/>\r\n       <path d=\"M 8.5 21.578125 \r\nL 8.5 54.6875 \r\nL 17.484375 54.6875 \r\nL 17.484375 21.921875 \r\nQ 17.484375 14.15625 20.5 10.265625 \r\nQ 23.53125 6.390625 29.59375 6.390625 \r\nQ 36.859375 6.390625 41.078125 11.03125 \r\nQ 45.3125 15.671875 45.3125 23.6875 \r\nL 45.3125 54.6875 \r\nL 54.296875 54.6875 \r\nL 54.296875 0 \r\nL 45.3125 0 \r\nL 45.3125 8.40625 \r\nQ 42.046875 3.421875 37.71875 1 \r\nQ 33.40625 -1.421875 27.6875 -1.421875 \r\nQ 18.265625 -1.421875 13.375 4.4375 \r\nQ 8.5 10.296875 8.5 21.578125 \r\nz\r\nM 31.109375 56 \r\nz\r\n\" id=\"DejaVuSans-117\"/>\r\n       <path d=\"M 41.109375 46.296875 \r\nQ 39.59375 47.171875 37.8125 47.578125 \r\nQ 36.03125 48 33.890625 48 \r\nQ 26.265625 48 22.1875 43.046875 \r\nQ 18.109375 38.09375 18.109375 28.8125 \r\nL 18.109375 0 \r\nL 9.078125 0 \r\nL 9.078125 54.6875 \r\nL 18.109375 54.6875 \r\nL 18.109375 46.1875 \r\nQ 20.953125 51.171875 25.484375 53.578125 \r\nQ 30.03125 56 36.53125 56 \r\nQ 37.453125 56 38.578125 55.875 \r\nQ 39.703125 55.765625 41.0625 55.515625 \r\nz\r\n\" id=\"DejaVuSans-114\"/>\r\n       <path id=\"DejaVuSans-32\"/>\r\n       <path d=\"M 9.421875 54.6875 \r\nL 18.40625 54.6875 \r\nL 18.40625 0 \r\nL 9.421875 0 \r\nz\r\nM 9.421875 75.984375 \r\nL 18.40625 75.984375 \r\nL 18.40625 64.59375 \r\nL 9.421875 64.59375 \r\nz\r\n\" id=\"DejaVuSans-105\"/>\r\n       <path d=\"M 54.890625 33.015625 \r\nL 54.890625 0 \r\nL 45.90625 0 \r\nL 45.90625 32.71875 \r\nQ 45.90625 40.484375 42.875 44.328125 \r\nQ 39.84375 48.1875 33.796875 48.1875 \r\nQ 26.515625 48.1875 22.3125 43.546875 \r\nQ 18.109375 38.921875 18.109375 30.90625 \r\nL 18.109375 0 \r\nL 9.078125 0 \r\nL 9.078125 54.6875 \r\nL 18.109375 54.6875 \r\nL 18.109375 46.1875 \r\nQ 21.34375 51.125 25.703125 53.5625 \r\nQ 30.078125 56 35.796875 56 \r\nQ 45.21875 56 50.046875 50.171875 \r\nQ 54.890625 44.34375 54.890625 33.015625 \r\nz\r\n\" id=\"DejaVuSans-110\"/>\r\n       <path d=\"M 34.28125 27.484375 \r\nQ 23.390625 27.484375 19.1875 25 \r\nQ 14.984375 22.515625 14.984375 16.5 \r\nQ 14.984375 11.71875 18.140625 8.90625 \r\nQ 21.296875 6.109375 26.703125 6.109375 \r\nQ 34.1875 6.109375 38.703125 11.40625 \r\nQ 43.21875 16.703125 43.21875 25.484375 \r\nL 43.21875 27.484375 \r\nz\r\nM 52.203125 31.203125 \r\nL 52.203125 0 \r\nL 43.21875 0 \r\nL 43.21875 8.296875 \r\nQ 40.140625 3.328125 35.546875 0.953125 \r\nQ 30.953125 -1.421875 24.3125 -1.421875 \r\nQ 15.921875 -1.421875 10.953125 3.296875 \r\nQ 6 8.015625 6 15.921875 \r\nQ 6 25.140625 12.171875 29.828125 \r\nQ 18.359375 34.515625 30.609375 34.515625 \r\nL 43.21875 34.515625 \r\nL 43.21875 35.40625 \r\nQ 43.21875 41.609375 39.140625 45 \r\nQ 35.0625 48.390625 27.6875 48.390625 \r\nQ 23 48.390625 18.546875 47.265625 \r\nQ 14.109375 46.140625 10.015625 43.890625 \r\nL 10.015625 52.203125 \r\nQ 14.9375 54.109375 19.578125 55.046875 \r\nQ 24.21875 56 28.609375 56 \r\nQ 40.484375 56 46.34375 49.84375 \r\nQ 52.203125 43.703125 52.203125 31.203125 \r\nz\r\n\" id=\"DejaVuSans-97\"/>\r\n       <path d=\"M 45.40625 46.390625 \r\nL 45.40625 75.984375 \r\nL 54.390625 75.984375 \r\nL 54.390625 0 \r\nL 45.40625 0 \r\nL 45.40625 8.203125 \r\nQ 42.578125 3.328125 38.25 0.953125 \r\nQ 33.9375 -1.421875 27.875 -1.421875 \r\nQ 17.96875 -1.421875 11.734375 6.484375 \r\nQ 5.515625 14.40625 5.515625 27.296875 \r\nQ 5.515625 40.1875 11.734375 48.09375 \r\nQ 17.96875 56 27.875 56 \r\nQ 33.9375 56 38.25 53.625 \r\nQ 42.578125 51.265625 45.40625 46.390625 \r\nz\r\nM 14.796875 27.296875 \r\nQ 14.796875 17.390625 18.875 11.75 \r\nQ 22.953125 6.109375 30.078125 6.109375 \r\nQ 37.203125 6.109375 41.296875 11.75 \r\nQ 45.40625 17.390625 45.40625 27.296875 \r\nQ 45.40625 37.203125 41.296875 42.84375 \r\nQ 37.203125 48.484375 30.078125 48.484375 \r\nQ 22.953125 48.484375 18.875 42.84375 \r\nQ 14.796875 37.203125 14.796875 27.296875 \r\nz\r\n\" id=\"DejaVuSans-100\"/>\r\n       <path d=\"M 32.171875 -5.078125 \r\nQ 28.375 -14.84375 24.75 -17.8125 \r\nQ 21.140625 -20.796875 15.09375 -20.796875 \r\nL 7.90625 -20.796875 \r\nL 7.90625 -13.28125 \r\nL 13.1875 -13.28125 \r\nQ 16.890625 -13.28125 18.9375 -11.515625 \r\nQ 21 -9.765625 23.484375 -3.21875 \r\nL 25.09375 0.875 \r\nL 2.984375 54.6875 \r\nL 12.5 54.6875 \r\nL 29.59375 11.921875 \r\nL 46.6875 54.6875 \r\nL 56.203125 54.6875 \r\nz\r\n\" id=\"DejaVuSans-121\"/>\r\n      </defs>\r\n      <use xlink:href=\"#DejaVuSans-72\"/>\r\n      <use x=\"75.195312\" xlink:href=\"#DejaVuSans-111\"/>\r\n      <use x=\"136.376953\" xlink:href=\"#DejaVuSans-117\"/>\r\n      <use x=\"199.755859\" xlink:href=\"#DejaVuSans-114\"/>\r\n      <use x=\"240.869141\" xlink:href=\"#DejaVuSans-32\"/>\r\n      <use x=\"272.65625\" xlink:href=\"#DejaVuSans-105\"/>\r\n      <use x=\"300.439453\" xlink:href=\"#DejaVuSans-110\"/>\r\n      <use x=\"363.818359\" xlink:href=\"#DejaVuSans-32\"/>\r\n      <use x=\"395.605469\" xlink:href=\"#DejaVuSans-97\"/>\r\n      <use x=\"456.884766\" xlink:href=\"#DejaVuSans-32\"/>\r\n      <use x=\"488.671875\" xlink:href=\"#DejaVuSans-100\"/>\r\n      <use x=\"552.148438\" xlink:href=\"#DejaVuSans-97\"/>\r\n      <use x=\"613.427734\" xlink:href=\"#DejaVuSans-121\"/>\r\n     </g>\r\n    </g>\r\n   </g>\r\n   <g id=\"matplotlib.axis_2\">\r\n    <g id=\"ytick_1\">\r\n     <g id=\"line2d_25\">\r\n      <defs>\r\n       <path d=\"M 0 0 \r\nL -3.5 0 \r\n\" id=\"m32f73f47c3\" style=\"stroke:#000000;stroke-width:0.8;\"/>\r\n      </defs>\r\n      <g>\r\n       <use style=\"stroke:#000000;stroke-width:0.8;\" x=\"66.053125\" xlink:href=\"#m32f73f47c3\" y=\"239.758125\"/>\r\n      </g>\r\n     </g>\r\n     <g id=\"text_26\">\r\n      <!-- 0 -->\r\n      <g transform=\"translate(52.690625 243.557344)scale(0.1 -0.1)\">\r\n       <use xlink:href=\"#DejaVuSans-48\"/>\r\n      </g>\r\n     </g>\r\n    </g>\r\n    <g id=\"ytick_2\">\r\n     <g id=\"line2d_26\">\r\n      <g>\r\n       <use style=\"stroke:#000000;stroke-width:0.8;\" x=\"66.053125\" xlink:href=\"#m32f73f47c3\" y=\"202.348591\"/>\r\n      </g>\r\n     </g>\r\n     <g id=\"text_27\">\r\n      <!-- 100000 -->\r\n      <g transform=\"translate(20.878125 206.147809)scale(0.1 -0.1)\">\r\n       <use xlink:href=\"#DejaVuSans-49\"/>\r\n       <use x=\"63.623047\" xlink:href=\"#DejaVuSans-48\"/>\r\n       <use x=\"127.246094\" xlink:href=\"#DejaVuSans-48\"/>\r\n       <use x=\"190.869141\" xlink:href=\"#DejaVuSans-48\"/>\r\n       <use x=\"254.492188\" xlink:href=\"#DejaVuSans-48\"/>\r\n       <use x=\"318.115234\" xlink:href=\"#DejaVuSans-48\"/>\r\n      </g>\r\n     </g>\r\n    </g>\r\n    <g id=\"ytick_3\">\r\n     <g id=\"line2d_27\">\r\n      <g>\r\n       <use style=\"stroke:#000000;stroke-width:0.8;\" x=\"66.053125\" xlink:href=\"#m32f73f47c3\" y=\"164.939056\"/>\r\n      </g>\r\n     </g>\r\n     <g id=\"text_28\">\r\n      <!-- 200000 -->\r\n      <g transform=\"translate(20.878125 168.738275)scale(0.1 -0.1)\">\r\n       <use xlink:href=\"#DejaVuSans-50\"/>\r\n       <use x=\"63.623047\" xlink:href=\"#DejaVuSans-48\"/>\r\n       <use x=\"127.246094\" xlink:href=\"#DejaVuSans-48\"/>\r\n       <use x=\"190.869141\" xlink:href=\"#DejaVuSans-48\"/>\r\n       <use x=\"254.492188\" xlink:href=\"#DejaVuSans-48\"/>\r\n       <use x=\"318.115234\" xlink:href=\"#DejaVuSans-48\"/>\r\n      </g>\r\n     </g>\r\n    </g>\r\n    <g id=\"ytick_4\">\r\n     <g id=\"line2d_28\">\r\n      <g>\r\n       <use style=\"stroke:#000000;stroke-width:0.8;\" x=\"66.053125\" xlink:href=\"#m32f73f47c3\" y=\"127.529522\"/>\r\n      </g>\r\n     </g>\r\n     <g id=\"text_29\">\r\n      <!-- 300000 -->\r\n      <g transform=\"translate(20.878125 131.328741)scale(0.1 -0.1)\">\r\n       <use xlink:href=\"#DejaVuSans-51\"/>\r\n       <use x=\"63.623047\" xlink:href=\"#DejaVuSans-48\"/>\r\n       <use x=\"127.246094\" xlink:href=\"#DejaVuSans-48\"/>\r\n       <use x=\"190.869141\" xlink:href=\"#DejaVuSans-48\"/>\r\n       <use x=\"254.492188\" xlink:href=\"#DejaVuSans-48\"/>\r\n       <use x=\"318.115234\" xlink:href=\"#DejaVuSans-48\"/>\r\n      </g>\r\n     </g>\r\n    </g>\r\n    <g id=\"ytick_5\">\r\n     <g id=\"line2d_29\">\r\n      <g>\r\n       <use style=\"stroke:#000000;stroke-width:0.8;\" x=\"66.053125\" xlink:href=\"#m32f73f47c3\" y=\"90.119988\"/>\r\n      </g>\r\n     </g>\r\n     <g id=\"text_30\">\r\n      <!-- 400000 -->\r\n      <g transform=\"translate(20.878125 93.919207)scale(0.1 -0.1)\">\r\n       <use xlink:href=\"#DejaVuSans-52\"/>\r\n       <use x=\"63.623047\" xlink:href=\"#DejaVuSans-48\"/>\r\n       <use x=\"127.246094\" xlink:href=\"#DejaVuSans-48\"/>\r\n       <use x=\"190.869141\" xlink:href=\"#DejaVuSans-48\"/>\r\n       <use x=\"254.492188\" xlink:href=\"#DejaVuSans-48\"/>\r\n       <use x=\"318.115234\" xlink:href=\"#DejaVuSans-48\"/>\r\n      </g>\r\n     </g>\r\n    </g>\r\n    <g id=\"ytick_6\">\r\n     <g id=\"line2d_30\">\r\n      <g>\r\n       <use style=\"stroke:#000000;stroke-width:0.8;\" x=\"66.053125\" xlink:href=\"#m32f73f47c3\" y=\"52.710454\"/>\r\n      </g>\r\n     </g>\r\n     <g id=\"text_31\">\r\n      <!-- 500000 -->\r\n      <g transform=\"translate(20.878125 56.509672)scale(0.1 -0.1)\">\r\n       <use xlink:href=\"#DejaVuSans-53\"/>\r\n       <use x=\"63.623047\" xlink:href=\"#DejaVuSans-48\"/>\r\n       <use x=\"127.246094\" xlink:href=\"#DejaVuSans-48\"/>\r\n       <use x=\"190.869141\" xlink:href=\"#DejaVuSans-48\"/>\r\n       <use x=\"254.492188\" xlink:href=\"#DejaVuSans-48\"/>\r\n       <use x=\"318.115234\" xlink:href=\"#DejaVuSans-48\"/>\r\n      </g>\r\n     </g>\r\n    </g>\r\n    <g id=\"text_32\">\r\n     <!-- Number of Requests -->\r\n     <g transform=\"translate(14.798438 182.036562)rotate(-90)scale(0.1 -0.1)\">\r\n      <defs>\r\n       <path d=\"M 9.8125 72.90625 \r\nL 23.09375 72.90625 \r\nL 55.421875 11.921875 \r\nL 55.421875 72.90625 \r\nL 64.984375 72.90625 \r\nL 64.984375 0 \r\nL 51.703125 0 \r\nL 19.390625 60.984375 \r\nL 19.390625 0 \r\nL 9.8125 0 \r\nz\r\n\" id=\"DejaVuSans-78\"/>\r\n       <path d=\"M 52 44.1875 \r\nQ 55.375 50.25 60.0625 53.125 \r\nQ 64.75 56 71.09375 56 \r\nQ 79.640625 56 84.28125 50.015625 \r\nQ 88.921875 44.046875 88.921875 33.015625 \r\nL 88.921875 0 \r\nL 79.890625 0 \r\nL 79.890625 32.71875 \r\nQ 79.890625 40.578125 77.09375 44.375 \r\nQ 74.3125 48.1875 68.609375 48.1875 \r\nQ 61.625 48.1875 57.5625 43.546875 \r\nQ 53.515625 38.921875 53.515625 30.90625 \r\nL 53.515625 0 \r\nL 44.484375 0 \r\nL 44.484375 32.71875 \r\nQ 44.484375 40.625 41.703125 44.40625 \r\nQ 38.921875 48.1875 33.109375 48.1875 \r\nQ 26.21875 48.1875 22.15625 43.53125 \r\nQ 18.109375 38.875 18.109375 30.90625 \r\nL 18.109375 0 \r\nL 9.078125 0 \r\nL 9.078125 54.6875 \r\nL 18.109375 54.6875 \r\nL 18.109375 46.1875 \r\nQ 21.1875 51.21875 25.484375 53.609375 \r\nQ 29.78125 56 35.6875 56 \r\nQ 41.65625 56 45.828125 52.96875 \r\nQ 50 49.953125 52 44.1875 \r\nz\r\n\" id=\"DejaVuSans-109\"/>\r\n       <path d=\"M 48.6875 27.296875 \r\nQ 48.6875 37.203125 44.609375 42.84375 \r\nQ 40.53125 48.484375 33.40625 48.484375 \r\nQ 26.265625 48.484375 22.1875 42.84375 \r\nQ 18.109375 37.203125 18.109375 27.296875 \r\nQ 18.109375 17.390625 22.1875 11.75 \r\nQ 26.265625 6.109375 33.40625 6.109375 \r\nQ 40.53125 6.109375 44.609375 11.75 \r\nQ 48.6875 17.390625 48.6875 27.296875 \r\nz\r\nM 18.109375 46.390625 \r\nQ 20.953125 51.265625 25.265625 53.625 \r\nQ 29.59375 56 35.59375 56 \r\nQ 45.5625 56 51.78125 48.09375 \r\nQ 58.015625 40.1875 58.015625 27.296875 \r\nQ 58.015625 14.40625 51.78125 6.484375 \r\nQ 45.5625 -1.421875 35.59375 -1.421875 \r\nQ 29.59375 -1.421875 25.265625 0.953125 \r\nQ 20.953125 3.328125 18.109375 8.203125 \r\nL 18.109375 0 \r\nL 9.078125 0 \r\nL 9.078125 75.984375 \r\nL 18.109375 75.984375 \r\nz\r\n\" id=\"DejaVuSans-98\"/>\r\n       <path d=\"M 56.203125 29.59375 \r\nL 56.203125 25.203125 \r\nL 14.890625 25.203125 \r\nQ 15.484375 15.921875 20.484375 11.0625 \r\nQ 25.484375 6.203125 34.421875 6.203125 \r\nQ 39.59375 6.203125 44.453125 7.46875 \r\nQ 49.3125 8.734375 54.109375 11.28125 \r\nL 54.109375 2.78125 \r\nQ 49.265625 0.734375 44.1875 -0.34375 \r\nQ 39.109375 -1.421875 33.890625 -1.421875 \r\nQ 20.796875 -1.421875 13.15625 6.1875 \r\nQ 5.515625 13.8125 5.515625 26.8125 \r\nQ 5.515625 40.234375 12.765625 48.109375 \r\nQ 20.015625 56 32.328125 56 \r\nQ 43.359375 56 49.78125 48.890625 \r\nQ 56.203125 41.796875 56.203125 29.59375 \r\nz\r\nM 47.21875 32.234375 \r\nQ 47.125 39.59375 43.09375 43.984375 \r\nQ 39.0625 48.390625 32.421875 48.390625 \r\nQ 24.90625 48.390625 20.390625 44.140625 \r\nQ 15.875 39.890625 15.1875 32.171875 \r\nz\r\n\" id=\"DejaVuSans-101\"/>\r\n       <path d=\"M 37.109375 75.984375 \r\nL 37.109375 68.5 \r\nL 28.515625 68.5 \r\nQ 23.6875 68.5 21.796875 66.546875 \r\nQ 19.921875 64.59375 19.921875 59.515625 \r\nL 19.921875 54.6875 \r\nL 34.71875 54.6875 \r\nL 34.71875 47.703125 \r\nL 19.921875 47.703125 \r\nL 19.921875 0 \r\nL 10.890625 0 \r\nL 10.890625 47.703125 \r\nL 2.296875 47.703125 \r\nL 2.296875 54.6875 \r\nL 10.890625 54.6875 \r\nL 10.890625 58.5 \r\nQ 10.890625 67.625 15.140625 71.796875 \r\nQ 19.390625 75.984375 28.609375 75.984375 \r\nz\r\n\" id=\"DejaVuSans-102\"/>\r\n       <path d=\"M 44.390625 34.1875 \r\nQ 47.5625 33.109375 50.5625 29.59375 \r\nQ 53.5625 26.078125 56.59375 19.921875 \r\nL 66.609375 0 \r\nL 56 0 \r\nL 46.6875 18.703125 \r\nQ 43.0625 26.03125 39.671875 28.421875 \r\nQ 36.28125 30.8125 30.421875 30.8125 \r\nL 19.671875 30.8125 \r\nL 19.671875 0 \r\nL 9.8125 0 \r\nL 9.8125 72.90625 \r\nL 32.078125 72.90625 \r\nQ 44.578125 72.90625 50.734375 67.671875 \r\nQ 56.890625 62.453125 56.890625 51.90625 \r\nQ 56.890625 45.015625 53.6875 40.46875 \r\nQ 50.484375 35.9375 44.390625 34.1875 \r\nz\r\nM 19.671875 64.796875 \r\nL 19.671875 38.921875 \r\nL 32.078125 38.921875 \r\nQ 39.203125 38.921875 42.84375 42.21875 \r\nQ 46.484375 45.515625 46.484375 51.90625 \r\nQ 46.484375 58.296875 42.84375 61.546875 \r\nQ 39.203125 64.796875 32.078125 64.796875 \r\nz\r\n\" id=\"DejaVuSans-82\"/>\r\n       <path d=\"M 14.796875 27.296875 \r\nQ 14.796875 17.390625 18.875 11.75 \r\nQ 22.953125 6.109375 30.078125 6.109375 \r\nQ 37.203125 6.109375 41.296875 11.75 \r\nQ 45.40625 17.390625 45.40625 27.296875 \r\nQ 45.40625 37.203125 41.296875 42.84375 \r\nQ 37.203125 48.484375 30.078125 48.484375 \r\nQ 22.953125 48.484375 18.875 42.84375 \r\nQ 14.796875 37.203125 14.796875 27.296875 \r\nz\r\nM 45.40625 8.203125 \r\nQ 42.578125 3.328125 38.25 0.953125 \r\nQ 33.9375 -1.421875 27.875 -1.421875 \r\nQ 17.96875 -1.421875 11.734375 6.484375 \r\nQ 5.515625 14.40625 5.515625 27.296875 \r\nQ 5.515625 40.1875 11.734375 48.09375 \r\nQ 17.96875 56 27.875 56 \r\nQ 33.9375 56 38.25 53.625 \r\nQ 42.578125 51.265625 45.40625 46.390625 \r\nL 45.40625 54.6875 \r\nL 54.390625 54.6875 \r\nL 54.390625 -20.796875 \r\nL 45.40625 -20.796875 \r\nz\r\n\" id=\"DejaVuSans-113\"/>\r\n       <path d=\"M 44.28125 53.078125 \r\nL 44.28125 44.578125 \r\nQ 40.484375 46.53125 36.375 47.5 \r\nQ 32.28125 48.484375 27.875 48.484375 \r\nQ 21.1875 48.484375 17.84375 46.4375 \r\nQ 14.5 44.390625 14.5 40.28125 \r\nQ 14.5 37.15625 16.890625 35.375 \r\nQ 19.28125 33.59375 26.515625 31.984375 \r\nL 29.59375 31.296875 \r\nQ 39.15625 29.25 43.1875 25.515625 \r\nQ 47.21875 21.78125 47.21875 15.09375 \r\nQ 47.21875 7.46875 41.1875 3.015625 \r\nQ 35.15625 -1.421875 24.609375 -1.421875 \r\nQ 20.21875 -1.421875 15.453125 -0.5625 \r\nQ 10.6875 0.296875 5.421875 2 \r\nL 5.421875 11.28125 \r\nQ 10.40625 8.6875 15.234375 7.390625 \r\nQ 20.0625 6.109375 24.8125 6.109375 \r\nQ 31.15625 6.109375 34.5625 8.28125 \r\nQ 37.984375 10.453125 37.984375 14.40625 \r\nQ 37.984375 18.0625 35.515625 20.015625 \r\nQ 33.0625 21.96875 24.703125 23.78125 \r\nL 21.578125 24.515625 \r\nQ 13.234375 26.265625 9.515625 29.90625 \r\nQ 5.8125 33.546875 5.8125 39.890625 \r\nQ 5.8125 47.609375 11.28125 51.796875 \r\nQ 16.75 56 26.8125 56 \r\nQ 31.78125 56 36.171875 55.265625 \r\nQ 40.578125 54.546875 44.28125 53.078125 \r\nz\r\n\" id=\"DejaVuSans-115\"/>\r\n       <path d=\"M 18.3125 70.21875 \r\nL 18.3125 54.6875 \r\nL 36.8125 54.6875 \r\nL 36.8125 47.703125 \r\nL 18.3125 47.703125 \r\nL 18.3125 18.015625 \r\nQ 18.3125 11.328125 20.140625 9.421875 \r\nQ 21.96875 7.515625 27.59375 7.515625 \r\nL 36.8125 7.515625 \r\nL 36.8125 0 \r\nL 27.59375 0 \r\nQ 17.1875 0 13.234375 3.875 \r\nQ 9.28125 7.765625 9.28125 18.015625 \r\nL 9.28125 47.703125 \r\nL 2.6875 47.703125 \r\nL 2.6875 54.6875 \r\nL 9.28125 54.6875 \r\nL 9.28125 70.21875 \r\nz\r\n\" id=\"DejaVuSans-116\"/>\r\n      </defs>\r\n      <use xlink:href=\"#DejaVuSans-78\"/>\r\n      <use x=\"74.804688\" xlink:href=\"#DejaVuSans-117\"/>\r\n      <use x=\"138.183594\" xlink:href=\"#DejaVuSans-109\"/>\r\n      <use x=\"235.595703\" xlink:href=\"#DejaVuSans-98\"/>\r\n      <use x=\"299.072266\" xlink:href=\"#DejaVuSans-101\"/>\r\n      <use x=\"360.595703\" xlink:href=\"#DejaVuSans-114\"/>\r\n      <use x=\"401.708984\" xlink:href=\"#DejaVuSans-32\"/>\r\n      <use x=\"433.496094\" xlink:href=\"#DejaVuSans-111\"/>\r\n      <use x=\"494.677734\" xlink:href=\"#DejaVuSans-102\"/>\r\n      <use x=\"529.882812\" xlink:href=\"#DejaVuSans-32\"/>\r\n      <use x=\"561.669922\" xlink:href=\"#DejaVuSans-82\"/>\r\n      <use x=\"626.652344\" xlink:href=\"#DejaVuSans-101\"/>\r\n      <use x=\"688.175781\" xlink:href=\"#DejaVuSans-113\"/>\r\n      <use x=\"751.652344\" xlink:href=\"#DejaVuSans-117\"/>\r\n      <use x=\"815.03125\" xlink:href=\"#DejaVuSans-101\"/>\r\n      <use x=\"876.554688\" xlink:href=\"#DejaVuSans-115\"/>\r\n      <use x=\"928.654297\" xlink:href=\"#DejaVuSans-116\"/>\r\n      <use x=\"967.863281\" xlink:href=\"#DejaVuSans-115\"/>\r\n     </g>\r\n    </g>\r\n   </g>\r\n   <g id=\"patch_27\">\r\n    <path d=\"M 66.053125 239.758125 \r\nL 66.053125 22.318125 \r\n\" style=\"fill:none;stroke:#000000;stroke-linecap:square;stroke-linejoin:miter;stroke-width:0.8;\"/>\r\n   </g>\r\n   <g id=\"patch_28\">\r\n    <path d=\"M 847.253125 239.758125 \r\nL 847.253125 22.318125 \r\n\" style=\"fill:none;stroke:#000000;stroke-linecap:square;stroke-linejoin:miter;stroke-width:0.8;\"/>\r\n   </g>\r\n   <g id=\"patch_29\">\r\n    <path d=\"M 66.053125 239.758125 \r\nL 847.253125 239.758125 \r\n\" style=\"fill:none;stroke:#000000;stroke-linecap:square;stroke-linejoin:miter;stroke-width:0.8;\"/>\r\n   </g>\r\n   <g id=\"patch_30\">\r\n    <path d=\"M 66.053125 22.318125 \r\nL 847.253125 22.318125 \r\n\" style=\"fill:none;stroke:#000000;stroke-linecap:square;stroke-linejoin:miter;stroke-width:0.8;\"/>\r\n   </g>\r\n   <g id=\"text_33\">\r\n    <!-- Requests per Hour -->\r\n    <g transform=\"translate(400.921563 16.318125)scale(0.12 -0.12)\">\r\n     <defs>\r\n      <path d=\"M 18.109375 8.203125 \r\nL 18.109375 -20.796875 \r\nL 9.078125 -20.796875 \r\nL 9.078125 54.6875 \r\nL 18.109375 54.6875 \r\nL 18.109375 46.390625 \r\nQ 20.953125 51.265625 25.265625 53.625 \r\nQ 29.59375 56 35.59375 56 \r\nQ 45.5625 56 51.78125 48.09375 \r\nQ 58.015625 40.1875 58.015625 27.296875 \r\nQ 58.015625 14.40625 51.78125 6.484375 \r\nQ 45.5625 -1.421875 35.59375 -1.421875 \r\nQ 29.59375 -1.421875 25.265625 0.953125 \r\nQ 20.953125 3.328125 18.109375 8.203125 \r\nz\r\nM 48.6875 27.296875 \r\nQ 48.6875 37.203125 44.609375 42.84375 \r\nQ 40.53125 48.484375 33.40625 48.484375 \r\nQ 26.265625 48.484375 22.1875 42.84375 \r\nQ 18.109375 37.203125 18.109375 27.296875 \r\nQ 18.109375 17.390625 22.1875 11.75 \r\nQ 26.265625 6.109375 33.40625 6.109375 \r\nQ 40.53125 6.109375 44.609375 11.75 \r\nQ 48.6875 17.390625 48.6875 27.296875 \r\nz\r\n\" id=\"DejaVuSans-112\"/>\r\n     </defs>\r\n     <use xlink:href=\"#DejaVuSans-82\"/>\r\n     <use x=\"64.982422\" xlink:href=\"#DejaVuSans-101\"/>\r\n     <use x=\"126.505859\" xlink:href=\"#DejaVuSans-113\"/>\r\n     <use x=\"189.982422\" xlink:href=\"#DejaVuSans-117\"/>\r\n     <use x=\"253.361328\" xlink:href=\"#DejaVuSans-101\"/>\r\n     <use x=\"314.884766\" xlink:href=\"#DejaVuSans-115\"/>\r\n     <use x=\"366.984375\" xlink:href=\"#DejaVuSans-116\"/>\r\n     <use x=\"406.193359\" xlink:href=\"#DejaVuSans-115\"/>\r\n     <use x=\"458.292969\" xlink:href=\"#DejaVuSans-32\"/>\r\n     <use x=\"490.080078\" xlink:href=\"#DejaVuSans-112\"/>\r\n     <use x=\"553.556641\" xlink:href=\"#DejaVuSans-101\"/>\r\n     <use x=\"615.080078\" xlink:href=\"#DejaVuSans-114\"/>\r\n     <use x=\"656.193359\" xlink:href=\"#DejaVuSans-32\"/>\r\n     <use x=\"687.980469\" xlink:href=\"#DejaVuSans-72\"/>\r\n     <use x=\"763.175781\" xlink:href=\"#DejaVuSans-111\"/>\r\n     <use x=\"824.357422\" xlink:href=\"#DejaVuSans-117\"/>\r\n     <use x=\"887.736328\" xlink:href=\"#DejaVuSans-114\"/>\r\n    </g>\r\n   </g>\r\n  </g>\r\n </g>\r\n <defs>\r\n  <clipPath id=\"p8e3d7a4e7e\">\r\n   <rect height=\"217.44\" width=\"781.2\" x=\"66.053125\" y=\"22.318125\"/>\r\n  </clipPath>\r\n </defs>\r\n</svg>\r\n",
      "image/png": "[encoded data removed]"
     },
     "metadata": {
      "needs_background": "light"
     }
    }
   ],
   "source": [
    "# Plot the hourly request in bar chart\n",
    "plt.figure(figsize=(14,4))\n",
    "plt.bar(labels, hourly_request, width=0.8)\n",
    "plt.xticks(rotation=0)\n",
    "plt.title('Requests per Hour')\n",
    "plt.xlabel('Hour in a day')\n",
    "plt.ylabel('Number of Requests')\n",
    "plt.show()\n"
   ]
  },
  {
   "cell_type": "markdown",
   "metadata": {
    "id": "aFEJDPvEy8ZR"
   },
   "source": [
    "\n",
    "<div class=\"alert alert-block alert-warning\">\n",
    "\n",
    "**Code**: \n",
    "    You are required to filter the hourly requests by removing any below 490,000 and above 400,000. (hourly_request_amount >= 400000 & hourly_request_amount <= 490000)    \n",
    "    <br>\n",
    "    *Keep the outputs for code in your notebook.\n",
    "</div> \n",
    "\n",
    "<div class=\"alert alert-block alert-warning\">\n",
    "    \n",
    "**Report**: \n",
    "    **Part I 2.1.B** Please include your result for this coding task into your report, with proper section title '2.1.B'.\n",
    "</div>\n",
    "    </div>\n"
   ]
  },
  {
   "cell_type": "code",
   "execution_count": 21,
   "metadata": {},
   "outputs": [],
   "source": [
    "hourly_request_filter = hour_data[hour_data[\"H\"].isin(hour_data[\"H\"].value_counts()[(hour_data[\"H\"].value_counts()>490000) | (hour_data[\"H\"].value_counts()<400000)].index)]"
   ]
  },
  {
   "cell_type": "code",
   "execution_count": 22,
   "metadata": {},
   "outputs": [
    {
     "output_type": "execute_result",
     "data": {
      "text/plain": [
       "09    553564\n",
       "08    550744\n",
       "03    546655\n",
       "06    544734\n",
       "04    529352\n",
       "07    522365\n",
       "14    493695\n",
       "16    387291\n",
       "11    368948\n",
       "12    367635\n",
       "01    344334\n",
       "17    250285\n",
       "18    159546\n",
       "00    155914\n",
       "19     93829\n",
       "23     83634\n",
       "20     72559\n",
       "21     66474\n",
       "22     65218\n",
       "Name: H, dtype: int64"
      ]
     },
     "metadata": {},
     "execution_count": 22
    }
   ],
   "source": [
    "hourly_request_filter[\"H\"].value_counts()"
   ]
  },
  {
   "cell_type": "markdown",
   "metadata": {
    "id": "xwKZ2IAr9IR_"
   },
   "source": [
    "### 2.2 Server Analysis"
   ]
  },
  {
   "cell_type": "markdown",
   "metadata": {
    "id": "n2sojLZStPBh"
   },
   "source": [
    "<div class=\"alert alert-block alert-warning\">\n",
    "\n",
    "**Code**: \n",
    "    Discover on the server status using 'sc-status' from DataFrame, then plot it into Pie Chart. <br>\n",
    "    *Keep the outputs for code in your notebook.\n",
    "</div> \n",
    "\n",
    "<div class=\"alert alert-block alert-warning\">\n",
    "    \n",
    "**Report**: \n",
    "    **Part I 2.2** Please include your results for this coding task into your report Part I section '2.2', <br>\n",
    "    1. How many types of status reported? <br>\n",
    "    2. Figure 'Server Status' in pie chart. <br>\n",
    "</div>"
   ]
  },
  {
   "cell_type": "code",
   "execution_count": 17,
   "metadata": {},
   "outputs": [
    {
     "output_type": "execute_result",
     "data": {
      "text/plain": [
       "0        200\n",
       "1        200\n",
       "2        200\n",
       "3        200\n",
       "4        200\n",
       "        ... \n",
       "63741    200\n",
       "63742    200\n",
       "63743    200\n",
       "63744    200\n",
       "63745    200\n",
       "Name: sc-status, Length: 8435401, dtype: object"
      ]
     },
     "metadata": {},
     "execution_count": 17
    }
   ],
   "source": [
    "server_data = df_ht[\"sc-status\"]\n",
    "server_data"
   ]
  },
  {
   "cell_type": "code",
   "execution_count": 18,
   "metadata": {},
   "outputs": [
    {
     "output_type": "execute_result",
     "data": {
      "text/plain": [
       "200    6072524\n",
       "304    2136930\n",
       "404     142583\n",
       "206      72472\n",
       "302       7366\n",
       "500       2013\n",
       "403        700\n",
       "301        433\n",
       "400        210\n",
       "501        113\n",
       "406         54\n",
       "416          3\n",
       "Name: sc-status, dtype: int64"
      ]
     },
     "metadata": {},
     "execution_count": 18
    }
   ],
   "source": [
    "# Count the server status\n",
    "server_count = server_data.value_counts()\n",
    "server_count"
   ]
  },
  {
   "cell_type": "code",
   "execution_count": 28,
   "metadata": {},
   "outputs": [
    {
     "output_type": "execute_result",
     "data": {
      "text/plain": [
       "[6072524, 2136930, 142583, 72472, 7366, 2013, 700, 433, 210, 113, 54, 3]"
      ]
     },
     "metadata": {},
     "execution_count": 28
    }
   ],
   "source": [
    "# Get the list for data visulization\n",
    "server_data = server_count.to_list()\n",
    "server_data"
   ]
  },
  {
   "cell_type": "markdown",
   "metadata": {
    "id": "jOy7bisdx6iB"
   },
   "source": [
    "#### Server Status"
   ]
  },
  {
   "cell_type": "code",
   "execution_count": 29,
   "metadata": {
    "id": "9nVWlMSXrHQg"
   },
   "outputs": [],
   "source": [
    "# Get label and data for plot\n",
    "label_pie = list(server_count.index)\n",
    "data_pie = server_data"
   ]
  },
  {
   "cell_type": "code",
   "execution_count": 30,
   "metadata": {},
   "outputs": [
    {
     "output_type": "display_data",
     "data": {
      "text/plain": "<Figure size 1080x720 with 1 Axes>",
      "image/svg+xml": "<?xml version=\"1.0\" encoding=\"utf-8\" standalone=\"no\"?>\r\n<!DOCTYPE svg PUBLIC \"-//W3C//DTD SVG 1.1//EN\"\r\n  \"http://www.w3.org/Graphics/SVG/1.1/DTD/svg11.dtd\">\r\n<!-- Created with matplotlib (https://matplotlib.org/) -->\r\n<svg height=\"573.118125pt\" version=\"1.1\" viewBox=\"0 0 742.806875 573.118125\" width=\"742.806875pt\" xmlns=\"http://www.w3.org/2000/svg\" xmlns:xlink=\"http://www.w3.org/1999/xlink\">\r\n <metadata>\r\n  <rdf:RDF xmlns:cc=\"http://creativecommons.org/ns#\" xmlns:dc=\"http://purl.org/dc/elements/1.1/\" xmlns:rdf=\"http://www.w3.org/1999/02/22-rdf-syntax-ns#\">\r\n   <cc:Work>\r\n    <dc:type rdf:resource=\"http://purl.org/dc/dcmitype/StillImage\"/>\r\n    <dc:date>2021-04-15T23:32:12.003180</dc:date>\r\n    <dc:format>image/svg+xml</dc:format>\r\n    <dc:creator>\r\n     <cc:Agent>\r\n      <dc:title>Matplotlib v3.3.4, https://matplotlib.org/</dc:title>\r\n     </cc:Agent>\r\n    </dc:creator>\r\n   </cc:Work>\r\n  </rdf:RDF>\r\n </metadata>\r\n <defs>\r\n  <style type=\"text/css\">*{stroke-linecap:butt;stroke-linejoin:round;}</style>\r\n </defs>\r\n <g id=\"figure_1\">\r\n  <g id=\"patch_1\">\r\n   <path d=\"M 0 573.118125 \r\nL 742.806875 573.118125 \r\nL 742.806875 0 \r\nL 0 0 \r\nz\r\n\" style=\"fill:none;\"/>\r\n  </g>\r\n  <g id=\"axes_1\">\r\n   <g id=\"patch_2\">\r\n    <path d=\"M 463.806875 33.190125 \r\nC 414.305796 33.190125 365.811973 47.276521 324.014448 73.796772 \r\nC 282.216923 100.317023 248.816701 138.191851 227.732122 182.977979 \r\nC 206.647542 227.764108 198.73667 277.638906 204.927568 326.751324 \r\nC 211.118466 375.863742 231.159187 422.215085 262.698658 460.367654 \r\nC 294.238129 498.520224 335.992809 526.921352 383.064259 542.239166 \r\nC 430.135709 557.55698 480.608292 559.168102 528.56083 546.883523 \r\nC 576.513369 534.598944 619.994369 508.918601 653.902869 472.855178 \r\nC 687.811369 436.791755 710.767416 391.812902 720.077927 343.1953 \r\nL 463.806875 294.118125 \r\nL 463.806875 33.190125 \r\nz\r\n\" style=\"fill:#1f77b4;\"/>\r\n   </g>\r\n   <g id=\"patch_3\">\r\n    <path d=\"M 720.077927 343.1953 \r\nC 726.609052 309.091087 726.267138 274.023736 719.07227 240.053355 \r\nC 711.877402 206.082974 697.973287 173.888073 678.176754 145.360013 \r\nC 658.380222 116.831953 633.086678 92.540541 603.782049 73.91283 \r\nC 574.477419 55.285119 541.747022 42.693171 507.513677 36.876727 \r\nL 463.806875 294.118125 \r\nL 720.077927 343.1953 \r\nz\r\n\" style=\"fill:#ff7f0e;\"/>\r\n   </g>\r\n   <g id=\"patch_4\">\r\n    <path d=\"M 507.513677 36.876727 \r\nC 502.960055 36.103041 498.386692 35.450401 493.798423 34.919498 \r\nC 489.210154 34.388595 484.608598 33.979617 479.998618 33.692994 \r\nL 463.806875 294.118125 \r\nL 507.513677 36.876727 \r\nz\r\n\" style=\"fill:#2ca02c;\"/>\r\n   </g>\r\n   <g id=\"patch_5\">\r\n    <path d=\"M 479.998618 33.692994 \r\nC 477.655562 33.547317 475.310647 33.433266 472.964513 33.350875 \r\nC 470.618379 33.268483 468.27124 33.217758 465.923737 33.198712 \r\nL 463.806875 294.118125 \r\nL 479.998618 33.692994 \r\nz\r\n\" style=\"fill:#d62728;\"/>\r\n   </g>\r\n   <g id=\"patch_6\">\r\n    <path d=\"M 465.923737 33.198712 \r\nC 465.685142 33.196776 465.446545 33.195168 465.207946 33.193887 \r\nC 464.969347 33.192605 464.730746 33.191651 464.492144 33.191025 \r\nL 463.806875 294.118125 \r\nL 465.923737 33.198712 \r\nz\r\n\" style=\"fill:#9467bd;\"/>\r\n   </g>\r\n   <g id=\"patch_7\">\r\n    <path d=\"M 464.492144 33.191025 \r\nC 464.426938 33.190854 464.361732 33.190707 464.296526 33.190584 \r\nC 464.231321 33.190462 464.166115 33.190364 464.100909 33.190291 \r\nL 463.806875 294.118125 \r\nL 464.492144 33.191025 \r\nz\r\n\" style=\"fill:#8c564b;\"/>\r\n   </g>\r\n   <g id=\"patch_8\">\r\n    <path d=\"M 464.100909 33.190291 \r\nC 464.078234 33.190265 464.055559 33.190243 464.032885 33.190223 \r\nC 464.01021 33.190203 463.987535 33.190187 463.964861 33.190173 \r\nL 463.806875 294.118125 \r\nL 464.100909 33.190291 \r\nz\r\n\" style=\"fill:#e377c2;\"/>\r\n   </g>\r\n   <g id=\"patch_9\">\r\n    <path d=\"M 463.964861 33.190173 \r\nC 463.950835 33.190164 463.936809 33.190157 463.922783 33.190151 \r\nC 463.908757 33.190145 463.894731 33.190139 463.880705 33.190135 \r\nL 463.806875 294.118125 \r\nL 463.964861 33.190173 \r\nz\r\n\" style=\"fill:#7f7f7f;\"/>\r\n   </g>\r\n   <g id=\"patch_10\">\r\n    <path d=\"M 463.880705 33.190135 \r\nC 463.873903 33.190134 463.8671 33.190132 463.860298 33.19013 \r\nC 463.853495 33.190129 463.846693 33.190128 463.839891 33.190127 \r\nL 463.806875 294.118125 \r\nL 463.880705 33.190135 \r\nz\r\n\" style=\"fill:#bcbd22;\"/>\r\n   </g>\r\n   <g id=\"patch_11\">\r\n    <path d=\"M 463.839891 33.190127 \r\nC 463.83623 33.190127 463.83257 33.190126 463.82891 33.190126 \r\nC 463.825249 33.190126 463.821589 33.190125 463.817928 33.190125 \r\nL 463.806875 294.118125 \r\nL 463.839891 33.190127 \r\nz\r\n\" style=\"fill:#17becf;\"/>\r\n   </g>\r\n   <g id=\"patch_12\">\r\n    <path d=\"M 463.817928 33.190125 \r\nC 463.816179 33.190125 463.81443 33.190125 463.812681 33.190125 \r\nC 463.810932 33.190125 463.809183 33.190125 463.807433 33.190125 \r\nL 463.806875 294.118125 \r\nL 463.817928 33.190125 \r\nz\r\n\" style=\"fill:#1f77b4;\"/>\r\n   </g>\r\n   <g id=\"patch_13\">\r\n    <path d=\"M 463.807433 33.190125 \r\nC 463.807336 33.190125 463.807239 33.190125 463.807142 33.190125 \r\nC 463.807045 33.190125 463.806947 33.190125 463.80685 33.190125 \r\nL 463.806875 294.118125 \r\nL 463.807433 33.190125 \r\nz\r\n\" style=\"fill:#ff7f0e;\"/>\r\n   </g>\r\n   <g id=\"matplotlib.axis_1\"/>\r\n   <g id=\"matplotlib.axis_2\"/>\r\n   <g id=\"text_1\">\r\n    <!-- Server Status -->\r\n    <g transform=\"translate(423.104375 16.318125)scale(0.12 -0.12)\">\r\n     <defs>\r\n      <path d=\"M 53.515625 70.515625 \r\nL 53.515625 60.890625 \r\nQ 47.90625 63.578125 42.921875 64.890625 \r\nQ 37.9375 66.21875 33.296875 66.21875 \r\nQ 25.25 66.21875 20.875 63.09375 \r\nQ 16.5 59.96875 16.5 54.203125 \r\nQ 16.5 49.359375 19.40625 46.890625 \r\nQ 22.3125 44.4375 30.421875 42.921875 \r\nL 36.375 41.703125 \r\nQ 47.40625 39.59375 52.65625 34.296875 \r\nQ 57.90625 29 57.90625 20.125 \r\nQ 57.90625 9.515625 50.796875 4.046875 \r\nQ 43.703125 -1.421875 29.984375 -1.421875 \r\nQ 24.8125 -1.421875 18.96875 -0.25 \r\nQ 13.140625 0.921875 6.890625 3.21875 \r\nL 6.890625 13.375 \r\nQ 12.890625 10.015625 18.65625 8.296875 \r\nQ 24.421875 6.59375 29.984375 6.59375 \r\nQ 38.421875 6.59375 43.015625 9.90625 \r\nQ 47.609375 13.234375 47.609375 19.390625 \r\nQ 47.609375 24.75 44.3125 27.78125 \r\nQ 41.015625 30.8125 33.5 32.328125 \r\nL 27.484375 33.5 \r\nQ 16.453125 35.6875 11.515625 40.375 \r\nQ 6.59375 45.0625 6.59375 53.421875 \r\nQ 6.59375 63.09375 13.40625 68.65625 \r\nQ 20.21875 74.21875 32.171875 74.21875 \r\nQ 37.3125 74.21875 42.625 73.28125 \r\nQ 47.953125 72.359375 53.515625 70.515625 \r\nz\r\n\" id=\"DejaVuSans-83\"/>\r\n      <path d=\"M 56.203125 29.59375 \r\nL 56.203125 25.203125 \r\nL 14.890625 25.203125 \r\nQ 15.484375 15.921875 20.484375 11.0625 \r\nQ 25.484375 6.203125 34.421875 6.203125 \r\nQ 39.59375 6.203125 44.453125 7.46875 \r\nQ 49.3125 8.734375 54.109375 11.28125 \r\nL 54.109375 2.78125 \r\nQ 49.265625 0.734375 44.1875 -0.34375 \r\nQ 39.109375 -1.421875 33.890625 -1.421875 \r\nQ 20.796875 -1.421875 13.15625 6.1875 \r\nQ 5.515625 13.8125 5.515625 26.8125 \r\nQ 5.515625 40.234375 12.765625 48.109375 \r\nQ 20.015625 56 32.328125 56 \r\nQ 43.359375 56 49.78125 48.890625 \r\nQ 56.203125 41.796875 56.203125 29.59375 \r\nz\r\nM 47.21875 32.234375 \r\nQ 47.125 39.59375 43.09375 43.984375 \r\nQ 39.0625 48.390625 32.421875 48.390625 \r\nQ 24.90625 48.390625 20.390625 44.140625 \r\nQ 15.875 39.890625 15.1875 32.171875 \r\nz\r\n\" id=\"DejaVuSans-101\"/>\r\n      <path d=\"M 41.109375 46.296875 \r\nQ 39.59375 47.171875 37.8125 47.578125 \r\nQ 36.03125 48 33.890625 48 \r\nQ 26.265625 48 22.1875 43.046875 \r\nQ 18.109375 38.09375 18.109375 28.8125 \r\nL 18.109375 0 \r\nL 9.078125 0 \r\nL 9.078125 54.6875 \r\nL 18.109375 54.6875 \r\nL 18.109375 46.1875 \r\nQ 20.953125 51.171875 25.484375 53.578125 \r\nQ 30.03125 56 36.53125 56 \r\nQ 37.453125 56 38.578125 55.875 \r\nQ 39.703125 55.765625 41.0625 55.515625 \r\nz\r\n\" id=\"DejaVuSans-114\"/>\r\n      <path d=\"M 2.984375 54.6875 \r\nL 12.5 54.6875 \r\nL 29.59375 8.796875 \r\nL 46.6875 54.6875 \r\nL 56.203125 54.6875 \r\nL 35.6875 0 \r\nL 23.484375 0 \r\nz\r\n\" id=\"DejaVuSans-118\"/>\r\n      <path id=\"DejaVuSans-32\"/>\r\n      <path d=\"M 18.3125 70.21875 \r\nL 18.3125 54.6875 \r\nL 36.8125 54.6875 \r\nL 36.8125 47.703125 \r\nL 18.3125 47.703125 \r\nL 18.3125 18.015625 \r\nQ 18.3125 11.328125 20.140625 9.421875 \r\nQ 21.96875 7.515625 27.59375 7.515625 \r\nL 36.8125 7.515625 \r\nL 36.8125 0 \r\nL 27.59375 0 \r\nQ 17.1875 0 13.234375 3.875 \r\nQ 9.28125 7.765625 9.28125 18.015625 \r\nL 9.28125 47.703125 \r\nL 2.6875 47.703125 \r\nL 2.6875 54.6875 \r\nL 9.28125 54.6875 \r\nL 9.28125 70.21875 \r\nz\r\n\" id=\"DejaVuSans-116\"/>\r\n      <path d=\"M 34.28125 27.484375 \r\nQ 23.390625 27.484375 19.1875 25 \r\nQ 14.984375 22.515625 14.984375 16.5 \r\nQ 14.984375 11.71875 18.140625 8.90625 \r\nQ 21.296875 6.109375 26.703125 6.109375 \r\nQ 34.1875 6.109375 38.703125 11.40625 \r\nQ 43.21875 16.703125 43.21875 25.484375 \r\nL 43.21875 27.484375 \r\nz\r\nM 52.203125 31.203125 \r\nL 52.203125 0 \r\nL 43.21875 0 \r\nL 43.21875 8.296875 \r\nQ 40.140625 3.328125 35.546875 0.953125 \r\nQ 30.953125 -1.421875 24.3125 -1.421875 \r\nQ 15.921875 -1.421875 10.953125 3.296875 \r\nQ 6 8.015625 6 15.921875 \r\nQ 6 25.140625 12.171875 29.828125 \r\nQ 18.359375 34.515625 30.609375 34.515625 \r\nL 43.21875 34.515625 \r\nL 43.21875 35.40625 \r\nQ 43.21875 41.609375 39.140625 45 \r\nQ 35.0625 48.390625 27.6875 48.390625 \r\nQ 23 48.390625 18.546875 47.265625 \r\nQ 14.109375 46.140625 10.015625 43.890625 \r\nL 10.015625 52.203125 \r\nQ 14.9375 54.109375 19.578125 55.046875 \r\nQ 24.21875 56 28.609375 56 \r\nQ 40.484375 56 46.34375 49.84375 \r\nQ 52.203125 43.703125 52.203125 31.203125 \r\nz\r\n\" id=\"DejaVuSans-97\"/>\r\n      <path d=\"M 8.5 21.578125 \r\nL 8.5 54.6875 \r\nL 17.484375 54.6875 \r\nL 17.484375 21.921875 \r\nQ 17.484375 14.15625 20.5 10.265625 \r\nQ 23.53125 6.390625 29.59375 6.390625 \r\nQ 36.859375 6.390625 41.078125 11.03125 \r\nQ 45.3125 15.671875 45.3125 23.6875 \r\nL 45.3125 54.6875 \r\nL 54.296875 54.6875 \r\nL 54.296875 0 \r\nL 45.3125 0 \r\nL 45.3125 8.40625 \r\nQ 42.046875 3.421875 37.71875 1 \r\nQ 33.40625 -1.421875 27.6875 -1.421875 \r\nQ 18.265625 -1.421875 13.375 4.4375 \r\nQ 8.5 10.296875 8.5 21.578125 \r\nz\r\nM 31.109375 56 \r\nz\r\n\" id=\"DejaVuSans-117\"/>\r\n      <path d=\"M 44.28125 53.078125 \r\nL 44.28125 44.578125 \r\nQ 40.484375 46.53125 36.375 47.5 \r\nQ 32.28125 48.484375 27.875 48.484375 \r\nQ 21.1875 48.484375 17.84375 46.4375 \r\nQ 14.5 44.390625 14.5 40.28125 \r\nQ 14.5 37.15625 16.890625 35.375 \r\nQ 19.28125 33.59375 26.515625 31.984375 \r\nL 29.59375 31.296875 \r\nQ 39.15625 29.25 43.1875 25.515625 \r\nQ 47.21875 21.78125 47.21875 15.09375 \r\nQ 47.21875 7.46875 41.1875 3.015625 \r\nQ 35.15625 -1.421875 24.609375 -1.421875 \r\nQ 20.21875 -1.421875 15.453125 -0.5625 \r\nQ 10.6875 0.296875 5.421875 2 \r\nL 5.421875 11.28125 \r\nQ 10.40625 8.6875 15.234375 7.390625 \r\nQ 20.0625 6.109375 24.8125 6.109375 \r\nQ 31.15625 6.109375 34.5625 8.28125 \r\nQ 37.984375 10.453125 37.984375 14.40625 \r\nQ 37.984375 18.0625 35.515625 20.015625 \r\nQ 33.0625 21.96875 24.703125 23.78125 \r\nL 21.578125 24.515625 \r\nQ 13.234375 26.265625 9.515625 29.90625 \r\nQ 5.8125 33.546875 5.8125 39.890625 \r\nQ 5.8125 47.609375 11.28125 51.796875 \r\nQ 16.75 56 26.8125 56 \r\nQ 31.78125 56 36.171875 55.265625 \r\nQ 40.578125 54.546875 44.28125 53.078125 \r\nz\r\n\" id=\"DejaVuSans-115\"/>\r\n     </defs>\r\n     <use xlink:href=\"#DejaVuSans-83\"/>\r\n     <use x=\"63.476562\" xlink:href=\"#DejaVuSans-101\"/>\r\n     <use x=\"125\" xlink:href=\"#DejaVuSans-114\"/>\r\n     <use x=\"166.113281\" xlink:href=\"#DejaVuSans-118\"/>\r\n     <use x=\"225.292969\" xlink:href=\"#DejaVuSans-101\"/>\r\n     <use x=\"286.816406\" xlink:href=\"#DejaVuSans-114\"/>\r\n     <use x=\"327.929688\" xlink:href=\"#DejaVuSans-32\"/>\r\n     <use x=\"359.716797\" xlink:href=\"#DejaVuSans-83\"/>\r\n     <use x=\"423.193359\" xlink:href=\"#DejaVuSans-116\"/>\r\n     <use x=\"462.402344\" xlink:href=\"#DejaVuSans-97\"/>\r\n     <use x=\"523.681641\" xlink:href=\"#DejaVuSans-116\"/>\r\n     <use x=\"562.890625\" xlink:href=\"#DejaVuSans-117\"/>\r\n     <use x=\"626.269531\" xlink:href=\"#DejaVuSans-115\"/>\r\n    </g>\r\n   </g>\r\n   <g id=\"legend_1\">\r\n    <g id=\"patch_14\">\r\n     <path d=\"M 9.2 206.455625 \r\nL 130.646875 206.455625 \r\nQ 132.646875 206.455625 132.646875 204.455625 \r\nL 132.646875 29.318125 \r\nQ 132.646875 27.318125 130.646875 27.318125 \r\nL 9.2 27.318125 \r\nQ 7.2 27.318125 7.2 29.318125 \r\nL 7.2 204.455625 \r\nQ 7.2 206.455625 9.2 206.455625 \r\nz\r\n\" style=\"fill:#ffffff;opacity:0.8;stroke:#cccccc;stroke-linejoin:miter;\"/>\r\n    </g>\r\n    <g id=\"patch_15\">\r\n     <path d=\"M 11.2 38.916562 \r\nL 31.2 38.916562 \r\nL 31.2 31.916562 \r\nL 11.2 31.916562 \r\nz\r\n\" style=\"fill:#1f77b4;\"/>\r\n    </g>\r\n    <g id=\"text_2\">\r\n     <!-- 200 - 71.98856 % -->\r\n     <g transform=\"translate(39.2 38.916562)scale(0.1 -0.1)\">\r\n      <defs>\r\n       <path d=\"M 19.1875 8.296875 \r\nL 53.609375 8.296875 \r\nL 53.609375 0 \r\nL 7.328125 0 \r\nL 7.328125 8.296875 \r\nQ 12.9375 14.109375 22.625 23.890625 \r\nQ 32.328125 33.6875 34.8125 36.53125 \r\nQ 39.546875 41.84375 41.421875 45.53125 \r\nQ 43.3125 49.21875 43.3125 52.78125 \r\nQ 43.3125 58.59375 39.234375 62.25 \r\nQ 35.15625 65.921875 28.609375 65.921875 \r\nQ 23.96875 65.921875 18.8125 64.3125 \r\nQ 13.671875 62.703125 7.8125 59.421875 \r\nL 7.8125 69.390625 \r\nQ 13.765625 71.78125 18.9375 73 \r\nQ 24.125 74.21875 28.421875 74.21875 \r\nQ 39.75 74.21875 46.484375 68.546875 \r\nQ 53.21875 62.890625 53.21875 53.421875 \r\nQ 53.21875 48.921875 51.53125 44.890625 \r\nQ 49.859375 40.875 45.40625 35.40625 \r\nQ 44.1875 33.984375 37.640625 27.21875 \r\nQ 31.109375 20.453125 19.1875 8.296875 \r\nz\r\n\" id=\"DejaVuSans-50\"/>\r\n       <path d=\"M 31.78125 66.40625 \r\nQ 24.171875 66.40625 20.328125 58.90625 \r\nQ 16.5 51.421875 16.5 36.375 \r\nQ 16.5 21.390625 20.328125 13.890625 \r\nQ 24.171875 6.390625 31.78125 6.390625 \r\nQ 39.453125 6.390625 43.28125 13.890625 \r\nQ 47.125 21.390625 47.125 36.375 \r\nQ 47.125 51.421875 43.28125 58.90625 \r\nQ 39.453125 66.40625 31.78125 66.40625 \r\nz\r\nM 31.78125 74.21875 \r\nQ 44.046875 74.21875 50.515625 64.515625 \r\nQ 56.984375 54.828125 56.984375 36.375 \r\nQ 56.984375 17.96875 50.515625 8.265625 \r\nQ 44.046875 -1.421875 31.78125 -1.421875 \r\nQ 19.53125 -1.421875 13.0625 8.265625 \r\nQ 6.59375 17.96875 6.59375 36.375 \r\nQ 6.59375 54.828125 13.0625 64.515625 \r\nQ 19.53125 74.21875 31.78125 74.21875 \r\nz\r\n\" id=\"DejaVuSans-48\"/>\r\n       <path d=\"M 4.890625 31.390625 \r\nL 31.203125 31.390625 \r\nL 31.203125 23.390625 \r\nL 4.890625 23.390625 \r\nz\r\n\" id=\"DejaVuSans-45\"/>\r\n       <path d=\"M 8.203125 72.90625 \r\nL 55.078125 72.90625 \r\nL 55.078125 68.703125 \r\nL 28.609375 0 \r\nL 18.3125 0 \r\nL 43.21875 64.59375 \r\nL 8.203125 64.59375 \r\nz\r\n\" id=\"DejaVuSans-55\"/>\r\n       <path d=\"M 12.40625 8.296875 \r\nL 28.515625 8.296875 \r\nL 28.515625 63.921875 \r\nL 10.984375 60.40625 \r\nL 10.984375 69.390625 \r\nL 28.421875 72.90625 \r\nL 38.28125 72.90625 \r\nL 38.28125 8.296875 \r\nL 54.390625 8.296875 \r\nL 54.390625 0 \r\nL 12.40625 0 \r\nz\r\n\" id=\"DejaVuSans-49\"/>\r\n       <path d=\"M 10.6875 12.40625 \r\nL 21 12.40625 \r\nL 21 0 \r\nL 10.6875 0 \r\nz\r\n\" id=\"DejaVuSans-46\"/>\r\n       <path d=\"M 10.984375 1.515625 \r\nL 10.984375 10.5 \r\nQ 14.703125 8.734375 18.5 7.8125 \r\nQ 22.3125 6.890625 25.984375 6.890625 \r\nQ 35.75 6.890625 40.890625 13.453125 \r\nQ 46.046875 20.015625 46.78125 33.40625 \r\nQ 43.953125 29.203125 39.59375 26.953125 \r\nQ 35.25 24.703125 29.984375 24.703125 \r\nQ 19.046875 24.703125 12.671875 31.3125 \r\nQ 6.296875 37.9375 6.296875 49.421875 \r\nQ 6.296875 60.640625 12.9375 67.421875 \r\nQ 19.578125 74.21875 30.609375 74.21875 \r\nQ 43.265625 74.21875 49.921875 64.515625 \r\nQ 56.59375 54.828125 56.59375 36.375 \r\nQ 56.59375 19.140625 48.40625 8.859375 \r\nQ 40.234375 -1.421875 26.421875 -1.421875 \r\nQ 22.703125 -1.421875 18.890625 -0.6875 \r\nQ 15.09375 0.046875 10.984375 1.515625 \r\nz\r\nM 30.609375 32.421875 \r\nQ 37.25 32.421875 41.125 36.953125 \r\nQ 45.015625 41.5 45.015625 49.421875 \r\nQ 45.015625 57.28125 41.125 61.84375 \r\nQ 37.25 66.40625 30.609375 66.40625 \r\nQ 23.96875 66.40625 20.09375 61.84375 \r\nQ 16.21875 57.28125 16.21875 49.421875 \r\nQ 16.21875 41.5 20.09375 36.953125 \r\nQ 23.96875 32.421875 30.609375 32.421875 \r\nz\r\n\" id=\"DejaVuSans-57\"/>\r\n       <path d=\"M 31.78125 34.625 \r\nQ 24.75 34.625 20.71875 30.859375 \r\nQ 16.703125 27.09375 16.703125 20.515625 \r\nQ 16.703125 13.921875 20.71875 10.15625 \r\nQ 24.75 6.390625 31.78125 6.390625 \r\nQ 38.8125 6.390625 42.859375 10.171875 \r\nQ 46.921875 13.96875 46.921875 20.515625 \r\nQ 46.921875 27.09375 42.890625 30.859375 \r\nQ 38.875 34.625 31.78125 34.625 \r\nz\r\nM 21.921875 38.8125 \r\nQ 15.578125 40.375 12.03125 44.71875 \r\nQ 8.5 49.078125 8.5 55.328125 \r\nQ 8.5 64.0625 14.71875 69.140625 \r\nQ 20.953125 74.21875 31.78125 74.21875 \r\nQ 42.671875 74.21875 48.875 69.140625 \r\nQ 55.078125 64.0625 55.078125 55.328125 \r\nQ 55.078125 49.078125 51.53125 44.71875 \r\nQ 48 40.375 41.703125 38.8125 \r\nQ 48.828125 37.15625 52.796875 32.3125 \r\nQ 56.78125 27.484375 56.78125 20.515625 \r\nQ 56.78125 9.90625 50.3125 4.234375 \r\nQ 43.84375 -1.421875 31.78125 -1.421875 \r\nQ 19.734375 -1.421875 13.25 4.234375 \r\nQ 6.78125 9.90625 6.78125 20.515625 \r\nQ 6.78125 27.484375 10.78125 32.3125 \r\nQ 14.796875 37.15625 21.921875 38.8125 \r\nz\r\nM 18.3125 54.390625 \r\nQ 18.3125 48.734375 21.84375 45.5625 \r\nQ 25.390625 42.390625 31.78125 42.390625 \r\nQ 38.140625 42.390625 41.71875 45.5625 \r\nQ 45.3125 48.734375 45.3125 54.390625 \r\nQ 45.3125 60.0625 41.71875 63.234375 \r\nQ 38.140625 66.40625 31.78125 66.40625 \r\nQ 25.390625 66.40625 21.84375 63.234375 \r\nQ 18.3125 60.0625 18.3125 54.390625 \r\nz\r\n\" id=\"DejaVuSans-56\"/>\r\n       <path d=\"M 10.796875 72.90625 \r\nL 49.515625 72.90625 \r\nL 49.515625 64.59375 \r\nL 19.828125 64.59375 \r\nL 19.828125 46.734375 \r\nQ 21.96875 47.46875 24.109375 47.828125 \r\nQ 26.265625 48.1875 28.421875 48.1875 \r\nQ 40.625 48.1875 47.75 41.5 \r\nQ 54.890625 34.8125 54.890625 23.390625 \r\nQ 54.890625 11.625 47.5625 5.09375 \r\nQ 40.234375 -1.421875 26.90625 -1.421875 \r\nQ 22.3125 -1.421875 17.546875 -0.640625 \r\nQ 12.796875 0.140625 7.71875 1.703125 \r\nL 7.71875 11.625 \r\nQ 12.109375 9.234375 16.796875 8.0625 \r\nQ 21.484375 6.890625 26.703125 6.890625 \r\nQ 35.15625 6.890625 40.078125 11.328125 \r\nQ 45.015625 15.765625 45.015625 23.390625 \r\nQ 45.015625 31 40.078125 35.4375 \r\nQ 35.15625 39.890625 26.703125 39.890625 \r\nQ 22.75 39.890625 18.8125 39.015625 \r\nQ 14.890625 38.140625 10.796875 36.28125 \r\nz\r\n\" id=\"DejaVuSans-53\"/>\r\n       <path d=\"M 33.015625 40.375 \r\nQ 26.375 40.375 22.484375 35.828125 \r\nQ 18.609375 31.296875 18.609375 23.390625 \r\nQ 18.609375 15.53125 22.484375 10.953125 \r\nQ 26.375 6.390625 33.015625 6.390625 \r\nQ 39.65625 6.390625 43.53125 10.953125 \r\nQ 47.40625 15.53125 47.40625 23.390625 \r\nQ 47.40625 31.296875 43.53125 35.828125 \r\nQ 39.65625 40.375 33.015625 40.375 \r\nz\r\nM 52.59375 71.296875 \r\nL 52.59375 62.3125 \r\nQ 48.875 64.0625 45.09375 64.984375 \r\nQ 41.3125 65.921875 37.59375 65.921875 \r\nQ 27.828125 65.921875 22.671875 59.328125 \r\nQ 17.53125 52.734375 16.796875 39.40625 \r\nQ 19.671875 43.65625 24.015625 45.921875 \r\nQ 28.375 48.1875 33.59375 48.1875 \r\nQ 44.578125 48.1875 50.953125 41.515625 \r\nQ 57.328125 34.859375 57.328125 23.390625 \r\nQ 57.328125 12.15625 50.6875 5.359375 \r\nQ 44.046875 -1.421875 33.015625 -1.421875 \r\nQ 20.359375 -1.421875 13.671875 8.265625 \r\nQ 6.984375 17.96875 6.984375 36.375 \r\nQ 6.984375 53.65625 15.1875 63.9375 \r\nQ 23.390625 74.21875 37.203125 74.21875 \r\nQ 40.921875 74.21875 44.703125 73.484375 \r\nQ 48.484375 72.75 52.59375 71.296875 \r\nz\r\n\" id=\"DejaVuSans-54\"/>\r\n       <path d=\"M 72.703125 32.078125 \r\nQ 68.453125 32.078125 66.03125 28.46875 \r\nQ 63.625 24.859375 63.625 18.40625 \r\nQ 63.625 12.0625 66.03125 8.421875 \r\nQ 68.453125 4.78125 72.703125 4.78125 \r\nQ 76.859375 4.78125 79.265625 8.421875 \r\nQ 81.6875 12.0625 81.6875 18.40625 \r\nQ 81.6875 24.8125 79.265625 28.4375 \r\nQ 76.859375 32.078125 72.703125 32.078125 \r\nz\r\nM 72.703125 38.28125 \r\nQ 80.421875 38.28125 84.953125 32.90625 \r\nQ 89.5 27.546875 89.5 18.40625 \r\nQ 89.5 9.28125 84.9375 3.921875 \r\nQ 80.375 -1.421875 72.703125 -1.421875 \r\nQ 64.890625 -1.421875 60.34375 3.921875 \r\nQ 55.8125 9.28125 55.8125 18.40625 \r\nQ 55.8125 27.59375 60.375 32.9375 \r\nQ 64.9375 38.28125 72.703125 38.28125 \r\nz\r\nM 22.3125 68.015625 \r\nQ 18.109375 68.015625 15.6875 64.375 \r\nQ 13.28125 60.75 13.28125 54.390625 \r\nQ 13.28125 47.953125 15.671875 44.328125 \r\nQ 18.0625 40.71875 22.3125 40.71875 \r\nQ 26.5625 40.71875 28.96875 44.328125 \r\nQ 31.390625 47.953125 31.390625 54.390625 \r\nQ 31.390625 60.6875 28.953125 64.34375 \r\nQ 26.515625 68.015625 22.3125 68.015625 \r\nz\r\nM 66.40625 74.21875 \r\nL 74.21875 74.21875 \r\nL 28.609375 -1.421875 \r\nL 20.796875 -1.421875 \r\nz\r\nM 22.3125 74.21875 \r\nQ 30.03125 74.21875 34.609375 68.875 \r\nQ 39.203125 63.53125 39.203125 54.390625 \r\nQ 39.203125 45.171875 34.640625 39.84375 \r\nQ 30.078125 34.515625 22.3125 34.515625 \r\nQ 14.546875 34.515625 10.03125 39.859375 \r\nQ 5.515625 45.21875 5.515625 54.390625 \r\nQ 5.515625 63.484375 10.046875 68.84375 \r\nQ 14.59375 74.21875 22.3125 74.21875 \r\nz\r\n\" id=\"DejaVuSans-37\"/>\r\n      </defs>\r\n      <use xlink:href=\"#DejaVuSans-50\"/>\r\n      <use x=\"63.623047\" xlink:href=\"#DejaVuSans-48\"/>\r\n      <use x=\"127.246094\" xlink:href=\"#DejaVuSans-48\"/>\r\n      <use x=\"190.869141\" xlink:href=\"#DejaVuSans-32\"/>\r\n      <use x=\"222.65625\" xlink:href=\"#DejaVuSans-45\"/>\r\n      <use x=\"258.740234\" xlink:href=\"#DejaVuSans-32\"/>\r\n      <use x=\"290.527344\" xlink:href=\"#DejaVuSans-55\"/>\r\n      <use x=\"354.150391\" xlink:href=\"#DejaVuSans-49\"/>\r\n      <use x=\"417.773438\" xlink:href=\"#DejaVuSans-46\"/>\r\n      <use x=\"449.560547\" xlink:href=\"#DejaVuSans-57\"/>\r\n      <use x=\"513.183594\" xlink:href=\"#DejaVuSans-56\"/>\r\n      <use x=\"576.806641\" xlink:href=\"#DejaVuSans-56\"/>\r\n      <use x=\"640.429688\" xlink:href=\"#DejaVuSans-53\"/>\r\n      <use x=\"704.052734\" xlink:href=\"#DejaVuSans-54\"/>\r\n      <use x=\"767.675781\" xlink:href=\"#DejaVuSans-32\"/>\r\n      <use x=\"799.462891\" xlink:href=\"#DejaVuSans-37\"/>\r\n     </g>\r\n    </g>\r\n    <g id=\"patch_16\">\r\n     <path d=\"M 11.2 53.594687 \r\nL 31.2 53.594687 \r\nL 31.2 46.594687 \r\nL 11.2 46.594687 \r\nz\r\n\" style=\"fill:#ff7f0e;\"/>\r\n    </g>\r\n    <g id=\"text_3\">\r\n     <!-- 304 - 25.33288 % -->\r\n     <g transform=\"translate(39.2 53.594687)scale(0.1 -0.1)\">\r\n      <defs>\r\n       <path d=\"M 40.578125 39.3125 \r\nQ 47.65625 37.796875 51.625 33 \r\nQ 55.609375 28.21875 55.609375 21.1875 \r\nQ 55.609375 10.40625 48.1875 4.484375 \r\nQ 40.765625 -1.421875 27.09375 -1.421875 \r\nQ 22.515625 -1.421875 17.65625 -0.515625 \r\nQ 12.796875 0.390625 7.625 2.203125 \r\nL 7.625 11.71875 \r\nQ 11.71875 9.328125 16.59375 8.109375 \r\nQ 21.484375 6.890625 26.8125 6.890625 \r\nQ 36.078125 6.890625 40.9375 10.546875 \r\nQ 45.796875 14.203125 45.796875 21.1875 \r\nQ 45.796875 27.640625 41.28125 31.265625 \r\nQ 36.765625 34.90625 28.71875 34.90625 \r\nL 20.21875 34.90625 \r\nL 20.21875 43.015625 \r\nL 29.109375 43.015625 \r\nQ 36.375 43.015625 40.234375 45.921875 \r\nQ 44.09375 48.828125 44.09375 54.296875 \r\nQ 44.09375 59.90625 40.109375 62.90625 \r\nQ 36.140625 65.921875 28.71875 65.921875 \r\nQ 24.65625 65.921875 20.015625 65.03125 \r\nQ 15.375 64.15625 9.8125 62.3125 \r\nL 9.8125 71.09375 \r\nQ 15.4375 72.65625 20.34375 73.4375 \r\nQ 25.25 74.21875 29.59375 74.21875 \r\nQ 40.828125 74.21875 47.359375 69.109375 \r\nQ 53.90625 64.015625 53.90625 55.328125 \r\nQ 53.90625 49.265625 50.4375 45.09375 \r\nQ 46.96875 40.921875 40.578125 39.3125 \r\nz\r\n\" id=\"DejaVuSans-51\"/>\r\n       <path d=\"M 37.796875 64.3125 \r\nL 12.890625 25.390625 \r\nL 37.796875 25.390625 \r\nz\r\nM 35.203125 72.90625 \r\nL 47.609375 72.90625 \r\nL 47.609375 25.390625 \r\nL 58.015625 25.390625 \r\nL 58.015625 17.1875 \r\nL 47.609375 17.1875 \r\nL 47.609375 0 \r\nL 37.796875 0 \r\nL 37.796875 17.1875 \r\nL 4.890625 17.1875 \r\nL 4.890625 26.703125 \r\nz\r\n\" id=\"DejaVuSans-52\"/>\r\n      </defs>\r\n      <use xlink:href=\"#DejaVuSans-51\"/>\r\n      <use x=\"63.623047\" xlink:href=\"#DejaVuSans-48\"/>\r\n      <use x=\"127.246094\" xlink:href=\"#DejaVuSans-52\"/>\r\n      <use x=\"190.869141\" xlink:href=\"#DejaVuSans-32\"/>\r\n      <use x=\"222.65625\" xlink:href=\"#DejaVuSans-45\"/>\r\n      <use x=\"258.740234\" xlink:href=\"#DejaVuSans-32\"/>\r\n      <use x=\"290.527344\" xlink:href=\"#DejaVuSans-50\"/>\r\n      <use x=\"354.150391\" xlink:href=\"#DejaVuSans-53\"/>\r\n      <use x=\"417.773438\" xlink:href=\"#DejaVuSans-46\"/>\r\n      <use x=\"449.560547\" xlink:href=\"#DejaVuSans-51\"/>\r\n      <use x=\"513.183594\" xlink:href=\"#DejaVuSans-51\"/>\r\n      <use x=\"576.806641\" xlink:href=\"#DejaVuSans-50\"/>\r\n      <use x=\"640.429688\" xlink:href=\"#DejaVuSans-56\"/>\r\n      <use x=\"704.052734\" xlink:href=\"#DejaVuSans-56\"/>\r\n      <use x=\"767.675781\" xlink:href=\"#DejaVuSans-32\"/>\r\n      <use x=\"799.462891\" xlink:href=\"#DejaVuSans-37\"/>\r\n     </g>\r\n    </g>\r\n    <g id=\"patch_17\">\r\n     <path d=\"M 11.2 68.272812 \r\nL 31.2 68.272812 \r\nL 31.2 61.272812 \r\nL 11.2 61.272812 \r\nz\r\n\" style=\"fill:#2ca02c;\"/>\r\n    </g>\r\n    <g id=\"text_4\">\r\n     <!-- 404 - 1.69029 % -->\r\n     <g transform=\"translate(39.2 68.272812)scale(0.1 -0.1)\">\r\n      <use xlink:href=\"#DejaVuSans-52\"/>\r\n      <use x=\"63.623047\" xlink:href=\"#DejaVuSans-48\"/>\r\n      <use x=\"127.246094\" xlink:href=\"#DejaVuSans-52\"/>\r\n      <use x=\"190.869141\" xlink:href=\"#DejaVuSans-32\"/>\r\n      <use x=\"222.65625\" xlink:href=\"#DejaVuSans-45\"/>\r\n      <use x=\"258.740234\" xlink:href=\"#DejaVuSans-32\"/>\r\n      <use x=\"290.527344\" xlink:href=\"#DejaVuSans-49\"/>\r\n      <use x=\"354.150391\" xlink:href=\"#DejaVuSans-46\"/>\r\n      <use x=\"385.9375\" xlink:href=\"#DejaVuSans-54\"/>\r\n      <use x=\"449.560547\" xlink:href=\"#DejaVuSans-57\"/>\r\n      <use x=\"513.183594\" xlink:href=\"#DejaVuSans-48\"/>\r\n      <use x=\"576.806641\" xlink:href=\"#DejaVuSans-50\"/>\r\n      <use x=\"640.429688\" xlink:href=\"#DejaVuSans-57\"/>\r\n      <use x=\"704.052734\" xlink:href=\"#DejaVuSans-32\"/>\r\n      <use x=\"735.839844\" xlink:href=\"#DejaVuSans-37\"/>\r\n     </g>\r\n    </g>\r\n    <g id=\"patch_18\">\r\n     <path d=\"M 11.2 82.950937 \r\nL 31.2 82.950937 \r\nL 31.2 75.950937 \r\nL 11.2 75.950937 \r\nz\r\n\" style=\"fill:#d62728;\"/>\r\n    </g>\r\n    <g id=\"text_5\">\r\n     <!-- 206 - 0.85914 % -->\r\n     <g transform=\"translate(39.2 82.950937)scale(0.1 -0.1)\">\r\n      <use xlink:href=\"#DejaVuSans-50\"/>\r\n      <use x=\"63.623047\" xlink:href=\"#DejaVuSans-48\"/>\r\n      <use x=\"127.246094\" xlink:href=\"#DejaVuSans-54\"/>\r\n      <use x=\"190.869141\" xlink:href=\"#DejaVuSans-32\"/>\r\n      <use x=\"222.65625\" xlink:href=\"#DejaVuSans-45\"/>\r\n      <use x=\"258.740234\" xlink:href=\"#DejaVuSans-32\"/>\r\n      <use x=\"290.527344\" xlink:href=\"#DejaVuSans-48\"/>\r\n      <use x=\"354.150391\" xlink:href=\"#DejaVuSans-46\"/>\r\n      <use x=\"385.9375\" xlink:href=\"#DejaVuSans-56\"/>\r\n      <use x=\"449.560547\" xlink:href=\"#DejaVuSans-53\"/>\r\n      <use x=\"513.183594\" xlink:href=\"#DejaVuSans-57\"/>\r\n      <use x=\"576.806641\" xlink:href=\"#DejaVuSans-49\"/>\r\n      <use x=\"640.429688\" xlink:href=\"#DejaVuSans-52\"/>\r\n      <use x=\"704.052734\" xlink:href=\"#DejaVuSans-32\"/>\r\n      <use x=\"735.839844\" xlink:href=\"#DejaVuSans-37\"/>\r\n     </g>\r\n    </g>\r\n    <g id=\"patch_19\">\r\n     <path d=\"M 11.2 97.629062 \r\nL 31.2 97.629062 \r\nL 31.2 90.629062 \r\nL 11.2 90.629062 \r\nz\r\n\" style=\"fill:#9467bd;\"/>\r\n    </g>\r\n    <g id=\"text_6\">\r\n     <!-- 302 - 0.08732 % -->\r\n     <g transform=\"translate(39.2 97.629062)scale(0.1 -0.1)\">\r\n      <use xlink:href=\"#DejaVuSans-51\"/>\r\n      <use x=\"63.623047\" xlink:href=\"#DejaVuSans-48\"/>\r\n      <use x=\"127.246094\" xlink:href=\"#DejaVuSans-50\"/>\r\n      <use x=\"190.869141\" xlink:href=\"#DejaVuSans-32\"/>\r\n      <use x=\"222.65625\" xlink:href=\"#DejaVuSans-45\"/>\r\n      <use x=\"258.740234\" xlink:href=\"#DejaVuSans-32\"/>\r\n      <use x=\"290.527344\" xlink:href=\"#DejaVuSans-48\"/>\r\n      <use x=\"354.150391\" xlink:href=\"#DejaVuSans-46\"/>\r\n      <use x=\"385.9375\" xlink:href=\"#DejaVuSans-48\"/>\r\n      <use x=\"449.560547\" xlink:href=\"#DejaVuSans-56\"/>\r\n      <use x=\"513.183594\" xlink:href=\"#DejaVuSans-55\"/>\r\n      <use x=\"576.806641\" xlink:href=\"#DejaVuSans-51\"/>\r\n      <use x=\"640.429688\" xlink:href=\"#DejaVuSans-50\"/>\r\n      <use x=\"704.052734\" xlink:href=\"#DejaVuSans-32\"/>\r\n      <use x=\"735.839844\" xlink:href=\"#DejaVuSans-37\"/>\r\n     </g>\r\n    </g>\r\n    <g id=\"patch_20\">\r\n     <path d=\"M 11.2 112.307187 \r\nL 31.2 112.307187 \r\nL 31.2 105.307187 \r\nL 11.2 105.307187 \r\nz\r\n\" style=\"fill:#8c564b;\"/>\r\n    </g>\r\n    <g id=\"text_7\">\r\n     <!-- 500 - 0.02386 % -->\r\n     <g transform=\"translate(39.2 112.307187)scale(0.1 -0.1)\">\r\n      <use xlink:href=\"#DejaVuSans-53\"/>\r\n      <use x=\"63.623047\" xlink:href=\"#DejaVuSans-48\"/>\r\n      <use x=\"127.246094\" xlink:href=\"#DejaVuSans-48\"/>\r\n      <use x=\"190.869141\" xlink:href=\"#DejaVuSans-32\"/>\r\n      <use x=\"222.65625\" xlink:href=\"#DejaVuSans-45\"/>\r\n      <use x=\"258.740234\" xlink:href=\"#DejaVuSans-32\"/>\r\n      <use x=\"290.527344\" xlink:href=\"#DejaVuSans-48\"/>\r\n      <use x=\"354.150391\" xlink:href=\"#DejaVuSans-46\"/>\r\n      <use x=\"385.9375\" xlink:href=\"#DejaVuSans-48\"/>\r\n      <use x=\"449.560547\" xlink:href=\"#DejaVuSans-50\"/>\r\n      <use x=\"513.183594\" xlink:href=\"#DejaVuSans-51\"/>\r\n      <use x=\"576.806641\" xlink:href=\"#DejaVuSans-56\"/>\r\n      <use x=\"640.429688\" xlink:href=\"#DejaVuSans-54\"/>\r\n      <use x=\"704.052734\" xlink:href=\"#DejaVuSans-32\"/>\r\n      <use x=\"735.839844\" xlink:href=\"#DejaVuSans-37\"/>\r\n     </g>\r\n    </g>\r\n    <g id=\"patch_21\">\r\n     <path d=\"M 11.2 126.985312 \r\nL 31.2 126.985312 \r\nL 31.2 119.985312 \r\nL 11.2 119.985312 \r\nz\r\n\" style=\"fill:#e377c2;\"/>\r\n    </g>\r\n    <g id=\"text_8\">\r\n     <!-- 403 - 0.00830 % -->\r\n     <g transform=\"translate(39.2 126.985312)scale(0.1 -0.1)\">\r\n      <use xlink:href=\"#DejaVuSans-52\"/>\r\n      <use x=\"63.623047\" xlink:href=\"#DejaVuSans-48\"/>\r\n      <use x=\"127.246094\" xlink:href=\"#DejaVuSans-51\"/>\r\n      <use x=\"190.869141\" xlink:href=\"#DejaVuSans-32\"/>\r\n      <use x=\"222.65625\" xlink:href=\"#DejaVuSans-45\"/>\r\n      <use x=\"258.740234\" xlink:href=\"#DejaVuSans-32\"/>\r\n      <use x=\"290.527344\" xlink:href=\"#DejaVuSans-48\"/>\r\n      <use x=\"354.150391\" xlink:href=\"#DejaVuSans-46\"/>\r\n      <use x=\"385.9375\" xlink:href=\"#DejaVuSans-48\"/>\r\n      <use x=\"449.560547\" xlink:href=\"#DejaVuSans-48\"/>\r\n      <use x=\"513.183594\" xlink:href=\"#DejaVuSans-56\"/>\r\n      <use x=\"576.806641\" xlink:href=\"#DejaVuSans-51\"/>\r\n      <use x=\"640.429688\" xlink:href=\"#DejaVuSans-48\"/>\r\n      <use x=\"704.052734\" xlink:href=\"#DejaVuSans-32\"/>\r\n      <use x=\"735.839844\" xlink:href=\"#DejaVuSans-37\"/>\r\n     </g>\r\n    </g>\r\n    <g id=\"patch_22\">\r\n     <path d=\"M 11.2 141.663437 \r\nL 31.2 141.663437 \r\nL 31.2 134.663437 \r\nL 11.2 134.663437 \r\nz\r\n\" style=\"fill:#7f7f7f;\"/>\r\n    </g>\r\n    <g id=\"text_9\">\r\n     <!-- 301 - 0.00513 % -->\r\n     <g transform=\"translate(39.2 141.663437)scale(0.1 -0.1)\">\r\n      <use xlink:href=\"#DejaVuSans-51\"/>\r\n      <use x=\"63.623047\" xlink:href=\"#DejaVuSans-48\"/>\r\n      <use x=\"127.246094\" xlink:href=\"#DejaVuSans-49\"/>\r\n      <use x=\"190.869141\" xlink:href=\"#DejaVuSans-32\"/>\r\n      <use x=\"222.65625\" xlink:href=\"#DejaVuSans-45\"/>\r\n      <use x=\"258.740234\" xlink:href=\"#DejaVuSans-32\"/>\r\n      <use x=\"290.527344\" xlink:href=\"#DejaVuSans-48\"/>\r\n      <use x=\"354.150391\" xlink:href=\"#DejaVuSans-46\"/>\r\n      <use x=\"385.9375\" xlink:href=\"#DejaVuSans-48\"/>\r\n      <use x=\"449.560547\" xlink:href=\"#DejaVuSans-48\"/>\r\n      <use x=\"513.183594\" xlink:href=\"#DejaVuSans-53\"/>\r\n      <use x=\"576.806641\" xlink:href=\"#DejaVuSans-49\"/>\r\n      <use x=\"640.429688\" xlink:href=\"#DejaVuSans-51\"/>\r\n      <use x=\"704.052734\" xlink:href=\"#DejaVuSans-32\"/>\r\n      <use x=\"735.839844\" xlink:href=\"#DejaVuSans-37\"/>\r\n     </g>\r\n    </g>\r\n    <g id=\"patch_23\">\r\n     <path d=\"M 11.2 156.341562 \r\nL 31.2 156.341562 \r\nL 31.2 149.341562 \r\nL 11.2 149.341562 \r\nz\r\n\" style=\"fill:#bcbd22;\"/>\r\n    </g>\r\n    <g id=\"text_10\">\r\n     <!-- 400 - 0.00249 % -->\r\n     <g transform=\"translate(39.2 156.341562)scale(0.1 -0.1)\">\r\n      <use xlink:href=\"#DejaVuSans-52\"/>\r\n      <use x=\"63.623047\" xlink:href=\"#DejaVuSans-48\"/>\r\n      <use x=\"127.246094\" xlink:href=\"#DejaVuSans-48\"/>\r\n      <use x=\"190.869141\" xlink:href=\"#DejaVuSans-32\"/>\r\n      <use x=\"222.65625\" xlink:href=\"#DejaVuSans-45\"/>\r\n      <use x=\"258.740234\" xlink:href=\"#DejaVuSans-32\"/>\r\n      <use x=\"290.527344\" xlink:href=\"#DejaVuSans-48\"/>\r\n      <use x=\"354.150391\" xlink:href=\"#DejaVuSans-46\"/>\r\n      <use x=\"385.9375\" xlink:href=\"#DejaVuSans-48\"/>\r\n      <use x=\"449.560547\" xlink:href=\"#DejaVuSans-48\"/>\r\n      <use x=\"513.183594\" xlink:href=\"#DejaVuSans-50\"/>\r\n      <use x=\"576.806641\" xlink:href=\"#DejaVuSans-52\"/>\r\n      <use x=\"640.429688\" xlink:href=\"#DejaVuSans-57\"/>\r\n      <use x=\"704.052734\" xlink:href=\"#DejaVuSans-32\"/>\r\n      <use x=\"735.839844\" xlink:href=\"#DejaVuSans-37\"/>\r\n     </g>\r\n    </g>\r\n    <g id=\"patch_24\">\r\n     <path d=\"M 11.2 171.019687 \r\nL 31.2 171.019687 \r\nL 31.2 164.019687 \r\nL 11.2 164.019687 \r\nz\r\n\" style=\"fill:#17becf;\"/>\r\n    </g>\r\n    <g id=\"text_11\">\r\n     <!-- 501 - 0.00134 % -->\r\n     <g transform=\"translate(39.2 171.019687)scale(0.1 -0.1)\">\r\n      <use xlink:href=\"#DejaVuSans-53\"/>\r\n      <use x=\"63.623047\" xlink:href=\"#DejaVuSans-48\"/>\r\n      <use x=\"127.246094\" xlink:href=\"#DejaVuSans-49\"/>\r\n      <use x=\"190.869141\" xlink:href=\"#DejaVuSans-32\"/>\r\n      <use x=\"222.65625\" xlink:href=\"#DejaVuSans-45\"/>\r\n      <use x=\"258.740234\" xlink:href=\"#DejaVuSans-32\"/>\r\n      <use x=\"290.527344\" xlink:href=\"#DejaVuSans-48\"/>\r\n      <use x=\"354.150391\" xlink:href=\"#DejaVuSans-46\"/>\r\n      <use x=\"385.9375\" xlink:href=\"#DejaVuSans-48\"/>\r\n      <use x=\"449.560547\" xlink:href=\"#DejaVuSans-48\"/>\r\n      <use x=\"513.183594\" xlink:href=\"#DejaVuSans-49\"/>\r\n      <use x=\"576.806641\" xlink:href=\"#DejaVuSans-51\"/>\r\n      <use x=\"640.429688\" xlink:href=\"#DejaVuSans-52\"/>\r\n      <use x=\"704.052734\" xlink:href=\"#DejaVuSans-32\"/>\r\n      <use x=\"735.839844\" xlink:href=\"#DejaVuSans-37\"/>\r\n     </g>\r\n    </g>\r\n    <g id=\"patch_25\">\r\n     <path d=\"M 11.2 185.697812 \r\nL 31.2 185.697812 \r\nL 31.2 178.697812 \r\nL 11.2 178.697812 \r\nz\r\n\" style=\"fill:#1f77b4;\"/>\r\n    </g>\r\n    <g id=\"text_12\">\r\n     <!-- 406 - 0.00064 % -->\r\n     <g transform=\"translate(39.2 185.697812)scale(0.1 -0.1)\">\r\n      <use xlink:href=\"#DejaVuSans-52\"/>\r\n      <use x=\"63.623047\" xlink:href=\"#DejaVuSans-48\"/>\r\n      <use x=\"127.246094\" xlink:href=\"#DejaVuSans-54\"/>\r\n      <use x=\"190.869141\" xlink:href=\"#DejaVuSans-32\"/>\r\n      <use x=\"222.65625\" xlink:href=\"#DejaVuSans-45\"/>\r\n      <use x=\"258.740234\" xlink:href=\"#DejaVuSans-32\"/>\r\n      <use x=\"290.527344\" xlink:href=\"#DejaVuSans-48\"/>\r\n      <use x=\"354.150391\" xlink:href=\"#DejaVuSans-46\"/>\r\n      <use x=\"385.9375\" xlink:href=\"#DejaVuSans-48\"/>\r\n      <use x=\"449.560547\" xlink:href=\"#DejaVuSans-48\"/>\r\n      <use x=\"513.183594\" xlink:href=\"#DejaVuSans-48\"/>\r\n      <use x=\"576.806641\" xlink:href=\"#DejaVuSans-54\"/>\r\n      <use x=\"640.429688\" xlink:href=\"#DejaVuSans-52\"/>\r\n      <use x=\"704.052734\" xlink:href=\"#DejaVuSans-32\"/>\r\n      <use x=\"735.839844\" xlink:href=\"#DejaVuSans-37\"/>\r\n     </g>\r\n    </g>\r\n    <g id=\"patch_26\">\r\n     <path d=\"M 11.2 200.375937 \r\nL 31.2 200.375937 \r\nL 31.2 193.375937 \r\nL 11.2 193.375937 \r\nz\r\n\" style=\"fill:#ff7f0e;\"/>\r\n    </g>\r\n    <g id=\"text_13\">\r\n     <!-- 416 - 0.00004 % -->\r\n     <g transform=\"translate(39.2 200.375937)scale(0.1 -0.1)\">\r\n      <use xlink:href=\"#DejaVuSans-52\"/>\r\n      <use x=\"63.623047\" xlink:href=\"#DejaVuSans-49\"/>\r\n      <use x=\"127.246094\" xlink:href=\"#DejaVuSans-54\"/>\r\n      <use x=\"190.869141\" xlink:href=\"#DejaVuSans-32\"/>\r\n      <use x=\"222.65625\" xlink:href=\"#DejaVuSans-45\"/>\r\n      <use x=\"258.740234\" xlink:href=\"#DejaVuSans-32\"/>\r\n      <use x=\"290.527344\" xlink:href=\"#DejaVuSans-48\"/>\r\n      <use x=\"354.150391\" xlink:href=\"#DejaVuSans-46\"/>\r\n      <use x=\"385.9375\" xlink:href=\"#DejaVuSans-48\"/>\r\n      <use x=\"449.560547\" xlink:href=\"#DejaVuSans-48\"/>\r\n      <use x=\"513.183594\" xlink:href=\"#DejaVuSans-48\"/>\r\n      <use x=\"576.806641\" xlink:href=\"#DejaVuSans-48\"/>\r\n      <use x=\"640.429688\" xlink:href=\"#DejaVuSans-52\"/>\r\n      <use x=\"704.052734\" xlink:href=\"#DejaVuSans-32\"/>\r\n      <use x=\"735.839844\" xlink:href=\"#DejaVuSans-37\"/>\r\n     </g>\r\n    </g>\r\n   </g>\r\n  </g>\r\n </g>\r\n</svg>\r\n",
      "image/png": "[encoded data removed]"
     },
     "metadata": {}
    }
   ],
   "source": [
    "# Plot pie chart with lengend to avoid overlapping of labels\n",
    "x = np.char.array(label_pie)\n",
    "y = np.array(data_pie)\n",
    "percent = 100.*y/y.sum()\n",
    "\n",
    "plt.rcParams[\"figure.figsize\"] = (15,10)\n",
    "\n",
    "patches, texts = plt.pie(y, startangle=90, radius=1.2)  # Set the legend with percentage presented because the chart is overloop\n",
    "labels = ['{0} - {1:1.5f} %'.format(i,j) for i,j in zip(x, percent)]\n",
    "\n",
    "sort_legend = True\n",
    "if sort_legend:\n",
    "    patches, labels, dummy =  zip(*sorted(zip(patches, labels, y),\n",
    "                                          key=lambda x: x[2],\n",
    "                                          reverse=True))\n",
    "\n",
    "plt.legend(patches, labels, bbox_to_anchor=(-0.1, 1.),\n",
    "           fontsize=10)\n",
    "\n",
    "plt.title(\"Server Status\")\n",
    "plt.show()"
   ]
  },
  {
   "cell_type": "markdown",
   "metadata": {
    "id": "bxT49TgGpwrw"
   },
   "source": [
    "### 2.3 Geographic Analysis"
   ]
  },
  {
   "cell_type": "markdown",
   "metadata": {
    "id": "MpEve4Zgvtc9"
   },
   "source": [
    "Clinet's IP addresses can reflect geographic information. Since different IP are from different countries even citys, we can find out the demographics information from them. You may use **DbIpCity** from **ip2geotools** to find the geolocation information from given IPs.\n",
    "\n",
    "**Notes:**\n",
    "There are some attributes in ip2geotools can help: <br>\n",
    "*ip_address*: IP address <br>\n",
    "*city*: city where IP address is located <br>\n",
    "*region*: region where IP address is located <br>\n",
    "*country*: country where IP address is located (two letters country code) <br>"
   ]
  },
  {
   "cell_type": "markdown",
   "metadata": {
    "id": "AvUQUKGCqLhJ"
   },
   "source": [
    "#### 2.3.A Requests by Country\n",
    "<div class=\"alert alert-block alert-warning\">\n",
    "\n",
    "**Code**: \n",
    "    Build your code with the following requirements <br>\n",
    "    1. Select all requests at 01 Jan 2007 from 20:00:00 pm to 20:59:59. <br>\n",
    "    2. Discover on the demographics by analysing requests from country level. <br>\n",
    "    3. Plot countries of all requests in pie chart. <br>\n",
    "    4. List top 3 with the numbers of requests. <br>\n",
    "    *Keep the outputs for code in your notebook.\n",
    "</div> \n",
    "\n",
    "<div class=\"alert alert-block alert-warning\">\n",
    "    \n",
    "**Report**: \n",
    "    **Part I 2.3.A** Please include your results for this coding task into your report Part I section '2.3.A', <br>\n",
    "    1. How many requests raised in the period of time? <br>\n",
    "    2. How many countries are invlolved? <br>\n",
    "    3. Figure 'Request by Country' in pie chart. <br>\n",
    "    4. top 3 countries with request numbers. <br>\n",
    "</div>"
   ]
  },
  {
   "cell_type": "code",
   "execution_count": null,
   "metadata": {
    "id": "g1UvjRlOVjy0"
   },
   "outputs": [],
   "source": [
    "!pip install ip2geotools"
   ]
  },
  {
   "cell_type": "code",
   "execution_count": 31,
   "metadata": {
    "id": "jSdycFyYzybd"
   },
   "outputs": [
    {
     "output_type": "execute_result",
     "data": {
      "text/plain": [
       "             date      time s-sitename       s-ip cs-method  \\\n",
       "28823  2007-01-01  20:00:00     W3SVC1  127.0.0.1       GET   \n",
       "28824  2007-01-01  20:00:00     W3SVC1  127.0.0.1       GET   \n",
       "28825  2007-01-01  20:01:12     W3SVC1  127.0.0.1       GET   \n",
       "28826  2007-01-01  20:01:48     W3SVC1  127.0.0.1       GET   \n",
       "28827  2007-01-01  20:01:57     W3SVC1  127.0.0.1       GET   \n",
       "...           ...       ...        ...        ...       ...   \n",
       "29032  2007-01-01  20:52:46     W3SVC1  127.0.0.1       GET   \n",
       "29033  2007-01-01  20:52:48     W3SVC1  127.0.0.1       GET   \n",
       "29034  2007-01-01  20:59:04     W3SVC1  127.0.0.1       GET   \n",
       "29035  2007-01-01  20:59:40     W3SVC1  127.0.0.1       GET   \n",
       "29036  2007-01-01  20:59:41     W3SVC1  127.0.0.1       GET   \n",
       "\n",
       "                                            cs-uri-stem s-port  \\\n",
       "28823                 /Tulip/home/en-us/home_index.aspx     80   \n",
       "28824                   /Tulip/common/common_style.aspx     80   \n",
       "28825  /Tulip/aboutus/en-us/photo/HarbourViewRoom02.jpg     80   \n",
       "28826        /Tulip/aboutus/en-us/photo/SkyLounge01.jpg     80   \n",
       "28827     /Tulip/aboutus/en-us/photo/SuperiorRoom01.jpg     80   \n",
       "...                                                 ...    ...   \n",
       "29032                                       /robots.txt     80   \n",
       "29033        /Tulip/dining/zh-hk/dining_cafeserena.aspx     80   \n",
       "29034         /Tulip/whatsnew/whatsnew_roomsdetail.aspx     80   \n",
       "29035                                       /robots.txt     80   \n",
       "29036          /Tulip/whatsnew/whatsnew_fooddetail.aspx     80   \n",
       "\n",
       "                  c-ip                                     cs(User-Agent)  \\\n",
       "28823    210.184.71.81  Mozilla/4.0+(compatible;+MSIE+6.0;+Windows+NT+...   \n",
       "28824    210.184.71.81  Mozilla/4.0+(compatible;+MSIE+6.0;+Windows+NT+...   \n",
       "28825   62.211.200.146  Mozilla/5.0+(X11;+U;+Linux+i686;+en-US;+rv:1.8...   \n",
       "28826   62.211.200.146  Mozilla/5.0+(X11;+U;+Linux+i686;+en-US;+rv:1.8...   \n",
       "28827   62.211.200.146  Mozilla/5.0+(X11;+U;+Linux+i686;+en-US;+rv:1.8...   \n",
       "...                ...                                                ...   \n",
       "29032      74.6.85.161  Mozilla/5.0+(compatible;+Yahoo!+Slurp;+http://...   \n",
       "29033      74.6.85.206  Mozilla/5.0+(compatible;+Yahoo!+Slurp;+http://...   \n",
       "29034  202.160.178.181  Mozilla/5.0+(compatible;+Yahoo!+Slurp+China;+h...   \n",
       "29035       74.6.75.47  Mozilla/5.0+(compatible;+Yahoo!+Slurp;+http://...   \n",
       "29036       74.6.73.79  Mozilla/5.0+(compatible;+Yahoo!+Slurp;+http://...   \n",
       "\n",
       "      sc-status sc-substatus sc-win32-status  \n",
       "28823       200            0               0  \n",
       "28824       200            0               0  \n",
       "28825       200            0               0  \n",
       "28826       200            0               0  \n",
       "28827       200            0               0  \n",
       "...         ...          ...             ...  \n",
       "29032       404            0               2  \n",
       "29033       200            0               0  \n",
       "29034       200            0               0  \n",
       "29035       404            0               2  \n",
       "29036       200            0               0  \n",
       "\n",
       "[214 rows x 12 columns]"
      ],
      "text/html": "<div>\n<style scoped>\n    .dataframe tbody tr th:only-of-type {\n        vertical-align: middle;\n    }\n\n    .dataframe tbody tr th {\n        vertical-align: top;\n    }\n\n    .dataframe thead th {\n        text-align: right;\n    }\n</style>\n<table border=\"1\" class=\"dataframe\">\n  <thead>\n    <tr style=\"text-align: right;\">\n      <th></th>\n      <th>date</th>\n      <th>time</th>\n      <th>s-sitename</th>\n      <th>s-ip</th>\n      <th>cs-method</th>\n      <th>cs-uri-stem</th>\n      <th>s-port</th>\n      <th>c-ip</th>\n      <th>cs(User-Agent)</th>\n      <th>sc-status</th>\n      <th>sc-substatus</th>\n      <th>sc-win32-status</th>\n    </tr>\n  </thead>\n  <tbody>\n    <tr>\n      <th>28823</th>\n      <td>2007-01-01</td>\n      <td>20:00:00</td>\n      <td>W3SVC1</td>\n      <td>127.0.0.1</td>\n      <td>GET</td>\n      <td>/Tulip/home/en-us/home_index.aspx</td>\n      <td>80</td>\n      <td>210.184.71.81</td>\n      <td>Mozilla/4.0+(compatible;+MSIE+6.0;+Windows+NT+...</td>\n      <td>200</td>\n      <td>0</td>\n      <td>0</td>\n    </tr>\n    <tr>\n      <th>28824</th>\n      <td>2007-01-01</td>\n      <td>20:00:00</td>\n      <td>W3SVC1</td>\n      <td>127.0.0.1</td>\n      <td>GET</td>\n      <td>/Tulip/common/common_style.aspx</td>\n      <td>80</td>\n      <td>210.184.71.81</td>\n      <td>Mozilla/4.0+(compatible;+MSIE+6.0;+Windows+NT+...</td>\n      <td>200</td>\n      <td>0</td>\n      <td>0</td>\n    </tr>\n    <tr>\n      <th>28825</th>\n      <td>2007-01-01</td>\n      <td>20:01:12</td>\n      <td>W3SVC1</td>\n      <td>127.0.0.1</td>\n      <td>GET</td>\n      <td>/Tulip/aboutus/en-us/photo/HarbourViewRoom02.jpg</td>\n      <td>80</td>\n      <td>62.211.200.146</td>\n      <td>Mozilla/5.0+(X11;+U;+Linux+i686;+en-US;+rv:1.8...</td>\n      <td>200</td>\n      <td>0</td>\n      <td>0</td>\n    </tr>\n    <tr>\n      <th>28826</th>\n      <td>2007-01-01</td>\n      <td>20:01:48</td>\n      <td>W3SVC1</td>\n      <td>127.0.0.1</td>\n      <td>GET</td>\n      <td>/Tulip/aboutus/en-us/photo/SkyLounge01.jpg</td>\n      <td>80</td>\n      <td>62.211.200.146</td>\n      <td>Mozilla/5.0+(X11;+U;+Linux+i686;+en-US;+rv:1.8...</td>\n      <td>200</td>\n      <td>0</td>\n      <td>0</td>\n    </tr>\n    <tr>\n      <th>28827</th>\n      <td>2007-01-01</td>\n      <td>20:01:57</td>\n      <td>W3SVC1</td>\n      <td>127.0.0.1</td>\n      <td>GET</td>\n      <td>/Tulip/aboutus/en-us/photo/SuperiorRoom01.jpg</td>\n      <td>80</td>\n      <td>62.211.200.146</td>\n      <td>Mozilla/5.0+(X11;+U;+Linux+i686;+en-US;+rv:1.8...</td>\n      <td>200</td>\n      <td>0</td>\n      <td>0</td>\n    </tr>\n    <tr>\n      <th>...</th>\n      <td>...</td>\n      <td>...</td>\n      <td>...</td>\n      <td>...</td>\n      <td>...</td>\n      <td>...</td>\n      <td>...</td>\n      <td>...</td>\n      <td>...</td>\n      <td>...</td>\n      <td>...</td>\n      <td>...</td>\n    </tr>\n    <tr>\n      <th>29032</th>\n      <td>2007-01-01</td>\n      <td>20:52:46</td>\n      <td>W3SVC1</td>\n      <td>127.0.0.1</td>\n      <td>GET</td>\n      <td>/robots.txt</td>\n      <td>80</td>\n      <td>74.6.85.161</td>\n      <td>Mozilla/5.0+(compatible;+Yahoo!+Slurp;+http://...</td>\n      <td>404</td>\n      <td>0</td>\n      <td>2</td>\n    </tr>\n    <tr>\n      <th>29033</th>\n      <td>2007-01-01</td>\n      <td>20:52:48</td>\n      <td>W3SVC1</td>\n      <td>127.0.0.1</td>\n      <td>GET</td>\n      <td>/Tulip/dining/zh-hk/dining_cafeserena.aspx</td>\n      <td>80</td>\n      <td>74.6.85.206</td>\n      <td>Mozilla/5.0+(compatible;+Yahoo!+Slurp;+http://...</td>\n      <td>200</td>\n      <td>0</td>\n      <td>0</td>\n    </tr>\n    <tr>\n      <th>29034</th>\n      <td>2007-01-01</td>\n      <td>20:59:04</td>\n      <td>W3SVC1</td>\n      <td>127.0.0.1</td>\n      <td>GET</td>\n      <td>/Tulip/whatsnew/whatsnew_roomsdetail.aspx</td>\n      <td>80</td>\n      <td>202.160.178.181</td>\n      <td>Mozilla/5.0+(compatible;+Yahoo!+Slurp+China;+h...</td>\n      <td>200</td>\n      <td>0</td>\n      <td>0</td>\n    </tr>\n    <tr>\n      <th>29035</th>\n      <td>2007-01-01</td>\n      <td>20:59:40</td>\n      <td>W3SVC1</td>\n      <td>127.0.0.1</td>\n      <td>GET</td>\n      <td>/robots.txt</td>\n      <td>80</td>\n      <td>74.6.75.47</td>\n      <td>Mozilla/5.0+(compatible;+Yahoo!+Slurp;+http://...</td>\n      <td>404</td>\n      <td>0</td>\n      <td>2</td>\n    </tr>\n    <tr>\n      <th>29036</th>\n      <td>2007-01-01</td>\n      <td>20:59:41</td>\n      <td>W3SVC1</td>\n      <td>127.0.0.1</td>\n      <td>GET</td>\n      <td>/Tulip/whatsnew/whatsnew_fooddetail.aspx</td>\n      <td>80</td>\n      <td>74.6.73.79</td>\n      <td>Mozilla/5.0+(compatible;+Yahoo!+Slurp;+http://...</td>\n      <td>200</td>\n      <td>0</td>\n      <td>0</td>\n    </tr>\n  </tbody>\n</table>\n<p>214 rows × 12 columns</p>\n</div>"
     },
     "metadata": {},
     "execution_count": 31
    }
   ],
   "source": [
    "# Import package\n",
    "from ip2geotools.databases.noncommercial import DbIpCity\n",
    "\n",
    "# Filter requests at 01 Jan 2007 from 20:00:00 pm to 20:59:59\n",
    "ip_data = df_ht[(df_ht.date == \"2007-01-01\")&((df_ht.time > \"19:59:59\") & (df_ht.time < \"21:00:00\"))]\n",
    "ip_data"
   ]
  },
  {
   "cell_type": "code",
   "execution_count": 33,
   "metadata": {},
   "outputs": [],
   "source": [
    "# Get the client_ip cloumn\n",
    "client_ip = ip_data[\"c-ip\"].to_list()\n",
    "\n",
    "# Using for loop to get the region of the ip in a list\n",
    "country_list = list()\n",
    "for ip_address in client_ip:\n",
    "    country_list.append(DbIpCity.get(ip_address, api_key = 'free').country)\n",
    "\n"
   ]
  },
  {
   "cell_type": "code",
   "execution_count": 34,
   "metadata": {},
   "outputs": [
    {
     "output_type": "execute_result",
     "data": {
      "text/plain": [
       "214"
      ]
     },
     "metadata": {},
     "execution_count": 34
    }
   ],
   "source": [
    "len(country_list)"
   ]
  },
  {
   "cell_type": "code",
   "execution_count": 35,
   "metadata": {},
   "outputs": [
    {
     "output_type": "execute_result",
     "data": {
      "text/plain": [
       "HK    169\n",
       "CN     25\n",
       "US     16\n",
       "IT      3\n",
       "AU      1\n",
       "Name: Regions, dtype: int64"
      ]
     },
     "metadata": {},
     "execution_count": 35
    }
   ],
   "source": [
    "# Count the value of each country/region\n",
    "country_data = pd.DataFrame(country_list, columns = [\"Regions\"])\n",
    "counrty_counts = country_data[\"Regions\"].value_counts()\n",
    "counrty_counts"
   ]
  },
  {
   "cell_type": "code",
   "execution_count": 36,
   "metadata": {},
   "outputs": [
    {
     "output_type": "display_data",
     "data": {
      "text/plain": "<Figure size 1080x720 with 1 Axes>",
      "image/svg+xml": "<?xml version=\"1.0\" encoding=\"utf-8\" standalone=\"no\"?>\r\n<!DOCTYPE svg PUBLIC \"-//W3C//DTD SVG 1.1//EN\"\r\n  \"http://www.w3.org/Graphics/SVG/1.1/DTD/svg11.dtd\">\r\n<!-- Created with matplotlib (https://matplotlib.org/) -->\r\n<svg height=\"573.118125pt\" version=\"1.1\" viewBox=\"0 0 708.335 573.118125\" width=\"708.335pt\" xmlns=\"http://www.w3.org/2000/svg\" xmlns:xlink=\"http://www.w3.org/1999/xlink\">\r\n <metadata>\r\n  <rdf:RDF xmlns:cc=\"http://creativecommons.org/ns#\" xmlns:dc=\"http://purl.org/dc/elements/1.1/\" xmlns:rdf=\"http://www.w3.org/1999/02/22-rdf-syntax-ns#\">\r\n   <cc:Work>\r\n    <dc:type rdf:resource=\"http://purl.org/dc/dcmitype/StillImage\"/>\r\n    <dc:date>2021-04-15T23:38:49.155516</dc:date>\r\n    <dc:format>image/svg+xml</dc:format>\r\n    <dc:creator>\r\n     <cc:Agent>\r\n      <dc:title>Matplotlib v3.3.4, https://matplotlib.org/</dc:title>\r\n     </cc:Agent>\r\n    </dc:creator>\r\n   </cc:Work>\r\n  </rdf:RDF>\r\n </metadata>\r\n <defs>\r\n  <style type=\"text/css\">*{stroke-linecap:butt;stroke-linejoin:round;}</style>\r\n </defs>\r\n <g id=\"figure_1\">\r\n  <g id=\"patch_1\">\r\n   <path d=\"M 0 573.118125 \r\nL 708.335 573.118125 \r\nL 708.335 0 \r\nL 0 0 \r\nz\r\n\" style=\"fill:none;\"/>\r\n  </g>\r\n  <g id=\"axes_1\">\r\n   <g id=\"patch_2\">\r\n    <path d=\"M 429.335 33.190125 \r\nC 402.307883 33.190125 375.444124 37.389358 349.706301 45.637358 \r\nC 323.968478 53.885358 299.66772 66.08242 277.67477 81.7915 \r\nC 255.68182 97.500579 236.262536 116.53178 220.11275 138.203176 \r\nC 203.962963 159.874573 191.277898 183.924194 182.512085 209.490295 \r\nC 173.746271 235.056397 169.005673 261.829926 168.460156 288.851537 \r\nC 167.914639 315.873148 171.570797 342.816192 179.297623 368.71525 \r\nC 187.024448 394.614308 198.728537 419.156302 213.99051 441.461844 \r\nC 229.252482 463.767387 247.887845 483.566841 269.228858 500.150755 \r\nC 290.569871 516.734668 314.358557 529.902568 339.74252 539.182624 \r\nC 365.126484 548.46268 391.798874 553.742711 418.80397 554.833523 \r\nC 445.809065 555.924335 472.820417 552.812742 498.870157 545.610238 \r\nC 524.919898 538.407735 549.693128 527.201388 572.302175 512.392741 \r\nC 594.911222 497.584095 615.082781 479.352161 632.094064 458.350226 \r\nC 649.105347 437.348292 662.750717 413.830234 672.541234 388.638751 \r\nC 682.331751 363.447268 688.149064 336.886884 689.784726 309.909307 \r\nC 691.420388 282.93173 688.854628 255.863076 682.179382 229.673267 \r\nL 429.335 294.118125 \r\nL 429.335 33.190125 \r\nz\r\n\" style=\"fill:#1f77b4;\"/>\r\n   </g>\r\n   <g id=\"patch_3\">\r\n    <path d=\"M 682.179382 229.673267 \r\nC 674.273388 198.654716 660.726505 169.354157 642.216788 143.238154 \r\nC 623.70707 117.122152 600.548577 94.633821 573.900447 76.89876 \r\nL 429.335 294.118125 \r\nL 682.179382 229.673267 \r\nz\r\n\" style=\"fill:#ff7f0e;\"/>\r\n   </g>\r\n   <g id=\"patch_4\">\r\n    <path d=\"M 573.900447 76.89876 \r\nC 556.873702 65.566994 538.573493 56.276388 519.377025 49.218442 \r\nC 500.180558 42.160495 480.220637 37.384037 459.908678 34.987518 \r\nL 429.335 294.118125 \r\nL 573.900447 76.89876 \r\nz\r\n\" style=\"fill:#2ca02c;\"/>\r\n   </g>\r\n   <g id=\"patch_5\">\r\n    <path d=\"M 459.908678 34.987518 \r\nC 456.104399 34.538668 452.290697 34.173648 448.470345 33.892723 \r\nC 444.649994 33.611798 440.823919 33.415037 436.994904 33.302583 \r\nL 429.335 294.118125 \r\nL 459.908678 34.987518 \r\nz\r\n\" style=\"fill:#d62728;\"/>\r\n   </g>\r\n   <g id=\"patch_6\">\r\n    <path d=\"M 436.994904 33.302583 \r\nC 435.718611 33.265099 434.442061 33.236985 433.165356 33.218241 \r\nC 431.88865 33.199497 430.611825 33.190125 429.334982 33.190125 \r\nL 429.335 294.118125 \r\nL 436.994904 33.302583 \r\nz\r\n\" style=\"fill:#9467bd;\"/>\r\n   </g>\r\n   <g id=\"matplotlib.axis_1\"/>\r\n   <g id=\"matplotlib.axis_2\"/>\r\n   <g id=\"text_1\">\r\n    <!-- Request by Country -->\r\n    <g transform=\"translate(369.952812 16.318125)scale(0.12 -0.12)\">\r\n     <defs>\r\n      <path d=\"M 44.390625 34.1875 \r\nQ 47.5625 33.109375 50.5625 29.59375 \r\nQ 53.5625 26.078125 56.59375 19.921875 \r\nL 66.609375 0 \r\nL 56 0 \r\nL 46.6875 18.703125 \r\nQ 43.0625 26.03125 39.671875 28.421875 \r\nQ 36.28125 30.8125 30.421875 30.8125 \r\nL 19.671875 30.8125 \r\nL 19.671875 0 \r\nL 9.8125 0 \r\nL 9.8125 72.90625 \r\nL 32.078125 72.90625 \r\nQ 44.578125 72.90625 50.734375 67.671875 \r\nQ 56.890625 62.453125 56.890625 51.90625 \r\nQ 56.890625 45.015625 53.6875 40.46875 \r\nQ 50.484375 35.9375 44.390625 34.1875 \r\nz\r\nM 19.671875 64.796875 \r\nL 19.671875 38.921875 \r\nL 32.078125 38.921875 \r\nQ 39.203125 38.921875 42.84375 42.21875 \r\nQ 46.484375 45.515625 46.484375 51.90625 \r\nQ 46.484375 58.296875 42.84375 61.546875 \r\nQ 39.203125 64.796875 32.078125 64.796875 \r\nz\r\n\" id=\"DejaVuSans-82\"/>\r\n      <path d=\"M 56.203125 29.59375 \r\nL 56.203125 25.203125 \r\nL 14.890625 25.203125 \r\nQ 15.484375 15.921875 20.484375 11.0625 \r\nQ 25.484375 6.203125 34.421875 6.203125 \r\nQ 39.59375 6.203125 44.453125 7.46875 \r\nQ 49.3125 8.734375 54.109375 11.28125 \r\nL 54.109375 2.78125 \r\nQ 49.265625 0.734375 44.1875 -0.34375 \r\nQ 39.109375 -1.421875 33.890625 -1.421875 \r\nQ 20.796875 -1.421875 13.15625 6.1875 \r\nQ 5.515625 13.8125 5.515625 26.8125 \r\nQ 5.515625 40.234375 12.765625 48.109375 \r\nQ 20.015625 56 32.328125 56 \r\nQ 43.359375 56 49.78125 48.890625 \r\nQ 56.203125 41.796875 56.203125 29.59375 \r\nz\r\nM 47.21875 32.234375 \r\nQ 47.125 39.59375 43.09375 43.984375 \r\nQ 39.0625 48.390625 32.421875 48.390625 \r\nQ 24.90625 48.390625 20.390625 44.140625 \r\nQ 15.875 39.890625 15.1875 32.171875 \r\nz\r\n\" id=\"DejaVuSans-101\"/>\r\n      <path d=\"M 14.796875 27.296875 \r\nQ 14.796875 17.390625 18.875 11.75 \r\nQ 22.953125 6.109375 30.078125 6.109375 \r\nQ 37.203125 6.109375 41.296875 11.75 \r\nQ 45.40625 17.390625 45.40625 27.296875 \r\nQ 45.40625 37.203125 41.296875 42.84375 \r\nQ 37.203125 48.484375 30.078125 48.484375 \r\nQ 22.953125 48.484375 18.875 42.84375 \r\nQ 14.796875 37.203125 14.796875 27.296875 \r\nz\r\nM 45.40625 8.203125 \r\nQ 42.578125 3.328125 38.25 0.953125 \r\nQ 33.9375 -1.421875 27.875 -1.421875 \r\nQ 17.96875 -1.421875 11.734375 6.484375 \r\nQ 5.515625 14.40625 5.515625 27.296875 \r\nQ 5.515625 40.1875 11.734375 48.09375 \r\nQ 17.96875 56 27.875 56 \r\nQ 33.9375 56 38.25 53.625 \r\nQ 42.578125 51.265625 45.40625 46.390625 \r\nL 45.40625 54.6875 \r\nL 54.390625 54.6875 \r\nL 54.390625 -20.796875 \r\nL 45.40625 -20.796875 \r\nz\r\n\" id=\"DejaVuSans-113\"/>\r\n      <path d=\"M 8.5 21.578125 \r\nL 8.5 54.6875 \r\nL 17.484375 54.6875 \r\nL 17.484375 21.921875 \r\nQ 17.484375 14.15625 20.5 10.265625 \r\nQ 23.53125 6.390625 29.59375 6.390625 \r\nQ 36.859375 6.390625 41.078125 11.03125 \r\nQ 45.3125 15.671875 45.3125 23.6875 \r\nL 45.3125 54.6875 \r\nL 54.296875 54.6875 \r\nL 54.296875 0 \r\nL 45.3125 0 \r\nL 45.3125 8.40625 \r\nQ 42.046875 3.421875 37.71875 1 \r\nQ 33.40625 -1.421875 27.6875 -1.421875 \r\nQ 18.265625 -1.421875 13.375 4.4375 \r\nQ 8.5 10.296875 8.5 21.578125 \r\nz\r\nM 31.109375 56 \r\nz\r\n\" id=\"DejaVuSans-117\"/>\r\n      <path d=\"M 44.28125 53.078125 \r\nL 44.28125 44.578125 \r\nQ 40.484375 46.53125 36.375 47.5 \r\nQ 32.28125 48.484375 27.875 48.484375 \r\nQ 21.1875 48.484375 17.84375 46.4375 \r\nQ 14.5 44.390625 14.5 40.28125 \r\nQ 14.5 37.15625 16.890625 35.375 \r\nQ 19.28125 33.59375 26.515625 31.984375 \r\nL 29.59375 31.296875 \r\nQ 39.15625 29.25 43.1875 25.515625 \r\nQ 47.21875 21.78125 47.21875 15.09375 \r\nQ 47.21875 7.46875 41.1875 3.015625 \r\nQ 35.15625 -1.421875 24.609375 -1.421875 \r\nQ 20.21875 -1.421875 15.453125 -0.5625 \r\nQ 10.6875 0.296875 5.421875 2 \r\nL 5.421875 11.28125 \r\nQ 10.40625 8.6875 15.234375 7.390625 \r\nQ 20.0625 6.109375 24.8125 6.109375 \r\nQ 31.15625 6.109375 34.5625 8.28125 \r\nQ 37.984375 10.453125 37.984375 14.40625 \r\nQ 37.984375 18.0625 35.515625 20.015625 \r\nQ 33.0625 21.96875 24.703125 23.78125 \r\nL 21.578125 24.515625 \r\nQ 13.234375 26.265625 9.515625 29.90625 \r\nQ 5.8125 33.546875 5.8125 39.890625 \r\nQ 5.8125 47.609375 11.28125 51.796875 \r\nQ 16.75 56 26.8125 56 \r\nQ 31.78125 56 36.171875 55.265625 \r\nQ 40.578125 54.546875 44.28125 53.078125 \r\nz\r\n\" id=\"DejaVuSans-115\"/>\r\n      <path d=\"M 18.3125 70.21875 \r\nL 18.3125 54.6875 \r\nL 36.8125 54.6875 \r\nL 36.8125 47.703125 \r\nL 18.3125 47.703125 \r\nL 18.3125 18.015625 \r\nQ 18.3125 11.328125 20.140625 9.421875 \r\nQ 21.96875 7.515625 27.59375 7.515625 \r\nL 36.8125 7.515625 \r\nL 36.8125 0 \r\nL 27.59375 0 \r\nQ 17.1875 0 13.234375 3.875 \r\nQ 9.28125 7.765625 9.28125 18.015625 \r\nL 9.28125 47.703125 \r\nL 2.6875 47.703125 \r\nL 2.6875 54.6875 \r\nL 9.28125 54.6875 \r\nL 9.28125 70.21875 \r\nz\r\n\" id=\"DejaVuSans-116\"/>\r\n      <path id=\"DejaVuSans-32\"/>\r\n      <path d=\"M 48.6875 27.296875 \r\nQ 48.6875 37.203125 44.609375 42.84375 \r\nQ 40.53125 48.484375 33.40625 48.484375 \r\nQ 26.265625 48.484375 22.1875 42.84375 \r\nQ 18.109375 37.203125 18.109375 27.296875 \r\nQ 18.109375 17.390625 22.1875 11.75 \r\nQ 26.265625 6.109375 33.40625 6.109375 \r\nQ 40.53125 6.109375 44.609375 11.75 \r\nQ 48.6875 17.390625 48.6875 27.296875 \r\nz\r\nM 18.109375 46.390625 \r\nQ 20.953125 51.265625 25.265625 53.625 \r\nQ 29.59375 56 35.59375 56 \r\nQ 45.5625 56 51.78125 48.09375 \r\nQ 58.015625 40.1875 58.015625 27.296875 \r\nQ 58.015625 14.40625 51.78125 6.484375 \r\nQ 45.5625 -1.421875 35.59375 -1.421875 \r\nQ 29.59375 -1.421875 25.265625 0.953125 \r\nQ 20.953125 3.328125 18.109375 8.203125 \r\nL 18.109375 0 \r\nL 9.078125 0 \r\nL 9.078125 75.984375 \r\nL 18.109375 75.984375 \r\nz\r\n\" id=\"DejaVuSans-98\"/>\r\n      <path d=\"M 32.171875 -5.078125 \r\nQ 28.375 -14.84375 24.75 -17.8125 \r\nQ 21.140625 -20.796875 15.09375 -20.796875 \r\nL 7.90625 -20.796875 \r\nL 7.90625 -13.28125 \r\nL 13.1875 -13.28125 \r\nQ 16.890625 -13.28125 18.9375 -11.515625 \r\nQ 21 -9.765625 23.484375 -3.21875 \r\nL 25.09375 0.875 \r\nL 2.984375 54.6875 \r\nL 12.5 54.6875 \r\nL 29.59375 11.921875 \r\nL 46.6875 54.6875 \r\nL 56.203125 54.6875 \r\nz\r\n\" id=\"DejaVuSans-121\"/>\r\n      <path d=\"M 64.40625 67.28125 \r\nL 64.40625 56.890625 \r\nQ 59.421875 61.53125 53.78125 63.8125 \r\nQ 48.140625 66.109375 41.796875 66.109375 \r\nQ 29.296875 66.109375 22.65625 58.46875 \r\nQ 16.015625 50.828125 16.015625 36.375 \r\nQ 16.015625 21.96875 22.65625 14.328125 \r\nQ 29.296875 6.6875 41.796875 6.6875 \r\nQ 48.140625 6.6875 53.78125 8.984375 \r\nQ 59.421875 11.28125 64.40625 15.921875 \r\nL 64.40625 5.609375 \r\nQ 59.234375 2.09375 53.4375 0.328125 \r\nQ 47.65625 -1.421875 41.21875 -1.421875 \r\nQ 24.65625 -1.421875 15.125 8.703125 \r\nQ 5.609375 18.84375 5.609375 36.375 \r\nQ 5.609375 53.953125 15.125 64.078125 \r\nQ 24.65625 74.21875 41.21875 74.21875 \r\nQ 47.75 74.21875 53.53125 72.484375 \r\nQ 59.328125 70.75 64.40625 67.28125 \r\nz\r\n\" id=\"DejaVuSans-67\"/>\r\n      <path d=\"M 30.609375 48.390625 \r\nQ 23.390625 48.390625 19.1875 42.75 \r\nQ 14.984375 37.109375 14.984375 27.296875 \r\nQ 14.984375 17.484375 19.15625 11.84375 \r\nQ 23.34375 6.203125 30.609375 6.203125 \r\nQ 37.796875 6.203125 41.984375 11.859375 \r\nQ 46.1875 17.53125 46.1875 27.296875 \r\nQ 46.1875 37.015625 41.984375 42.703125 \r\nQ 37.796875 48.390625 30.609375 48.390625 \r\nz\r\nM 30.609375 56 \r\nQ 42.328125 56 49.015625 48.375 \r\nQ 55.71875 40.765625 55.71875 27.296875 \r\nQ 55.71875 13.875 49.015625 6.21875 \r\nQ 42.328125 -1.421875 30.609375 -1.421875 \r\nQ 18.84375 -1.421875 12.171875 6.21875 \r\nQ 5.515625 13.875 5.515625 27.296875 \r\nQ 5.515625 40.765625 12.171875 48.375 \r\nQ 18.84375 56 30.609375 56 \r\nz\r\n\" id=\"DejaVuSans-111\"/>\r\n      <path d=\"M 54.890625 33.015625 \r\nL 54.890625 0 \r\nL 45.90625 0 \r\nL 45.90625 32.71875 \r\nQ 45.90625 40.484375 42.875 44.328125 \r\nQ 39.84375 48.1875 33.796875 48.1875 \r\nQ 26.515625 48.1875 22.3125 43.546875 \r\nQ 18.109375 38.921875 18.109375 30.90625 \r\nL 18.109375 0 \r\nL 9.078125 0 \r\nL 9.078125 54.6875 \r\nL 18.109375 54.6875 \r\nL 18.109375 46.1875 \r\nQ 21.34375 51.125 25.703125 53.5625 \r\nQ 30.078125 56 35.796875 56 \r\nQ 45.21875 56 50.046875 50.171875 \r\nQ 54.890625 44.34375 54.890625 33.015625 \r\nz\r\n\" id=\"DejaVuSans-110\"/>\r\n      <path d=\"M 41.109375 46.296875 \r\nQ 39.59375 47.171875 37.8125 47.578125 \r\nQ 36.03125 48 33.890625 48 \r\nQ 26.265625 48 22.1875 43.046875 \r\nQ 18.109375 38.09375 18.109375 28.8125 \r\nL 18.109375 0 \r\nL 9.078125 0 \r\nL 9.078125 54.6875 \r\nL 18.109375 54.6875 \r\nL 18.109375 46.1875 \r\nQ 20.953125 51.171875 25.484375 53.578125 \r\nQ 30.03125 56 36.53125 56 \r\nQ 37.453125 56 38.578125 55.875 \r\nQ 39.703125 55.765625 41.0625 55.515625 \r\nz\r\n\" id=\"DejaVuSans-114\"/>\r\n     </defs>\r\n     <use xlink:href=\"#DejaVuSans-82\"/>\r\n     <use x=\"64.982422\" xlink:href=\"#DejaVuSans-101\"/>\r\n     <use x=\"126.505859\" xlink:href=\"#DejaVuSans-113\"/>\r\n     <use x=\"189.982422\" xlink:href=\"#DejaVuSans-117\"/>\r\n     <use x=\"253.361328\" xlink:href=\"#DejaVuSans-101\"/>\r\n     <use x=\"314.884766\" xlink:href=\"#DejaVuSans-115\"/>\r\n     <use x=\"366.984375\" xlink:href=\"#DejaVuSans-116\"/>\r\n     <use x=\"406.193359\" xlink:href=\"#DejaVuSans-32\"/>\r\n     <use x=\"437.980469\" xlink:href=\"#DejaVuSans-98\"/>\r\n     <use x=\"501.457031\" xlink:href=\"#DejaVuSans-121\"/>\r\n     <use x=\"560.636719\" xlink:href=\"#DejaVuSans-32\"/>\r\n     <use x=\"592.423828\" xlink:href=\"#DejaVuSans-67\"/>\r\n     <use x=\"662.248047\" xlink:href=\"#DejaVuSans-111\"/>\r\n     <use x=\"723.429688\" xlink:href=\"#DejaVuSans-117\"/>\r\n     <use x=\"786.808594\" xlink:href=\"#DejaVuSans-110\"/>\r\n     <use x=\"850.1875\" xlink:href=\"#DejaVuSans-116\"/>\r\n     <use x=\"889.396484\" xlink:href=\"#DejaVuSans-114\"/>\r\n     <use x=\"930.509766\" xlink:href=\"#DejaVuSans-121\"/>\r\n    </g>\r\n   </g>\r\n   <g id=\"legend_1\">\r\n    <g id=\"patch_7\">\r\n     <path d=\"M 9.2 103.70875 \r\nL 96.175 103.70875 \r\nQ 98.175 103.70875 98.175 101.70875 \r\nL 98.175 29.318125 \r\nQ 98.175 27.318125 96.175 27.318125 \r\nL 9.2 27.318125 \r\nQ 7.2 27.318125 7.2 29.318125 \r\nL 7.2 101.70875 \r\nQ 7.2 103.70875 9.2 103.70875 \r\nz\r\n\" style=\"fill:#ffffff;opacity:0.8;stroke:#cccccc;stroke-linejoin:miter;\"/>\r\n    </g>\r\n    <g id=\"patch_8\">\r\n     <path d=\"M 11.2 38.916562 \r\nL 31.2 38.916562 \r\nL 31.2 31.916562 \r\nL 11.2 31.916562 \r\nz\r\n\" style=\"fill:#1f77b4;\"/>\r\n    </g>\r\n    <g id=\"text_2\">\r\n     <!-- b'HK' - 169 -->\r\n     <g transform=\"translate(39.2 38.916562)scale(0.1 -0.1)\">\r\n      <defs>\r\n       <path d=\"M 17.921875 72.90625 \r\nL 17.921875 45.796875 \r\nL 9.625 45.796875 \r\nL 9.625 72.90625 \r\nz\r\n\" id=\"DejaVuSans-39\"/>\r\n       <path d=\"M 9.8125 72.90625 \r\nL 19.671875 72.90625 \r\nL 19.671875 43.015625 \r\nL 55.515625 43.015625 \r\nL 55.515625 72.90625 \r\nL 65.375 72.90625 \r\nL 65.375 0 \r\nL 55.515625 0 \r\nL 55.515625 34.71875 \r\nL 19.671875 34.71875 \r\nL 19.671875 0 \r\nL 9.8125 0 \r\nz\r\n\" id=\"DejaVuSans-72\"/>\r\n       <path d=\"M 9.8125 72.90625 \r\nL 19.671875 72.90625 \r\nL 19.671875 42.09375 \r\nL 52.390625 72.90625 \r\nL 65.09375 72.90625 \r\nL 28.90625 38.921875 \r\nL 67.671875 0 \r\nL 54.6875 0 \r\nL 19.671875 35.109375 \r\nL 19.671875 0 \r\nL 9.8125 0 \r\nz\r\n\" id=\"DejaVuSans-75\"/>\r\n       <path d=\"M 4.890625 31.390625 \r\nL 31.203125 31.390625 \r\nL 31.203125 23.390625 \r\nL 4.890625 23.390625 \r\nz\r\n\" id=\"DejaVuSans-45\"/>\r\n       <path d=\"M 12.40625 8.296875 \r\nL 28.515625 8.296875 \r\nL 28.515625 63.921875 \r\nL 10.984375 60.40625 \r\nL 10.984375 69.390625 \r\nL 28.421875 72.90625 \r\nL 38.28125 72.90625 \r\nL 38.28125 8.296875 \r\nL 54.390625 8.296875 \r\nL 54.390625 0 \r\nL 12.40625 0 \r\nz\r\n\" id=\"DejaVuSans-49\"/>\r\n       <path d=\"M 33.015625 40.375 \r\nQ 26.375 40.375 22.484375 35.828125 \r\nQ 18.609375 31.296875 18.609375 23.390625 \r\nQ 18.609375 15.53125 22.484375 10.953125 \r\nQ 26.375 6.390625 33.015625 6.390625 \r\nQ 39.65625 6.390625 43.53125 10.953125 \r\nQ 47.40625 15.53125 47.40625 23.390625 \r\nQ 47.40625 31.296875 43.53125 35.828125 \r\nQ 39.65625 40.375 33.015625 40.375 \r\nz\r\nM 52.59375 71.296875 \r\nL 52.59375 62.3125 \r\nQ 48.875 64.0625 45.09375 64.984375 \r\nQ 41.3125 65.921875 37.59375 65.921875 \r\nQ 27.828125 65.921875 22.671875 59.328125 \r\nQ 17.53125 52.734375 16.796875 39.40625 \r\nQ 19.671875 43.65625 24.015625 45.921875 \r\nQ 28.375 48.1875 33.59375 48.1875 \r\nQ 44.578125 48.1875 50.953125 41.515625 \r\nQ 57.328125 34.859375 57.328125 23.390625 \r\nQ 57.328125 12.15625 50.6875 5.359375 \r\nQ 44.046875 -1.421875 33.015625 -1.421875 \r\nQ 20.359375 -1.421875 13.671875 8.265625 \r\nQ 6.984375 17.96875 6.984375 36.375 \r\nQ 6.984375 53.65625 15.1875 63.9375 \r\nQ 23.390625 74.21875 37.203125 74.21875 \r\nQ 40.921875 74.21875 44.703125 73.484375 \r\nQ 48.484375 72.75 52.59375 71.296875 \r\nz\r\n\" id=\"DejaVuSans-54\"/>\r\n       <path d=\"M 10.984375 1.515625 \r\nL 10.984375 10.5 \r\nQ 14.703125 8.734375 18.5 7.8125 \r\nQ 22.3125 6.890625 25.984375 6.890625 \r\nQ 35.75 6.890625 40.890625 13.453125 \r\nQ 46.046875 20.015625 46.78125 33.40625 \r\nQ 43.953125 29.203125 39.59375 26.953125 \r\nQ 35.25 24.703125 29.984375 24.703125 \r\nQ 19.046875 24.703125 12.671875 31.3125 \r\nQ 6.296875 37.9375 6.296875 49.421875 \r\nQ 6.296875 60.640625 12.9375 67.421875 \r\nQ 19.578125 74.21875 30.609375 74.21875 \r\nQ 43.265625 74.21875 49.921875 64.515625 \r\nQ 56.59375 54.828125 56.59375 36.375 \r\nQ 56.59375 19.140625 48.40625 8.859375 \r\nQ 40.234375 -1.421875 26.421875 -1.421875 \r\nQ 22.703125 -1.421875 18.890625 -0.6875 \r\nQ 15.09375 0.046875 10.984375 1.515625 \r\nz\r\nM 30.609375 32.421875 \r\nQ 37.25 32.421875 41.125 36.953125 \r\nQ 45.015625 41.5 45.015625 49.421875 \r\nQ 45.015625 57.28125 41.125 61.84375 \r\nQ 37.25 66.40625 30.609375 66.40625 \r\nQ 23.96875 66.40625 20.09375 61.84375 \r\nQ 16.21875 57.28125 16.21875 49.421875 \r\nQ 16.21875 41.5 20.09375 36.953125 \r\nQ 23.96875 32.421875 30.609375 32.421875 \r\nz\r\n\" id=\"DejaVuSans-57\"/>\r\n      </defs>\r\n      <use xlink:href=\"#DejaVuSans-98\"/>\r\n      <use x=\"63.476562\" xlink:href=\"#DejaVuSans-39\"/>\r\n      <use x=\"90.966797\" xlink:href=\"#DejaVuSans-72\"/>\r\n      <use x=\"166.162109\" xlink:href=\"#DejaVuSans-75\"/>\r\n      <use x=\"231.738281\" xlink:href=\"#DejaVuSans-39\"/>\r\n      <use x=\"259.228516\" xlink:href=\"#DejaVuSans-32\"/>\r\n      <use x=\"291.015625\" xlink:href=\"#DejaVuSans-45\"/>\r\n      <use x=\"327.099609\" xlink:href=\"#DejaVuSans-32\"/>\r\n      <use x=\"358.886719\" xlink:href=\"#DejaVuSans-49\"/>\r\n      <use x=\"422.509766\" xlink:href=\"#DejaVuSans-54\"/>\r\n      <use x=\"486.132812\" xlink:href=\"#DejaVuSans-57\"/>\r\n     </g>\r\n    </g>\r\n    <g id=\"patch_9\">\r\n     <path d=\"M 11.2 53.594687 \r\nL 31.2 53.594687 \r\nL 31.2 46.594687 \r\nL 11.2 46.594687 \r\nz\r\n\" style=\"fill:#ff7f0e;\"/>\r\n    </g>\r\n    <g id=\"text_3\">\r\n     <!-- b'CN' - 25 -->\r\n     <g transform=\"translate(39.2 53.594687)scale(0.1 -0.1)\">\r\n      <defs>\r\n       <path d=\"M 9.8125 72.90625 \r\nL 23.09375 72.90625 \r\nL 55.421875 11.921875 \r\nL 55.421875 72.90625 \r\nL 64.984375 72.90625 \r\nL 64.984375 0 \r\nL 51.703125 0 \r\nL 19.390625 60.984375 \r\nL 19.390625 0 \r\nL 9.8125 0 \r\nz\r\n\" id=\"DejaVuSans-78\"/>\r\n       <path d=\"M 19.1875 8.296875 \r\nL 53.609375 8.296875 \r\nL 53.609375 0 \r\nL 7.328125 0 \r\nL 7.328125 8.296875 \r\nQ 12.9375 14.109375 22.625 23.890625 \r\nQ 32.328125 33.6875 34.8125 36.53125 \r\nQ 39.546875 41.84375 41.421875 45.53125 \r\nQ 43.3125 49.21875 43.3125 52.78125 \r\nQ 43.3125 58.59375 39.234375 62.25 \r\nQ 35.15625 65.921875 28.609375 65.921875 \r\nQ 23.96875 65.921875 18.8125 64.3125 \r\nQ 13.671875 62.703125 7.8125 59.421875 \r\nL 7.8125 69.390625 \r\nQ 13.765625 71.78125 18.9375 73 \r\nQ 24.125 74.21875 28.421875 74.21875 \r\nQ 39.75 74.21875 46.484375 68.546875 \r\nQ 53.21875 62.890625 53.21875 53.421875 \r\nQ 53.21875 48.921875 51.53125 44.890625 \r\nQ 49.859375 40.875 45.40625 35.40625 \r\nQ 44.1875 33.984375 37.640625 27.21875 \r\nQ 31.109375 20.453125 19.1875 8.296875 \r\nz\r\n\" id=\"DejaVuSans-50\"/>\r\n       <path d=\"M 10.796875 72.90625 \r\nL 49.515625 72.90625 \r\nL 49.515625 64.59375 \r\nL 19.828125 64.59375 \r\nL 19.828125 46.734375 \r\nQ 21.96875 47.46875 24.109375 47.828125 \r\nQ 26.265625 48.1875 28.421875 48.1875 \r\nQ 40.625 48.1875 47.75 41.5 \r\nQ 54.890625 34.8125 54.890625 23.390625 \r\nQ 54.890625 11.625 47.5625 5.09375 \r\nQ 40.234375 -1.421875 26.90625 -1.421875 \r\nQ 22.3125 -1.421875 17.546875 -0.640625 \r\nQ 12.796875 0.140625 7.71875 1.703125 \r\nL 7.71875 11.625 \r\nQ 12.109375 9.234375 16.796875 8.0625 \r\nQ 21.484375 6.890625 26.703125 6.890625 \r\nQ 35.15625 6.890625 40.078125 11.328125 \r\nQ 45.015625 15.765625 45.015625 23.390625 \r\nQ 45.015625 31 40.078125 35.4375 \r\nQ 35.15625 39.890625 26.703125 39.890625 \r\nQ 22.75 39.890625 18.8125 39.015625 \r\nQ 14.890625 38.140625 10.796875 36.28125 \r\nz\r\n\" id=\"DejaVuSans-53\"/>\r\n      </defs>\r\n      <use xlink:href=\"#DejaVuSans-98\"/>\r\n      <use x=\"63.476562\" xlink:href=\"#DejaVuSans-39\"/>\r\n      <use x=\"90.966797\" xlink:href=\"#DejaVuSans-67\"/>\r\n      <use x=\"160.791016\" xlink:href=\"#DejaVuSans-78\"/>\r\n      <use x=\"235.595703\" xlink:href=\"#DejaVuSans-39\"/>\r\n      <use x=\"263.085938\" xlink:href=\"#DejaVuSans-32\"/>\r\n      <use x=\"294.873047\" xlink:href=\"#DejaVuSans-45\"/>\r\n      <use x=\"330.957031\" xlink:href=\"#DejaVuSans-32\"/>\r\n      <use x=\"362.744141\" xlink:href=\"#DejaVuSans-50\"/>\r\n      <use x=\"426.367188\" xlink:href=\"#DejaVuSans-53\"/>\r\n     </g>\r\n    </g>\r\n    <g id=\"patch_10\">\r\n     <path d=\"M 11.2 68.272812 \r\nL 31.2 68.272812 \r\nL 31.2 61.272812 \r\nL 11.2 61.272812 \r\nz\r\n\" style=\"fill:#2ca02c;\"/>\r\n    </g>\r\n    <g id=\"text_4\">\r\n     <!-- b'US' - 16 -->\r\n     <g transform=\"translate(39.2 68.272812)scale(0.1 -0.1)\">\r\n      <defs>\r\n       <path d=\"M 8.6875 72.90625 \r\nL 18.609375 72.90625 \r\nL 18.609375 28.609375 \r\nQ 18.609375 16.890625 22.84375 11.734375 \r\nQ 27.09375 6.59375 36.625 6.59375 \r\nQ 46.09375 6.59375 50.34375 11.734375 \r\nQ 54.59375 16.890625 54.59375 28.609375 \r\nL 54.59375 72.90625 \r\nL 64.5 72.90625 \r\nL 64.5 27.390625 \r\nQ 64.5 13.140625 57.4375 5.859375 \r\nQ 50.390625 -1.421875 36.625 -1.421875 \r\nQ 22.796875 -1.421875 15.734375 5.859375 \r\nQ 8.6875 13.140625 8.6875 27.390625 \r\nz\r\n\" id=\"DejaVuSans-85\"/>\r\n       <path d=\"M 53.515625 70.515625 \r\nL 53.515625 60.890625 \r\nQ 47.90625 63.578125 42.921875 64.890625 \r\nQ 37.9375 66.21875 33.296875 66.21875 \r\nQ 25.25 66.21875 20.875 63.09375 \r\nQ 16.5 59.96875 16.5 54.203125 \r\nQ 16.5 49.359375 19.40625 46.890625 \r\nQ 22.3125 44.4375 30.421875 42.921875 \r\nL 36.375 41.703125 \r\nQ 47.40625 39.59375 52.65625 34.296875 \r\nQ 57.90625 29 57.90625 20.125 \r\nQ 57.90625 9.515625 50.796875 4.046875 \r\nQ 43.703125 -1.421875 29.984375 -1.421875 \r\nQ 24.8125 -1.421875 18.96875 -0.25 \r\nQ 13.140625 0.921875 6.890625 3.21875 \r\nL 6.890625 13.375 \r\nQ 12.890625 10.015625 18.65625 8.296875 \r\nQ 24.421875 6.59375 29.984375 6.59375 \r\nQ 38.421875 6.59375 43.015625 9.90625 \r\nQ 47.609375 13.234375 47.609375 19.390625 \r\nQ 47.609375 24.75 44.3125 27.78125 \r\nQ 41.015625 30.8125 33.5 32.328125 \r\nL 27.484375 33.5 \r\nQ 16.453125 35.6875 11.515625 40.375 \r\nQ 6.59375 45.0625 6.59375 53.421875 \r\nQ 6.59375 63.09375 13.40625 68.65625 \r\nQ 20.21875 74.21875 32.171875 74.21875 \r\nQ 37.3125 74.21875 42.625 73.28125 \r\nQ 47.953125 72.359375 53.515625 70.515625 \r\nz\r\n\" id=\"DejaVuSans-83\"/>\r\n      </defs>\r\n      <use xlink:href=\"#DejaVuSans-98\"/>\r\n      <use x=\"63.476562\" xlink:href=\"#DejaVuSans-39\"/>\r\n      <use x=\"90.966797\" xlink:href=\"#DejaVuSans-85\"/>\r\n      <use x=\"164.160156\" xlink:href=\"#DejaVuSans-83\"/>\r\n      <use x=\"227.636719\" xlink:href=\"#DejaVuSans-39\"/>\r\n      <use x=\"255.126953\" xlink:href=\"#DejaVuSans-32\"/>\r\n      <use x=\"286.914062\" xlink:href=\"#DejaVuSans-45\"/>\r\n      <use x=\"322.998047\" xlink:href=\"#DejaVuSans-32\"/>\r\n      <use x=\"354.785156\" xlink:href=\"#DejaVuSans-49\"/>\r\n      <use x=\"418.408203\" xlink:href=\"#DejaVuSans-54\"/>\r\n     </g>\r\n    </g>\r\n    <g id=\"patch_11\">\r\n     <path d=\"M 11.2 82.950937 \r\nL 31.2 82.950937 \r\nL 31.2 75.950937 \r\nL 11.2 75.950937 \r\nz\r\n\" style=\"fill:#d62728;\"/>\r\n    </g>\r\n    <g id=\"text_5\">\r\n     <!-- b'IT' - 3 -->\r\n     <g transform=\"translate(39.2 82.950937)scale(0.1 -0.1)\">\r\n      <defs>\r\n       <path d=\"M 9.8125 72.90625 \r\nL 19.671875 72.90625 \r\nL 19.671875 0 \r\nL 9.8125 0 \r\nz\r\n\" id=\"DejaVuSans-73\"/>\r\n       <path d=\"M -0.296875 72.90625 \r\nL 61.375 72.90625 \r\nL 61.375 64.59375 \r\nL 35.5 64.59375 \r\nL 35.5 0 \r\nL 25.59375 0 \r\nL 25.59375 64.59375 \r\nL -0.296875 64.59375 \r\nz\r\n\" id=\"DejaVuSans-84\"/>\r\n       <path d=\"M 40.578125 39.3125 \r\nQ 47.65625 37.796875 51.625 33 \r\nQ 55.609375 28.21875 55.609375 21.1875 \r\nQ 55.609375 10.40625 48.1875 4.484375 \r\nQ 40.765625 -1.421875 27.09375 -1.421875 \r\nQ 22.515625 -1.421875 17.65625 -0.515625 \r\nQ 12.796875 0.390625 7.625 2.203125 \r\nL 7.625 11.71875 \r\nQ 11.71875 9.328125 16.59375 8.109375 \r\nQ 21.484375 6.890625 26.8125 6.890625 \r\nQ 36.078125 6.890625 40.9375 10.546875 \r\nQ 45.796875 14.203125 45.796875 21.1875 \r\nQ 45.796875 27.640625 41.28125 31.265625 \r\nQ 36.765625 34.90625 28.71875 34.90625 \r\nL 20.21875 34.90625 \r\nL 20.21875 43.015625 \r\nL 29.109375 43.015625 \r\nQ 36.375 43.015625 40.234375 45.921875 \r\nQ 44.09375 48.828125 44.09375 54.296875 \r\nQ 44.09375 59.90625 40.109375 62.90625 \r\nQ 36.140625 65.921875 28.71875 65.921875 \r\nQ 24.65625 65.921875 20.015625 65.03125 \r\nQ 15.375 64.15625 9.8125 62.3125 \r\nL 9.8125 71.09375 \r\nQ 15.4375 72.65625 20.34375 73.4375 \r\nQ 25.25 74.21875 29.59375 74.21875 \r\nQ 40.828125 74.21875 47.359375 69.109375 \r\nQ 53.90625 64.015625 53.90625 55.328125 \r\nQ 53.90625 49.265625 50.4375 45.09375 \r\nQ 46.96875 40.921875 40.578125 39.3125 \r\nz\r\n\" id=\"DejaVuSans-51\"/>\r\n      </defs>\r\n      <use xlink:href=\"#DejaVuSans-98\"/>\r\n      <use x=\"63.476562\" xlink:href=\"#DejaVuSans-39\"/>\r\n      <use x=\"90.966797\" xlink:href=\"#DejaVuSans-73\"/>\r\n      <use x=\"120.458984\" xlink:href=\"#DejaVuSans-84\"/>\r\n      <use x=\"181.542969\" xlink:href=\"#DejaVuSans-39\"/>\r\n      <use x=\"209.033203\" xlink:href=\"#DejaVuSans-32\"/>\r\n      <use x=\"240.820312\" xlink:href=\"#DejaVuSans-45\"/>\r\n      <use x=\"276.904297\" xlink:href=\"#DejaVuSans-32\"/>\r\n      <use x=\"308.691406\" xlink:href=\"#DejaVuSans-51\"/>\r\n     </g>\r\n    </g>\r\n    <g id=\"patch_12\">\r\n     <path d=\"M 11.2 97.629062 \r\nL 31.2 97.629062 \r\nL 31.2 90.629062 \r\nL 11.2 90.629062 \r\nz\r\n\" style=\"fill:#9467bd;\"/>\r\n    </g>\r\n    <g id=\"text_6\">\r\n     <!-- b'AU' - 1 -->\r\n     <g transform=\"translate(39.2 97.629062)scale(0.1 -0.1)\">\r\n      <defs>\r\n       <path d=\"M 34.1875 63.1875 \r\nL 20.796875 26.90625 \r\nL 47.609375 26.90625 \r\nz\r\nM 28.609375 72.90625 \r\nL 39.796875 72.90625 \r\nL 67.578125 0 \r\nL 57.328125 0 \r\nL 50.6875 18.703125 \r\nL 17.828125 18.703125 \r\nL 11.1875 0 \r\nL 0.78125 0 \r\nz\r\n\" id=\"DejaVuSans-65\"/>\r\n      </defs>\r\n      <use xlink:href=\"#DejaVuSans-98\"/>\r\n      <use x=\"63.476562\" xlink:href=\"#DejaVuSans-39\"/>\r\n      <use x=\"90.966797\" xlink:href=\"#DejaVuSans-65\"/>\r\n      <use x=\"159.375\" xlink:href=\"#DejaVuSans-85\"/>\r\n      <use x=\"232.568359\" xlink:href=\"#DejaVuSans-39\"/>\r\n      <use x=\"260.058594\" xlink:href=\"#DejaVuSans-32\"/>\r\n      <use x=\"291.845703\" xlink:href=\"#DejaVuSans-45\"/>\r\n      <use x=\"327.929688\" xlink:href=\"#DejaVuSans-32\"/>\r\n      <use x=\"359.716797\" xlink:href=\"#DejaVuSans-49\"/>\r\n     </g>\r\n    </g>\r\n   </g>\r\n  </g>\r\n </g>\r\n</svg>\r\n",
      "image/png": "[encoded data removed]"
     },
     "metadata": {}
    }
   ],
   "source": [
    "# Plot the data in pie chart\n",
    "label = np.char.array(counrty_counts.index) #x\n",
    "data = np.array(counrty_counts.to_list()) #y\n",
    "amount = counrty_counts.to_list()\n",
    "\n",
    "plt.rcParams[\"figure.figsize\"] = (15,10)\n",
    "\n",
    "patches, texts = plt.pie(data, startangle=90, radius=1.2)\n",
    "labels = ['{0} - {1:1.0f}'.format(i,j) for i,j in zip(label, amount)]\n",
    "\n",
    "sort_legend = True\n",
    "if sort_legend:\n",
    "    patches, labels, dummy =  zip(*sorted(zip(patches, labels, data),\n",
    "                                          key=lambda x: x[2],\n",
    "                                          reverse=True))\n",
    "\n",
    "plt.legend(patches, labels, bbox_to_anchor=(-0.1, 1.),\n",
    "           fontsize=10)\n",
    "\n",
    "plt.title(\"Request by Country\")\n",
    "plt.show()"
   ]
  },
  {
   "cell_type": "code",
   "execution_count": 37,
   "metadata": {
    "id": "xN21MLq7x6Cf"
   },
   "outputs": [
    {
     "output_type": "execute_result",
     "data": {
      "text/plain": [
       "HK    169\n",
       "CN     25\n",
       "US     16\n",
       "Name: Regions, dtype: int64"
      ]
     },
     "metadata": {},
     "execution_count": 37
    }
   ],
   "source": [
    "# List the top 3 requests\n",
    "counrty_counts[:3]"
   ]
  },
  {
   "cell_type": "markdown",
   "metadata": {
    "id": "Qhf-g91_umxF"
   },
   "source": [
    "#### 2.3.B Requests by City\n",
    "<div class=\"alert alert-block alert-warning\">\n",
    "\n",
    "**Code**: \n",
    "    Using the selected requests from 2.3.A and build your code with the following requirements <br>\n",
    "    1. Discover on the demographics by analysing requests from city level. <br>\n",
    "    2. Plot cities of all requests in pie chart. <br>\n",
    "    3. List top 3 with the numbers of requests. <br>\n",
    "    *Keep the outputs for code in your notebook.\n",
    "</div> \n",
    "\n",
    "<div class=\"alert alert-block alert-warning\">\n",
    "    \n",
    "**Report**: \n",
    "    **Part I 2.3.B** Please include your results for this coding task into your report Part I section '2.3.B', <br>\n",
    "    1. How many cites are invlolved? <br>\n",
    "    2. Figure 'Request by City' in pie chart. <br>\n",
    "    3. Top 3 cities with request numbers. <br>\n",
    "</div>"
   ]
  },
  {
   "cell_type": "code",
   "execution_count": 38,
   "metadata": {},
   "outputs": [],
   "source": [
    "# Using for loop to get the city of the ip in a list\n",
    "city_list = list()\n",
    "for ip_address in client_ip:\n",
    "    city_list.append(DbIpCity.get(ip_address, api_key = 'free').city)\n"
   ]
  },
  {
   "cell_type": "code",
   "execution_count": 39,
   "metadata": {},
   "outputs": [
    {
     "output_type": "execute_result",
     "data": {
      "text/plain": [
       "Ha Kwai Chung                         166\n",
       "Beijing                                15\n",
       "New York                               14\n",
       "Jinrongjie (Xicheng District)           9\n",
       "Valcanneto                              3\n",
       "Hong Kong                               2\n",
       "Quarry Bay                              1\n",
       "Sydney                                  1\n",
       "San Francisco (Financial District)      1\n",
       "Mountain View                           1\n",
       "Hangzhou                                1\n",
       "Name: City, dtype: int64"
      ]
     },
     "metadata": {},
     "execution_count": 39
    }
   ],
   "source": [
    "city_data = pd.DataFrame(city_list, columns = [\"City\"])\n",
    "city_counts = city_data[\"City\"].value_counts()\n",
    "city_counts"
   ]
  },
  {
   "cell_type": "code",
   "execution_count": 40,
   "metadata": {},
   "outputs": [
    {
     "output_type": "execute_result",
     "data": {
      "text/plain": [
       "11"
      ]
     },
     "metadata": {},
     "execution_count": 40
    }
   ],
   "source": [
    "len(city_counts)"
   ]
  },
  {
   "cell_type": "code",
   "execution_count": 41,
   "metadata": {},
   "outputs": [
    {
     "output_type": "display_data",
     "data": {
      "text/plain": "<Figure size 1080x720 with 1 Axes>",
      "image/svg+xml": "<?xml version=\"1.0\" encoding=\"utf-8\" standalone=\"no\"?>\r\n<!DOCTYPE svg PUBLIC \"-//W3C//DTD SVG 1.1//EN\"\r\n  \"http://www.w3.org/Graphics/SVG/1.1/DTD/svg11.dtd\">\r\n<!-- Created with matplotlib (https://matplotlib.org/) -->\r\n<svg height=\"573.118125pt\" version=\"1.1\" viewBox=\"0 0 844.095937 573.118125\" width=\"844.095937pt\" xmlns=\"http://www.w3.org/2000/svg\" xmlns:xlink=\"http://www.w3.org/1999/xlink\">\r\n <metadata>\r\n  <rdf:RDF xmlns:cc=\"http://creativecommons.org/ns#\" xmlns:dc=\"http://purl.org/dc/elements/1.1/\" xmlns:rdf=\"http://www.w3.org/1999/02/22-rdf-syntax-ns#\">\r\n   <cc:Work>\r\n    <dc:type rdf:resource=\"http://purl.org/dc/dcmitype/StillImage\"/>\r\n    <dc:date>2021-04-15T23:42:25.324460</dc:date>\r\n    <dc:format>image/svg+xml</dc:format>\r\n    <dc:creator>\r\n     <cc:Agent>\r\n      <dc:title>Matplotlib v3.3.4, https://matplotlib.org/</dc:title>\r\n     </cc:Agent>\r\n    </dc:creator>\r\n   </cc:Work>\r\n  </rdf:RDF>\r\n </metadata>\r\n <defs>\r\n  <style type=\"text/css\">*{stroke-linecap:butt;stroke-linejoin:round;}</style>\r\n </defs>\r\n <g id=\"figure_1\">\r\n  <g id=\"patch_1\">\r\n   <path d=\"M 0 573.118125 \r\nL 844.095937 573.118125 \r\nL 844.095937 0 \r\nL 0 0 \r\nz\r\n\" style=\"fill:none;\"/>\r\n  </g>\r\n  <g id=\"axes_1\">\r\n   <g id=\"patch_2\">\r\n    <path d=\"M 565.095937 33.190125 \r\nC 538.550453 33.190125 512.159739 37.241028 486.836358 45.202759 \r\nC 461.512978 53.16449 437.552221 64.944208 415.782627 80.134583 \r\nC 394.013032 95.324958 374.688449 113.748859 358.477102 134.769205 \r\nC 342.265756 155.789552 329.356682 179.161232 320.196263 204.076077 \r\nC 311.035844 228.990921 305.730897 255.158404 304.464863 281.673681 \r\nC 303.198829 308.188958 305.986469 334.74284 312.731391 360.417122 \r\nC 319.476313 386.091405 330.099866 410.586706 344.234697 433.056002 \r\nC 358.369528 455.525299 375.850816 475.706582 396.074074 492.902005 \r\nC 416.297333 510.097428 439.026744 524.106478 463.476348 534.444737 \r\nC 487.925953 544.782996 513.810649 551.329912 540.235372 553.859099 \r\nC 566.660094 556.388286 593.316711 554.870252 619.283462 549.35749 \r\nC 645.250214 543.844727 670.224309 534.401519 693.342169 521.354401 \r\nC 716.46003 508.307283 737.452083 491.808395 755.592447 472.428252 \r\nC 773.73281 453.048108 788.809952 431.012696 800.302522 407.083977 \r\nC 811.795092 383.155258 819.569077 357.612259 823.355661 331.338232 \r\nC 827.142245 305.064204 826.897273 278.365522 822.629217 252.1654 \r\nL 565.095937 294.118125 \r\nL 565.095937 33.190125 \r\nz\r\n\" style=\"fill:#1f77b4;\"/>\r\n   </g>\r\n   <g id=\"patch_3\">\r\n    <path d=\"M 822.629217 252.1654 \r\nC 819.546708 233.242943 814.388054 214.717728 807.246751 196.92551 \r\nC 800.105449 179.133291 791.024904 162.182214 780.169695 146.379504 \r\nL 565.095937 294.118125 \r\nL 822.629217 252.1654 \r\nz\r\n\" style=\"fill:#ff7f0e;\"/>\r\n   </g>\r\n   <g id=\"patch_4\">\r\n    <path d=\"M 780.169695 146.379504 \r\nC 770.039482 131.632223 758.419279 117.965889 745.492628 105.596362 \r\nC 732.565977 93.226834 718.401295 82.219583 703.222314 72.748467 \r\nL 565.095937 294.118125 \r\nL 780.169695 146.379504 \r\nz\r\n\" style=\"fill:#2ca02c;\"/>\r\n   </g>\r\n   <g id=\"patch_5\">\r\n    <path d=\"M 703.222314 72.748467 \r\nC 693.469424 66.663029 683.325026 61.228762 672.855449 56.481198 \r\nC 662.385871 51.733634 651.613983 47.683143 640.610214 44.356208 \r\nL 565.095937 294.118125 \r\nL 703.222314 72.748467 \r\nz\r\n\" style=\"fill:#d62728;\"/>\r\n   </g>\r\n   <g id=\"patch_6\">\r\n    <path d=\"M 640.610214 44.356208 \r\nC 636.943476 43.247588 633.25277 42.219849 629.540779 41.273739 \r\nC 625.828787 40.327628 622.096411 39.463376 618.346365 38.68161 \r\nL 565.095937 294.118125 \r\nL 640.610214 44.356208 \r\nz\r\n\" style=\"fill:#9467bd;\"/>\r\n   </g>\r\n   <g id=\"patch_7\">\r\n    <path d=\"M 618.346365 38.68161 \r\nC 615.84639 38.160445 613.338899 37.676008 610.824703 37.228458 \r\nC 608.310506 36.780907 605.789874 36.370291 603.263623 35.996741 \r\nL 565.095937 294.118125 \r\nL 618.346365 38.68161 \r\nz\r\n\" style=\"fill:#8c564b;\"/>\r\n   </g>\r\n   <g id=\"patch_8\">\r\n    <path d=\"M 603.263623 35.996741 \r\nC 602.000514 35.809968 600.736051 35.63247 599.470337 35.46426 \r\nC 598.204622 35.29605 596.93769 35.137133 595.669643 34.987521 \r\nL 565.095937 294.118125 \r\nL 603.263623 35.996741 \r\nz\r\n\" style=\"fill:#e377c2;\"/>\r\n   </g>\r\n   <g id=\"patch_9\">\r\n    <path d=\"M 595.669643 34.987521 \r\nC 594.401595 34.83791 593.132467 34.697608 591.86236 34.566628 \r\nC 590.592253 34.435647 589.321201 34.313991 588.049308 34.201669 \r\nL 565.095937 294.118125 \r\nL 595.669643 34.987521 \r\nz\r\n\" style=\"fill:#7f7f7f;\"/>\r\n   </g>\r\n   <g id=\"patch_10\">\r\n    <path d=\"M 588.049308 34.201669 \r\nC 586.777415 34.089348 585.504715 33.986364 584.23131 33.892725 \r\nC 582.957906 33.799087 581.683831 33.714797 580.409189 33.639862 \r\nL 565.095937 294.118125 \r\nL 588.049308 34.201669 \r\nz\r\n\" style=\"fill:#bcbd22;\"/>\r\n   </g>\r\n   <g id=\"patch_11\">\r\n    <path d=\"M 580.409189 33.639862 \r\nC 579.134546 33.564927 577.859371 33.499349 576.583767 33.443134 \r\nC 575.308162 33.386919 574.032162 33.340067 572.755869 33.302584 \r\nL 565.095937 294.118125 \r\nL 580.409189 33.639862 \r\nz\r\n\" style=\"fill:#17becf;\"/>\r\n   </g>\r\n   <g id=\"patch_12\">\r\n    <path d=\"M 572.755869 33.302584 \r\nC 571.479576 33.2651 570.203026 33.236985 568.926321 33.218241 \r\nC 567.649615 33.199497 566.37279 33.190125 565.095947 33.190125 \r\nL 565.095937 294.118125 \r\nL 572.755869 33.302584 \r\nz\r\n\" style=\"fill:#1f77b4;\"/>\r\n   </g>\r\n   <g id=\"matplotlib.axis_1\"/>\r\n   <g id=\"matplotlib.axis_2\"/>\r\n   <g id=\"text_1\">\r\n    <!-- Request by City -->\r\n    <g transform=\"translate(517.789688 16.318125)scale(0.12 -0.12)\">\r\n     <defs>\r\n      <path d=\"M 44.390625 34.1875 \r\nQ 47.5625 33.109375 50.5625 29.59375 \r\nQ 53.5625 26.078125 56.59375 19.921875 \r\nL 66.609375 0 \r\nL 56 0 \r\nL 46.6875 18.703125 \r\nQ 43.0625 26.03125 39.671875 28.421875 \r\nQ 36.28125 30.8125 30.421875 30.8125 \r\nL 19.671875 30.8125 \r\nL 19.671875 0 \r\nL 9.8125 0 \r\nL 9.8125 72.90625 \r\nL 32.078125 72.90625 \r\nQ 44.578125 72.90625 50.734375 67.671875 \r\nQ 56.890625 62.453125 56.890625 51.90625 \r\nQ 56.890625 45.015625 53.6875 40.46875 \r\nQ 50.484375 35.9375 44.390625 34.1875 \r\nz\r\nM 19.671875 64.796875 \r\nL 19.671875 38.921875 \r\nL 32.078125 38.921875 \r\nQ 39.203125 38.921875 42.84375 42.21875 \r\nQ 46.484375 45.515625 46.484375 51.90625 \r\nQ 46.484375 58.296875 42.84375 61.546875 \r\nQ 39.203125 64.796875 32.078125 64.796875 \r\nz\r\n\" id=\"DejaVuSans-82\"/>\r\n      <path d=\"M 56.203125 29.59375 \r\nL 56.203125 25.203125 \r\nL 14.890625 25.203125 \r\nQ 15.484375 15.921875 20.484375 11.0625 \r\nQ 25.484375 6.203125 34.421875 6.203125 \r\nQ 39.59375 6.203125 44.453125 7.46875 \r\nQ 49.3125 8.734375 54.109375 11.28125 \r\nL 54.109375 2.78125 \r\nQ 49.265625 0.734375 44.1875 -0.34375 \r\nQ 39.109375 -1.421875 33.890625 -1.421875 \r\nQ 20.796875 -1.421875 13.15625 6.1875 \r\nQ 5.515625 13.8125 5.515625 26.8125 \r\nQ 5.515625 40.234375 12.765625 48.109375 \r\nQ 20.015625 56 32.328125 56 \r\nQ 43.359375 56 49.78125 48.890625 \r\nQ 56.203125 41.796875 56.203125 29.59375 \r\nz\r\nM 47.21875 32.234375 \r\nQ 47.125 39.59375 43.09375 43.984375 \r\nQ 39.0625 48.390625 32.421875 48.390625 \r\nQ 24.90625 48.390625 20.390625 44.140625 \r\nQ 15.875 39.890625 15.1875 32.171875 \r\nz\r\n\" id=\"DejaVuSans-101\"/>\r\n      <path d=\"M 14.796875 27.296875 \r\nQ 14.796875 17.390625 18.875 11.75 \r\nQ 22.953125 6.109375 30.078125 6.109375 \r\nQ 37.203125 6.109375 41.296875 11.75 \r\nQ 45.40625 17.390625 45.40625 27.296875 \r\nQ 45.40625 37.203125 41.296875 42.84375 \r\nQ 37.203125 48.484375 30.078125 48.484375 \r\nQ 22.953125 48.484375 18.875 42.84375 \r\nQ 14.796875 37.203125 14.796875 27.296875 \r\nz\r\nM 45.40625 8.203125 \r\nQ 42.578125 3.328125 38.25 0.953125 \r\nQ 33.9375 -1.421875 27.875 -1.421875 \r\nQ 17.96875 -1.421875 11.734375 6.484375 \r\nQ 5.515625 14.40625 5.515625 27.296875 \r\nQ 5.515625 40.1875 11.734375 48.09375 \r\nQ 17.96875 56 27.875 56 \r\nQ 33.9375 56 38.25 53.625 \r\nQ 42.578125 51.265625 45.40625 46.390625 \r\nL 45.40625 54.6875 \r\nL 54.390625 54.6875 \r\nL 54.390625 -20.796875 \r\nL 45.40625 -20.796875 \r\nz\r\n\" id=\"DejaVuSans-113\"/>\r\n      <path d=\"M 8.5 21.578125 \r\nL 8.5 54.6875 \r\nL 17.484375 54.6875 \r\nL 17.484375 21.921875 \r\nQ 17.484375 14.15625 20.5 10.265625 \r\nQ 23.53125 6.390625 29.59375 6.390625 \r\nQ 36.859375 6.390625 41.078125 11.03125 \r\nQ 45.3125 15.671875 45.3125 23.6875 \r\nL 45.3125 54.6875 \r\nL 54.296875 54.6875 \r\nL 54.296875 0 \r\nL 45.3125 0 \r\nL 45.3125 8.40625 \r\nQ 42.046875 3.421875 37.71875 1 \r\nQ 33.40625 -1.421875 27.6875 -1.421875 \r\nQ 18.265625 -1.421875 13.375 4.4375 \r\nQ 8.5 10.296875 8.5 21.578125 \r\nz\r\nM 31.109375 56 \r\nz\r\n\" id=\"DejaVuSans-117\"/>\r\n      <path d=\"M 44.28125 53.078125 \r\nL 44.28125 44.578125 \r\nQ 40.484375 46.53125 36.375 47.5 \r\nQ 32.28125 48.484375 27.875 48.484375 \r\nQ 21.1875 48.484375 17.84375 46.4375 \r\nQ 14.5 44.390625 14.5 40.28125 \r\nQ 14.5 37.15625 16.890625 35.375 \r\nQ 19.28125 33.59375 26.515625 31.984375 \r\nL 29.59375 31.296875 \r\nQ 39.15625 29.25 43.1875 25.515625 \r\nQ 47.21875 21.78125 47.21875 15.09375 \r\nQ 47.21875 7.46875 41.1875 3.015625 \r\nQ 35.15625 -1.421875 24.609375 -1.421875 \r\nQ 20.21875 -1.421875 15.453125 -0.5625 \r\nQ 10.6875 0.296875 5.421875 2 \r\nL 5.421875 11.28125 \r\nQ 10.40625 8.6875 15.234375 7.390625 \r\nQ 20.0625 6.109375 24.8125 6.109375 \r\nQ 31.15625 6.109375 34.5625 8.28125 \r\nQ 37.984375 10.453125 37.984375 14.40625 \r\nQ 37.984375 18.0625 35.515625 20.015625 \r\nQ 33.0625 21.96875 24.703125 23.78125 \r\nL 21.578125 24.515625 \r\nQ 13.234375 26.265625 9.515625 29.90625 \r\nQ 5.8125 33.546875 5.8125 39.890625 \r\nQ 5.8125 47.609375 11.28125 51.796875 \r\nQ 16.75 56 26.8125 56 \r\nQ 31.78125 56 36.171875 55.265625 \r\nQ 40.578125 54.546875 44.28125 53.078125 \r\nz\r\n\" id=\"DejaVuSans-115\"/>\r\n      <path d=\"M 18.3125 70.21875 \r\nL 18.3125 54.6875 \r\nL 36.8125 54.6875 \r\nL 36.8125 47.703125 \r\nL 18.3125 47.703125 \r\nL 18.3125 18.015625 \r\nQ 18.3125 11.328125 20.140625 9.421875 \r\nQ 21.96875 7.515625 27.59375 7.515625 \r\nL 36.8125 7.515625 \r\nL 36.8125 0 \r\nL 27.59375 0 \r\nQ 17.1875 0 13.234375 3.875 \r\nQ 9.28125 7.765625 9.28125 18.015625 \r\nL 9.28125 47.703125 \r\nL 2.6875 47.703125 \r\nL 2.6875 54.6875 \r\nL 9.28125 54.6875 \r\nL 9.28125 70.21875 \r\nz\r\n\" id=\"DejaVuSans-116\"/>\r\n      <path id=\"DejaVuSans-32\"/>\r\n      <path d=\"M 48.6875 27.296875 \r\nQ 48.6875 37.203125 44.609375 42.84375 \r\nQ 40.53125 48.484375 33.40625 48.484375 \r\nQ 26.265625 48.484375 22.1875 42.84375 \r\nQ 18.109375 37.203125 18.109375 27.296875 \r\nQ 18.109375 17.390625 22.1875 11.75 \r\nQ 26.265625 6.109375 33.40625 6.109375 \r\nQ 40.53125 6.109375 44.609375 11.75 \r\nQ 48.6875 17.390625 48.6875 27.296875 \r\nz\r\nM 18.109375 46.390625 \r\nQ 20.953125 51.265625 25.265625 53.625 \r\nQ 29.59375 56 35.59375 56 \r\nQ 45.5625 56 51.78125 48.09375 \r\nQ 58.015625 40.1875 58.015625 27.296875 \r\nQ 58.015625 14.40625 51.78125 6.484375 \r\nQ 45.5625 -1.421875 35.59375 -1.421875 \r\nQ 29.59375 -1.421875 25.265625 0.953125 \r\nQ 20.953125 3.328125 18.109375 8.203125 \r\nL 18.109375 0 \r\nL 9.078125 0 \r\nL 9.078125 75.984375 \r\nL 18.109375 75.984375 \r\nz\r\n\" id=\"DejaVuSans-98\"/>\r\n      <path d=\"M 32.171875 -5.078125 \r\nQ 28.375 -14.84375 24.75 -17.8125 \r\nQ 21.140625 -20.796875 15.09375 -20.796875 \r\nL 7.90625 -20.796875 \r\nL 7.90625 -13.28125 \r\nL 13.1875 -13.28125 \r\nQ 16.890625 -13.28125 18.9375 -11.515625 \r\nQ 21 -9.765625 23.484375 -3.21875 \r\nL 25.09375 0.875 \r\nL 2.984375 54.6875 \r\nL 12.5 54.6875 \r\nL 29.59375 11.921875 \r\nL 46.6875 54.6875 \r\nL 56.203125 54.6875 \r\nz\r\n\" id=\"DejaVuSans-121\"/>\r\n      <path d=\"M 64.40625 67.28125 \r\nL 64.40625 56.890625 \r\nQ 59.421875 61.53125 53.78125 63.8125 \r\nQ 48.140625 66.109375 41.796875 66.109375 \r\nQ 29.296875 66.109375 22.65625 58.46875 \r\nQ 16.015625 50.828125 16.015625 36.375 \r\nQ 16.015625 21.96875 22.65625 14.328125 \r\nQ 29.296875 6.6875 41.796875 6.6875 \r\nQ 48.140625 6.6875 53.78125 8.984375 \r\nQ 59.421875 11.28125 64.40625 15.921875 \r\nL 64.40625 5.609375 \r\nQ 59.234375 2.09375 53.4375 0.328125 \r\nQ 47.65625 -1.421875 41.21875 -1.421875 \r\nQ 24.65625 -1.421875 15.125 8.703125 \r\nQ 5.609375 18.84375 5.609375 36.375 \r\nQ 5.609375 53.953125 15.125 64.078125 \r\nQ 24.65625 74.21875 41.21875 74.21875 \r\nQ 47.75 74.21875 53.53125 72.484375 \r\nQ 59.328125 70.75 64.40625 67.28125 \r\nz\r\n\" id=\"DejaVuSans-67\"/>\r\n      <path d=\"M 9.421875 54.6875 \r\nL 18.40625 54.6875 \r\nL 18.40625 0 \r\nL 9.421875 0 \r\nz\r\nM 9.421875 75.984375 \r\nL 18.40625 75.984375 \r\nL 18.40625 64.59375 \r\nL 9.421875 64.59375 \r\nz\r\n\" id=\"DejaVuSans-105\"/>\r\n     </defs>\r\n     <use xlink:href=\"#DejaVuSans-82\"/>\r\n     <use x=\"64.982422\" xlink:href=\"#DejaVuSans-101\"/>\r\n     <use x=\"126.505859\" xlink:href=\"#DejaVuSans-113\"/>\r\n     <use x=\"189.982422\" xlink:href=\"#DejaVuSans-117\"/>\r\n     <use x=\"253.361328\" xlink:href=\"#DejaVuSans-101\"/>\r\n     <use x=\"314.884766\" xlink:href=\"#DejaVuSans-115\"/>\r\n     <use x=\"366.984375\" xlink:href=\"#DejaVuSans-116\"/>\r\n     <use x=\"406.193359\" xlink:href=\"#DejaVuSans-32\"/>\r\n     <use x=\"437.980469\" xlink:href=\"#DejaVuSans-98\"/>\r\n     <use x=\"501.457031\" xlink:href=\"#DejaVuSans-121\"/>\r\n     <use x=\"560.636719\" xlink:href=\"#DejaVuSans-32\"/>\r\n     <use x=\"592.423828\" xlink:href=\"#DejaVuSans-67\"/>\r\n     <use x=\"662.248047\" xlink:href=\"#DejaVuSans-105\"/>\r\n     <use x=\"690.03125\" xlink:href=\"#DejaVuSans-116\"/>\r\n     <use x=\"729.240234\" xlink:href=\"#DejaVuSans-121\"/>\r\n    </g>\r\n   </g>\r\n   <g id=\"legend_1\">\r\n    <g id=\"patch_13\">\r\n     <path d=\"M 9.2 191.7775 \r\nL 231.935937 191.7775 \r\nQ 233.935937 191.7775 233.935937 189.7775 \r\nL 233.935937 29.318125 \r\nQ 233.935937 27.318125 231.935937 27.318125 \r\nL 9.2 27.318125 \r\nQ 7.2 27.318125 7.2 29.318125 \r\nL 7.2 189.7775 \r\nQ 7.2 191.7775 9.2 191.7775 \r\nz\r\n\" style=\"fill:#ffffff;opacity:0.8;stroke:#cccccc;stroke-linejoin:miter;\"/>\r\n    </g>\r\n    <g id=\"patch_14\">\r\n     <path d=\"M 11.2 38.916562 \r\nL 31.2 38.916562 \r\nL 31.2 31.916562 \r\nL 11.2 31.916562 \r\nz\r\n\" style=\"fill:#1f77b4;\"/>\r\n    </g>\r\n    <g id=\"text_2\">\r\n     <!-- b'Ha Kwai Chung' - 166 -->\r\n     <g transform=\"translate(39.2 38.916562)scale(0.1 -0.1)\">\r\n      <defs>\r\n       <path d=\"M 17.921875 72.90625 \r\nL 17.921875 45.796875 \r\nL 9.625 45.796875 \r\nL 9.625 72.90625 \r\nz\r\n\" id=\"DejaVuSans-39\"/>\r\n       <path d=\"M 9.8125 72.90625 \r\nL 19.671875 72.90625 \r\nL 19.671875 43.015625 \r\nL 55.515625 43.015625 \r\nL 55.515625 72.90625 \r\nL 65.375 72.90625 \r\nL 65.375 0 \r\nL 55.515625 0 \r\nL 55.515625 34.71875 \r\nL 19.671875 34.71875 \r\nL 19.671875 0 \r\nL 9.8125 0 \r\nz\r\n\" id=\"DejaVuSans-72\"/>\r\n       <path d=\"M 34.28125 27.484375 \r\nQ 23.390625 27.484375 19.1875 25 \r\nQ 14.984375 22.515625 14.984375 16.5 \r\nQ 14.984375 11.71875 18.140625 8.90625 \r\nQ 21.296875 6.109375 26.703125 6.109375 \r\nQ 34.1875 6.109375 38.703125 11.40625 \r\nQ 43.21875 16.703125 43.21875 25.484375 \r\nL 43.21875 27.484375 \r\nz\r\nM 52.203125 31.203125 \r\nL 52.203125 0 \r\nL 43.21875 0 \r\nL 43.21875 8.296875 \r\nQ 40.140625 3.328125 35.546875 0.953125 \r\nQ 30.953125 -1.421875 24.3125 -1.421875 \r\nQ 15.921875 -1.421875 10.953125 3.296875 \r\nQ 6 8.015625 6 15.921875 \r\nQ 6 25.140625 12.171875 29.828125 \r\nQ 18.359375 34.515625 30.609375 34.515625 \r\nL 43.21875 34.515625 \r\nL 43.21875 35.40625 \r\nQ 43.21875 41.609375 39.140625 45 \r\nQ 35.0625 48.390625 27.6875 48.390625 \r\nQ 23 48.390625 18.546875 47.265625 \r\nQ 14.109375 46.140625 10.015625 43.890625 \r\nL 10.015625 52.203125 \r\nQ 14.9375 54.109375 19.578125 55.046875 \r\nQ 24.21875 56 28.609375 56 \r\nQ 40.484375 56 46.34375 49.84375 \r\nQ 52.203125 43.703125 52.203125 31.203125 \r\nz\r\n\" id=\"DejaVuSans-97\"/>\r\n       <path d=\"M 9.8125 72.90625 \r\nL 19.671875 72.90625 \r\nL 19.671875 42.09375 \r\nL 52.390625 72.90625 \r\nL 65.09375 72.90625 \r\nL 28.90625 38.921875 \r\nL 67.671875 0 \r\nL 54.6875 0 \r\nL 19.671875 35.109375 \r\nL 19.671875 0 \r\nL 9.8125 0 \r\nz\r\n\" id=\"DejaVuSans-75\"/>\r\n       <path d=\"M 4.203125 54.6875 \r\nL 13.1875 54.6875 \r\nL 24.421875 12.015625 \r\nL 35.59375 54.6875 \r\nL 46.1875 54.6875 \r\nL 57.421875 12.015625 \r\nL 68.609375 54.6875 \r\nL 77.59375 54.6875 \r\nL 63.28125 0 \r\nL 52.6875 0 \r\nL 40.921875 44.828125 \r\nL 29.109375 0 \r\nL 18.5 0 \r\nz\r\n\" id=\"DejaVuSans-119\"/>\r\n       <path d=\"M 54.890625 33.015625 \r\nL 54.890625 0 \r\nL 45.90625 0 \r\nL 45.90625 32.71875 \r\nQ 45.90625 40.484375 42.875 44.328125 \r\nQ 39.84375 48.1875 33.796875 48.1875 \r\nQ 26.515625 48.1875 22.3125 43.546875 \r\nQ 18.109375 38.921875 18.109375 30.90625 \r\nL 18.109375 0 \r\nL 9.078125 0 \r\nL 9.078125 75.984375 \r\nL 18.109375 75.984375 \r\nL 18.109375 46.1875 \r\nQ 21.34375 51.125 25.703125 53.5625 \r\nQ 30.078125 56 35.796875 56 \r\nQ 45.21875 56 50.046875 50.171875 \r\nQ 54.890625 44.34375 54.890625 33.015625 \r\nz\r\n\" id=\"DejaVuSans-104\"/>\r\n       <path d=\"M 54.890625 33.015625 \r\nL 54.890625 0 \r\nL 45.90625 0 \r\nL 45.90625 32.71875 \r\nQ 45.90625 40.484375 42.875 44.328125 \r\nQ 39.84375 48.1875 33.796875 48.1875 \r\nQ 26.515625 48.1875 22.3125 43.546875 \r\nQ 18.109375 38.921875 18.109375 30.90625 \r\nL 18.109375 0 \r\nL 9.078125 0 \r\nL 9.078125 54.6875 \r\nL 18.109375 54.6875 \r\nL 18.109375 46.1875 \r\nQ 21.34375 51.125 25.703125 53.5625 \r\nQ 30.078125 56 35.796875 56 \r\nQ 45.21875 56 50.046875 50.171875 \r\nQ 54.890625 44.34375 54.890625 33.015625 \r\nz\r\n\" id=\"DejaVuSans-110\"/>\r\n       <path d=\"M 45.40625 27.984375 \r\nQ 45.40625 37.75 41.375 43.109375 \r\nQ 37.359375 48.484375 30.078125 48.484375 \r\nQ 22.859375 48.484375 18.828125 43.109375 \r\nQ 14.796875 37.75 14.796875 27.984375 \r\nQ 14.796875 18.265625 18.828125 12.890625 \r\nQ 22.859375 7.515625 30.078125 7.515625 \r\nQ 37.359375 7.515625 41.375 12.890625 \r\nQ 45.40625 18.265625 45.40625 27.984375 \r\nz\r\nM 54.390625 6.78125 \r\nQ 54.390625 -7.171875 48.1875 -13.984375 \r\nQ 42 -20.796875 29.203125 -20.796875 \r\nQ 24.46875 -20.796875 20.265625 -20.09375 \r\nQ 16.0625 -19.390625 12.109375 -17.921875 \r\nL 12.109375 -9.1875 \r\nQ 16.0625 -11.328125 19.921875 -12.34375 \r\nQ 23.78125 -13.375 27.78125 -13.375 \r\nQ 36.625 -13.375 41.015625 -8.765625 \r\nQ 45.40625 -4.15625 45.40625 5.171875 \r\nL 45.40625 9.625 \r\nQ 42.625 4.78125 38.28125 2.390625 \r\nQ 33.9375 0 27.875 0 \r\nQ 17.828125 0 11.671875 7.65625 \r\nQ 5.515625 15.328125 5.515625 27.984375 \r\nQ 5.515625 40.671875 11.671875 48.328125 \r\nQ 17.828125 56 27.875 56 \r\nQ 33.9375 56 38.28125 53.609375 \r\nQ 42.625 51.21875 45.40625 46.390625 \r\nL 45.40625 54.6875 \r\nL 54.390625 54.6875 \r\nz\r\n\" id=\"DejaVuSans-103\"/>\r\n       <path d=\"M 4.890625 31.390625 \r\nL 31.203125 31.390625 \r\nL 31.203125 23.390625 \r\nL 4.890625 23.390625 \r\nz\r\n\" id=\"DejaVuSans-45\"/>\r\n       <path d=\"M 12.40625 8.296875 \r\nL 28.515625 8.296875 \r\nL 28.515625 63.921875 \r\nL 10.984375 60.40625 \r\nL 10.984375 69.390625 \r\nL 28.421875 72.90625 \r\nL 38.28125 72.90625 \r\nL 38.28125 8.296875 \r\nL 54.390625 8.296875 \r\nL 54.390625 0 \r\nL 12.40625 0 \r\nz\r\n\" id=\"DejaVuSans-49\"/>\r\n       <path d=\"M 33.015625 40.375 \r\nQ 26.375 40.375 22.484375 35.828125 \r\nQ 18.609375 31.296875 18.609375 23.390625 \r\nQ 18.609375 15.53125 22.484375 10.953125 \r\nQ 26.375 6.390625 33.015625 6.390625 \r\nQ 39.65625 6.390625 43.53125 10.953125 \r\nQ 47.40625 15.53125 47.40625 23.390625 \r\nQ 47.40625 31.296875 43.53125 35.828125 \r\nQ 39.65625 40.375 33.015625 40.375 \r\nz\r\nM 52.59375 71.296875 \r\nL 52.59375 62.3125 \r\nQ 48.875 64.0625 45.09375 64.984375 \r\nQ 41.3125 65.921875 37.59375 65.921875 \r\nQ 27.828125 65.921875 22.671875 59.328125 \r\nQ 17.53125 52.734375 16.796875 39.40625 \r\nQ 19.671875 43.65625 24.015625 45.921875 \r\nQ 28.375 48.1875 33.59375 48.1875 \r\nQ 44.578125 48.1875 50.953125 41.515625 \r\nQ 57.328125 34.859375 57.328125 23.390625 \r\nQ 57.328125 12.15625 50.6875 5.359375 \r\nQ 44.046875 -1.421875 33.015625 -1.421875 \r\nQ 20.359375 -1.421875 13.671875 8.265625 \r\nQ 6.984375 17.96875 6.984375 36.375 \r\nQ 6.984375 53.65625 15.1875 63.9375 \r\nQ 23.390625 74.21875 37.203125 74.21875 \r\nQ 40.921875 74.21875 44.703125 73.484375 \r\nQ 48.484375 72.75 52.59375 71.296875 \r\nz\r\n\" id=\"DejaVuSans-54\"/>\r\n      </defs>\r\n      <use xlink:href=\"#DejaVuSans-98\"/>\r\n      <use x=\"63.476562\" xlink:href=\"#DejaVuSans-39\"/>\r\n      <use x=\"90.966797\" xlink:href=\"#DejaVuSans-72\"/>\r\n      <use x=\"166.162109\" xlink:href=\"#DejaVuSans-97\"/>\r\n      <use x=\"227.441406\" xlink:href=\"#DejaVuSans-32\"/>\r\n      <use x=\"259.228516\" xlink:href=\"#DejaVuSans-75\"/>\r\n      <use x=\"324.804688\" xlink:href=\"#DejaVuSans-119\"/>\r\n      <use x=\"406.591797\" xlink:href=\"#DejaVuSans-97\"/>\r\n      <use x=\"467.871094\" xlink:href=\"#DejaVuSans-105\"/>\r\n      <use x=\"495.654297\" xlink:href=\"#DejaVuSans-32\"/>\r\n      <use x=\"527.441406\" xlink:href=\"#DejaVuSans-67\"/>\r\n      <use x=\"597.265625\" xlink:href=\"#DejaVuSans-104\"/>\r\n      <use x=\"660.644531\" xlink:href=\"#DejaVuSans-117\"/>\r\n      <use x=\"724.023438\" xlink:href=\"#DejaVuSans-110\"/>\r\n      <use x=\"787.402344\" xlink:href=\"#DejaVuSans-103\"/>\r\n      <use x=\"850.878906\" xlink:href=\"#DejaVuSans-39\"/>\r\n      <use x=\"878.369141\" xlink:href=\"#DejaVuSans-32\"/>\r\n      <use x=\"910.15625\" xlink:href=\"#DejaVuSans-45\"/>\r\n      <use x=\"946.240234\" xlink:href=\"#DejaVuSans-32\"/>\r\n      <use x=\"978.027344\" xlink:href=\"#DejaVuSans-49\"/>\r\n      <use x=\"1041.650391\" xlink:href=\"#DejaVuSans-54\"/>\r\n      <use x=\"1105.273438\" xlink:href=\"#DejaVuSans-54\"/>\r\n     </g>\r\n    </g>\r\n    <g id=\"patch_15\">\r\n     <path d=\"M 11.2 53.594687 \r\nL 31.2 53.594687 \r\nL 31.2 46.594687 \r\nL 11.2 46.594687 \r\nz\r\n\" style=\"fill:#ff7f0e;\"/>\r\n    </g>\r\n    <g id=\"text_3\">\r\n     <!-- b'Beijing' - 15 -->\r\n     <g transform=\"translate(39.2 53.594687)scale(0.1 -0.1)\">\r\n      <defs>\r\n       <path d=\"M 19.671875 34.8125 \r\nL 19.671875 8.109375 \r\nL 35.5 8.109375 \r\nQ 43.453125 8.109375 47.28125 11.40625 \r\nQ 51.125 14.703125 51.125 21.484375 \r\nQ 51.125 28.328125 47.28125 31.5625 \r\nQ 43.453125 34.8125 35.5 34.8125 \r\nz\r\nM 19.671875 64.796875 \r\nL 19.671875 42.828125 \r\nL 34.28125 42.828125 \r\nQ 41.5 42.828125 45.03125 45.53125 \r\nQ 48.578125 48.25 48.578125 53.8125 \r\nQ 48.578125 59.328125 45.03125 62.0625 \r\nQ 41.5 64.796875 34.28125 64.796875 \r\nz\r\nM 9.8125 72.90625 \r\nL 35.015625 72.90625 \r\nQ 46.296875 72.90625 52.390625 68.21875 \r\nQ 58.5 63.53125 58.5 54.890625 \r\nQ 58.5 48.1875 55.375 44.234375 \r\nQ 52.25 40.28125 46.1875 39.3125 \r\nQ 53.46875 37.75 57.5 32.78125 \r\nQ 61.53125 27.828125 61.53125 20.40625 \r\nQ 61.53125 10.640625 54.890625 5.3125 \r\nQ 48.25 0 35.984375 0 \r\nL 9.8125 0 \r\nz\r\n\" id=\"DejaVuSans-66\"/>\r\n       <path d=\"M 9.421875 54.6875 \r\nL 18.40625 54.6875 \r\nL 18.40625 -0.984375 \r\nQ 18.40625 -11.421875 14.421875 -16.109375 \r\nQ 10.453125 -20.796875 1.609375 -20.796875 \r\nL -1.8125 -20.796875 \r\nL -1.8125 -13.1875 \r\nL 0.59375 -13.1875 \r\nQ 5.71875 -13.1875 7.5625 -10.8125 \r\nQ 9.421875 -8.453125 9.421875 -0.984375 \r\nz\r\nM 9.421875 75.984375 \r\nL 18.40625 75.984375 \r\nL 18.40625 64.59375 \r\nL 9.421875 64.59375 \r\nz\r\n\" id=\"DejaVuSans-106\"/>\r\n       <path d=\"M 10.796875 72.90625 \r\nL 49.515625 72.90625 \r\nL 49.515625 64.59375 \r\nL 19.828125 64.59375 \r\nL 19.828125 46.734375 \r\nQ 21.96875 47.46875 24.109375 47.828125 \r\nQ 26.265625 48.1875 28.421875 48.1875 \r\nQ 40.625 48.1875 47.75 41.5 \r\nQ 54.890625 34.8125 54.890625 23.390625 \r\nQ 54.890625 11.625 47.5625 5.09375 \r\nQ 40.234375 -1.421875 26.90625 -1.421875 \r\nQ 22.3125 -1.421875 17.546875 -0.640625 \r\nQ 12.796875 0.140625 7.71875 1.703125 \r\nL 7.71875 11.625 \r\nQ 12.109375 9.234375 16.796875 8.0625 \r\nQ 21.484375 6.890625 26.703125 6.890625 \r\nQ 35.15625 6.890625 40.078125 11.328125 \r\nQ 45.015625 15.765625 45.015625 23.390625 \r\nQ 45.015625 31 40.078125 35.4375 \r\nQ 35.15625 39.890625 26.703125 39.890625 \r\nQ 22.75 39.890625 18.8125 39.015625 \r\nQ 14.890625 38.140625 10.796875 36.28125 \r\nz\r\n\" id=\"DejaVuSans-53\"/>\r\n      </defs>\r\n      <use xlink:href=\"#DejaVuSans-98\"/>\r\n      <use x=\"63.476562\" xlink:href=\"#DejaVuSans-39\"/>\r\n      <use x=\"90.966797\" xlink:href=\"#DejaVuSans-66\"/>\r\n      <use x=\"159.570312\" xlink:href=\"#DejaVuSans-101\"/>\r\n      <use x=\"221.09375\" xlink:href=\"#DejaVuSans-105\"/>\r\n      <use x=\"248.876953\" xlink:href=\"#DejaVuSans-106\"/>\r\n      <use x=\"276.660156\" xlink:href=\"#DejaVuSans-105\"/>\r\n      <use x=\"304.443359\" xlink:href=\"#DejaVuSans-110\"/>\r\n      <use x=\"367.822266\" xlink:href=\"#DejaVuSans-103\"/>\r\n      <use x=\"431.298828\" xlink:href=\"#DejaVuSans-39\"/>\r\n      <use x=\"458.789062\" xlink:href=\"#DejaVuSans-32\"/>\r\n      <use x=\"490.576172\" xlink:href=\"#DejaVuSans-45\"/>\r\n      <use x=\"526.660156\" xlink:href=\"#DejaVuSans-32\"/>\r\n      <use x=\"558.447266\" xlink:href=\"#DejaVuSans-49\"/>\r\n      <use x=\"622.070312\" xlink:href=\"#DejaVuSans-53\"/>\r\n     </g>\r\n    </g>\r\n    <g id=\"patch_16\">\r\n     <path d=\"M 11.2 68.272812 \r\nL 31.2 68.272812 \r\nL 31.2 61.272812 \r\nL 11.2 61.272812 \r\nz\r\n\" style=\"fill:#2ca02c;\"/>\r\n    </g>\r\n    <g id=\"text_4\">\r\n     <!-- b'New York' - 14 -->\r\n     <g transform=\"translate(39.2 68.272812)scale(0.1 -0.1)\">\r\n      <defs>\r\n       <path d=\"M 9.8125 72.90625 \r\nL 23.09375 72.90625 \r\nL 55.421875 11.921875 \r\nL 55.421875 72.90625 \r\nL 64.984375 72.90625 \r\nL 64.984375 0 \r\nL 51.703125 0 \r\nL 19.390625 60.984375 \r\nL 19.390625 0 \r\nL 9.8125 0 \r\nz\r\n\" id=\"DejaVuSans-78\"/>\r\n       <path d=\"M -0.203125 72.90625 \r\nL 10.40625 72.90625 \r\nL 30.609375 42.921875 \r\nL 50.6875 72.90625 \r\nL 61.28125 72.90625 \r\nL 35.5 34.71875 \r\nL 35.5 0 \r\nL 25.59375 0 \r\nL 25.59375 34.71875 \r\nz\r\n\" id=\"DejaVuSans-89\"/>\r\n       <path d=\"M 30.609375 48.390625 \r\nQ 23.390625 48.390625 19.1875 42.75 \r\nQ 14.984375 37.109375 14.984375 27.296875 \r\nQ 14.984375 17.484375 19.15625 11.84375 \r\nQ 23.34375 6.203125 30.609375 6.203125 \r\nQ 37.796875 6.203125 41.984375 11.859375 \r\nQ 46.1875 17.53125 46.1875 27.296875 \r\nQ 46.1875 37.015625 41.984375 42.703125 \r\nQ 37.796875 48.390625 30.609375 48.390625 \r\nz\r\nM 30.609375 56 \r\nQ 42.328125 56 49.015625 48.375 \r\nQ 55.71875 40.765625 55.71875 27.296875 \r\nQ 55.71875 13.875 49.015625 6.21875 \r\nQ 42.328125 -1.421875 30.609375 -1.421875 \r\nQ 18.84375 -1.421875 12.171875 6.21875 \r\nQ 5.515625 13.875 5.515625 27.296875 \r\nQ 5.515625 40.765625 12.171875 48.375 \r\nQ 18.84375 56 30.609375 56 \r\nz\r\n\" id=\"DejaVuSans-111\"/>\r\n       <path d=\"M 41.109375 46.296875 \r\nQ 39.59375 47.171875 37.8125 47.578125 \r\nQ 36.03125 48 33.890625 48 \r\nQ 26.265625 48 22.1875 43.046875 \r\nQ 18.109375 38.09375 18.109375 28.8125 \r\nL 18.109375 0 \r\nL 9.078125 0 \r\nL 9.078125 54.6875 \r\nL 18.109375 54.6875 \r\nL 18.109375 46.1875 \r\nQ 20.953125 51.171875 25.484375 53.578125 \r\nQ 30.03125 56 36.53125 56 \r\nQ 37.453125 56 38.578125 55.875 \r\nQ 39.703125 55.765625 41.0625 55.515625 \r\nz\r\n\" id=\"DejaVuSans-114\"/>\r\n       <path d=\"M 9.078125 75.984375 \r\nL 18.109375 75.984375 \r\nL 18.109375 31.109375 \r\nL 44.921875 54.6875 \r\nL 56.390625 54.6875 \r\nL 27.390625 29.109375 \r\nL 57.625 0 \r\nL 45.90625 0 \r\nL 18.109375 26.703125 \r\nL 18.109375 0 \r\nL 9.078125 0 \r\nz\r\n\" id=\"DejaVuSans-107\"/>\r\n       <path d=\"M 37.796875 64.3125 \r\nL 12.890625 25.390625 \r\nL 37.796875 25.390625 \r\nz\r\nM 35.203125 72.90625 \r\nL 47.609375 72.90625 \r\nL 47.609375 25.390625 \r\nL 58.015625 25.390625 \r\nL 58.015625 17.1875 \r\nL 47.609375 17.1875 \r\nL 47.609375 0 \r\nL 37.796875 0 \r\nL 37.796875 17.1875 \r\nL 4.890625 17.1875 \r\nL 4.890625 26.703125 \r\nz\r\n\" id=\"DejaVuSans-52\"/>\r\n      </defs>\r\n      <use xlink:href=\"#DejaVuSans-98\"/>\r\n      <use x=\"63.476562\" xlink:href=\"#DejaVuSans-39\"/>\r\n      <use x=\"90.966797\" xlink:href=\"#DejaVuSans-78\"/>\r\n      <use x=\"165.771484\" xlink:href=\"#DejaVuSans-101\"/>\r\n      <use x=\"227.294922\" xlink:href=\"#DejaVuSans-119\"/>\r\n      <use x=\"309.082031\" xlink:href=\"#DejaVuSans-32\"/>\r\n      <use x=\"340.869141\" xlink:href=\"#DejaVuSans-89\"/>\r\n      <use x=\"388.703125\" xlink:href=\"#DejaVuSans-111\"/>\r\n      <use x=\"449.884766\" xlink:href=\"#DejaVuSans-114\"/>\r\n      <use x=\"490.998047\" xlink:href=\"#DejaVuSans-107\"/>\r\n      <use x=\"548.908203\" xlink:href=\"#DejaVuSans-39\"/>\r\n      <use x=\"576.398438\" xlink:href=\"#DejaVuSans-32\"/>\r\n      <use x=\"608.185547\" xlink:href=\"#DejaVuSans-45\"/>\r\n      <use x=\"644.269531\" xlink:href=\"#DejaVuSans-32\"/>\r\n      <use x=\"676.056641\" xlink:href=\"#DejaVuSans-49\"/>\r\n      <use x=\"739.679688\" xlink:href=\"#DejaVuSans-52\"/>\r\n     </g>\r\n    </g>\r\n    <g id=\"patch_17\">\r\n     <path d=\"M 11.2 82.950937 \r\nL 31.2 82.950937 \r\nL 31.2 75.950937 \r\nL 11.2 75.950937 \r\nz\r\n\" style=\"fill:#d62728;\"/>\r\n    </g>\r\n    <g id=\"text_5\">\r\n     <!-- b'Jinrongjie (Xicheng District)' - 9 -->\r\n     <g transform=\"translate(39.2 82.950937)scale(0.1 -0.1)\">\r\n      <defs>\r\n       <path d=\"M 9.8125 72.90625 \r\nL 19.671875 72.90625 \r\nL 19.671875 5.078125 \r\nQ 19.671875 -8.109375 14.671875 -14.0625 \r\nQ 9.671875 -20.015625 -1.421875 -20.015625 \r\nL -5.171875 -20.015625 \r\nL -5.171875 -11.71875 \r\nL -2.09375 -11.71875 \r\nQ 4.4375 -11.71875 7.125 -8.046875 \r\nQ 9.8125 -4.390625 9.8125 5.078125 \r\nz\r\n\" id=\"DejaVuSans-74\"/>\r\n       <path d=\"M 31 75.875 \r\nQ 24.46875 64.65625 21.28125 53.65625 \r\nQ 18.109375 42.671875 18.109375 31.390625 \r\nQ 18.109375 20.125 21.3125 9.0625 \r\nQ 24.515625 -2 31 -13.1875 \r\nL 23.1875 -13.1875 \r\nQ 15.875 -1.703125 12.234375 9.375 \r\nQ 8.59375 20.453125 8.59375 31.390625 \r\nQ 8.59375 42.28125 12.203125 53.3125 \r\nQ 15.828125 64.359375 23.1875 75.875 \r\nz\r\n\" id=\"DejaVuSans-40\"/>\r\n       <path d=\"M 6.296875 72.90625 \r\nL 16.890625 72.90625 \r\nL 35.015625 45.796875 \r\nL 53.21875 72.90625 \r\nL 63.8125 72.90625 \r\nL 40.375 37.890625 \r\nL 65.375 0 \r\nL 54.78125 0 \r\nL 34.28125 31 \r\nL 13.625 0 \r\nL 2.984375 0 \r\nL 29 38.921875 \r\nz\r\n\" id=\"DejaVuSans-88\"/>\r\n       <path d=\"M 48.78125 52.59375 \r\nL 48.78125 44.1875 \r\nQ 44.96875 46.296875 41.140625 47.34375 \r\nQ 37.3125 48.390625 33.40625 48.390625 \r\nQ 24.65625 48.390625 19.8125 42.84375 \r\nQ 14.984375 37.3125 14.984375 27.296875 \r\nQ 14.984375 17.28125 19.8125 11.734375 \r\nQ 24.65625 6.203125 33.40625 6.203125 \r\nQ 37.3125 6.203125 41.140625 7.25 \r\nQ 44.96875 8.296875 48.78125 10.40625 \r\nL 48.78125 2.09375 \r\nQ 45.015625 0.34375 40.984375 -0.53125 \r\nQ 36.96875 -1.421875 32.421875 -1.421875 \r\nQ 20.0625 -1.421875 12.78125 6.34375 \r\nQ 5.515625 14.109375 5.515625 27.296875 \r\nQ 5.515625 40.671875 12.859375 48.328125 \r\nQ 20.21875 56 33.015625 56 \r\nQ 37.15625 56 41.109375 55.140625 \r\nQ 45.0625 54.296875 48.78125 52.59375 \r\nz\r\n\" id=\"DejaVuSans-99\"/>\r\n       <path d=\"M 19.671875 64.796875 \r\nL 19.671875 8.109375 \r\nL 31.59375 8.109375 \r\nQ 46.6875 8.109375 53.6875 14.9375 \r\nQ 60.6875 21.78125 60.6875 36.53125 \r\nQ 60.6875 51.171875 53.6875 57.984375 \r\nQ 46.6875 64.796875 31.59375 64.796875 \r\nz\r\nM 9.8125 72.90625 \r\nL 30.078125 72.90625 \r\nQ 51.265625 72.90625 61.171875 64.09375 \r\nQ 71.09375 55.28125 71.09375 36.53125 \r\nQ 71.09375 17.671875 61.125 8.828125 \r\nQ 51.171875 0 30.078125 0 \r\nL 9.8125 0 \r\nz\r\n\" id=\"DejaVuSans-68\"/>\r\n       <path d=\"M 8.015625 75.875 \r\nL 15.828125 75.875 \r\nQ 23.140625 64.359375 26.78125 53.3125 \r\nQ 30.421875 42.28125 30.421875 31.390625 \r\nQ 30.421875 20.453125 26.78125 9.375 \r\nQ 23.140625 -1.703125 15.828125 -13.1875 \r\nL 8.015625 -13.1875 \r\nQ 14.5 -2 17.703125 9.0625 \r\nQ 20.90625 20.125 20.90625 31.390625 \r\nQ 20.90625 42.671875 17.703125 53.65625 \r\nQ 14.5 64.65625 8.015625 75.875 \r\nz\r\n\" id=\"DejaVuSans-41\"/>\r\n       <path d=\"M 10.984375 1.515625 \r\nL 10.984375 10.5 \r\nQ 14.703125 8.734375 18.5 7.8125 \r\nQ 22.3125 6.890625 25.984375 6.890625 \r\nQ 35.75 6.890625 40.890625 13.453125 \r\nQ 46.046875 20.015625 46.78125 33.40625 \r\nQ 43.953125 29.203125 39.59375 26.953125 \r\nQ 35.25 24.703125 29.984375 24.703125 \r\nQ 19.046875 24.703125 12.671875 31.3125 \r\nQ 6.296875 37.9375 6.296875 49.421875 \r\nQ 6.296875 60.640625 12.9375 67.421875 \r\nQ 19.578125 74.21875 30.609375 74.21875 \r\nQ 43.265625 74.21875 49.921875 64.515625 \r\nQ 56.59375 54.828125 56.59375 36.375 \r\nQ 56.59375 19.140625 48.40625 8.859375 \r\nQ 40.234375 -1.421875 26.421875 -1.421875 \r\nQ 22.703125 -1.421875 18.890625 -0.6875 \r\nQ 15.09375 0.046875 10.984375 1.515625 \r\nz\r\nM 30.609375 32.421875 \r\nQ 37.25 32.421875 41.125 36.953125 \r\nQ 45.015625 41.5 45.015625 49.421875 \r\nQ 45.015625 57.28125 41.125 61.84375 \r\nQ 37.25 66.40625 30.609375 66.40625 \r\nQ 23.96875 66.40625 20.09375 61.84375 \r\nQ 16.21875 57.28125 16.21875 49.421875 \r\nQ 16.21875 41.5 20.09375 36.953125 \r\nQ 23.96875 32.421875 30.609375 32.421875 \r\nz\r\n\" id=\"DejaVuSans-57\"/>\r\n      </defs>\r\n      <use xlink:href=\"#DejaVuSans-98\"/>\r\n      <use x=\"63.476562\" xlink:href=\"#DejaVuSans-39\"/>\r\n      <use x=\"90.966797\" xlink:href=\"#DejaVuSans-74\"/>\r\n      <use x=\"120.458984\" xlink:href=\"#DejaVuSans-105\"/>\r\n      <use x=\"148.242188\" xlink:href=\"#DejaVuSans-110\"/>\r\n      <use x=\"211.621094\" xlink:href=\"#DejaVuSans-114\"/>\r\n      <use x=\"250.484375\" xlink:href=\"#DejaVuSans-111\"/>\r\n      <use x=\"311.666016\" xlink:href=\"#DejaVuSans-110\"/>\r\n      <use x=\"375.044922\" xlink:href=\"#DejaVuSans-103\"/>\r\n      <use x=\"438.521484\" xlink:href=\"#DejaVuSans-106\"/>\r\n      <use x=\"466.304688\" xlink:href=\"#DejaVuSans-105\"/>\r\n      <use x=\"494.087891\" xlink:href=\"#DejaVuSans-101\"/>\r\n      <use x=\"555.611328\" xlink:href=\"#DejaVuSans-32\"/>\r\n      <use x=\"587.398438\" xlink:href=\"#DejaVuSans-40\"/>\r\n      <use x=\"626.412109\" xlink:href=\"#DejaVuSans-88\"/>\r\n      <use x=\"694.917969\" xlink:href=\"#DejaVuSans-105\"/>\r\n      <use x=\"722.701172\" xlink:href=\"#DejaVuSans-99\"/>\r\n      <use x=\"777.681641\" xlink:href=\"#DejaVuSans-104\"/>\r\n      <use x=\"841.060547\" xlink:href=\"#DejaVuSans-101\"/>\r\n      <use x=\"902.583984\" xlink:href=\"#DejaVuSans-110\"/>\r\n      <use x=\"965.962891\" xlink:href=\"#DejaVuSans-103\"/>\r\n      <use x=\"1029.439453\" xlink:href=\"#DejaVuSans-32\"/>\r\n      <use x=\"1061.226562\" xlink:href=\"#DejaVuSans-68\"/>\r\n      <use x=\"1138.228516\" xlink:href=\"#DejaVuSans-105\"/>\r\n      <use x=\"1166.011719\" xlink:href=\"#DejaVuSans-115\"/>\r\n      <use x=\"1218.111328\" xlink:href=\"#DejaVuSans-116\"/>\r\n      <use x=\"1257.320312\" xlink:href=\"#DejaVuSans-114\"/>\r\n      <use x=\"1298.433594\" xlink:href=\"#DejaVuSans-105\"/>\r\n      <use x=\"1326.216797\" xlink:href=\"#DejaVuSans-99\"/>\r\n      <use x=\"1381.197266\" xlink:href=\"#DejaVuSans-116\"/>\r\n      <use x=\"1420.40625\" xlink:href=\"#DejaVuSans-41\"/>\r\n      <use x=\"1459.419922\" xlink:href=\"#DejaVuSans-39\"/>\r\n      <use x=\"1486.910156\" xlink:href=\"#DejaVuSans-32\"/>\r\n      <use x=\"1518.697266\" xlink:href=\"#DejaVuSans-45\"/>\r\n      <use x=\"1554.78125\" xlink:href=\"#DejaVuSans-32\"/>\r\n      <use x=\"1586.568359\" xlink:href=\"#DejaVuSans-57\"/>\r\n     </g>\r\n    </g>\r\n    <g id=\"patch_18\">\r\n     <path d=\"M 11.2 97.629062 \r\nL 31.2 97.629062 \r\nL 31.2 90.629062 \r\nL 11.2 90.629062 \r\nz\r\n\" style=\"fill:#9467bd;\"/>\r\n    </g>\r\n    <g id=\"text_6\">\r\n     <!-- b'Valcanneto' - 3 -->\r\n     <g transform=\"translate(39.2 97.629062)scale(0.1 -0.1)\">\r\n      <defs>\r\n       <path d=\"M 28.609375 0 \r\nL 0.78125 72.90625 \r\nL 11.078125 72.90625 \r\nL 34.1875 11.53125 \r\nL 57.328125 72.90625 \r\nL 67.578125 72.90625 \r\nL 39.796875 0 \r\nz\r\n\" id=\"DejaVuSans-86\"/>\r\n       <path d=\"M 9.421875 75.984375 \r\nL 18.40625 75.984375 \r\nL 18.40625 0 \r\nL 9.421875 0 \r\nz\r\n\" id=\"DejaVuSans-108\"/>\r\n       <path d=\"M 40.578125 39.3125 \r\nQ 47.65625 37.796875 51.625 33 \r\nQ 55.609375 28.21875 55.609375 21.1875 \r\nQ 55.609375 10.40625 48.1875 4.484375 \r\nQ 40.765625 -1.421875 27.09375 -1.421875 \r\nQ 22.515625 -1.421875 17.65625 -0.515625 \r\nQ 12.796875 0.390625 7.625 2.203125 \r\nL 7.625 11.71875 \r\nQ 11.71875 9.328125 16.59375 8.109375 \r\nQ 21.484375 6.890625 26.8125 6.890625 \r\nQ 36.078125 6.890625 40.9375 10.546875 \r\nQ 45.796875 14.203125 45.796875 21.1875 \r\nQ 45.796875 27.640625 41.28125 31.265625 \r\nQ 36.765625 34.90625 28.71875 34.90625 \r\nL 20.21875 34.90625 \r\nL 20.21875 43.015625 \r\nL 29.109375 43.015625 \r\nQ 36.375 43.015625 40.234375 45.921875 \r\nQ 44.09375 48.828125 44.09375 54.296875 \r\nQ 44.09375 59.90625 40.109375 62.90625 \r\nQ 36.140625 65.921875 28.71875 65.921875 \r\nQ 24.65625 65.921875 20.015625 65.03125 \r\nQ 15.375 64.15625 9.8125 62.3125 \r\nL 9.8125 71.09375 \r\nQ 15.4375 72.65625 20.34375 73.4375 \r\nQ 25.25 74.21875 29.59375 74.21875 \r\nQ 40.828125 74.21875 47.359375 69.109375 \r\nQ 53.90625 64.015625 53.90625 55.328125 \r\nQ 53.90625 49.265625 50.4375 45.09375 \r\nQ 46.96875 40.921875 40.578125 39.3125 \r\nz\r\n\" id=\"DejaVuSans-51\"/>\r\n      </defs>\r\n      <use xlink:href=\"#DejaVuSans-98\"/>\r\n      <use x=\"63.476562\" xlink:href=\"#DejaVuSans-39\"/>\r\n      <use x=\"90.966797\" xlink:href=\"#DejaVuSans-86\"/>\r\n      <use x=\"151.625\" xlink:href=\"#DejaVuSans-97\"/>\r\n      <use x=\"212.904297\" xlink:href=\"#DejaVuSans-108\"/>\r\n      <use x=\"240.6875\" xlink:href=\"#DejaVuSans-99\"/>\r\n      <use x=\"295.667969\" xlink:href=\"#DejaVuSans-97\"/>\r\n      <use x=\"356.947266\" xlink:href=\"#DejaVuSans-110\"/>\r\n      <use x=\"420.326172\" xlink:href=\"#DejaVuSans-110\"/>\r\n      <use x=\"483.705078\" xlink:href=\"#DejaVuSans-101\"/>\r\n      <use x=\"545.228516\" xlink:href=\"#DejaVuSans-116\"/>\r\n      <use x=\"584.4375\" xlink:href=\"#DejaVuSans-111\"/>\r\n      <use x=\"645.619141\" xlink:href=\"#DejaVuSans-39\"/>\r\n      <use x=\"673.109375\" xlink:href=\"#DejaVuSans-32\"/>\r\n      <use x=\"704.896484\" xlink:href=\"#DejaVuSans-45\"/>\r\n      <use x=\"740.980469\" xlink:href=\"#DejaVuSans-32\"/>\r\n      <use x=\"772.767578\" xlink:href=\"#DejaVuSans-51\"/>\r\n     </g>\r\n    </g>\r\n    <g id=\"patch_19\">\r\n     <path d=\"M 11.2 112.307187 \r\nL 31.2 112.307187 \r\nL 31.2 105.307187 \r\nL 11.2 105.307187 \r\nz\r\n\" style=\"fill:#8c564b;\"/>\r\n    </g>\r\n    <g id=\"text_7\">\r\n     <!-- b'Hong Kong' - 2 -->\r\n     <g transform=\"translate(39.2 112.307187)scale(0.1 -0.1)\">\r\n      <defs>\r\n       <path d=\"M 19.1875 8.296875 \r\nL 53.609375 8.296875 \r\nL 53.609375 0 \r\nL 7.328125 0 \r\nL 7.328125 8.296875 \r\nQ 12.9375 14.109375 22.625 23.890625 \r\nQ 32.328125 33.6875 34.8125 36.53125 \r\nQ 39.546875 41.84375 41.421875 45.53125 \r\nQ 43.3125 49.21875 43.3125 52.78125 \r\nQ 43.3125 58.59375 39.234375 62.25 \r\nQ 35.15625 65.921875 28.609375 65.921875 \r\nQ 23.96875 65.921875 18.8125 64.3125 \r\nQ 13.671875 62.703125 7.8125 59.421875 \r\nL 7.8125 69.390625 \r\nQ 13.765625 71.78125 18.9375 73 \r\nQ 24.125 74.21875 28.421875 74.21875 \r\nQ 39.75 74.21875 46.484375 68.546875 \r\nQ 53.21875 62.890625 53.21875 53.421875 \r\nQ 53.21875 48.921875 51.53125 44.890625 \r\nQ 49.859375 40.875 45.40625 35.40625 \r\nQ 44.1875 33.984375 37.640625 27.21875 \r\nQ 31.109375 20.453125 19.1875 8.296875 \r\nz\r\n\" id=\"DejaVuSans-50\"/>\r\n      </defs>\r\n      <use xlink:href=\"#DejaVuSans-98\"/>\r\n      <use x=\"63.476562\" xlink:href=\"#DejaVuSans-39\"/>\r\n      <use x=\"90.966797\" xlink:href=\"#DejaVuSans-72\"/>\r\n      <use x=\"166.162109\" xlink:href=\"#DejaVuSans-111\"/>\r\n      <use x=\"227.34375\" xlink:href=\"#DejaVuSans-110\"/>\r\n      <use x=\"290.722656\" xlink:href=\"#DejaVuSans-103\"/>\r\n      <use x=\"354.199219\" xlink:href=\"#DejaVuSans-32\"/>\r\n      <use x=\"385.986328\" xlink:href=\"#DejaVuSans-75\"/>\r\n      <use x=\"446.5625\" xlink:href=\"#DejaVuSans-111\"/>\r\n      <use x=\"507.744141\" xlink:href=\"#DejaVuSans-110\"/>\r\n      <use x=\"571.123047\" xlink:href=\"#DejaVuSans-103\"/>\r\n      <use x=\"634.599609\" xlink:href=\"#DejaVuSans-39\"/>\r\n      <use x=\"662.089844\" xlink:href=\"#DejaVuSans-32\"/>\r\n      <use x=\"693.876953\" xlink:href=\"#DejaVuSans-45\"/>\r\n      <use x=\"729.960938\" xlink:href=\"#DejaVuSans-32\"/>\r\n      <use x=\"761.748047\" xlink:href=\"#DejaVuSans-50\"/>\r\n     </g>\r\n    </g>\r\n    <g id=\"patch_20\">\r\n     <path d=\"M 11.2 126.985312 \r\nL 31.2 126.985312 \r\nL 31.2 119.985312 \r\nL 11.2 119.985312 \r\nz\r\n\" style=\"fill:#e377c2;\"/>\r\n    </g>\r\n    <g id=\"text_8\">\r\n     <!-- b'Quarry Bay' - 1 -->\r\n     <g transform=\"translate(39.2 126.985312)scale(0.1 -0.1)\">\r\n      <defs>\r\n       <path d=\"M 39.40625 66.21875 \r\nQ 28.65625 66.21875 22.328125 58.203125 \r\nQ 16.015625 50.203125 16.015625 36.375 \r\nQ 16.015625 22.609375 22.328125 14.59375 \r\nQ 28.65625 6.59375 39.40625 6.59375 \r\nQ 50.140625 6.59375 56.421875 14.59375 \r\nQ 62.703125 22.609375 62.703125 36.375 \r\nQ 62.703125 50.203125 56.421875 58.203125 \r\nQ 50.140625 66.21875 39.40625 66.21875 \r\nz\r\nM 53.21875 1.3125 \r\nL 66.21875 -12.890625 \r\nL 54.296875 -12.890625 \r\nL 43.5 -1.21875 \r\nQ 41.890625 -1.3125 41.03125 -1.359375 \r\nQ 40.1875 -1.421875 39.40625 -1.421875 \r\nQ 24.03125 -1.421875 14.8125 8.859375 \r\nQ 5.609375 19.140625 5.609375 36.375 \r\nQ 5.609375 53.65625 14.8125 63.9375 \r\nQ 24.03125 74.21875 39.40625 74.21875 \r\nQ 54.734375 74.21875 63.90625 63.9375 \r\nQ 73.09375 53.65625 73.09375 36.375 \r\nQ 73.09375 23.6875 67.984375 14.640625 \r\nQ 62.890625 5.609375 53.21875 1.3125 \r\nz\r\n\" id=\"DejaVuSans-81\"/>\r\n      </defs>\r\n      <use xlink:href=\"#DejaVuSans-98\"/>\r\n      <use x=\"63.476562\" xlink:href=\"#DejaVuSans-39\"/>\r\n      <use x=\"90.966797\" xlink:href=\"#DejaVuSans-81\"/>\r\n      <use x=\"169.677734\" xlink:href=\"#DejaVuSans-117\"/>\r\n      <use x=\"233.056641\" xlink:href=\"#DejaVuSans-97\"/>\r\n      <use x=\"294.335938\" xlink:href=\"#DejaVuSans-114\"/>\r\n      <use x=\"333.699219\" xlink:href=\"#DejaVuSans-114\"/>\r\n      <use x=\"374.8125\" xlink:href=\"#DejaVuSans-121\"/>\r\n      <use x=\"433.992188\" xlink:href=\"#DejaVuSans-32\"/>\r\n      <use x=\"465.779297\" xlink:href=\"#DejaVuSans-66\"/>\r\n      <use x=\"534.382812\" xlink:href=\"#DejaVuSans-97\"/>\r\n      <use x=\"595.662109\" xlink:href=\"#DejaVuSans-121\"/>\r\n      <use x=\"654.841797\" xlink:href=\"#DejaVuSans-39\"/>\r\n      <use x=\"682.332031\" xlink:href=\"#DejaVuSans-32\"/>\r\n      <use x=\"714.119141\" xlink:href=\"#DejaVuSans-45\"/>\r\n      <use x=\"750.203125\" xlink:href=\"#DejaVuSans-32\"/>\r\n      <use x=\"781.990234\" xlink:href=\"#DejaVuSans-49\"/>\r\n     </g>\r\n    </g>\r\n    <g id=\"patch_21\">\r\n     <path d=\"M 11.2 141.663437 \r\nL 31.2 141.663437 \r\nL 31.2 134.663437 \r\nL 11.2 134.663437 \r\nz\r\n\" style=\"fill:#7f7f7f;\"/>\r\n    </g>\r\n    <g id=\"text_9\">\r\n     <!-- b'Sydney' - 1 -->\r\n     <g transform=\"translate(39.2 141.663437)scale(0.1 -0.1)\">\r\n      <defs>\r\n       <path d=\"M 53.515625 70.515625 \r\nL 53.515625 60.890625 \r\nQ 47.90625 63.578125 42.921875 64.890625 \r\nQ 37.9375 66.21875 33.296875 66.21875 \r\nQ 25.25 66.21875 20.875 63.09375 \r\nQ 16.5 59.96875 16.5 54.203125 \r\nQ 16.5 49.359375 19.40625 46.890625 \r\nQ 22.3125 44.4375 30.421875 42.921875 \r\nL 36.375 41.703125 \r\nQ 47.40625 39.59375 52.65625 34.296875 \r\nQ 57.90625 29 57.90625 20.125 \r\nQ 57.90625 9.515625 50.796875 4.046875 \r\nQ 43.703125 -1.421875 29.984375 -1.421875 \r\nQ 24.8125 -1.421875 18.96875 -0.25 \r\nQ 13.140625 0.921875 6.890625 3.21875 \r\nL 6.890625 13.375 \r\nQ 12.890625 10.015625 18.65625 8.296875 \r\nQ 24.421875 6.59375 29.984375 6.59375 \r\nQ 38.421875 6.59375 43.015625 9.90625 \r\nQ 47.609375 13.234375 47.609375 19.390625 \r\nQ 47.609375 24.75 44.3125 27.78125 \r\nQ 41.015625 30.8125 33.5 32.328125 \r\nL 27.484375 33.5 \r\nQ 16.453125 35.6875 11.515625 40.375 \r\nQ 6.59375 45.0625 6.59375 53.421875 \r\nQ 6.59375 63.09375 13.40625 68.65625 \r\nQ 20.21875 74.21875 32.171875 74.21875 \r\nQ 37.3125 74.21875 42.625 73.28125 \r\nQ 47.953125 72.359375 53.515625 70.515625 \r\nz\r\n\" id=\"DejaVuSans-83\"/>\r\n       <path d=\"M 45.40625 46.390625 \r\nL 45.40625 75.984375 \r\nL 54.390625 75.984375 \r\nL 54.390625 0 \r\nL 45.40625 0 \r\nL 45.40625 8.203125 \r\nQ 42.578125 3.328125 38.25 0.953125 \r\nQ 33.9375 -1.421875 27.875 -1.421875 \r\nQ 17.96875 -1.421875 11.734375 6.484375 \r\nQ 5.515625 14.40625 5.515625 27.296875 \r\nQ 5.515625 40.1875 11.734375 48.09375 \r\nQ 17.96875 56 27.875 56 \r\nQ 33.9375 56 38.25 53.625 \r\nQ 42.578125 51.265625 45.40625 46.390625 \r\nz\r\nM 14.796875 27.296875 \r\nQ 14.796875 17.390625 18.875 11.75 \r\nQ 22.953125 6.109375 30.078125 6.109375 \r\nQ 37.203125 6.109375 41.296875 11.75 \r\nQ 45.40625 17.390625 45.40625 27.296875 \r\nQ 45.40625 37.203125 41.296875 42.84375 \r\nQ 37.203125 48.484375 30.078125 48.484375 \r\nQ 22.953125 48.484375 18.875 42.84375 \r\nQ 14.796875 37.203125 14.796875 27.296875 \r\nz\r\n\" id=\"DejaVuSans-100\"/>\r\n      </defs>\r\n      <use xlink:href=\"#DejaVuSans-98\"/>\r\n      <use x=\"63.476562\" xlink:href=\"#DejaVuSans-39\"/>\r\n      <use x=\"90.966797\" xlink:href=\"#DejaVuSans-83\"/>\r\n      <use x=\"154.443359\" xlink:href=\"#DejaVuSans-121\"/>\r\n      <use x=\"213.623047\" xlink:href=\"#DejaVuSans-100\"/>\r\n      <use x=\"277.099609\" xlink:href=\"#DejaVuSans-110\"/>\r\n      <use x=\"340.478516\" xlink:href=\"#DejaVuSans-101\"/>\r\n      <use x=\"402.001953\" xlink:href=\"#DejaVuSans-121\"/>\r\n      <use x=\"461.181641\" xlink:href=\"#DejaVuSans-39\"/>\r\n      <use x=\"488.671875\" xlink:href=\"#DejaVuSans-32\"/>\r\n      <use x=\"520.458984\" xlink:href=\"#DejaVuSans-45\"/>\r\n      <use x=\"556.542969\" xlink:href=\"#DejaVuSans-32\"/>\r\n      <use x=\"588.330078\" xlink:href=\"#DejaVuSans-49\"/>\r\n     </g>\r\n    </g>\r\n    <g id=\"patch_22\">\r\n     <path d=\"M 11.2 156.341562 \r\nL 31.2 156.341562 \r\nL 31.2 149.341562 \r\nL 11.2 149.341562 \r\nz\r\n\" style=\"fill:#bcbd22;\"/>\r\n    </g>\r\n    <g id=\"text_10\">\r\n     <!-- b'San Francisco (Financial District)' - 1 -->\r\n     <g transform=\"translate(39.2 156.341562)scale(0.1 -0.1)\">\r\n      <defs>\r\n       <path d=\"M 9.8125 72.90625 \r\nL 51.703125 72.90625 \r\nL 51.703125 64.59375 \r\nL 19.671875 64.59375 \r\nL 19.671875 43.109375 \r\nL 48.578125 43.109375 \r\nL 48.578125 34.8125 \r\nL 19.671875 34.8125 \r\nL 19.671875 0 \r\nL 9.8125 0 \r\nz\r\n\" id=\"DejaVuSans-70\"/>\r\n      </defs>\r\n      <use xlink:href=\"#DejaVuSans-98\"/>\r\n      <use x=\"63.476562\" xlink:href=\"#DejaVuSans-39\"/>\r\n      <use x=\"90.966797\" xlink:href=\"#DejaVuSans-83\"/>\r\n      <use x=\"154.443359\" xlink:href=\"#DejaVuSans-97\"/>\r\n      <use x=\"215.722656\" xlink:href=\"#DejaVuSans-110\"/>\r\n      <use x=\"279.101562\" xlink:href=\"#DejaVuSans-32\"/>\r\n      <use x=\"310.888672\" xlink:href=\"#DejaVuSans-70\"/>\r\n      <use x=\"361.158203\" xlink:href=\"#DejaVuSans-114\"/>\r\n      <use x=\"402.271484\" xlink:href=\"#DejaVuSans-97\"/>\r\n      <use x=\"463.550781\" xlink:href=\"#DejaVuSans-110\"/>\r\n      <use x=\"526.929688\" xlink:href=\"#DejaVuSans-99\"/>\r\n      <use x=\"581.910156\" xlink:href=\"#DejaVuSans-105\"/>\r\n      <use x=\"609.693359\" xlink:href=\"#DejaVuSans-115\"/>\r\n      <use x=\"661.792969\" xlink:href=\"#DejaVuSans-99\"/>\r\n      <use x=\"716.773438\" xlink:href=\"#DejaVuSans-111\"/>\r\n      <use x=\"777.955078\" xlink:href=\"#DejaVuSans-32\"/>\r\n      <use x=\"809.742188\" xlink:href=\"#DejaVuSans-40\"/>\r\n      <use x=\"848.755859\" xlink:href=\"#DejaVuSans-70\"/>\r\n      <use x=\"899.025391\" xlink:href=\"#DejaVuSans-105\"/>\r\n      <use x=\"926.808594\" xlink:href=\"#DejaVuSans-110\"/>\r\n      <use x=\"990.1875\" xlink:href=\"#DejaVuSans-97\"/>\r\n      <use x=\"1051.466797\" xlink:href=\"#DejaVuSans-110\"/>\r\n      <use x=\"1114.845703\" xlink:href=\"#DejaVuSans-99\"/>\r\n      <use x=\"1169.826172\" xlink:href=\"#DejaVuSans-105\"/>\r\n      <use x=\"1197.609375\" xlink:href=\"#DejaVuSans-97\"/>\r\n      <use x=\"1258.888672\" xlink:href=\"#DejaVuSans-108\"/>\r\n      <use x=\"1286.671875\" xlink:href=\"#DejaVuSans-32\"/>\r\n      <use x=\"1318.458984\" xlink:href=\"#DejaVuSans-68\"/>\r\n      <use x=\"1395.460938\" xlink:href=\"#DejaVuSans-105\"/>\r\n      <use x=\"1423.244141\" xlink:href=\"#DejaVuSans-115\"/>\r\n      <use x=\"1475.34375\" xlink:href=\"#DejaVuSans-116\"/>\r\n      <use x=\"1514.552734\" xlink:href=\"#DejaVuSans-114\"/>\r\n      <use x=\"1555.666016\" xlink:href=\"#DejaVuSans-105\"/>\r\n      <use x=\"1583.449219\" xlink:href=\"#DejaVuSans-99\"/>\r\n      <use x=\"1638.429688\" xlink:href=\"#DejaVuSans-116\"/>\r\n      <use x=\"1677.638672\" xlink:href=\"#DejaVuSans-41\"/>\r\n      <use x=\"1716.652344\" xlink:href=\"#DejaVuSans-39\"/>\r\n      <use x=\"1744.142578\" xlink:href=\"#DejaVuSans-32\"/>\r\n      <use x=\"1775.929688\" xlink:href=\"#DejaVuSans-45\"/>\r\n      <use x=\"1812.013672\" xlink:href=\"#DejaVuSans-32\"/>\r\n      <use x=\"1843.800781\" xlink:href=\"#DejaVuSans-49\"/>\r\n     </g>\r\n    </g>\r\n    <g id=\"patch_23\">\r\n     <path d=\"M 11.2 171.019687 \r\nL 31.2 171.019687 \r\nL 31.2 164.019687 \r\nL 11.2 164.019687 \r\nz\r\n\" style=\"fill:#17becf;\"/>\r\n    </g>\r\n    <g id=\"text_11\">\r\n     <!-- b'Mountain View' - 1 -->\r\n     <g transform=\"translate(39.2 171.019687)scale(0.1 -0.1)\">\r\n      <defs>\r\n       <path d=\"M 9.8125 72.90625 \r\nL 24.515625 72.90625 \r\nL 43.109375 23.296875 \r\nL 61.8125 72.90625 \r\nL 76.515625 72.90625 \r\nL 76.515625 0 \r\nL 66.890625 0 \r\nL 66.890625 64.015625 \r\nL 48.09375 14.015625 \r\nL 38.1875 14.015625 \r\nL 19.390625 64.015625 \r\nL 19.390625 0 \r\nL 9.8125 0 \r\nz\r\n\" id=\"DejaVuSans-77\"/>\r\n      </defs>\r\n      <use xlink:href=\"#DejaVuSans-98\"/>\r\n      <use x=\"63.476562\" xlink:href=\"#DejaVuSans-39\"/>\r\n      <use x=\"90.966797\" xlink:href=\"#DejaVuSans-77\"/>\r\n      <use x=\"177.246094\" xlink:href=\"#DejaVuSans-111\"/>\r\n      <use x=\"238.427734\" xlink:href=\"#DejaVuSans-117\"/>\r\n      <use x=\"301.806641\" xlink:href=\"#DejaVuSans-110\"/>\r\n      <use x=\"365.185547\" xlink:href=\"#DejaVuSans-116\"/>\r\n      <use x=\"404.394531\" xlink:href=\"#DejaVuSans-97\"/>\r\n      <use x=\"465.673828\" xlink:href=\"#DejaVuSans-105\"/>\r\n      <use x=\"493.457031\" xlink:href=\"#DejaVuSans-110\"/>\r\n      <use x=\"556.835938\" xlink:href=\"#DejaVuSans-32\"/>\r\n      <use x=\"588.623047\" xlink:href=\"#DejaVuSans-86\"/>\r\n      <use x=\"654.78125\" xlink:href=\"#DejaVuSans-105\"/>\r\n      <use x=\"682.564453\" xlink:href=\"#DejaVuSans-101\"/>\r\n      <use x=\"744.087891\" xlink:href=\"#DejaVuSans-119\"/>\r\n      <use x=\"825.875\" xlink:href=\"#DejaVuSans-39\"/>\r\n      <use x=\"853.365234\" xlink:href=\"#DejaVuSans-32\"/>\r\n      <use x=\"885.152344\" xlink:href=\"#DejaVuSans-45\"/>\r\n      <use x=\"921.236328\" xlink:href=\"#DejaVuSans-32\"/>\r\n      <use x=\"953.023438\" xlink:href=\"#DejaVuSans-49\"/>\r\n     </g>\r\n    </g>\r\n    <g id=\"patch_24\">\r\n     <path d=\"M 11.2 185.697812 \r\nL 31.2 185.697812 \r\nL 31.2 178.697812 \r\nL 11.2 178.697812 \r\nz\r\n\" style=\"fill:#1f77b4;\"/>\r\n    </g>\r\n    <g id=\"text_12\">\r\n     <!-- b'Hangzhou' - 1 -->\r\n     <g transform=\"translate(39.2 185.697812)scale(0.1 -0.1)\">\r\n      <defs>\r\n       <path d=\"M 5.515625 54.6875 \r\nL 48.1875 54.6875 \r\nL 48.1875 46.484375 \r\nL 14.40625 7.171875 \r\nL 48.1875 7.171875 \r\nL 48.1875 0 \r\nL 4.296875 0 \r\nL 4.296875 8.203125 \r\nL 38.09375 47.515625 \r\nL 5.515625 47.515625 \r\nz\r\n\" id=\"DejaVuSans-122\"/>\r\n      </defs>\r\n      <use xlink:href=\"#DejaVuSans-98\"/>\r\n      <use x=\"63.476562\" xlink:href=\"#DejaVuSans-39\"/>\r\n      <use x=\"90.966797\" xlink:href=\"#DejaVuSans-72\"/>\r\n      <use x=\"166.162109\" xlink:href=\"#DejaVuSans-97\"/>\r\n      <use x=\"227.441406\" xlink:href=\"#DejaVuSans-110\"/>\r\n      <use x=\"290.820312\" xlink:href=\"#DejaVuSans-103\"/>\r\n      <use x=\"354.296875\" xlink:href=\"#DejaVuSans-122\"/>\r\n      <use x=\"406.787109\" xlink:href=\"#DejaVuSans-104\"/>\r\n      <use x=\"470.166016\" xlink:href=\"#DejaVuSans-111\"/>\r\n      <use x=\"531.347656\" xlink:href=\"#DejaVuSans-117\"/>\r\n      <use x=\"594.726562\" xlink:href=\"#DejaVuSans-39\"/>\r\n      <use x=\"622.216797\" xlink:href=\"#DejaVuSans-32\"/>\r\n      <use x=\"654.003906\" xlink:href=\"#DejaVuSans-45\"/>\r\n      <use x=\"690.087891\" xlink:href=\"#DejaVuSans-32\"/>\r\n      <use x=\"721.875\" xlink:href=\"#DejaVuSans-49\"/>\r\n     </g>\r\n    </g>\r\n   </g>\r\n  </g>\r\n </g>\r\n</svg>\r\n",
      "image/png": "[encoded data removed]"
     },
     "metadata": {}
    }
   ],
   "source": [
    "# Plot the data in pie chart\n",
    "label = np.char.array(city_counts.index) #x\n",
    "data = np.array(city_counts.to_list()) #y\n",
    "amount = city_counts.to_list()\n",
    "\n",
    "plt.rcParams[\"figure.figsize\"] = (15,10)\n",
    "\n",
    "patches, texts = plt.pie(data, startangle=90, radius=1.2)\n",
    "labels = ['{0} - {1:1.0f}'.format(i,j) for i,j in zip(label, amount)]\n",
    "\n",
    "sort_legend = True\n",
    "if sort_legend:\n",
    "    patches, labels, dummy =  zip(*sorted(zip(patches, labels, data),\n",
    "                                          key=lambda x: x[2],\n",
    "                                          reverse=True))\n",
    "\n",
    "plt.legend(patches, labels, bbox_to_anchor=(-0.1, 1.),\n",
    "           fontsize=10)\n",
    "\n",
    "plt.title(\"Request by City\")\n",
    "plt.show()"
   ]
  },
  {
   "cell_type": "code",
   "execution_count": 178,
   "metadata": {
    "id": "g7p39EpEBqaj"
   },
   "outputs": [
    {
     "output_type": "execute_result",
     "data": {
      "text/plain": [
       "Ha Kwai Chung    166\n",
       "Beijing           15\n",
       "New York          14\n",
       "Name: City, dtype: int64"
      ]
     },
     "metadata": {},
     "execution_count": 178
    }
   ],
   "source": [
    "city_counts[:3]"
   ]
  },
  {
   "cell_type": "markdown",
   "metadata": {
    "id": "UOLvHKdZtcto"
   },
   "source": [
    "# Part II - Web Crawling\n",
    "\n",
    "## Overview\n",
    "To better introduce all the professors including the emeritus professor, the professor and also associate professor in Deakin University School of IT, faculty will need to know all the citation information on all professors. Google Scholar is a web search engine that freely indexes the metadata of articles on many authors. Majority of the professors choose to use google scholar to track their publications and research works. Therefore,  the web crawling on google scholar will be able to have the citation information obtained across all the professors (who have the google scholar profile).\n"
   ]
  },
  {
   "cell_type": "markdown",
   "metadata": {
    "id": "gqbiN3nAw0tS"
   },
   "source": [
    "## 3. Professor List Generation"
   ]
  },
  {
   "cell_type": "markdown",
   "metadata": {
    "id": "Bm7eq9Iywjc-"
   },
   "source": [
    "### 3.1 Import and install web crawling library. \n",
    "\n",
    "<div class=\"alert alert-block alert-warning\">\n",
    "\n",
    "**Code**: \n",
    "    Import and install your web crawling library here. \n",
    "</div> \n",
    "\n",
    "<div class=\"alert alert-block alert-warning\">\n",
    "    \n",
    "**Report**: \n",
    "    **Part II 3.1** Please include your result for this coding task into your report Part II, with proper section title '3.1'.\n",
    "</div>\n",
    "\n",
    "*hint: you could use selenium by doing the pip install selenium, download the webdriver for chromedriver and define your webdriver for crawling. But you are free to use any other library*\n",
    "\n"
   ]
  },
  {
   "cell_type": "code",
   "execution_count": 42,
   "metadata": {
    "id": "rHKPhKwUwtyI"
   },
   "outputs": [],
   "source": [
    "# write your import and necessary web crawling libary here\n",
    "from urllib.request import urlopen as uReq\n",
    "from bs4 import BeautifulSoup as soup\n",
    "import re"
   ]
  },
  {
   "cell_type": "markdown",
   "metadata": {
    "id": "ZX4OQIsfwwk_"
   },
   "source": [
    "### 3.2 Find all professors in School of IT and save it as csv. \n",
    "\n",
    "<div class=\"alert alert-block alert-warning\">\n",
    "\n",
    "**Code**: \n",
    "    Find all professors in Schoolf of IT and save it as csv. The csv must have the full name of the professor (in one column), the title of the professor and University Name.\n",
    "</div> \n",
    "\n",
    "<div class=\"alert alert-block alert-warning\">\n",
    "    \n",
    "**Report**: \n",
    "    **Part II 3.2** Please include your result for this coding task into your report Part II, with proper section title '3.2'.\n",
    "</div>\n",
    "\n",
    "\n",
    "\n",
    "*hint: the url of the staff list for school of IT is https://www.deakin.edu.au/information-technology/staff-listing. you may need to iteratively find out html tag by table in the page to start crawl all the text from td (td is the elements in html table, check https://www.w3schools.com/html/html_tables.asp)*"
   ]
  },
  {
   "cell_type": "code",
   "execution_count": 182,
   "metadata": {
    "id": "vII6Na-1xEAh"
   },
   "outputs": [],
   "source": [
    "# here we first define the parsing method, you will need to use this parsing method to format the professor full name and title from the staff page.\n",
    "# the name of the professor from staff page will be split by space and last two words are full name \n",
    "def parse_name(stringtext):\n",
    "  return \" \".join(stringtext.split(\" \")[-2:]),\" \".join(stringtext.split(\" \")[:-2])"
   ]
  },
  {
   "cell_type": "code",
   "execution_count": 43,
   "metadata": {
    "id": "RmLHQyKbxIEL"
   },
   "outputs": [],
   "source": [
    "import pandas as pd\n",
    "# the crawling information will be stored in pandas dataframe and then save as csv\n",
    "# below you are required to use the parse_name method to crawl the professor's full name and title\n",
    "# The column name must be same as the provided professor-list.csv\n",
    "\n",
    "stafflist_url = \"https://www.deakin.edu.au/information-technology/staff-listing\"\n",
    "\n",
    "# Open connecting and grab page\n",
    "uClient = uReq(stafflist_url)\n",
    "page_html = uClient.read()\n",
    "uClient.close() # Close the client"
   ]
  },
  {
   "cell_type": "code",
   "execution_count": 44,
   "metadata": {},
   "outputs": [],
   "source": [
    "# Html parser\n",
    "page_soup = soup(page_html, \"html.parser\")"
   ]
  },
  {
   "cell_type": "code",
   "execution_count": 45,
   "metadata": {},
   "outputs": [
    {
     "output_type": "execute_result",
     "data": {
      "text/plain": [
       "<h1>Staff listing</h1>"
      ]
     },
     "metadata": {},
     "execution_count": 45
    }
   ],
   "source": [
    "# Test if the page is correct\n",
    "page_soup.h1"
   ]
  },
  {
   "cell_type": "code",
   "execution_count": 46,
   "metadata": {},
   "outputs": [],
   "source": [
    "# Grab professors name\n",
    "professors = page_soup.findAll(\"td\", {\"headers\":\"table09355r1c1\"})"
   ]
  },
  {
   "cell_type": "code",
   "execution_count": 47,
   "metadata": {},
   "outputs": [
    {
     "output_type": "execute_result",
     "data": {
      "text/plain": [
       "<td headers=\"table09355r1c1\"><a href=\"https://www.deakin.edu.au/about-deakin/people/lynn-batten\" target=\"_blank\">Emeritus Professor Lynn Batten</a></td>"
      ]
     },
     "metadata": {},
     "execution_count": 47
    }
   ],
   "source": [
    "# Test the first one\n",
    "professors[0]"
   ]
  },
  {
   "cell_type": "code",
   "execution_count": 48,
   "metadata": {},
   "outputs": [],
   "source": [
    "# Create loop to remove information between <> based on regular expressions\n",
    "\n",
    "staffs_name = list()\n",
    "for staffs in professors:\n",
    "    professor_info = str(staffs)\n",
    "    staffs_name.append(re.sub('<.*?>', '', professor_info))"
   ]
  },
  {
   "cell_type": "code",
   "execution_count": 49,
   "metadata": {},
   "outputs": [
    {
     "output_type": "execute_result",
     "data": {
      "text/plain": [
       "['Emeritus', 'Professor', 'Lynn', 'Batten']"
      ]
     },
     "metadata": {},
     "execution_count": 49
    }
   ],
   "source": [
    "name_list = list()\n",
    "for info in staffs_name:\n",
    "    name_list.append(info.split(\" \"))\n",
    "\n",
    "\n",
    "# Remove staffs who are not professors\n",
    "professor_lists = list()\n",
    "for staff in name_list:\n",
    "    if staff[0] == \"Professor\" or staff[1] == \"Professor\":\n",
    "        professor_lists.append(staff)\n",
    "\n",
    "professor_lists[0]"
   ]
  },
  {
   "cell_type": "code",
   "execution_count": 50,
   "metadata": {},
   "outputs": [],
   "source": [
    "# Create 3 lists. One is name and another is the title for the name. The last one is the University name.\n",
    "names = list()\n",
    "title = list()\n",
    "for item in professor_lists:\n",
    "    names.append(item[-2]+\" \"+item[-1])\n",
    "    if len(item) == 3:\n",
    "        title.append(item[0])\n",
    "    else:\n",
    "        title.append(item[0]+ \" \" +item[1])\n",
    "\n",
    "University = [\"Deakin University\"] * len(names)"
   ]
  },
  {
   "cell_type": "code",
   "execution_count": 51,
   "metadata": {},
   "outputs": [
    {
     "output_type": "execute_result",
     "data": {
      "text/plain": [
       "Empty DataFrame\n",
       "Columns: [Name, Title, University]\n",
       "Index: []"
      ],
      "text/html": "<div>\n<style scoped>\n    .dataframe tbody tr th:only-of-type {\n        vertical-align: middle;\n    }\n\n    .dataframe tbody tr th {\n        vertical-align: top;\n    }\n\n    .dataframe thead th {\n        text-align: right;\n    }\n</style>\n<table border=\"1\" class=\"dataframe\">\n  <thead>\n    <tr style=\"text-align: right;\">\n      <th></th>\n      <th>Name</th>\n      <th>Title</th>\n      <th>University</th>\n    </tr>\n  </thead>\n  <tbody>\n  </tbody>\n</table>\n</div>"
     },
     "metadata": {},
     "execution_count": 51
    }
   ],
   "source": [
    "# Read CSV file \n",
    "professor_name_list = pd.read_csv(\"Professor-name-list.csv\")\n",
    "professor_name_list"
   ]
  },
  {
   "cell_type": "code",
   "execution_count": 52,
   "metadata": {},
   "outputs": [
    {
     "output_type": "execute_result",
     "data": {
      "text/plain": [
       "                    Name                Title         University\n",
       "0            Lynn Batten   Emeritus Professor  Deakin University\n",
       "1      Andrzej Goscinski   Emeritus Professor  Deakin University\n",
       "2          Jemal Abawajy            Professor  Deakin University\n",
       "3          Maia Angelova            Professor  Deakin University\n",
       "4          Gleb Beliakov            Professor  Deakin University\n",
       "5           Terry Caelli            Professor  Deakin University\n",
       "6             Jinho Choi            Professor  Deakin University\n",
       "7          Chang-Tsun Li            Professor  Deakin University\n",
       "8             Robin Doss            Professor  Deakin University\n",
       "9           Peter Eklund            Professor  Deakin University\n",
       "10             Seng Loke            Professor  Deakin University\n",
       "11  Antonio Robles-Kelly            Professor  Deakin University\n",
       "12    Jean-Guy Schneider            Professor  Deakin University\n",
       "13            Yong Xiang            Professor  Deakin University\n",
       "14         John Yearwood            Professor  Deakin University\n",
       "15      Arkady Zaslavsky            Professor  Deakin University\n",
       "16    Mohamed Abdelrazek  Associate Professor  Deakin University\n",
       "17           Andrew Cain  Associate Professor  Deakin University\n",
       "18       Richard Dazeley  Associate Professor  Deakin University\n",
       "19        Guangyan Huang  Associate Professor  Deakin University\n",
       "20               Gang Li  Associate Professor  Deakin University\n",
       "21            Jianxin Li  Associate Professor  Deakin University\n",
       "22              Xiao Liu  Associate Professor  Deakin University\n",
       "23             Vicky Mak  Associate Professor  Deakin University\n",
       "24            Tim Wilkin  Associate Professor  Deakin University\n",
       "25             Abid Adam    Adjunct Professor  Deakin University\n",
       "26      Catherine Buhler    Adjunct Professor  Deakin University\n",
       "27     Eshan Dissanayake    Adjunct Professor  Deakin University\n",
       "28          Patrick Fair    Adjunct Professor  Deakin University\n",
       "29         David Fairman    Adjunct Professor  Deakin University\n",
       "30       Mark Fitzgerald   Honorary Professor  Deakin University\n",
       "31    Praveen Gauravaram    Adjunct Professor  Deakin University\n",
       "32          Nigel Hedges    Adjunct Professor  Deakin University\n",
       "33           Darren Kane    Adjunct Professor  Deakin University\n",
       "34          Len Kleinman    Adjunct Professor  Deakin University\n",
       "35         James Kotsias    Adjunct Professor  Deakin University\n",
       "36      Berin Lautenbach    Adjunct Professor  Deakin University\n",
       "37       Phillip Magness    Adjunct Professor  Deakin University\n",
       "38         William Moran   Honorary Professor  Deakin University\n",
       "39      Zahir Quettawala    Adjunct Professor  Deakin University\n",
       "40         Jamie Rossato    Adjunct Professor  Deakin University\n",
       "41          Chadi Saliby    Adjunct Professor  Deakin University\n",
       "42         Malcolm Shore    Adjunct Professor  Deakin University\n",
       "43               EJ Wise    Adjunct Professor  Deakin University\n",
       "44         Abbas Kudrati            Professor  Deakin University"
      ],
      "text/html": "<div>\n<style scoped>\n    .dataframe tbody tr th:only-of-type {\n        vertical-align: middle;\n    }\n\n    .dataframe tbody tr th {\n        vertical-align: top;\n    }\n\n    .dataframe thead th {\n        text-align: right;\n    }\n</style>\n<table border=\"1\" class=\"dataframe\">\n  <thead>\n    <tr style=\"text-align: right;\">\n      <th></th>\n      <th>Name</th>\n      <th>Title</th>\n      <th>University</th>\n    </tr>\n  </thead>\n  <tbody>\n    <tr>\n      <th>0</th>\n      <td>Lynn Batten</td>\n      <td>Emeritus Professor</td>\n      <td>Deakin University</td>\n    </tr>\n    <tr>\n      <th>1</th>\n      <td>Andrzej Goscinski</td>\n      <td>Emeritus Professor</td>\n      <td>Deakin University</td>\n    </tr>\n    <tr>\n      <th>2</th>\n      <td>Jemal Abawajy</td>\n      <td>Professor</td>\n      <td>Deakin University</td>\n    </tr>\n    <tr>\n      <th>3</th>\n      <td>Maia Angelova</td>\n      <td>Professor</td>\n      <td>Deakin University</td>\n    </tr>\n    <tr>\n      <th>4</th>\n      <td>Gleb Beliakov</td>\n      <td>Professor</td>\n      <td>Deakin University</td>\n    </tr>\n    <tr>\n      <th>5</th>\n      <td>Terry Caelli</td>\n      <td>Professor</td>\n      <td>Deakin University</td>\n    </tr>\n    <tr>\n      <th>6</th>\n      <td>Jinho Choi</td>\n      <td>Professor</td>\n      <td>Deakin University</td>\n    </tr>\n    <tr>\n      <th>7</th>\n      <td>Chang-Tsun Li</td>\n      <td>Professor</td>\n      <td>Deakin University</td>\n    </tr>\n    <tr>\n      <th>8</th>\n      <td>Robin Doss</td>\n      <td>Professor</td>\n      <td>Deakin University</td>\n    </tr>\n    <tr>\n      <th>9</th>\n      <td>Peter Eklund</td>\n      <td>Professor</td>\n      <td>Deakin University</td>\n    </tr>\n    <tr>\n      <th>10</th>\n      <td>Seng Loke</td>\n      <td>Professor</td>\n      <td>Deakin University</td>\n    </tr>\n    <tr>\n      <th>11</th>\n      <td>Antonio Robles-Kelly</td>\n      <td>Professor</td>\n      <td>Deakin University</td>\n    </tr>\n    <tr>\n      <th>12</th>\n      <td>Jean-Guy Schneider</td>\n      <td>Professor</td>\n      <td>Deakin University</td>\n    </tr>\n    <tr>\n      <th>13</th>\n      <td>Yong Xiang</td>\n      <td>Professor</td>\n      <td>Deakin University</td>\n    </tr>\n    <tr>\n      <th>14</th>\n      <td>John Yearwood</td>\n      <td>Professor</td>\n      <td>Deakin University</td>\n    </tr>\n    <tr>\n      <th>15</th>\n      <td>Arkady Zaslavsky</td>\n      <td>Professor</td>\n      <td>Deakin University</td>\n    </tr>\n    <tr>\n      <th>16</th>\n      <td>Mohamed Abdelrazek</td>\n      <td>Associate Professor</td>\n      <td>Deakin University</td>\n    </tr>\n    <tr>\n      <th>17</th>\n      <td>Andrew Cain</td>\n      <td>Associate Professor</td>\n      <td>Deakin University</td>\n    </tr>\n    <tr>\n      <th>18</th>\n      <td>Richard Dazeley</td>\n      <td>Associate Professor</td>\n      <td>Deakin University</td>\n    </tr>\n    <tr>\n      <th>19</th>\n      <td>Guangyan Huang</td>\n      <td>Associate Professor</td>\n      <td>Deakin University</td>\n    </tr>\n    <tr>\n      <th>20</th>\n      <td>Gang Li</td>\n      <td>Associate Professor</td>\n      <td>Deakin University</td>\n    </tr>\n    <tr>\n      <th>21</th>\n      <td>Jianxin Li</td>\n      <td>Associate Professor</td>\n      <td>Deakin University</td>\n    </tr>\n    <tr>\n      <th>22</th>\n      <td>Xiao Liu</td>\n      <td>Associate Professor</td>\n      <td>Deakin University</td>\n    </tr>\n    <tr>\n      <th>23</th>\n      <td>Vicky Mak</td>\n      <td>Associate Professor</td>\n      <td>Deakin University</td>\n    </tr>\n    <tr>\n      <th>24</th>\n      <td>Tim Wilkin</td>\n      <td>Associate Professor</td>\n      <td>Deakin University</td>\n    </tr>\n    <tr>\n      <th>25</th>\n      <td>Abid Adam</td>\n      <td>Adjunct Professor</td>\n      <td>Deakin University</td>\n    </tr>\n    <tr>\n      <th>26</th>\n      <td>Catherine Buhler</td>\n      <td>Adjunct Professor</td>\n      <td>Deakin University</td>\n    </tr>\n    <tr>\n      <th>27</th>\n      <td>Eshan Dissanayake</td>\n      <td>Adjunct Professor</td>\n      <td>Deakin University</td>\n    </tr>\n    <tr>\n      <th>28</th>\n      <td>Patrick Fair</td>\n      <td>Adjunct Professor</td>\n      <td>Deakin University</td>\n    </tr>\n    <tr>\n      <th>29</th>\n      <td>David Fairman</td>\n      <td>Adjunct Professor</td>\n      <td>Deakin University</td>\n    </tr>\n    <tr>\n      <th>30</th>\n      <td>Mark Fitzgerald</td>\n      <td>Honorary Professor</td>\n      <td>Deakin University</td>\n    </tr>\n    <tr>\n      <th>31</th>\n      <td>Praveen Gauravaram</td>\n      <td>Adjunct Professor</td>\n      <td>Deakin University</td>\n    </tr>\n    <tr>\n      <th>32</th>\n      <td>Nigel Hedges</td>\n      <td>Adjunct Professor</td>\n      <td>Deakin University</td>\n    </tr>\n    <tr>\n      <th>33</th>\n      <td>Darren Kane</td>\n      <td>Adjunct Professor</td>\n      <td>Deakin University</td>\n    </tr>\n    <tr>\n      <th>34</th>\n      <td>Len Kleinman</td>\n      <td>Adjunct Professor</td>\n      <td>Deakin University</td>\n    </tr>\n    <tr>\n      <th>35</th>\n      <td>James Kotsias</td>\n      <td>Adjunct Professor</td>\n      <td>Deakin University</td>\n    </tr>\n    <tr>\n      <th>36</th>\n      <td>Berin Lautenbach</td>\n      <td>Adjunct Professor</td>\n      <td>Deakin University</td>\n    </tr>\n    <tr>\n      <th>37</th>\n      <td>Phillip Magness</td>\n      <td>Adjunct Professor</td>\n      <td>Deakin University</td>\n    </tr>\n    <tr>\n      <th>38</th>\n      <td>William Moran</td>\n      <td>Honorary Professor</td>\n      <td>Deakin University</td>\n    </tr>\n    <tr>\n      <th>39</th>\n      <td>Zahir Quettawala</td>\n      <td>Adjunct Professor</td>\n      <td>Deakin University</td>\n    </tr>\n    <tr>\n      <th>40</th>\n      <td>Jamie Rossato</td>\n      <td>Adjunct Professor</td>\n      <td>Deakin University</td>\n    </tr>\n    <tr>\n      <th>41</th>\n      <td>Chadi Saliby</td>\n      <td>Adjunct Professor</td>\n      <td>Deakin University</td>\n    </tr>\n    <tr>\n      <th>42</th>\n      <td>Malcolm Shore</td>\n      <td>Adjunct Professor</td>\n      <td>Deakin University</td>\n    </tr>\n    <tr>\n      <th>43</th>\n      <td>EJ Wise</td>\n      <td>Adjunct Professor</td>\n      <td>Deakin University</td>\n    </tr>\n    <tr>\n      <th>44</th>\n      <td>Abbas Kudrati</td>\n      <td>Professor</td>\n      <td>Deakin University</td>\n    </tr>\n  </tbody>\n</table>\n</div>"
     },
     "metadata": {},
     "execution_count": 52
    }
   ],
   "source": [
    "# Append lists to dataframe\n",
    "professor_name_list['Name'] = names\n",
    "professor_name_list['Title'] = title\n",
    "professor_name_list['University'] = University\n",
    "professor_name_list\n"
   ]
  },
  {
   "cell_type": "code",
   "execution_count": 53,
   "metadata": {},
   "outputs": [],
   "source": [
    "# Export as CSV file\n",
    "professor_name_list.to_csv(\"Professor-name-list-Updated.csv\", index = False)"
   ]
  },
  {
   "cell_type": "markdown",
   "metadata": {
    "id": "hwKTqMXaxOpw"
   },
   "source": [
    "## 4. Professor Citation Information Generation\n"
   ]
  },
  {
   "cell_type": "markdown",
   "metadata": {
    "id": "_uk5f1LgxQc7"
   },
   "source": [
    "### 4.1 Search the google scholar for all professors \n",
    "\n",
    "<div class=\"alert alert-block alert-warning\">\n",
    "\n",
    "**Code**: \n",
    "    Search the google scholar for all professors and obtain their citations-all, h-index-all, i10-all, citation-since2016,h-index-2016 and i10-since2016. Save the results as csv and must having **all the professors name, title and all 6 citation information.**\n",
    "</div> \n",
    "\n",
    "<div class=\"alert alert-block alert-warning\">\n",
    "    \n",
    "**Report**: \n",
    "    **Part II 4.1** Please include your result for this coding task into your report Part II, with proper section title '4.1'.\n",
    "</div>\n",
    "\n",
    "\n",
    "*hint: if the professors did not have the google scholar profle with the name, save the 6 citation information as string \"na\". you could use the while loop with condition or for loop with if condition or for loop with defined method having if condition to deal with those professors do not have google scholar*"
   ]
  },
  {
   "cell_type": "code",
   "execution_count": null,
   "metadata": {
    "id": "YITbe1Owxf2o"
   },
   "outputs": [],
   "source": [
    "# search the google scholar for all professors to obtain their citations_all, h-index_all, i10_all, citation_since2016\n",
    "# h-index-2016 and i10_since2016. Save the results as csv and must having all the professors name, title and all 6 citation information.\n",
    "# if the professors did not have the google scholar profle with the name, save the 6 citation information as string \"na\"\n",
    "# you are requests to use loops and Conditional Statements to finish this task (eg: while / for, if...), failed to use loop\n",
    "# and conditional statements will occur 0 mark.\n",
    "# hint: sometimes, to render the google scholar page, you need to wait for the brower for few seconds, you could use \"from time import sleep\"\n",
    "# to have sleep(5) as the wait action for waiting 5 seconds.  \n",
    "# The column name must be same as the provided professor-citation-information.csv \n",
    "# write your code for this part as below:\n",
    "\n"
   ]
  },
  {
   "cell_type": "code",
   "execution_count": 54,
   "metadata": {},
   "outputs": [
    {
     "output_type": "execute_result",
     "data": {
      "text/plain": [
       "[['Lynn', 'Batten'],\n",
       " ['Andrzej', 'Goscinski'],\n",
       " ['Jemal', 'Abawajy'],\n",
       " ['Maia', 'Angelova'],\n",
       " ['Gleb', 'Beliakov'],\n",
       " ['Terry', 'Caelli'],\n",
       " ['Jinho', 'Choi'],\n",
       " ['Chang-Tsun', 'Li'],\n",
       " ['Robin', 'Doss'],\n",
       " ['Peter', 'Eklund'],\n",
       " ['Seng', 'Loke'],\n",
       " ['Antonio', 'Robles-Kelly'],\n",
       " ['Jean-Guy', 'Schneider'],\n",
       " ['Yong', 'Xiang'],\n",
       " ['John', 'Yearwood'],\n",
       " ['Arkady', 'Zaslavsky'],\n",
       " ['Mohamed', 'Abdelrazek'],\n",
       " ['Andrew', 'Cain'],\n",
       " ['Richard', 'Dazeley'],\n",
       " ['Guangyan', 'Huang'],\n",
       " ['Gang', 'Li'],\n",
       " ['Jianxin', 'Li'],\n",
       " ['Xiao', 'Liu'],\n",
       " ['Vicky', 'Mak'],\n",
       " ['Tim', 'Wilkin'],\n",
       " ['Abid', 'Adam'],\n",
       " ['Catherine', 'Buhler'],\n",
       " ['Eshan', 'Dissanayake'],\n",
       " ['Patrick', 'Fair'],\n",
       " ['David', 'Fairman'],\n",
       " ['Mark', 'Fitzgerald'],\n",
       " ['Praveen', 'Gauravaram'],\n",
       " ['Nigel', 'Hedges'],\n",
       " ['Darren', 'Kane'],\n",
       " ['Len', 'Kleinman'],\n",
       " ['James', 'Kotsias'],\n",
       " ['Berin', 'Lautenbach'],\n",
       " ['Phillip', 'Magness'],\n",
       " ['William', 'Moran'],\n",
       " ['Zahir', 'Quettawala'],\n",
       " ['Jamie', 'Rossato'],\n",
       " ['Chadi', 'Saliby'],\n",
       " ['Malcolm', 'Shore'],\n",
       " ['EJ', 'Wise'],\n",
       " ['Abbas', 'Kudrati']]"
      ]
     },
     "metadata": {},
     "execution_count": 54
    }
   ],
   "source": [
    "Prof_FN_LN =  list()\n",
    "for prof in names:\n",
    "    Prof_FN_LN.append(prof.split(\" \"))\n",
    "Prof_FN_LN"
   ]
  },
  {
   "cell_type": "code",
   "execution_count": 55,
   "metadata": {},
   "outputs": [],
   "source": [
    "# Set the URL format which is first name + last name + deakin in search query\n",
    "scholar_url_template = \"https://scholar.google.com/citations?hl=zh-CN&view_op=search_authors&mauthors={FN}+{LN}+deakin&btnG=\""
   ]
  },
  {
   "cell_type": "code",
   "execution_count": 56,
   "metadata": {},
   "outputs": [],
   "source": [
    "# Create List to contain professors with publications\n",
    "YoN_list = list()"
   ]
  },
  {
   "cell_type": "code",
   "execution_count": 57,
   "metadata": {},
   "outputs": [],
   "source": [
    "#Define function to filter professors without publications in Google Scholar\n",
    "def check_publications(FN, LN):\n",
    "    prof_url = scholar_url_template.format(FN = FN, LN = LN) # Set format\n",
    "    prof_client = uReq(prof_url)   # Open connecting and grab page\n",
    "    prof_html = prof_client.read()\n",
    "    prof_client.close\n",
    "    prof_info_soup = soup(prof_html, \"html.parser\") # Html parser\n",
    "    if prof_info_soup.find_all(\"div\", class_ = \"gs_med\"): # If no result in google scholar this will be true\n",
    "        return(\"No Publication\")\n",
    "    else:\n",
    "        return(\"Found Publication\")\n",
    "    "
   ]
  },
  {
   "cell_type": "code",
   "execution_count": 58,
   "metadata": {},
   "outputs": [
    {
     "output_type": "execute_result",
     "data": {
      "text/plain": [
       "'Found Publication'"
      ]
     },
     "metadata": {},
     "execution_count": 58
    }
   ],
   "source": [
    "check_publications(\"gang\", \"li\") # Check if this function works properly by Professor Gang Li"
   ]
  },
  {
   "cell_type": "code",
   "execution_count": 59,
   "metadata": {},
   "outputs": [],
   "source": [
    "# Collect all the publication states of professors from the list\n",
    "Publication_States = [check_publications(item[0], item[1]) for item in Prof_FN_LN]\n",
    "#Publication_States"
   ]
  },
  {
   "cell_type": "code",
   "execution_count": 60,
   "metadata": {},
   "outputs": [
    {
     "output_type": "execute_result",
     "data": {
      "text/plain": [
       "[(['Lynn', 'Batten'], 'Found Publication'),\n",
       " (['Andrzej', 'Goscinski'], 'No Publication'),\n",
       " (['Jemal', 'Abawajy'], 'No Publication'),\n",
       " (['Maia', 'Angelova'], 'Found Publication'),\n",
       " (['Gleb', 'Beliakov'], 'Found Publication'),\n",
       " (['Terry', 'Caelli'], 'Found Publication'),\n",
       " (['Jinho', 'Choi'], 'Found Publication'),\n",
       " (['Chang-Tsun', 'Li'], 'Found Publication'),\n",
       " (['Robin', 'Doss'], 'No Publication'),\n",
       " (['Peter', 'Eklund'], 'Found Publication'),\n",
       " (['Seng', 'Loke'], 'Found Publication'),\n",
       " (['Antonio', 'Robles-Kelly'], 'Found Publication'),\n",
       " (['Jean-Guy', 'Schneider'], 'Found Publication'),\n",
       " (['Yong', 'Xiang'], 'Found Publication'),\n",
       " (['John', 'Yearwood'], 'Found Publication'),\n",
       " (['Arkady', 'Zaslavsky'], 'Found Publication'),\n",
       " (['Mohamed', 'Abdelrazek'], 'Found Publication'),\n",
       " (['Andrew', 'Cain'], 'Found Publication'),\n",
       " (['Richard', 'Dazeley'], 'Found Publication'),\n",
       " (['Guangyan', 'Huang'], 'Found Publication'),\n",
       " (['Gang', 'Li'], 'Found Publication'),\n",
       " (['Jianxin', 'Li'], 'Found Publication'),\n",
       " (['Xiao', 'Liu'], 'Found Publication'),\n",
       " (['Vicky', 'Mak'], 'Found Publication'),\n",
       " (['Tim', 'Wilkin'], 'Found Publication'),\n",
       " (['Abid', 'Adam'], 'No Publication'),\n",
       " (['Catherine', 'Buhler'], 'No Publication'),\n",
       " (['Eshan', 'Dissanayake'], 'No Publication'),\n",
       " (['Patrick', 'Fair'], 'No Publication'),\n",
       " (['David', 'Fairman'], 'No Publication'),\n",
       " (['Mark', 'Fitzgerald'], 'No Publication'),\n",
       " (['Praveen', 'Gauravaram'], 'No Publication'),\n",
       " (['Nigel', 'Hedges'], 'No Publication'),\n",
       " (['Darren', 'Kane'], 'No Publication'),\n",
       " (['Len', 'Kleinman'], 'No Publication'),\n",
       " (['James', 'Kotsias'], 'No Publication'),\n",
       " (['Berin', 'Lautenbach'], 'No Publication'),\n",
       " (['Phillip', 'Magness'], 'No Publication'),\n",
       " (['William', 'Moran'], 'No Publication'),\n",
       " (['Zahir', 'Quettawala'], 'No Publication'),\n",
       " (['Jamie', 'Rossato'], 'No Publication'),\n",
       " (['Chadi', 'Saliby'], 'No Publication'),\n",
       " (['Malcolm', 'Shore'], 'No Publication'),\n",
       " (['EJ', 'Wise'], 'No Publication'),\n",
       " (['Abbas', 'Kudrati'], 'No Publication')]"
      ]
     },
     "metadata": {},
     "execution_count": 60
    }
   ],
   "source": [
    "# Merge the list with the name of the professors\n",
    "Professor_Publication_Check = list(zip(Prof_FN_LN, Publication_States))\n",
    "Professor_Publication_Check"
   ]
  },
  {
   "cell_type": "code",
   "execution_count": 61,
   "metadata": {},
   "outputs": [
    {
     "output_type": "execute_result",
     "data": {
      "text/plain": [
       "[(['Lynn', 'Batten'], 'Found Publication'),\n",
       " (['Maia', 'Angelova'], 'Found Publication'),\n",
       " (['Gleb', 'Beliakov'], 'Found Publication'),\n",
       " (['Terry', 'Caelli'], 'Found Publication'),\n",
       " (['Jinho', 'Choi'], 'Found Publication'),\n",
       " (['Chang-Tsun', 'Li'], 'Found Publication'),\n",
       " (['Peter', 'Eklund'], 'Found Publication'),\n",
       " (['Seng', 'Loke'], 'Found Publication'),\n",
       " (['Antonio', 'Robles-Kelly'], 'Found Publication'),\n",
       " (['Jean-Guy', 'Schneider'], 'Found Publication'),\n",
       " (['Yong', 'Xiang'], 'Found Publication'),\n",
       " (['John', 'Yearwood'], 'Found Publication'),\n",
       " (['Arkady', 'Zaslavsky'], 'Found Publication'),\n",
       " (['Mohamed', 'Abdelrazek'], 'Found Publication'),\n",
       " (['Andrew', 'Cain'], 'Found Publication'),\n",
       " (['Richard', 'Dazeley'], 'Found Publication'),\n",
       " (['Guangyan', 'Huang'], 'Found Publication'),\n",
       " (['Gang', 'Li'], 'Found Publication'),\n",
       " (['Jianxin', 'Li'], 'Found Publication'),\n",
       " (['Xiao', 'Liu'], 'Found Publication'),\n",
       " (['Vicky', 'Mak'], 'Found Publication'),\n",
       " (['Tim', 'Wilkin'], 'Found Publication')]"
      ]
     },
     "metadata": {},
     "execution_count": 61
    }
   ],
   "source": [
    "# Remove Professors from the list without publications\n",
    "Professor_Publication = [item for item in Professor_Publication_Check if item[1] != 'No Publication']\n",
    "Professor_Publication"
   ]
  },
  {
   "cell_type": "code",
   "execution_count": 62,
   "metadata": {},
   "outputs": [
    {
     "output_type": "execute_result",
     "data": {
      "text/plain": [
       "[['Lynn', 'Batten'],\n",
       " ['Maia', 'Angelova'],\n",
       " ['Gleb', 'Beliakov'],\n",
       " ['Terry', 'Caelli'],\n",
       " ['Jinho', 'Choi'],\n",
       " ['Chang-Tsun', 'Li'],\n",
       " ['Peter', 'Eklund'],\n",
       " ['Seng', 'Loke'],\n",
       " ['Antonio', 'Robles-Kelly'],\n",
       " ['Jean-Guy', 'Schneider'],\n",
       " ['Yong', 'Xiang'],\n",
       " ['John', 'Yearwood'],\n",
       " ['Arkady', 'Zaslavsky'],\n",
       " ['Mohamed', 'Abdelrazek'],\n",
       " ['Andrew', 'Cain'],\n",
       " ['Richard', 'Dazeley'],\n",
       " ['Guangyan', 'Huang'],\n",
       " ['Gang', 'Li'],\n",
       " ['Jianxin', 'Li'],\n",
       " ['Xiao', 'Liu'],\n",
       " ['Vicky', 'Mak'],\n",
       " ['Tim', 'Wilkin']]"
      ]
     },
     "metadata": {},
     "execution_count": 62
    }
   ],
   "source": [
    "# Save only the name\n",
    "Professor = list()\n",
    "for item in Professor_Publication:\n",
    "    Professor.append(item[0])\n",
    "Professor"
   ]
  },
  {
   "cell_type": "code",
   "execution_count": 63,
   "metadata": {},
   "outputs": [],
   "source": [
    "#Define function to crawling professor citation page if the professor is in google scholar\n",
    "def get_url_link(FN, LN):\n",
    "    scholar_url = scholar_url_template.format(FN = FN, LN = LN) # Set format\n",
    "    SCClient = uReq(scholar_url)  # Open connecting and grab page\n",
    "    SC_html = SCClient.read()\n",
    "    SCClient.close()\n",
    "    page_Sch_soup = soup(SC_html, \"html.parser\")  # Html Parser\n",
    "    all_info = page_Sch_soup.find_all(\"div\", class_ = \"gs_ai_t\") # Find info from class \n",
    "    return((all_info[0].h3.a)['href']) # Return the href link \n",
    "            "
   ]
  },
  {
   "cell_type": "code",
   "execution_count": 64,
   "metadata": {},
   "outputs": [
    {
     "output_type": "execute_result",
     "data": {
      "text/plain": [
       "'/citations?hl=zh-CN&user=QzFia5YAAAAJ'"
      ]
     },
     "metadata": {},
     "execution_count": 64
    }
   ],
   "source": [
    "# Test by Professor Xiao Liu\n",
    "get_url_link(\"Jinho\", \"Choi\")"
   ]
  },
  {
   "cell_type": "code",
   "execution_count": 65,
   "metadata": {},
   "outputs": [
    {
     "output_type": "execute_result",
     "data": {
      "text/plain": [
       "['/citations?hl=zh-CN&user=Tmg0T9sAAAAJ',\n",
       " '/citations?hl=zh-CN&user=CCF7GZoAAAAJ',\n",
       " '/citations?hl=zh-CN&user=_plRpWEAAAAJ',\n",
       " '/citations?hl=zh-CN&user=E9ZX2lgAAAAJ',\n",
       " '/citations?hl=zh-CN&user=QzFia5YAAAAJ',\n",
       " '/citations?hl=zh-CN&user=nzLXktMAAAAJ',\n",
       " '/citations?hl=zh-CN&user=oE1fk_gAAAAJ',\n",
       " '/citations?hl=zh-CN&user=ZbdN-0AAAAAJ',\n",
       " '/citations?hl=zh-CN&user=y5249-IAAAAJ',\n",
       " '/citations?hl=zh-CN&user=7ZrNsYEAAAAJ',\n",
       " '/citations?hl=zh-CN&user=W5VJ07UAAAAJ',\n",
       " '/citations?hl=zh-CN&user=h4HjI2UAAAAJ',\n",
       " '/citations?hl=zh-CN&user=sTAoZeUAAAAJ',\n",
       " '/citations?hl=zh-CN&user=ybnQkasAAAAJ',\n",
       " '/citations?hl=zh-CN&user=Re6GgdcAAAAJ',\n",
       " '/citations?hl=zh-CN&user=Tp8Sx6AAAAAJ',\n",
       " '/citations?hl=zh-CN&user=zeAIa-8AAAAJ',\n",
       " '/citations?hl=zh-CN&user=dqwjm-0AAAAJ',\n",
       " '/citations?hl=zh-CN&user=WenZ4JUAAAAJ',\n",
       " '/citations?hl=zh-CN&user=HMEuyCAAAAAJ',\n",
       " '/citations?hl=zh-CN&user=KAiJydoAAAAJ',\n",
       " '/citations?hl=zh-CN&user=leo8TPYAAAAJ']"
      ]
     },
     "metadata": {},
     "execution_count": 65
    }
   ],
   "source": [
    "# Set loop to get the citation link of all professors\n",
    "citation_link_part =  [get_url_link(item[0], item[1]) for item in Professor]\n",
    "citation_link_part"
   ]
  },
  {
   "cell_type": "code",
   "execution_count": 66,
   "metadata": {},
   "outputs": [],
   "source": [
    "# Set the url format of the citation page of professors\n",
    "cit_url_template = \"https://scholar.google.com{LINK}\""
   ]
  },
  {
   "cell_type": "code",
   "execution_count": 78,
   "metadata": {},
   "outputs": [],
   "source": [
    "# Define function to get the index and amount of citation\n",
    "def get_cit_index(link):\n",
    "    cit_url = cit_url_template.format(LINK = link) # Set format\n",
    "    cit_client = uReq(cit_url)   # Open connecting and grab page\n",
    "    cit_html = cit_client.read()\n",
    "    cit_client.close\n",
    "    cit_soup = soup(cit_html, \"html.parser\")  # Html Parser\n",
    "    cit_data = cit_soup.find_all(\"td\", class_ = \"gsc_rsb_std\") # Find info from class\n",
    "    cit_data_table = list()\n",
    "    for i in cit_data:\n",
    "        cit_data_table.append(re.sub('<.*?>','', str(i)))\n",
    "    return(cit_data_table)\n"
   ]
  },
  {
   "cell_type": "code",
   "execution_count": 81,
   "metadata": {},
   "outputs": [
    {
     "output_type": "execute_result",
     "data": {
      "text/plain": [
       "[['2528', '1172', '23', '16', '45', '21'],\n",
       " ['680', '397', '15', '11', '21', '14'],\n",
       " ['8173', '4632', '42', '32', '135', '86'],\n",
       " ['8662', '1472', '51', '20', '176', '36'],\n",
       " ['7814', '5023', '37', '29', '167', '95'],\n",
       " ['4341', '2336', '33', '21', '104', '65'],\n",
       " ['3962', '778', '34', '14', '72', '23'],\n",
       " ['7179', '2907', '38', '21', '126', '50'],\n",
       " ['3655', '1534', '24', '15', '62', '27'],\n",
       " ['1812', '643', '24', '15', '48', '21'],\n",
       " ['6306', '4969', '40', '35', '118', '95'],\n",
       " ['3786', '1991', '32', '23', '92', '45'],\n",
       " ['14930', '8330', '50', '33', '177', '80'],\n",
       " ['1856', '1256', '16', '15', '27', '23'],\n",
       " ['289', '192', '10', '8', '11', '8'],\n",
       " ['1470', '948', '16', '13', '24', '15'],\n",
       " ['1128', '809', '20', '18', '28', '23'],\n",
       " ['4111', '2821', '28', '24', '88', '60'],\n",
       " ['1465', '1086', '21', '18', '38', '31'],\n",
       " ['3219', '1749', '26', '20', '52', '42'],\n",
       " ['385', '227', '11', '8', '14', '6'],\n",
       " ['387', '310', '10', '10', '11', '10']]"
      ]
     },
     "metadata": {},
     "execution_count": 81
    }
   ],
   "source": [
    "citation_index = [get_cit_index(i) for i in citation_link_part]\n",
    "citation_index"
   ]
  },
  {
   "cell_type": "code",
   "execution_count": 82,
   "metadata": {},
   "outputs": [
    {
     "output_type": "execute_result",
     "data": {
      "text/plain": [
       "   Total citation Citation since 2016 Total h index h index since 2016  \\\n",
       "0            2528                1172            23                 16   \n",
       "1             680                 397            15                 11   \n",
       "2            8173                4632            42                 32   \n",
       "3            8662                1472            51                 20   \n",
       "4            7814                5023            37                 29   \n",
       "5            4341                2336            33                 21   \n",
       "6            3962                 778            34                 14   \n",
       "7            7179                2907            38                 21   \n",
       "8            3655                1534            24                 15   \n",
       "9            1812                 643            24                 15   \n",
       "10           6306                4969            40                 35   \n",
       "11           3786                1991            32                 23   \n",
       "12          14930                8330            50                 33   \n",
       "13           1856                1256            16                 15   \n",
       "14            289                 192            10                  8   \n",
       "15           1470                 948            16                 13   \n",
       "16           1128                 809            20                 18   \n",
       "17           4111                2821            28                 24   \n",
       "18           1465                1086            21                 18   \n",
       "19           3219                1749            26                 20   \n",
       "20            385                 227            11                  8   \n",
       "21            387                 310            10                 10   \n",
       "\n",
       "   Total i10 index i10 index since 2016  \n",
       "0               45                   21  \n",
       "1               21                   14  \n",
       "2              135                   86  \n",
       "3              176                   36  \n",
       "4              167                   95  \n",
       "5              104                   65  \n",
       "6               72                   23  \n",
       "7              126                   50  \n",
       "8               62                   27  \n",
       "9               48                   21  \n",
       "10             118                   95  \n",
       "11              92                   45  \n",
       "12             177                   80  \n",
       "13              27                   23  \n",
       "14              11                    8  \n",
       "15              24                   15  \n",
       "16              28                   23  \n",
       "17              88                   60  \n",
       "18              38                   31  \n",
       "19              52                   42  \n",
       "20              14                    6  \n",
       "21              11                   10  "
      ],
      "text/html": "<div>\n<style scoped>\n    .dataframe tbody tr th:only-of-type {\n        vertical-align: middle;\n    }\n\n    .dataframe tbody tr th {\n        vertical-align: top;\n    }\n\n    .dataframe thead th {\n        text-align: right;\n    }\n</style>\n<table border=\"1\" class=\"dataframe\">\n  <thead>\n    <tr style=\"text-align: right;\">\n      <th></th>\n      <th>Total citation</th>\n      <th>Citation since 2016</th>\n      <th>Total h index</th>\n      <th>h index since 2016</th>\n      <th>Total i10 index</th>\n      <th>i10 index since 2016</th>\n    </tr>\n  </thead>\n  <tbody>\n    <tr>\n      <th>0</th>\n      <td>2528</td>\n      <td>1172</td>\n      <td>23</td>\n      <td>16</td>\n      <td>45</td>\n      <td>21</td>\n    </tr>\n    <tr>\n      <th>1</th>\n      <td>680</td>\n      <td>397</td>\n      <td>15</td>\n      <td>11</td>\n      <td>21</td>\n      <td>14</td>\n    </tr>\n    <tr>\n      <th>2</th>\n      <td>8173</td>\n      <td>4632</td>\n      <td>42</td>\n      <td>32</td>\n      <td>135</td>\n      <td>86</td>\n    </tr>\n    <tr>\n      <th>3</th>\n      <td>8662</td>\n      <td>1472</td>\n      <td>51</td>\n      <td>20</td>\n      <td>176</td>\n      <td>36</td>\n    </tr>\n    <tr>\n      <th>4</th>\n      <td>7814</td>\n      <td>5023</td>\n      <td>37</td>\n      <td>29</td>\n      <td>167</td>\n      <td>95</td>\n    </tr>\n    <tr>\n      <th>5</th>\n      <td>4341</td>\n      <td>2336</td>\n      <td>33</td>\n      <td>21</td>\n      <td>104</td>\n      <td>65</td>\n    </tr>\n    <tr>\n      <th>6</th>\n      <td>3962</td>\n      <td>778</td>\n      <td>34</td>\n      <td>14</td>\n      <td>72</td>\n      <td>23</td>\n    </tr>\n    <tr>\n      <th>7</th>\n      <td>7179</td>\n      <td>2907</td>\n      <td>38</td>\n      <td>21</td>\n      <td>126</td>\n      <td>50</td>\n    </tr>\n    <tr>\n      <th>8</th>\n      <td>3655</td>\n      <td>1534</td>\n      <td>24</td>\n      <td>15</td>\n      <td>62</td>\n      <td>27</td>\n    </tr>\n    <tr>\n      <th>9</th>\n      <td>1812</td>\n      <td>643</td>\n      <td>24</td>\n      <td>15</td>\n      <td>48</td>\n      <td>21</td>\n    </tr>\n    <tr>\n      <th>10</th>\n      <td>6306</td>\n      <td>4969</td>\n      <td>40</td>\n      <td>35</td>\n      <td>118</td>\n      <td>95</td>\n    </tr>\n    <tr>\n      <th>11</th>\n      <td>3786</td>\n      <td>1991</td>\n      <td>32</td>\n      <td>23</td>\n      <td>92</td>\n      <td>45</td>\n    </tr>\n    <tr>\n      <th>12</th>\n      <td>14930</td>\n      <td>8330</td>\n      <td>50</td>\n      <td>33</td>\n      <td>177</td>\n      <td>80</td>\n    </tr>\n    <tr>\n      <th>13</th>\n      <td>1856</td>\n      <td>1256</td>\n      <td>16</td>\n      <td>15</td>\n      <td>27</td>\n      <td>23</td>\n    </tr>\n    <tr>\n      <th>14</th>\n      <td>289</td>\n      <td>192</td>\n      <td>10</td>\n      <td>8</td>\n      <td>11</td>\n      <td>8</td>\n    </tr>\n    <tr>\n      <th>15</th>\n      <td>1470</td>\n      <td>948</td>\n      <td>16</td>\n      <td>13</td>\n      <td>24</td>\n      <td>15</td>\n    </tr>\n    <tr>\n      <th>16</th>\n      <td>1128</td>\n      <td>809</td>\n      <td>20</td>\n      <td>18</td>\n      <td>28</td>\n      <td>23</td>\n    </tr>\n    <tr>\n      <th>17</th>\n      <td>4111</td>\n      <td>2821</td>\n      <td>28</td>\n      <td>24</td>\n      <td>88</td>\n      <td>60</td>\n    </tr>\n    <tr>\n      <th>18</th>\n      <td>1465</td>\n      <td>1086</td>\n      <td>21</td>\n      <td>18</td>\n      <td>38</td>\n      <td>31</td>\n    </tr>\n    <tr>\n      <th>19</th>\n      <td>3219</td>\n      <td>1749</td>\n      <td>26</td>\n      <td>20</td>\n      <td>52</td>\n      <td>42</td>\n    </tr>\n    <tr>\n      <th>20</th>\n      <td>385</td>\n      <td>227</td>\n      <td>11</td>\n      <td>8</td>\n      <td>14</td>\n      <td>6</td>\n    </tr>\n    <tr>\n      <th>21</th>\n      <td>387</td>\n      <td>310</td>\n      <td>10</td>\n      <td>10</td>\n      <td>11</td>\n      <td>10</td>\n    </tr>\n  </tbody>\n</table>\n</div>"
     },
     "metadata": {},
     "execution_count": 82
    }
   ],
   "source": [
    "# Set column header\n",
    "column_cit = [\"Total_citation\",\"Citation_since_2016\",\n",
    "              \"Total_h_index\", \"h_index_since_2016\",\n",
    "              \"Total_i10_index\", \"i10_index_since_2016\"]\n",
    "# Print dataframe\n",
    "cit_df = pd.DataFrame(citation_index, columns = column_cit)\n",
    "cit_df"
   ]
  },
  {
   "cell_type": "code",
   "execution_count": 121,
   "metadata": {},
   "outputs": [],
   "source": [
    "# Define function to get the amount of citations every year until 2020\n",
    "def get_cit_index(link):\n",
    "    cit_url = cit_url_template.format(LINK = link) # Set format\n",
    "    cit_client = uReq(cit_url)   # Open connecting and grab page\n",
    "    cit_html = cit_client.read()\n",
    "    cit_client.close\n",
    "    cit_soup = soup(cit_html, \"html.parser\")\n",
    "    cit_year = cit_soup.find_all(\"span\", class_ = \"gsc_g_t\") # Get the year of the citation\n",
    "    cit_num = cit_soup.find_all(\"span\", class_ = \"gsc_g_al\") # Get the amount of citation\n",
    "    cit_year_list = list()\n",
    "    cit_num_list = list()\n",
    "    for item in cit_year:\n",
    "        cit_year_list.append(re.sub('<.*?>','', str(item)))\n",
    "    for item in cit_num:\n",
    "        cit_num_list.append(re.sub('<.*?>','', str(item)))\n",
    "    cit_num_per_year = list(zip(cit_year_list,cit_num_list))\n",
    "    # filter the citation amount between 2014 and 2020 for prediction purpose \n",
    "    cit_npe = [item for item in cit_num_per_year if int(item[0]) > 2013 and int(item[0]) < 2021]\n",
    "    cit_ny_df = (pd.DataFrame(cit_npe)).T  # Rotate the dataframe for 90 degrees\n",
    "    new_header = cit_ny_df.iloc[0]         # Set the first column to be the header of dataframe\n",
    "    cit_n_y_df = cit_ny_df[1:]\n",
    "    cit_n_y_df.columns = new_header\n",
    "    return(cit_n_y_df)"
   ]
  },
  {
   "cell_type": "code",
   "execution_count": 122,
   "metadata": {},
   "outputs": [
    {
     "output_type": "execute_result",
     "data": {
      "text/plain": [
       "0 2014 2015 2016 2017 2018 2019 2020\n",
       "1  378  363  351  302  348  341  309"
      ],
      "text/html": "<div>\n<style scoped>\n    .dataframe tbody tr th:only-of-type {\n        vertical-align: middle;\n    }\n\n    .dataframe tbody tr th {\n        vertical-align: top;\n    }\n\n    .dataframe thead th {\n        text-align: right;\n    }\n</style>\n<table border=\"1\" class=\"dataframe\">\n  <thead>\n    <tr style=\"text-align: right;\">\n      <th></th>\n      <th>2014</th>\n      <th>2015</th>\n      <th>2016</th>\n      <th>2017</th>\n      <th>2018</th>\n      <th>2019</th>\n      <th>2020</th>\n    </tr>\n  </thead>\n  <tbody>\n    <tr>\n      <th>1</th>\n      <td>378</td>\n      <td>363</td>\n      <td>351</td>\n      <td>302</td>\n      <td>348</td>\n      <td>341</td>\n      <td>309</td>\n    </tr>\n  </tbody>\n</table>\n</div>"
     },
     "metadata": {},
     "execution_count": 122
    }
   ],
   "source": [
    "# Test the citation number and year\n",
    "get_cit_index(\"/citations?hl=zh-CN&user=HMEuyCAAAAAJ\")"
   ]
  },
  {
   "cell_type": "code",
   "execution_count": 123,
   "metadata": {},
   "outputs": [],
   "source": [
    "# Loop to get all the dataframes\n",
    "get_cit_idx = [get_cit_index(link) for link in citation_link_part]"
   ]
  },
  {
   "cell_type": "code",
   "execution_count": 124,
   "metadata": {},
   "outputs": [],
   "source": [
    "# Concat all dataframes\n",
    "citation_number_df = pd.concat(get_cit_idx, axis = 0, ignore_index = True)"
   ]
  },
  {
   "cell_type": "code",
   "execution_count": 125,
   "metadata": {},
   "outputs": [
    {
     "output_type": "execute_result",
     "data": {
      "text/plain": [
       "0  2014  2015  2016  2017  2018  2019  2020\n",
       "0   200   156   191   211   238   233   251\n",
       "1    38    49    51    54    72    94    90\n",
       "2   601   682   883   804   897   900   899\n",
       "3   315   319   305   321   278   258   251\n",
       "4   318   363   470   833  1043  1182  1176\n",
       "5   274   346   394   386   442   471   475\n",
       "6   181   198   156   177   132   143   130\n",
       "7   517   575   593   576   575   519   494\n",
       "8   330   312   340   287   266   254   299\n",
       "9    73   120   123   114   125   103   137\n",
       "10  303   282   393   627   792  1161  1476\n",
       "11  192   222   241   241   335   432   549\n",
       "12  870  1161  1498  1778  1713  1684  1304\n",
       "13  171   161   165   205   188   228   343\n",
       "14    9     6    13    21    59    27    51\n",
       "15  138   117   104   168   169   193   206\n",
       "16   42    91   114   109   129   166   204\n",
       "17  250   288   338   382   444   579   834\n",
       "18   82    58   104    96   104   224   408\n",
       "19  378   363   351   302   348   341   309\n",
       "20   17    32    37    42    53    37    39\n",
       "21   28    44    49    67    60    65    25"
      ],
      "text/html": "<div>\n<style scoped>\n    .dataframe tbody tr th:only-of-type {\n        vertical-align: middle;\n    }\n\n    .dataframe tbody tr th {\n        vertical-align: top;\n    }\n\n    .dataframe thead th {\n        text-align: right;\n    }\n</style>\n<table border=\"1\" class=\"dataframe\">\n  <thead>\n    <tr style=\"text-align: right;\">\n      <th></th>\n      <th>2014</th>\n      <th>2015</th>\n      <th>2016</th>\n      <th>2017</th>\n      <th>2018</th>\n      <th>2019</th>\n      <th>2020</th>\n    </tr>\n  </thead>\n  <tbody>\n    <tr>\n      <th>0</th>\n      <td>200</td>\n      <td>156</td>\n      <td>191</td>\n      <td>211</td>\n      <td>238</td>\n      <td>233</td>\n      <td>251</td>\n    </tr>\n    <tr>\n      <th>1</th>\n      <td>38</td>\n      <td>49</td>\n      <td>51</td>\n      <td>54</td>\n      <td>72</td>\n      <td>94</td>\n      <td>90</td>\n    </tr>\n    <tr>\n      <th>2</th>\n      <td>601</td>\n      <td>682</td>\n      <td>883</td>\n      <td>804</td>\n      <td>897</td>\n      <td>900</td>\n      <td>899</td>\n    </tr>\n    <tr>\n      <th>3</th>\n      <td>315</td>\n      <td>319</td>\n      <td>305</td>\n      <td>321</td>\n      <td>278</td>\n      <td>258</td>\n      <td>251</td>\n    </tr>\n    <tr>\n      <th>4</th>\n      <td>318</td>\n      <td>363</td>\n      <td>470</td>\n      <td>833</td>\n      <td>1043</td>\n      <td>1182</td>\n      <td>1176</td>\n    </tr>\n    <tr>\n      <th>5</th>\n      <td>274</td>\n      <td>346</td>\n      <td>394</td>\n      <td>386</td>\n      <td>442</td>\n      <td>471</td>\n      <td>475</td>\n    </tr>\n    <tr>\n      <th>6</th>\n      <td>181</td>\n      <td>198</td>\n      <td>156</td>\n      <td>177</td>\n      <td>132</td>\n      <td>143</td>\n      <td>130</td>\n    </tr>\n    <tr>\n      <th>7</th>\n      <td>517</td>\n      <td>575</td>\n      <td>593</td>\n      <td>576</td>\n      <td>575</td>\n      <td>519</td>\n      <td>494</td>\n    </tr>\n    <tr>\n      <th>8</th>\n      <td>330</td>\n      <td>312</td>\n      <td>340</td>\n      <td>287</td>\n      <td>266</td>\n      <td>254</td>\n      <td>299</td>\n    </tr>\n    <tr>\n      <th>9</th>\n      <td>73</td>\n      <td>120</td>\n      <td>123</td>\n      <td>114</td>\n      <td>125</td>\n      <td>103</td>\n      <td>137</td>\n    </tr>\n    <tr>\n      <th>10</th>\n      <td>303</td>\n      <td>282</td>\n      <td>393</td>\n      <td>627</td>\n      <td>792</td>\n      <td>1161</td>\n      <td>1476</td>\n    </tr>\n    <tr>\n      <th>11</th>\n      <td>192</td>\n      <td>222</td>\n      <td>241</td>\n      <td>241</td>\n      <td>335</td>\n      <td>432</td>\n      <td>549</td>\n    </tr>\n    <tr>\n      <th>12</th>\n      <td>870</td>\n      <td>1161</td>\n      <td>1498</td>\n      <td>1778</td>\n      <td>1713</td>\n      <td>1684</td>\n      <td>1304</td>\n    </tr>\n    <tr>\n      <th>13</th>\n      <td>171</td>\n      <td>161</td>\n      <td>165</td>\n      <td>205</td>\n      <td>188</td>\n      <td>228</td>\n      <td>343</td>\n    </tr>\n    <tr>\n      <th>14</th>\n      <td>9</td>\n      <td>6</td>\n      <td>13</td>\n      <td>21</td>\n      <td>59</td>\n      <td>27</td>\n      <td>51</td>\n    </tr>\n    <tr>\n      <th>15</th>\n      <td>138</td>\n      <td>117</td>\n      <td>104</td>\n      <td>168</td>\n      <td>169</td>\n      <td>193</td>\n      <td>206</td>\n    </tr>\n    <tr>\n      <th>16</th>\n      <td>42</td>\n      <td>91</td>\n      <td>114</td>\n      <td>109</td>\n      <td>129</td>\n      <td>166</td>\n      <td>204</td>\n    </tr>\n    <tr>\n      <th>17</th>\n      <td>250</td>\n      <td>288</td>\n      <td>338</td>\n      <td>382</td>\n      <td>444</td>\n      <td>579</td>\n      <td>834</td>\n    </tr>\n    <tr>\n      <th>18</th>\n      <td>82</td>\n      <td>58</td>\n      <td>104</td>\n      <td>96</td>\n      <td>104</td>\n      <td>224</td>\n      <td>408</td>\n    </tr>\n    <tr>\n      <th>19</th>\n      <td>378</td>\n      <td>363</td>\n      <td>351</td>\n      <td>302</td>\n      <td>348</td>\n      <td>341</td>\n      <td>309</td>\n    </tr>\n    <tr>\n      <th>20</th>\n      <td>17</td>\n      <td>32</td>\n      <td>37</td>\n      <td>42</td>\n      <td>53</td>\n      <td>37</td>\n      <td>39</td>\n    </tr>\n    <tr>\n      <th>21</th>\n      <td>28</td>\n      <td>44</td>\n      <td>49</td>\n      <td>67</td>\n      <td>60</td>\n      <td>65</td>\n      <td>25</td>\n    </tr>\n  </tbody>\n</table>\n</div>"
     },
     "metadata": {},
     "execution_count": 125
    }
   ],
   "source": [
    "citation_number_df"
   ]
  },
  {
   "cell_type": "code",
   "execution_count": 149,
   "metadata": {},
   "outputs": [
    {
     "output_type": "execute_result",
     "data": {
      "text/plain": [
       "['Lynn Batten',\n",
       " 'Maia Angelova',\n",
       " 'Gleb Beliakov',\n",
       " 'Terry Caelli',\n",
       " 'Jinho Choi',\n",
       " 'Chang-Tsun Li',\n",
       " 'Peter Eklund',\n",
       " 'Seng Loke',\n",
       " 'Antonio Robles-Kelly',\n",
       " 'Jean-Guy Schneider',\n",
       " 'Yong Xiang',\n",
       " 'John Yearwood',\n",
       " 'Arkady Zaslavsky',\n",
       " 'Mohamed Abdelrazek',\n",
       " 'Andrew Cain',\n",
       " 'Richard Dazeley',\n",
       " 'Guangyan Huang',\n",
       " 'Gang Li',\n",
       " 'Jianxin Li',\n",
       " 'Xiao Liu',\n",
       " 'Vicky Mak',\n",
       " 'Tim Wilkin']"
      ]
     },
     "metadata": {},
     "execution_count": 149
    }
   ],
   "source": [
    "# Get the first and second column of the citation dataframe which are name and title\n",
    "Professor_Names = list()\n",
    "for name in Professor:\n",
    "    Professor_Names.append(name[0]+\" \"+name[1])\n",
    "Professor_Names"
   ]
  },
  {
   "cell_type": "code",
   "execution_count": 165,
   "metadata": {},
   "outputs": [],
   "source": [
    "# Get the list of professors's title and zip to a new list\n",
    "P_T_df = professor_name_list.loc[professor_name_list.Name.isin(Professor_Names)]\n",
    "Professor_Title = P_T_df[\"Title\"].to_list()\n",
    "Professor_Title\n",
    "\n",
    "Prof_N_T = list(zip(Professor_Names, Professor_Title))"
   ]
  },
  {
   "cell_type": "code",
   "execution_count": 167,
   "metadata": {},
   "outputs": [
    {
     "output_type": "execute_result",
     "data": {
      "text/plain": [
       "                    Name                Title\n",
       "0            Lynn Batten   Emeritus Professor\n",
       "1          Maia Angelova            Professor\n",
       "2          Gleb Beliakov            Professor\n",
       "3           Terry Caelli            Professor\n",
       "4             Jinho Choi            Professor\n",
       "5          Chang-Tsun Li            Professor\n",
       "6           Peter Eklund            Professor\n",
       "7              Seng Loke            Professor\n",
       "8   Antonio Robles-Kelly            Professor\n",
       "9     Jean-Guy Schneider            Professor\n",
       "10            Yong Xiang            Professor\n",
       "11         John Yearwood            Professor\n",
       "12      Arkady Zaslavsky            Professor\n",
       "13    Mohamed Abdelrazek  Associate Professor\n",
       "14           Andrew Cain  Associate Professor\n",
       "15       Richard Dazeley  Associate Professor\n",
       "16        Guangyan Huang  Associate Professor\n",
       "17               Gang Li  Associate Professor\n",
       "18            Jianxin Li  Associate Professor\n",
       "19              Xiao Liu  Associate Professor\n",
       "20             Vicky Mak  Associate Professor\n",
       "21            Tim Wilkin  Associate Professor"
      ],
      "text/html": "<div>\n<style scoped>\n    .dataframe tbody tr th:only-of-type {\n        vertical-align: middle;\n    }\n\n    .dataframe tbody tr th {\n        vertical-align: top;\n    }\n\n    .dataframe thead th {\n        text-align: right;\n    }\n</style>\n<table border=\"1\" class=\"dataframe\">\n  <thead>\n    <tr style=\"text-align: right;\">\n      <th></th>\n      <th>Name</th>\n      <th>Title</th>\n    </tr>\n  </thead>\n  <tbody>\n    <tr>\n      <th>0</th>\n      <td>Lynn Batten</td>\n      <td>Emeritus Professor</td>\n    </tr>\n    <tr>\n      <th>1</th>\n      <td>Maia Angelova</td>\n      <td>Professor</td>\n    </tr>\n    <tr>\n      <th>2</th>\n      <td>Gleb Beliakov</td>\n      <td>Professor</td>\n    </tr>\n    <tr>\n      <th>3</th>\n      <td>Terry Caelli</td>\n      <td>Professor</td>\n    </tr>\n    <tr>\n      <th>4</th>\n      <td>Jinho Choi</td>\n      <td>Professor</td>\n    </tr>\n    <tr>\n      <th>5</th>\n      <td>Chang-Tsun Li</td>\n      <td>Professor</td>\n    </tr>\n    <tr>\n      <th>6</th>\n      <td>Peter Eklund</td>\n      <td>Professor</td>\n    </tr>\n    <tr>\n      <th>7</th>\n      <td>Seng Loke</td>\n      <td>Professor</td>\n    </tr>\n    <tr>\n      <th>8</th>\n      <td>Antonio Robles-Kelly</td>\n      <td>Professor</td>\n    </tr>\n    <tr>\n      <th>9</th>\n      <td>Jean-Guy Schneider</td>\n      <td>Professor</td>\n    </tr>\n    <tr>\n      <th>10</th>\n      <td>Yong Xiang</td>\n      <td>Professor</td>\n    </tr>\n    <tr>\n      <th>11</th>\n      <td>John Yearwood</td>\n      <td>Professor</td>\n    </tr>\n    <tr>\n      <th>12</th>\n      <td>Arkady Zaslavsky</td>\n      <td>Professor</td>\n    </tr>\n    <tr>\n      <th>13</th>\n      <td>Mohamed Abdelrazek</td>\n      <td>Associate Professor</td>\n    </tr>\n    <tr>\n      <th>14</th>\n      <td>Andrew Cain</td>\n      <td>Associate Professor</td>\n    </tr>\n    <tr>\n      <th>15</th>\n      <td>Richard Dazeley</td>\n      <td>Associate Professor</td>\n    </tr>\n    <tr>\n      <th>16</th>\n      <td>Guangyan Huang</td>\n      <td>Associate Professor</td>\n    </tr>\n    <tr>\n      <th>17</th>\n      <td>Gang Li</td>\n      <td>Associate Professor</td>\n    </tr>\n    <tr>\n      <th>18</th>\n      <td>Jianxin Li</td>\n      <td>Associate Professor</td>\n    </tr>\n    <tr>\n      <th>19</th>\n      <td>Xiao Liu</td>\n      <td>Associate Professor</td>\n    </tr>\n    <tr>\n      <th>20</th>\n      <td>Vicky Mak</td>\n      <td>Associate Professor</td>\n    </tr>\n    <tr>\n      <th>21</th>\n      <td>Tim Wilkin</td>\n      <td>Associate Professor</td>\n    </tr>\n  </tbody>\n</table>\n</div>"
     },
     "metadata": {},
     "execution_count": 167
    }
   ],
   "source": [
    "# Prepare the name and title part of the dataframe\n",
    "Professor_df_cit = pd.DataFrame(Prof_N_T, columns = [\"Name\", \"Title\"])\n",
    "Professor_df_cit"
   ]
  },
  {
   "cell_type": "code",
   "execution_count": 168,
   "metadata": {},
   "outputs": [],
   "source": [
    "# Combine all the dataframes to One large dataframe with professors citation information\n",
    "Professor_Citation_Info_df = pd.concat([Professor_df_cit, cit_df, citation_number_df], axis = 1, join = 'inner')"
   ]
  },
  {
   "cell_type": "code",
   "execution_count": 169,
   "metadata": {},
   "outputs": [
    {
     "output_type": "execute_result",
     "data": {
      "text/plain": [
       "                    Name                Title Total citation  \\\n",
       "0            Lynn Batten   Emeritus Professor           2528   \n",
       "1          Maia Angelova            Professor            680   \n",
       "2          Gleb Beliakov            Professor           8173   \n",
       "3           Terry Caelli            Professor           8662   \n",
       "4             Jinho Choi            Professor           7814   \n",
       "5          Chang-Tsun Li            Professor           4341   \n",
       "6           Peter Eklund            Professor           3962   \n",
       "7              Seng Loke            Professor           7179   \n",
       "8   Antonio Robles-Kelly            Professor           3655   \n",
       "9     Jean-Guy Schneider            Professor           1812   \n",
       "10            Yong Xiang            Professor           6306   \n",
       "11         John Yearwood            Professor           3786   \n",
       "12      Arkady Zaslavsky            Professor          14930   \n",
       "13    Mohamed Abdelrazek  Associate Professor           1856   \n",
       "14           Andrew Cain  Associate Professor            289   \n",
       "15       Richard Dazeley  Associate Professor           1470   \n",
       "16        Guangyan Huang  Associate Professor           1128   \n",
       "17               Gang Li  Associate Professor           4111   \n",
       "18            Jianxin Li  Associate Professor           1465   \n",
       "19              Xiao Liu  Associate Professor           3219   \n",
       "20             Vicky Mak  Associate Professor            385   \n",
       "21            Tim Wilkin  Associate Professor            387   \n",
       "\n",
       "   Citation since 2016 Total h index h index since 2016 Total i10 index  \\\n",
       "0                 1172            23                 16              45   \n",
       "1                  397            15                 11              21   \n",
       "2                 4632            42                 32             135   \n",
       "3                 1472            51                 20             176   \n",
       "4                 5023            37                 29             167   \n",
       "5                 2336            33                 21             104   \n",
       "6                  778            34                 14              72   \n",
       "7                 2907            38                 21             126   \n",
       "8                 1534            24                 15              62   \n",
       "9                  643            24                 15              48   \n",
       "10                4969            40                 35             118   \n",
       "11                1991            32                 23              92   \n",
       "12                8330            50                 33             177   \n",
       "13                1256            16                 15              27   \n",
       "14                 192            10                  8              11   \n",
       "15                 948            16                 13              24   \n",
       "16                 809            20                 18              28   \n",
       "17                2821            28                 24              88   \n",
       "18                1086            21                 18              38   \n",
       "19                1749            26                 20              52   \n",
       "20                 227            11                  8              14   \n",
       "21                 310            10                 10              11   \n",
       "\n",
       "   i10 index since 2016 2014  2015  2016  2017  2018  2019  2020  \n",
       "0                    21  200   156   191   211   238   233   251  \n",
       "1                    14   38    49    51    54    72    94    90  \n",
       "2                    86  601   682   883   804   897   900   899  \n",
       "3                    36  315   319   305   321   278   258   251  \n",
       "4                    95  318   363   470   833  1043  1182  1176  \n",
       "5                    65  274   346   394   386   442   471   475  \n",
       "6                    23  181   198   156   177   132   143   130  \n",
       "7                    50  517   575   593   576   575   519   494  \n",
       "8                    27  330   312   340   287   266   254   299  \n",
       "9                    21   73   120   123   114   125   103   137  \n",
       "10                   95  303   282   393   627   792  1161  1476  \n",
       "11                   45  192   222   241   241   335   432   549  \n",
       "12                   80  870  1161  1498  1778  1713  1684  1304  \n",
       "13                   23  171   161   165   205   188   228   343  \n",
       "14                    8    9     6    13    21    59    27    51  \n",
       "15                   15  138   117   104   168   169   193   206  \n",
       "16                   23   42    91   114   109   129   166   204  \n",
       "17                   60  250   288   338   382   444   579   834  \n",
       "18                   31   82    58   104    96   104   224   408  \n",
       "19                   42  378   363   351   302   348   341   309  \n",
       "20                    6   17    32    37    42    53    37    39  \n",
       "21                   10   28    44    49    67    60    65    25  "
      ],
      "text/html": "<div>\n<style scoped>\n    .dataframe tbody tr th:only-of-type {\n        vertical-align: middle;\n    }\n\n    .dataframe tbody tr th {\n        vertical-align: top;\n    }\n\n    .dataframe thead th {\n        text-align: right;\n    }\n</style>\n<table border=\"1\" class=\"dataframe\">\n  <thead>\n    <tr style=\"text-align: right;\">\n      <th></th>\n      <th>Name</th>\n      <th>Title</th>\n      <th>Total citation</th>\n      <th>Citation since 2016</th>\n      <th>Total h index</th>\n      <th>h index since 2016</th>\n      <th>Total i10 index</th>\n      <th>i10 index since 2016</th>\n      <th>2014</th>\n      <th>2015</th>\n      <th>2016</th>\n      <th>2017</th>\n      <th>2018</th>\n      <th>2019</th>\n      <th>2020</th>\n    </tr>\n  </thead>\n  <tbody>\n    <tr>\n      <th>0</th>\n      <td>Lynn Batten</td>\n      <td>Emeritus Professor</td>\n      <td>2528</td>\n      <td>1172</td>\n      <td>23</td>\n      <td>16</td>\n      <td>45</td>\n      <td>21</td>\n      <td>200</td>\n      <td>156</td>\n      <td>191</td>\n      <td>211</td>\n      <td>238</td>\n      <td>233</td>\n      <td>251</td>\n    </tr>\n    <tr>\n      <th>1</th>\n      <td>Maia Angelova</td>\n      <td>Professor</td>\n      <td>680</td>\n      <td>397</td>\n      <td>15</td>\n      <td>11</td>\n      <td>21</td>\n      <td>14</td>\n      <td>38</td>\n      <td>49</td>\n      <td>51</td>\n      <td>54</td>\n      <td>72</td>\n      <td>94</td>\n      <td>90</td>\n    </tr>\n    <tr>\n      <th>2</th>\n      <td>Gleb Beliakov</td>\n      <td>Professor</td>\n      <td>8173</td>\n      <td>4632</td>\n      <td>42</td>\n      <td>32</td>\n      <td>135</td>\n      <td>86</td>\n      <td>601</td>\n      <td>682</td>\n      <td>883</td>\n      <td>804</td>\n      <td>897</td>\n      <td>900</td>\n      <td>899</td>\n    </tr>\n    <tr>\n      <th>3</th>\n      <td>Terry Caelli</td>\n      <td>Professor</td>\n      <td>8662</td>\n      <td>1472</td>\n      <td>51</td>\n      <td>20</td>\n      <td>176</td>\n      <td>36</td>\n      <td>315</td>\n      <td>319</td>\n      <td>305</td>\n      <td>321</td>\n      <td>278</td>\n      <td>258</td>\n      <td>251</td>\n    </tr>\n    <tr>\n      <th>4</th>\n      <td>Jinho Choi</td>\n      <td>Professor</td>\n      <td>7814</td>\n      <td>5023</td>\n      <td>37</td>\n      <td>29</td>\n      <td>167</td>\n      <td>95</td>\n      <td>318</td>\n      <td>363</td>\n      <td>470</td>\n      <td>833</td>\n      <td>1043</td>\n      <td>1182</td>\n      <td>1176</td>\n    </tr>\n    <tr>\n      <th>5</th>\n      <td>Chang-Tsun Li</td>\n      <td>Professor</td>\n      <td>4341</td>\n      <td>2336</td>\n      <td>33</td>\n      <td>21</td>\n      <td>104</td>\n      <td>65</td>\n      <td>274</td>\n      <td>346</td>\n      <td>394</td>\n      <td>386</td>\n      <td>442</td>\n      <td>471</td>\n      <td>475</td>\n    </tr>\n    <tr>\n      <th>6</th>\n      <td>Peter Eklund</td>\n      <td>Professor</td>\n      <td>3962</td>\n      <td>778</td>\n      <td>34</td>\n      <td>14</td>\n      <td>72</td>\n      <td>23</td>\n      <td>181</td>\n      <td>198</td>\n      <td>156</td>\n      <td>177</td>\n      <td>132</td>\n      <td>143</td>\n      <td>130</td>\n    </tr>\n    <tr>\n      <th>7</th>\n      <td>Seng Loke</td>\n      <td>Professor</td>\n      <td>7179</td>\n      <td>2907</td>\n      <td>38</td>\n      <td>21</td>\n      <td>126</td>\n      <td>50</td>\n      <td>517</td>\n      <td>575</td>\n      <td>593</td>\n      <td>576</td>\n      <td>575</td>\n      <td>519</td>\n      <td>494</td>\n    </tr>\n    <tr>\n      <th>8</th>\n      <td>Antonio Robles-Kelly</td>\n      <td>Professor</td>\n      <td>3655</td>\n      <td>1534</td>\n      <td>24</td>\n      <td>15</td>\n      <td>62</td>\n      <td>27</td>\n      <td>330</td>\n      <td>312</td>\n      <td>340</td>\n      <td>287</td>\n      <td>266</td>\n      <td>254</td>\n      <td>299</td>\n    </tr>\n    <tr>\n      <th>9</th>\n      <td>Jean-Guy Schneider</td>\n      <td>Professor</td>\n      <td>1812</td>\n      <td>643</td>\n      <td>24</td>\n      <td>15</td>\n      <td>48</td>\n      <td>21</td>\n      <td>73</td>\n      <td>120</td>\n      <td>123</td>\n      <td>114</td>\n      <td>125</td>\n      <td>103</td>\n      <td>137</td>\n    </tr>\n    <tr>\n      <th>10</th>\n      <td>Yong Xiang</td>\n      <td>Professor</td>\n      <td>6306</td>\n      <td>4969</td>\n      <td>40</td>\n      <td>35</td>\n      <td>118</td>\n      <td>95</td>\n      <td>303</td>\n      <td>282</td>\n      <td>393</td>\n      <td>627</td>\n      <td>792</td>\n      <td>1161</td>\n      <td>1476</td>\n    </tr>\n    <tr>\n      <th>11</th>\n      <td>John Yearwood</td>\n      <td>Professor</td>\n      <td>3786</td>\n      <td>1991</td>\n      <td>32</td>\n      <td>23</td>\n      <td>92</td>\n      <td>45</td>\n      <td>192</td>\n      <td>222</td>\n      <td>241</td>\n      <td>241</td>\n      <td>335</td>\n      <td>432</td>\n      <td>549</td>\n    </tr>\n    <tr>\n      <th>12</th>\n      <td>Arkady Zaslavsky</td>\n      <td>Professor</td>\n      <td>14930</td>\n      <td>8330</td>\n      <td>50</td>\n      <td>33</td>\n      <td>177</td>\n      <td>80</td>\n      <td>870</td>\n      <td>1161</td>\n      <td>1498</td>\n      <td>1778</td>\n      <td>1713</td>\n      <td>1684</td>\n      <td>1304</td>\n    </tr>\n    <tr>\n      <th>13</th>\n      <td>Mohamed Abdelrazek</td>\n      <td>Associate Professor</td>\n      <td>1856</td>\n      <td>1256</td>\n      <td>16</td>\n      <td>15</td>\n      <td>27</td>\n      <td>23</td>\n      <td>171</td>\n      <td>161</td>\n      <td>165</td>\n      <td>205</td>\n      <td>188</td>\n      <td>228</td>\n      <td>343</td>\n    </tr>\n    <tr>\n      <th>14</th>\n      <td>Andrew Cain</td>\n      <td>Associate Professor</td>\n      <td>289</td>\n      <td>192</td>\n      <td>10</td>\n      <td>8</td>\n      <td>11</td>\n      <td>8</td>\n      <td>9</td>\n      <td>6</td>\n      <td>13</td>\n      <td>21</td>\n      <td>59</td>\n      <td>27</td>\n      <td>51</td>\n    </tr>\n    <tr>\n      <th>15</th>\n      <td>Richard Dazeley</td>\n      <td>Associate Professor</td>\n      <td>1470</td>\n      <td>948</td>\n      <td>16</td>\n      <td>13</td>\n      <td>24</td>\n      <td>15</td>\n      <td>138</td>\n      <td>117</td>\n      <td>104</td>\n      <td>168</td>\n      <td>169</td>\n      <td>193</td>\n      <td>206</td>\n    </tr>\n    <tr>\n      <th>16</th>\n      <td>Guangyan Huang</td>\n      <td>Associate Professor</td>\n      <td>1128</td>\n      <td>809</td>\n      <td>20</td>\n      <td>18</td>\n      <td>28</td>\n      <td>23</td>\n      <td>42</td>\n      <td>91</td>\n      <td>114</td>\n      <td>109</td>\n      <td>129</td>\n      <td>166</td>\n      <td>204</td>\n    </tr>\n    <tr>\n      <th>17</th>\n      <td>Gang Li</td>\n      <td>Associate Professor</td>\n      <td>4111</td>\n      <td>2821</td>\n      <td>28</td>\n      <td>24</td>\n      <td>88</td>\n      <td>60</td>\n      <td>250</td>\n      <td>288</td>\n      <td>338</td>\n      <td>382</td>\n      <td>444</td>\n      <td>579</td>\n      <td>834</td>\n    </tr>\n    <tr>\n      <th>18</th>\n      <td>Jianxin Li</td>\n      <td>Associate Professor</td>\n      <td>1465</td>\n      <td>1086</td>\n      <td>21</td>\n      <td>18</td>\n      <td>38</td>\n      <td>31</td>\n      <td>82</td>\n      <td>58</td>\n      <td>104</td>\n      <td>96</td>\n      <td>104</td>\n      <td>224</td>\n      <td>408</td>\n    </tr>\n    <tr>\n      <th>19</th>\n      <td>Xiao Liu</td>\n      <td>Associate Professor</td>\n      <td>3219</td>\n      <td>1749</td>\n      <td>26</td>\n      <td>20</td>\n      <td>52</td>\n      <td>42</td>\n      <td>378</td>\n      <td>363</td>\n      <td>351</td>\n      <td>302</td>\n      <td>348</td>\n      <td>341</td>\n      <td>309</td>\n    </tr>\n    <tr>\n      <th>20</th>\n      <td>Vicky Mak</td>\n      <td>Associate Professor</td>\n      <td>385</td>\n      <td>227</td>\n      <td>11</td>\n      <td>8</td>\n      <td>14</td>\n      <td>6</td>\n      <td>17</td>\n      <td>32</td>\n      <td>37</td>\n      <td>42</td>\n      <td>53</td>\n      <td>37</td>\n      <td>39</td>\n    </tr>\n    <tr>\n      <th>21</th>\n      <td>Tim Wilkin</td>\n      <td>Associate Professor</td>\n      <td>387</td>\n      <td>310</td>\n      <td>10</td>\n      <td>10</td>\n      <td>11</td>\n      <td>10</td>\n      <td>28</td>\n      <td>44</td>\n      <td>49</td>\n      <td>67</td>\n      <td>60</td>\n      <td>65</td>\n      <td>25</td>\n    </tr>\n  </tbody>\n</table>\n</div>"
     },
     "metadata": {},
     "execution_count": 169
    }
   ],
   "source": [
    "Professor_Citation_Info_df"
   ]
  },
  {
   "cell_type": "code",
   "execution_count": 173,
   "metadata": {},
   "outputs": [
    {
     "output_type": "stream",
     "name": "stdout",
     "text": [
      "<class 'pandas.core.frame.DataFrame'>\nRangeIndex: 22 entries, 0 to 21\nData columns (total 15 columns):\n #   Column                Non-Null Count  Dtype \n---  ------                --------------  ----- \n 0   Name                  22 non-null     object\n 1   Title                 22 non-null     object\n 2   Total citation        22 non-null     object\n 3   Citation since 2016   22 non-null     object\n 4   Total h index         22 non-null     object\n 5   h index since 2016    22 non-null     object\n 6   Total i10 index       22 non-null     object\n 7   i10 index since 2016  22 non-null     object\n 8   2014                  22 non-null     object\n 9   2015                  22 non-null     object\n 10  2016                  22 non-null     object\n 11  2017                  22 non-null     object\n 12  2018                  22 non-null     object\n 13  2019                  22 non-null     object\n 14  2020                  22 non-null     object\ndtypes: object(15)\nmemory usage: 2.7+ KB\n"
     ]
    }
   ],
   "source": [
    "Professor_Citation_Info_df.info()"
   ]
  },
  {
   "cell_type": "code",
   "execution_count": 170,
   "metadata": {},
   "outputs": [],
   "source": [
    "# Save as csv file\n",
    "Professor_Citation_Info_df.to_csv(\"Professor-Citation-list-Updated.csv\", index = False)"
   ]
  },
  {
   "cell_type": "markdown",
   "metadata": {
    "id": "7xxoyZvzxgmK"
   },
   "source": [
    "### 4.2 Find out the professor name having the most citations \n",
    "\n",
    "<div class=\"alert alert-block alert-warning\">\n",
    "\n",
    "**Code**: \n",
    "    Find out the professor name having the most citations (please remove those professor who does not have google scholar page)\n",
    "</div>\n",
    "\n",
    "<div class=\"alert alert-block alert-warning\">\n",
    "    \n",
    "**Report**: \n",
    "    **Part II 4.2** Please include your result for this coding task into your report Part II, with proper section title '4.2'.\n",
    "</div>\n"
   ]
  },
  {
   "cell_type": "code",
   "execution_count": 176,
   "metadata": {
    "id": "ay_z3pC8xntr"
   },
   "outputs": [
    {
     "output_type": "stream",
     "name": "stdout",
     "text": [
      "The professor who has the most citation is: Arkady Zaslavsky\n"
     ]
    }
   ],
   "source": [
    "# find out the professor name having the most citations (please remove those professor who does not have google scholar page)\n",
    "\n",
    "Total_cit = Professor_Citation_Info_df[\"Total citation\"].apply(pd.to_numeric)\n",
    "max_idx = Total_cit.idxmax() # Get the index\n",
    "print(\"The professor who has the most citation is:\", Professor_Citation_Info_df.iloc[max_idx, 0])\n"
   ]
  },
  {
   "cell_type": "markdown",
   "metadata": {
    "id": "MTlPxwg5xo_U"
   },
   "source": [
    "### 4.3 Find out the row for associate professor having the most i10-index since 2016 \n",
    "<div class=\"alert alert-block alert-warning\">\n",
    "\n",
    "**Code**: \n",
    "    Find out the row for associate professor having the most i10-index since 2016 (please remove those professor who does not have google scholar page)\n",
    "</div>\n",
    "\n",
    "\n",
    "<div class=\"alert alert-block alert-warning\">\n",
    "    \n",
    "**Report**: \n",
    "    **Part II 4.3** Please include your result for this coding task into your report Part II, with proper section title '4.3'.\n",
    "</div>\n"
   ]
  },
  {
   "cell_type": "code",
   "execution_count": 183,
   "metadata": {
    "id": "MjpexWtRxwA5"
   },
   "outputs": [
    {
     "output_type": "execute_result",
     "data": {
      "text/plain": [
       "       Name                Title Total citation Citation since 2016  \\\n",
       "17  Gang Li  Associate Professor           4111                2821   \n",
       "\n",
       "   Total h index h index since 2016 Total i10 index  i10 index since 2016  \\\n",
       "17            28                 24              88                    60   \n",
       "\n",
       "   2014 2015 2016 2017 2018 2019 2020  \n",
       "17  250  288  338  382  444  579  834  "
      ],
      "text/html": "<div>\n<style scoped>\n    .dataframe tbody tr th:only-of-type {\n        vertical-align: middle;\n    }\n\n    .dataframe tbody tr th {\n        vertical-align: top;\n    }\n\n    .dataframe thead th {\n        text-align: right;\n    }\n</style>\n<table border=\"1\" class=\"dataframe\">\n  <thead>\n    <tr style=\"text-align: right;\">\n      <th></th>\n      <th>Name</th>\n      <th>Title</th>\n      <th>Total citation</th>\n      <th>Citation since 2016</th>\n      <th>Total h index</th>\n      <th>h index since 2016</th>\n      <th>Total i10 index</th>\n      <th>i10 index since 2016</th>\n      <th>2014</th>\n      <th>2015</th>\n      <th>2016</th>\n      <th>2017</th>\n      <th>2018</th>\n      <th>2019</th>\n      <th>2020</th>\n    </tr>\n  </thead>\n  <tbody>\n    <tr>\n      <th>17</th>\n      <td>Gang Li</td>\n      <td>Associate Professor</td>\n      <td>4111</td>\n      <td>2821</td>\n      <td>28</td>\n      <td>24</td>\n      <td>88</td>\n      <td>60</td>\n      <td>250</td>\n      <td>288</td>\n      <td>338</td>\n      <td>382</td>\n      <td>444</td>\n      <td>579</td>\n      <td>834</td>\n    </tr>\n  </tbody>\n</table>\n</div>"
     },
     "metadata": {},
     "execution_count": 183
    }
   ],
   "source": [
    "# find out the row for associate professor having the most i10_index since 2016 (please remove those professor who does not have google scholar page)\n",
    "\n",
    "# Convert data to int\n",
    "Professor_Citation_Info_df[\"i10 index since 2016\"] = pd.to_numeric(Professor_Citation_Info_df[\"i10 index since 2016\"])\n",
    "row_data = Professor_Citation_Info_df[(Professor_Citation_Info_df[\"Title\"] == \"Associate Professor\")]\n",
    "row_data_max = row_data[row_data[\"i10 index since 2016\"] == row_data[\"i10 index since 2016\"].max()]\n",
    "row_data_max"
   ]
  },
  {
   "cell_type": "markdown",
   "metadata": {
    "id": "lsHSp2H9xxRg"
   },
   "source": [
    "### 4.4 Find out all the professors name who has the citations_since2016 > 2500\n",
    "<div class=\"alert alert-block alert-warning\">\n",
    "\n",
    "**Code**: \n",
    "    Find out all the professors name who has the citations_since2016 > 2500 (please remove those professor who does not have google scholar page)\n",
    "</div>\n",
    "\n",
    "<div class=\"alert alert-block alert-warning\">\n",
    "    \n",
    "**Report**: \n",
    "    **Part II 4.4** Please include your result for this coding task into your report Part II, with proper section title '4.4'.\n",
    "</div>\n"
   ]
  },
  {
   "cell_type": "code",
   "execution_count": 185,
   "metadata": {
    "id": "ZD352krRx5Dk"
   },
   "outputs": [
    {
     "output_type": "execute_result",
     "data": {
      "text/plain": [
       "2        Gleb Beliakov\n",
       "4           Jinho Choi\n",
       "7            Seng Loke\n",
       "10          Yong Xiang\n",
       "12    Arkady Zaslavsky\n",
       "17             Gang Li\n",
       "Name: Name, dtype: object"
      ]
     },
     "metadata": {},
     "execution_count": 185
    }
   ],
   "source": [
    "# find out all the professors name who has the citations_since2016 > 2500\n",
    "\n",
    "Professor_Citation_Info_df[\"Citation since 2016\"] = pd.to_numeric(Professor_Citation_Info_df[\"Citation since 2016\"])\n",
    "prof_cit_2500 = Professor_Citation_Info_df[(Professor_Citation_Info_df[\"Citation since 2016\"] > 2500)]\n",
    "prof_cit_2500[\"Name\"]"
   ]
  },
  {
   "source": [
    "Predict Professor Li Gang's 2021 citation based on several models"
   ],
   "cell_type": "markdown",
   "metadata": {}
  },
  {
   "cell_type": "code",
   "execution_count": 214,
   "metadata": {},
   "outputs": [],
   "source": [
    "# Import packages\n",
    "\n",
    "import os\n",
    "import datetime\n",
    "import numpy as np\n",
    "from numpy import array\n",
    "import pandas as pd\n",
    "import seaborn as sns\n",
    "import tensorflow as tf\n",
    "from keras.models import Sequential\n",
    "from keras.layers.convolutional import Conv1D\n",
    "from keras.layers import MaxPooling1D\n",
    "from keras.layers import Flatten\n",
    "from keras.layers import Dense"
   ]
  },
  {
   "source": [
    "1. Time series forcasting with Univariate CNN Models."
   ],
   "cell_type": "markdown",
   "metadata": {}
  },
  {
   "cell_type": "code",
   "execution_count": 250,
   "metadata": {},
   "outputs": [
    {
     "output_type": "execute_result",
     "data": {
      "text/plain": [
       "[250, 288, 338, 382, 444, 579, 834]"
      ]
     },
     "metadata": {},
     "execution_count": 250
    }
   ],
   "source": [
    "# Create dataset for training and prediction\n",
    "data_set_CNN = (pd.to_numeric(row_data_max.iloc[0,8:])).to_list()\n",
    "data_set_CNN"
   ]
  },
  {
   "cell_type": "code",
   "execution_count": 202,
   "metadata": {},
   "outputs": [],
   "source": [
    "# Data preparation\n",
    "# Define Split_sequence function\n",
    "def split_sequence(sequence, n_steps):\n",
    "\tX, y = list(), list()\n",
    "\tfor i in range(len(sequence)):\n",
    "\t\t# find the end of this pattern\n",
    "\t\tend_ix = i + n_steps\n",
    "\t\t# check if we are beyond the sequence\n",
    "\t\tif end_ix > len(sequence)-1:\n",
    "\t\t\tbreak\n",
    "\t\t# gather input and output parts of the pattern\n",
    "\t\tseq_x, seq_y = sequence[i:end_ix], sequence[end_ix]\n",
    "\t\tX.append(seq_x)\n",
    "\t\ty.append(seq_y)\n",
    "\treturn array(X), array(y)"
   ]
  },
  {
   "cell_type": "code",
   "execution_count": 231,
   "metadata": {},
   "outputs": [
    {
     "output_type": "stream",
     "name": "stdout",
     "text": [
      "[250 288 338] 382\n[288 338 382] 444\n[338 382 444] 579\n[382 444 579] 834\n"
     ]
    }
   ],
   "source": [
    "# Define the step of the dataset and split\n",
    "n_steps = 3\n",
    "X, Y =  split_sequence(data_set_CNN, n_steps)\n",
    "\n",
    "# Summarize the data\n",
    "for i in range(len(X)):\n",
    "\tprint(X[i], Y[i])"
   ]
  },
  {
   "cell_type": "code",
   "execution_count": 232,
   "metadata": {},
   "outputs": [],
   "source": [
    "# Define model\n",
    "model = Sequential()\n",
    "model.add(Conv1D(filters=64, kernel_size=2, activation='relu', input_shape = (n_steps,1)))\n",
    "model.add(MaxPooling1D(pool_size=1))\n",
    "model.add(Flatten())\n",
    "model.add(Dense(50, activation='relu'))\n",
    "model.add(Dense(1))\n",
    "model.compile(optimizer='adam', loss='mse')"
   ]
  },
  {
   "cell_type": "code",
   "execution_count": 233,
   "metadata": {},
   "outputs": [],
   "source": [
    "# Reshape X to add a feature feature so the imput shape could be [sample, step, feature]\n",
    "\n",
    "X = X.reshape((X.shape[0], X.shape[1], 1))"
   ]
  },
  {
   "cell_type": "code",
   "execution_count": 234,
   "metadata": {},
   "outputs": [
    {
     "output_type": "execute_result",
     "data": {
      "text/plain": [
       "<tensorflow.python.keras.callbacks.History at 0x19a6a63ed30>"
      ]
     },
     "metadata": {},
     "execution_count": 234
    }
   ],
   "source": [
    "# Training model\n",
    "model.fit(X, Y, epochs=1000, verbose=0)"
   ]
  },
  {
   "cell_type": "code",
   "execution_count": 235,
   "metadata": {},
   "outputs": [
    {
     "output_type": "execute_result",
     "data": {
      "text/plain": [
       "array([[1112.1844]], dtype=float32)"
      ]
     },
     "metadata": {},
     "execution_count": 235
    }
   ],
   "source": [
    "# Using the model to predict Professor Li's 2021 citation\n",
    "X_input = array([444,579,834])\n",
    "X_input = X_input.reshape((1, n_steps, 1)) # Reshape the input to be 3 dim\n",
    "\n",
    "Y_2021 = model.predict(X_input, verbose = 0)\n",
    "Y_2021"
   ]
  },
  {
   "cell_type": "code",
   "execution_count": 238,
   "metadata": {},
   "outputs": [
    {
     "output_type": "stream",
     "name": "stdout",
     "text": [
      "It is expected that the citation for professor Li in 2021 will be approxmately: 1112\n"
     ]
    }
   ],
   "source": [
    "print(\"It is expected that the citation for professor Li in 2021 will be approxmately:\", int(Y_2021))"
   ]
  },
  {
   "cell_type": "code",
   "execution_count": 251,
   "metadata": {},
   "outputs": [],
   "source": [
    "# Plot line chart about the trend of citation\n",
    "data_set_CNN.append(int(Y_2021))\n"
   ]
  },
  {
   "cell_type": "code",
   "execution_count": 255,
   "metadata": {},
   "outputs": [
    {
     "output_type": "execute_result",
     "data": {
      "text/plain": [
       "[2014, 2015, 2016, 2017, 2018, 2019, 2020, 2021]"
      ]
     },
     "metadata": {},
     "execution_count": 255
    }
   ],
   "source": [
    "year = datetime.datetime.today().year\n",
    "date = [year - i for i in range(8)]\n",
    "date = date[::-1]\n",
    "date"
   ]
  },
  {
   "cell_type": "code",
   "execution_count": 266,
   "metadata": {},
   "outputs": [
    {
     "output_type": "display_data",
     "data": {
      "text/plain": "<Figure size 1080x720 with 1 Axes>",
      "image/svg+xml": "<?xml version=\"1.0\" encoding=\"utf-8\" standalone=\"no\"?>\r\n<!DOCTYPE svg PUBLIC \"-//W3C//DTD SVG 1.1//EN\"\r\n  \"http://www.w3.org/Graphics/SVG/1.1/DTD/svg11.dtd\">\r\n<!-- Created with matplotlib (https://matplotlib.org/) -->\r\n<svg height=\"603.474375pt\" version=\"1.1\" viewBox=\"0 0 897.528125 603.474375\" width=\"897.528125pt\" xmlns=\"http://www.w3.org/2000/svg\" xmlns:xlink=\"http://www.w3.org/1999/xlink\">\r\n <metadata>\r\n  <rdf:RDF xmlns:cc=\"http://creativecommons.org/ns#\" xmlns:dc=\"http://purl.org/dc/elements/1.1/\" xmlns:rdf=\"http://www.w3.org/1999/02/22-rdf-syntax-ns#\">\r\n   <cc:Work>\r\n    <dc:type rdf:resource=\"http://purl.org/dc/dcmitype/StillImage\"/>\r\n    <dc:date>2021-04-16T16:55:15.494735</dc:date>\r\n    <dc:format>image/svg+xml</dc:format>\r\n    <dc:creator>\r\n     <cc:Agent>\r\n      <dc:title>Matplotlib v3.3.4, https://matplotlib.org/</dc:title>\r\n     </cc:Agent>\r\n    </dc:creator>\r\n   </cc:Work>\r\n  </rdf:RDF>\r\n </metadata>\r\n <defs>\r\n  <style type=\"text/css\">*{stroke-linecap:butt;stroke-linejoin:round;}</style>\r\n </defs>\r\n <g id=\"figure_1\">\r\n  <g id=\"patch_1\">\r\n   <path d=\"M 0 603.474375 \r\nL 897.528125 603.474375 \r\nL 897.528125 0 \r\nL 0 0 \r\nz\r\n\" style=\"fill:none;\"/>\r\n  </g>\r\n  <g id=\"axes_1\">\r\n   <g id=\"patch_2\">\r\n    <path d=\"M 53.328125 565.918125 \r\nL 890.328125 565.918125 \r\nL 890.328125 22.318125 \r\nL 53.328125 22.318125 \r\nz\r\n\" style=\"fill:#ffffff;\"/>\r\n   </g>\r\n   <g id=\"PathCollection_1\">\r\n    <defs>\r\n     <path d=\"M 0 3 \r\nC 0.795609 3 1.55874 2.683901 2.12132 2.12132 \r\nC 2.683901 1.55874 3 0.795609 3 0 \r\nC 3 -0.795609 2.683901 -1.55874 2.12132 -2.12132 \r\nC 1.55874 -2.683901 0.795609 -3 0 -3 \r\nC -0.795609 -3 -1.55874 -2.683901 -2.12132 -2.12132 \r\nC -2.683901 -1.55874 -3 -0.795609 -3 0 \r\nC -3 0.795609 -2.683901 1.55874 -2.12132 2.12132 \r\nC -1.55874 2.683901 -0.795609 3 0 3 \r\nz\r\n\" id=\"m6c6324ea5b\" style=\"stroke:#1f77b4;\"/>\r\n    </defs>\r\n    <g clip-path=\"url(#p97ffdad9a0)\">\r\n     <use style=\"fill:#1f77b4;stroke:#1f77b4;\" x=\"91.37358\" xlink:href=\"#m6c6324ea5b\" y=\"541.209034\"/>\r\n     <use style=\"fill:#1f77b4;stroke:#1f77b4;\" x=\"200.074878\" xlink:href=\"#m6c6324ea5b\" y=\"519.423757\"/>\r\n     <use style=\"fill:#1f77b4;stroke:#1f77b4;\" x=\"308.776177\" xlink:href=\"#m6c6324ea5b\" y=\"490.758918\"/>\r\n     <use style=\"fill:#1f77b4;stroke:#1f77b4;\" x=\"417.477476\" xlink:href=\"#m6c6324ea5b\" y=\"465.53386\"/>\r\n     <use style=\"fill:#1f77b4;stroke:#1f77b4;\" x=\"526.178774\" xlink:href=\"#m6c6324ea5b\" y=\"429.98946\"/>\r\n     <use style=\"fill:#1f77b4;stroke:#1f77b4;\" x=\"634.880073\" xlink:href=\"#m6c6324ea5b\" y=\"352.594396\"/>\r\n     <use style=\"fill:#1f77b4;stroke:#1f77b4;\" x=\"743.581372\" xlink:href=\"#m6c6324ea5b\" y=\"206.403719\"/>\r\n     <use style=\"fill:#1f77b4;stroke:#1f77b4;\" x=\"852.28267\" xlink:href=\"#m6c6324ea5b\" y=\"47.027216\"/>\r\n    </g>\r\n   </g>\r\n   <g id=\"matplotlib.axis_1\">\r\n    <g id=\"xtick_1\">\r\n     <g id=\"line2d_1\">\r\n      <defs>\r\n       <path d=\"M 0 0 \r\nL 0 3.5 \r\n\" id=\"m48cb99f0b0\" style=\"stroke:#000000;stroke-width:0.8;\"/>\r\n      </defs>\r\n      <g>\r\n       <use style=\"stroke:#000000;stroke-width:0.8;\" x=\"91.37358\" xlink:href=\"#m48cb99f0b0\" y=\"565.918125\"/>\r\n      </g>\r\n     </g>\r\n     <g id=\"text_1\">\r\n      <!-- 2014 -->\r\n      <g transform=\"translate(78.64858 580.516562)scale(0.1 -0.1)\">\r\n       <defs>\r\n        <path d=\"M 19.1875 8.296875 \r\nL 53.609375 8.296875 \r\nL 53.609375 0 \r\nL 7.328125 0 \r\nL 7.328125 8.296875 \r\nQ 12.9375 14.109375 22.625 23.890625 \r\nQ 32.328125 33.6875 34.8125 36.53125 \r\nQ 39.546875 41.84375 41.421875 45.53125 \r\nQ 43.3125 49.21875 43.3125 52.78125 \r\nQ 43.3125 58.59375 39.234375 62.25 \r\nQ 35.15625 65.921875 28.609375 65.921875 \r\nQ 23.96875 65.921875 18.8125 64.3125 \r\nQ 13.671875 62.703125 7.8125 59.421875 \r\nL 7.8125 69.390625 \r\nQ 13.765625 71.78125 18.9375 73 \r\nQ 24.125 74.21875 28.421875 74.21875 \r\nQ 39.75 74.21875 46.484375 68.546875 \r\nQ 53.21875 62.890625 53.21875 53.421875 \r\nQ 53.21875 48.921875 51.53125 44.890625 \r\nQ 49.859375 40.875 45.40625 35.40625 \r\nQ 44.1875 33.984375 37.640625 27.21875 \r\nQ 31.109375 20.453125 19.1875 8.296875 \r\nz\r\n\" id=\"DejaVuSans-50\"/>\r\n        <path d=\"M 31.78125 66.40625 \r\nQ 24.171875 66.40625 20.328125 58.90625 \r\nQ 16.5 51.421875 16.5 36.375 \r\nQ 16.5 21.390625 20.328125 13.890625 \r\nQ 24.171875 6.390625 31.78125 6.390625 \r\nQ 39.453125 6.390625 43.28125 13.890625 \r\nQ 47.125 21.390625 47.125 36.375 \r\nQ 47.125 51.421875 43.28125 58.90625 \r\nQ 39.453125 66.40625 31.78125 66.40625 \r\nz\r\nM 31.78125 74.21875 \r\nQ 44.046875 74.21875 50.515625 64.515625 \r\nQ 56.984375 54.828125 56.984375 36.375 \r\nQ 56.984375 17.96875 50.515625 8.265625 \r\nQ 44.046875 -1.421875 31.78125 -1.421875 \r\nQ 19.53125 -1.421875 13.0625 8.265625 \r\nQ 6.59375 17.96875 6.59375 36.375 \r\nQ 6.59375 54.828125 13.0625 64.515625 \r\nQ 19.53125 74.21875 31.78125 74.21875 \r\nz\r\n\" id=\"DejaVuSans-48\"/>\r\n        <path d=\"M 12.40625 8.296875 \r\nL 28.515625 8.296875 \r\nL 28.515625 63.921875 \r\nL 10.984375 60.40625 \r\nL 10.984375 69.390625 \r\nL 28.421875 72.90625 \r\nL 38.28125 72.90625 \r\nL 38.28125 8.296875 \r\nL 54.390625 8.296875 \r\nL 54.390625 0 \r\nL 12.40625 0 \r\nz\r\n\" id=\"DejaVuSans-49\"/>\r\n        <path d=\"M 37.796875 64.3125 \r\nL 12.890625 25.390625 \r\nL 37.796875 25.390625 \r\nz\r\nM 35.203125 72.90625 \r\nL 47.609375 72.90625 \r\nL 47.609375 25.390625 \r\nL 58.015625 25.390625 \r\nL 58.015625 17.1875 \r\nL 47.609375 17.1875 \r\nL 47.609375 0 \r\nL 37.796875 0 \r\nL 37.796875 17.1875 \r\nL 4.890625 17.1875 \r\nL 4.890625 26.703125 \r\nz\r\n\" id=\"DejaVuSans-52\"/>\r\n       </defs>\r\n       <use xlink:href=\"#DejaVuSans-50\"/>\r\n       <use x=\"63.623047\" xlink:href=\"#DejaVuSans-48\"/>\r\n       <use x=\"127.246094\" xlink:href=\"#DejaVuSans-49\"/>\r\n       <use x=\"190.869141\" xlink:href=\"#DejaVuSans-52\"/>\r\n      </g>\r\n     </g>\r\n    </g>\r\n    <g id=\"xtick_2\">\r\n     <g id=\"line2d_2\">\r\n      <g>\r\n       <use style=\"stroke:#000000;stroke-width:0.8;\" x=\"200.074878\" xlink:href=\"#m48cb99f0b0\" y=\"565.918125\"/>\r\n      </g>\r\n     </g>\r\n     <g id=\"text_2\">\r\n      <!-- 2015 -->\r\n      <g transform=\"translate(187.349878 580.516562)scale(0.1 -0.1)\">\r\n       <defs>\r\n        <path d=\"M 10.796875 72.90625 \r\nL 49.515625 72.90625 \r\nL 49.515625 64.59375 \r\nL 19.828125 64.59375 \r\nL 19.828125 46.734375 \r\nQ 21.96875 47.46875 24.109375 47.828125 \r\nQ 26.265625 48.1875 28.421875 48.1875 \r\nQ 40.625 48.1875 47.75 41.5 \r\nQ 54.890625 34.8125 54.890625 23.390625 \r\nQ 54.890625 11.625 47.5625 5.09375 \r\nQ 40.234375 -1.421875 26.90625 -1.421875 \r\nQ 22.3125 -1.421875 17.546875 -0.640625 \r\nQ 12.796875 0.140625 7.71875 1.703125 \r\nL 7.71875 11.625 \r\nQ 12.109375 9.234375 16.796875 8.0625 \r\nQ 21.484375 6.890625 26.703125 6.890625 \r\nQ 35.15625 6.890625 40.078125 11.328125 \r\nQ 45.015625 15.765625 45.015625 23.390625 \r\nQ 45.015625 31 40.078125 35.4375 \r\nQ 35.15625 39.890625 26.703125 39.890625 \r\nQ 22.75 39.890625 18.8125 39.015625 \r\nQ 14.890625 38.140625 10.796875 36.28125 \r\nz\r\n\" id=\"DejaVuSans-53\"/>\r\n       </defs>\r\n       <use xlink:href=\"#DejaVuSans-50\"/>\r\n       <use x=\"63.623047\" xlink:href=\"#DejaVuSans-48\"/>\r\n       <use x=\"127.246094\" xlink:href=\"#DejaVuSans-49\"/>\r\n       <use x=\"190.869141\" xlink:href=\"#DejaVuSans-53\"/>\r\n      </g>\r\n     </g>\r\n    </g>\r\n    <g id=\"xtick_3\">\r\n     <g id=\"line2d_3\">\r\n      <g>\r\n       <use style=\"stroke:#000000;stroke-width:0.8;\" x=\"308.776177\" xlink:href=\"#m48cb99f0b0\" y=\"565.918125\"/>\r\n      </g>\r\n     </g>\r\n     <g id=\"text_3\">\r\n      <!-- 2016 -->\r\n      <g transform=\"translate(296.051177 580.516562)scale(0.1 -0.1)\">\r\n       <defs>\r\n        <path d=\"M 33.015625 40.375 \r\nQ 26.375 40.375 22.484375 35.828125 \r\nQ 18.609375 31.296875 18.609375 23.390625 \r\nQ 18.609375 15.53125 22.484375 10.953125 \r\nQ 26.375 6.390625 33.015625 6.390625 \r\nQ 39.65625 6.390625 43.53125 10.953125 \r\nQ 47.40625 15.53125 47.40625 23.390625 \r\nQ 47.40625 31.296875 43.53125 35.828125 \r\nQ 39.65625 40.375 33.015625 40.375 \r\nz\r\nM 52.59375 71.296875 \r\nL 52.59375 62.3125 \r\nQ 48.875 64.0625 45.09375 64.984375 \r\nQ 41.3125 65.921875 37.59375 65.921875 \r\nQ 27.828125 65.921875 22.671875 59.328125 \r\nQ 17.53125 52.734375 16.796875 39.40625 \r\nQ 19.671875 43.65625 24.015625 45.921875 \r\nQ 28.375 48.1875 33.59375 48.1875 \r\nQ 44.578125 48.1875 50.953125 41.515625 \r\nQ 57.328125 34.859375 57.328125 23.390625 \r\nQ 57.328125 12.15625 50.6875 5.359375 \r\nQ 44.046875 -1.421875 33.015625 -1.421875 \r\nQ 20.359375 -1.421875 13.671875 8.265625 \r\nQ 6.984375 17.96875 6.984375 36.375 \r\nQ 6.984375 53.65625 15.1875 63.9375 \r\nQ 23.390625 74.21875 37.203125 74.21875 \r\nQ 40.921875 74.21875 44.703125 73.484375 \r\nQ 48.484375 72.75 52.59375 71.296875 \r\nz\r\n\" id=\"DejaVuSans-54\"/>\r\n       </defs>\r\n       <use xlink:href=\"#DejaVuSans-50\"/>\r\n       <use x=\"63.623047\" xlink:href=\"#DejaVuSans-48\"/>\r\n       <use x=\"127.246094\" xlink:href=\"#DejaVuSans-49\"/>\r\n       <use x=\"190.869141\" xlink:href=\"#DejaVuSans-54\"/>\r\n      </g>\r\n     </g>\r\n    </g>\r\n    <g id=\"xtick_4\">\r\n     <g id=\"line2d_4\">\r\n      <g>\r\n       <use style=\"stroke:#000000;stroke-width:0.8;\" x=\"417.477476\" xlink:href=\"#m48cb99f0b0\" y=\"565.918125\"/>\r\n      </g>\r\n     </g>\r\n     <g id=\"text_4\">\r\n      <!-- 2017 -->\r\n      <g transform=\"translate(404.752476 580.516562)scale(0.1 -0.1)\">\r\n       <defs>\r\n        <path d=\"M 8.203125 72.90625 \r\nL 55.078125 72.90625 \r\nL 55.078125 68.703125 \r\nL 28.609375 0 \r\nL 18.3125 0 \r\nL 43.21875 64.59375 \r\nL 8.203125 64.59375 \r\nz\r\n\" id=\"DejaVuSans-55\"/>\r\n       </defs>\r\n       <use xlink:href=\"#DejaVuSans-50\"/>\r\n       <use x=\"63.623047\" xlink:href=\"#DejaVuSans-48\"/>\r\n       <use x=\"127.246094\" xlink:href=\"#DejaVuSans-49\"/>\r\n       <use x=\"190.869141\" xlink:href=\"#DejaVuSans-55\"/>\r\n      </g>\r\n     </g>\r\n    </g>\r\n    <g id=\"xtick_5\">\r\n     <g id=\"line2d_5\">\r\n      <g>\r\n       <use style=\"stroke:#000000;stroke-width:0.8;\" x=\"526.178774\" xlink:href=\"#m48cb99f0b0\" y=\"565.918125\"/>\r\n      </g>\r\n     </g>\r\n     <g id=\"text_5\">\r\n      <!-- 2018 -->\r\n      <g transform=\"translate(513.453774 580.516562)scale(0.1 -0.1)\">\r\n       <defs>\r\n        <path d=\"M 31.78125 34.625 \r\nQ 24.75 34.625 20.71875 30.859375 \r\nQ 16.703125 27.09375 16.703125 20.515625 \r\nQ 16.703125 13.921875 20.71875 10.15625 \r\nQ 24.75 6.390625 31.78125 6.390625 \r\nQ 38.8125 6.390625 42.859375 10.171875 \r\nQ 46.921875 13.96875 46.921875 20.515625 \r\nQ 46.921875 27.09375 42.890625 30.859375 \r\nQ 38.875 34.625 31.78125 34.625 \r\nz\r\nM 21.921875 38.8125 \r\nQ 15.578125 40.375 12.03125 44.71875 \r\nQ 8.5 49.078125 8.5 55.328125 \r\nQ 8.5 64.0625 14.71875 69.140625 \r\nQ 20.953125 74.21875 31.78125 74.21875 \r\nQ 42.671875 74.21875 48.875 69.140625 \r\nQ 55.078125 64.0625 55.078125 55.328125 \r\nQ 55.078125 49.078125 51.53125 44.71875 \r\nQ 48 40.375 41.703125 38.8125 \r\nQ 48.828125 37.15625 52.796875 32.3125 \r\nQ 56.78125 27.484375 56.78125 20.515625 \r\nQ 56.78125 9.90625 50.3125 4.234375 \r\nQ 43.84375 -1.421875 31.78125 -1.421875 \r\nQ 19.734375 -1.421875 13.25 4.234375 \r\nQ 6.78125 9.90625 6.78125 20.515625 \r\nQ 6.78125 27.484375 10.78125 32.3125 \r\nQ 14.796875 37.15625 21.921875 38.8125 \r\nz\r\nM 18.3125 54.390625 \r\nQ 18.3125 48.734375 21.84375 45.5625 \r\nQ 25.390625 42.390625 31.78125 42.390625 \r\nQ 38.140625 42.390625 41.71875 45.5625 \r\nQ 45.3125 48.734375 45.3125 54.390625 \r\nQ 45.3125 60.0625 41.71875 63.234375 \r\nQ 38.140625 66.40625 31.78125 66.40625 \r\nQ 25.390625 66.40625 21.84375 63.234375 \r\nQ 18.3125 60.0625 18.3125 54.390625 \r\nz\r\n\" id=\"DejaVuSans-56\"/>\r\n       </defs>\r\n       <use xlink:href=\"#DejaVuSans-50\"/>\r\n       <use x=\"63.623047\" xlink:href=\"#DejaVuSans-48\"/>\r\n       <use x=\"127.246094\" xlink:href=\"#DejaVuSans-49\"/>\r\n       <use x=\"190.869141\" xlink:href=\"#DejaVuSans-56\"/>\r\n      </g>\r\n     </g>\r\n    </g>\r\n    <g id=\"xtick_6\">\r\n     <g id=\"line2d_6\">\r\n      <g>\r\n       <use style=\"stroke:#000000;stroke-width:0.8;\" x=\"634.880073\" xlink:href=\"#m48cb99f0b0\" y=\"565.918125\"/>\r\n      </g>\r\n     </g>\r\n     <g id=\"text_6\">\r\n      <!-- 2019 -->\r\n      <g transform=\"translate(622.155073 580.516562)scale(0.1 -0.1)\">\r\n       <defs>\r\n        <path d=\"M 10.984375 1.515625 \r\nL 10.984375 10.5 \r\nQ 14.703125 8.734375 18.5 7.8125 \r\nQ 22.3125 6.890625 25.984375 6.890625 \r\nQ 35.75 6.890625 40.890625 13.453125 \r\nQ 46.046875 20.015625 46.78125 33.40625 \r\nQ 43.953125 29.203125 39.59375 26.953125 \r\nQ 35.25 24.703125 29.984375 24.703125 \r\nQ 19.046875 24.703125 12.671875 31.3125 \r\nQ 6.296875 37.9375 6.296875 49.421875 \r\nQ 6.296875 60.640625 12.9375 67.421875 \r\nQ 19.578125 74.21875 30.609375 74.21875 \r\nQ 43.265625 74.21875 49.921875 64.515625 \r\nQ 56.59375 54.828125 56.59375 36.375 \r\nQ 56.59375 19.140625 48.40625 8.859375 \r\nQ 40.234375 -1.421875 26.421875 -1.421875 \r\nQ 22.703125 -1.421875 18.890625 -0.6875 \r\nQ 15.09375 0.046875 10.984375 1.515625 \r\nz\r\nM 30.609375 32.421875 \r\nQ 37.25 32.421875 41.125 36.953125 \r\nQ 45.015625 41.5 45.015625 49.421875 \r\nQ 45.015625 57.28125 41.125 61.84375 \r\nQ 37.25 66.40625 30.609375 66.40625 \r\nQ 23.96875 66.40625 20.09375 61.84375 \r\nQ 16.21875 57.28125 16.21875 49.421875 \r\nQ 16.21875 41.5 20.09375 36.953125 \r\nQ 23.96875 32.421875 30.609375 32.421875 \r\nz\r\n\" id=\"DejaVuSans-57\"/>\r\n       </defs>\r\n       <use xlink:href=\"#DejaVuSans-50\"/>\r\n       <use x=\"63.623047\" xlink:href=\"#DejaVuSans-48\"/>\r\n       <use x=\"127.246094\" xlink:href=\"#DejaVuSans-49\"/>\r\n       <use x=\"190.869141\" xlink:href=\"#DejaVuSans-57\"/>\r\n      </g>\r\n     </g>\r\n    </g>\r\n    <g id=\"xtick_7\">\r\n     <g id=\"line2d_7\">\r\n      <g>\r\n       <use style=\"stroke:#000000;stroke-width:0.8;\" x=\"743.581372\" xlink:href=\"#m48cb99f0b0\" y=\"565.918125\"/>\r\n      </g>\r\n     </g>\r\n     <g id=\"text_7\">\r\n      <!-- 2020 -->\r\n      <g transform=\"translate(730.856372 580.516562)scale(0.1 -0.1)\">\r\n       <use xlink:href=\"#DejaVuSans-50\"/>\r\n       <use x=\"63.623047\" xlink:href=\"#DejaVuSans-48\"/>\r\n       <use x=\"127.246094\" xlink:href=\"#DejaVuSans-50\"/>\r\n       <use x=\"190.869141\" xlink:href=\"#DejaVuSans-48\"/>\r\n      </g>\r\n     </g>\r\n    </g>\r\n    <g id=\"xtick_8\">\r\n     <g id=\"line2d_8\">\r\n      <g>\r\n       <use style=\"stroke:#000000;stroke-width:0.8;\" x=\"852.28267\" xlink:href=\"#m48cb99f0b0\" y=\"565.918125\"/>\r\n      </g>\r\n     </g>\r\n     <g id=\"text_8\">\r\n      <!-- 2021 -->\r\n      <g transform=\"translate(839.55767 580.516562)scale(0.1 -0.1)\">\r\n       <use xlink:href=\"#DejaVuSans-50\"/>\r\n       <use x=\"63.623047\" xlink:href=\"#DejaVuSans-48\"/>\r\n       <use x=\"127.246094\" xlink:href=\"#DejaVuSans-50\"/>\r\n       <use x=\"190.869141\" xlink:href=\"#DejaVuSans-49\"/>\r\n      </g>\r\n     </g>\r\n    </g>\r\n    <g id=\"text_9\">\r\n     <!-- Year -->\r\n     <g transform=\"translate(461.240625 594.194687)scale(0.1 -0.1)\">\r\n      <defs>\r\n       <path d=\"M -0.203125 72.90625 \r\nL 10.40625 72.90625 \r\nL 30.609375 42.921875 \r\nL 50.6875 72.90625 \r\nL 61.28125 72.90625 \r\nL 35.5 34.71875 \r\nL 35.5 0 \r\nL 25.59375 0 \r\nL 25.59375 34.71875 \r\nz\r\n\" id=\"DejaVuSans-89\"/>\r\n       <path d=\"M 56.203125 29.59375 \r\nL 56.203125 25.203125 \r\nL 14.890625 25.203125 \r\nQ 15.484375 15.921875 20.484375 11.0625 \r\nQ 25.484375 6.203125 34.421875 6.203125 \r\nQ 39.59375 6.203125 44.453125 7.46875 \r\nQ 49.3125 8.734375 54.109375 11.28125 \r\nL 54.109375 2.78125 \r\nQ 49.265625 0.734375 44.1875 -0.34375 \r\nQ 39.109375 -1.421875 33.890625 -1.421875 \r\nQ 20.796875 -1.421875 13.15625 6.1875 \r\nQ 5.515625 13.8125 5.515625 26.8125 \r\nQ 5.515625 40.234375 12.765625 48.109375 \r\nQ 20.015625 56 32.328125 56 \r\nQ 43.359375 56 49.78125 48.890625 \r\nQ 56.203125 41.796875 56.203125 29.59375 \r\nz\r\nM 47.21875 32.234375 \r\nQ 47.125 39.59375 43.09375 43.984375 \r\nQ 39.0625 48.390625 32.421875 48.390625 \r\nQ 24.90625 48.390625 20.390625 44.140625 \r\nQ 15.875 39.890625 15.1875 32.171875 \r\nz\r\n\" id=\"DejaVuSans-101\"/>\r\n       <path d=\"M 34.28125 27.484375 \r\nQ 23.390625 27.484375 19.1875 25 \r\nQ 14.984375 22.515625 14.984375 16.5 \r\nQ 14.984375 11.71875 18.140625 8.90625 \r\nQ 21.296875 6.109375 26.703125 6.109375 \r\nQ 34.1875 6.109375 38.703125 11.40625 \r\nQ 43.21875 16.703125 43.21875 25.484375 \r\nL 43.21875 27.484375 \r\nz\r\nM 52.203125 31.203125 \r\nL 52.203125 0 \r\nL 43.21875 0 \r\nL 43.21875 8.296875 \r\nQ 40.140625 3.328125 35.546875 0.953125 \r\nQ 30.953125 -1.421875 24.3125 -1.421875 \r\nQ 15.921875 -1.421875 10.953125 3.296875 \r\nQ 6 8.015625 6 15.921875 \r\nQ 6 25.140625 12.171875 29.828125 \r\nQ 18.359375 34.515625 30.609375 34.515625 \r\nL 43.21875 34.515625 \r\nL 43.21875 35.40625 \r\nQ 43.21875 41.609375 39.140625 45 \r\nQ 35.0625 48.390625 27.6875 48.390625 \r\nQ 23 48.390625 18.546875 47.265625 \r\nQ 14.109375 46.140625 10.015625 43.890625 \r\nL 10.015625 52.203125 \r\nQ 14.9375 54.109375 19.578125 55.046875 \r\nQ 24.21875 56 28.609375 56 \r\nQ 40.484375 56 46.34375 49.84375 \r\nQ 52.203125 43.703125 52.203125 31.203125 \r\nz\r\n\" id=\"DejaVuSans-97\"/>\r\n       <path d=\"M 41.109375 46.296875 \r\nQ 39.59375 47.171875 37.8125 47.578125 \r\nQ 36.03125 48 33.890625 48 \r\nQ 26.265625 48 22.1875 43.046875 \r\nQ 18.109375 38.09375 18.109375 28.8125 \r\nL 18.109375 0 \r\nL 9.078125 0 \r\nL 9.078125 54.6875 \r\nL 18.109375 54.6875 \r\nL 18.109375 46.1875 \r\nQ 20.953125 51.171875 25.484375 53.578125 \r\nQ 30.03125 56 36.53125 56 \r\nQ 37.453125 56 38.578125 55.875 \r\nQ 39.703125 55.765625 41.0625 55.515625 \r\nz\r\n\" id=\"DejaVuSans-114\"/>\r\n      </defs>\r\n      <use xlink:href=\"#DejaVuSans-89\"/>\r\n      <use x=\"47.833984\" xlink:href=\"#DejaVuSans-101\"/>\r\n      <use x=\"109.357422\" xlink:href=\"#DejaVuSans-97\"/>\r\n      <use x=\"170.636719\" xlink:href=\"#DejaVuSans-114\"/>\r\n     </g>\r\n    </g>\r\n   </g>\r\n   <g id=\"matplotlib.axis_2\">\r\n    <g id=\"ytick_1\">\r\n     <g id=\"line2d_9\">\r\n      <defs>\r\n       <path d=\"M 0 0 \r\nL -3.5 0 \r\n\" id=\"m51ae8422e5\" style=\"stroke:#000000;stroke-width:0.8;\"/>\r\n      </defs>\r\n      <g>\r\n       <use style=\"stroke:#000000;stroke-width:0.8;\" x=\"53.328125\" xlink:href=\"#m51ae8422e5\" y=\"455.214518\"/>\r\n      </g>\r\n     </g>\r\n     <g id=\"text_10\">\r\n      <!-- 400 -->\r\n      <g transform=\"translate(27.240625 459.013737)scale(0.1 -0.1)\">\r\n       <use xlink:href=\"#DejaVuSans-52\"/>\r\n       <use x=\"63.623047\" xlink:href=\"#DejaVuSans-48\"/>\r\n       <use x=\"127.246094\" xlink:href=\"#DejaVuSans-48\"/>\r\n      </g>\r\n     </g>\r\n    </g>\r\n    <g id=\"ytick_2\">\r\n     <g id=\"line2d_10\">\r\n      <g>\r\n       <use style=\"stroke:#000000;stroke-width:0.8;\" x=\"53.328125\" xlink:href=\"#m51ae8422e5\" y=\"340.555164\"/>\r\n      </g>\r\n     </g>\r\n     <g id=\"text_11\">\r\n      <!-- 600 -->\r\n      <g transform=\"translate(27.240625 344.354382)scale(0.1 -0.1)\">\r\n       <use xlink:href=\"#DejaVuSans-54\"/>\r\n       <use x=\"63.623047\" xlink:href=\"#DejaVuSans-48\"/>\r\n       <use x=\"127.246094\" xlink:href=\"#DejaVuSans-48\"/>\r\n      </g>\r\n     </g>\r\n    </g>\r\n    <g id=\"ytick_3\">\r\n     <g id=\"line2d_11\">\r\n      <g>\r\n       <use style=\"stroke:#000000;stroke-width:0.8;\" x=\"53.328125\" xlink:href=\"#m51ae8422e5\" y=\"225.895809\"/>\r\n      </g>\r\n     </g>\r\n     <g id=\"text_12\">\r\n      <!-- 800 -->\r\n      <g transform=\"translate(27.240625 229.695028)scale(0.1 -0.1)\">\r\n       <use xlink:href=\"#DejaVuSans-56\"/>\r\n       <use x=\"63.623047\" xlink:href=\"#DejaVuSans-48\"/>\r\n       <use x=\"127.246094\" xlink:href=\"#DejaVuSans-48\"/>\r\n      </g>\r\n     </g>\r\n    </g>\r\n    <g id=\"ytick_4\">\r\n     <g id=\"line2d_12\">\r\n      <g>\r\n       <use style=\"stroke:#000000;stroke-width:0.8;\" x=\"53.328125\" xlink:href=\"#m51ae8422e5\" y=\"111.236454\"/>\r\n      </g>\r\n     </g>\r\n     <g id=\"text_13\">\r\n      <!-- 1000 -->\r\n      <g transform=\"translate(20.878125 115.035673)scale(0.1 -0.1)\">\r\n       <use xlink:href=\"#DejaVuSans-49\"/>\r\n       <use x=\"63.623047\" xlink:href=\"#DejaVuSans-48\"/>\r\n       <use x=\"127.246094\" xlink:href=\"#DejaVuSans-48\"/>\r\n       <use x=\"190.869141\" xlink:href=\"#DejaVuSans-48\"/>\r\n      </g>\r\n     </g>\r\n    </g>\r\n    <g id=\"text_14\">\r\n     <!-- Citations -->\r\n     <g transform=\"translate(14.798438 316.204844)rotate(-90)scale(0.1 -0.1)\">\r\n      <defs>\r\n       <path d=\"M 64.40625 67.28125 \r\nL 64.40625 56.890625 \r\nQ 59.421875 61.53125 53.78125 63.8125 \r\nQ 48.140625 66.109375 41.796875 66.109375 \r\nQ 29.296875 66.109375 22.65625 58.46875 \r\nQ 16.015625 50.828125 16.015625 36.375 \r\nQ 16.015625 21.96875 22.65625 14.328125 \r\nQ 29.296875 6.6875 41.796875 6.6875 \r\nQ 48.140625 6.6875 53.78125 8.984375 \r\nQ 59.421875 11.28125 64.40625 15.921875 \r\nL 64.40625 5.609375 \r\nQ 59.234375 2.09375 53.4375 0.328125 \r\nQ 47.65625 -1.421875 41.21875 -1.421875 \r\nQ 24.65625 -1.421875 15.125 8.703125 \r\nQ 5.609375 18.84375 5.609375 36.375 \r\nQ 5.609375 53.953125 15.125 64.078125 \r\nQ 24.65625 74.21875 41.21875 74.21875 \r\nQ 47.75 74.21875 53.53125 72.484375 \r\nQ 59.328125 70.75 64.40625 67.28125 \r\nz\r\n\" id=\"DejaVuSans-67\"/>\r\n       <path d=\"M 9.421875 54.6875 \r\nL 18.40625 54.6875 \r\nL 18.40625 0 \r\nL 9.421875 0 \r\nz\r\nM 9.421875 75.984375 \r\nL 18.40625 75.984375 \r\nL 18.40625 64.59375 \r\nL 9.421875 64.59375 \r\nz\r\n\" id=\"DejaVuSans-105\"/>\r\n       <path d=\"M 18.3125 70.21875 \r\nL 18.3125 54.6875 \r\nL 36.8125 54.6875 \r\nL 36.8125 47.703125 \r\nL 18.3125 47.703125 \r\nL 18.3125 18.015625 \r\nQ 18.3125 11.328125 20.140625 9.421875 \r\nQ 21.96875 7.515625 27.59375 7.515625 \r\nL 36.8125 7.515625 \r\nL 36.8125 0 \r\nL 27.59375 0 \r\nQ 17.1875 0 13.234375 3.875 \r\nQ 9.28125 7.765625 9.28125 18.015625 \r\nL 9.28125 47.703125 \r\nL 2.6875 47.703125 \r\nL 2.6875 54.6875 \r\nL 9.28125 54.6875 \r\nL 9.28125 70.21875 \r\nz\r\n\" id=\"DejaVuSans-116\"/>\r\n       <path d=\"M 30.609375 48.390625 \r\nQ 23.390625 48.390625 19.1875 42.75 \r\nQ 14.984375 37.109375 14.984375 27.296875 \r\nQ 14.984375 17.484375 19.15625 11.84375 \r\nQ 23.34375 6.203125 30.609375 6.203125 \r\nQ 37.796875 6.203125 41.984375 11.859375 \r\nQ 46.1875 17.53125 46.1875 27.296875 \r\nQ 46.1875 37.015625 41.984375 42.703125 \r\nQ 37.796875 48.390625 30.609375 48.390625 \r\nz\r\nM 30.609375 56 \r\nQ 42.328125 56 49.015625 48.375 \r\nQ 55.71875 40.765625 55.71875 27.296875 \r\nQ 55.71875 13.875 49.015625 6.21875 \r\nQ 42.328125 -1.421875 30.609375 -1.421875 \r\nQ 18.84375 -1.421875 12.171875 6.21875 \r\nQ 5.515625 13.875 5.515625 27.296875 \r\nQ 5.515625 40.765625 12.171875 48.375 \r\nQ 18.84375 56 30.609375 56 \r\nz\r\n\" id=\"DejaVuSans-111\"/>\r\n       <path d=\"M 54.890625 33.015625 \r\nL 54.890625 0 \r\nL 45.90625 0 \r\nL 45.90625 32.71875 \r\nQ 45.90625 40.484375 42.875 44.328125 \r\nQ 39.84375 48.1875 33.796875 48.1875 \r\nQ 26.515625 48.1875 22.3125 43.546875 \r\nQ 18.109375 38.921875 18.109375 30.90625 \r\nL 18.109375 0 \r\nL 9.078125 0 \r\nL 9.078125 54.6875 \r\nL 18.109375 54.6875 \r\nL 18.109375 46.1875 \r\nQ 21.34375 51.125 25.703125 53.5625 \r\nQ 30.078125 56 35.796875 56 \r\nQ 45.21875 56 50.046875 50.171875 \r\nQ 54.890625 44.34375 54.890625 33.015625 \r\nz\r\n\" id=\"DejaVuSans-110\"/>\r\n       <path d=\"M 44.28125 53.078125 \r\nL 44.28125 44.578125 \r\nQ 40.484375 46.53125 36.375 47.5 \r\nQ 32.28125 48.484375 27.875 48.484375 \r\nQ 21.1875 48.484375 17.84375 46.4375 \r\nQ 14.5 44.390625 14.5 40.28125 \r\nQ 14.5 37.15625 16.890625 35.375 \r\nQ 19.28125 33.59375 26.515625 31.984375 \r\nL 29.59375 31.296875 \r\nQ 39.15625 29.25 43.1875 25.515625 \r\nQ 47.21875 21.78125 47.21875 15.09375 \r\nQ 47.21875 7.46875 41.1875 3.015625 \r\nQ 35.15625 -1.421875 24.609375 -1.421875 \r\nQ 20.21875 -1.421875 15.453125 -0.5625 \r\nQ 10.6875 0.296875 5.421875 2 \r\nL 5.421875 11.28125 \r\nQ 10.40625 8.6875 15.234375 7.390625 \r\nQ 20.0625 6.109375 24.8125 6.109375 \r\nQ 31.15625 6.109375 34.5625 8.28125 \r\nQ 37.984375 10.453125 37.984375 14.40625 \r\nQ 37.984375 18.0625 35.515625 20.015625 \r\nQ 33.0625 21.96875 24.703125 23.78125 \r\nL 21.578125 24.515625 \r\nQ 13.234375 26.265625 9.515625 29.90625 \r\nQ 5.8125 33.546875 5.8125 39.890625 \r\nQ 5.8125 47.609375 11.28125 51.796875 \r\nQ 16.75 56 26.8125 56 \r\nQ 31.78125 56 36.171875 55.265625 \r\nQ 40.578125 54.546875 44.28125 53.078125 \r\nz\r\n\" id=\"DejaVuSans-115\"/>\r\n      </defs>\r\n      <use xlink:href=\"#DejaVuSans-67\"/>\r\n      <use x=\"69.824219\" xlink:href=\"#DejaVuSans-105\"/>\r\n      <use x=\"97.607422\" xlink:href=\"#DejaVuSans-116\"/>\r\n      <use x=\"136.816406\" xlink:href=\"#DejaVuSans-97\"/>\r\n      <use x=\"198.095703\" xlink:href=\"#DejaVuSans-116\"/>\r\n      <use x=\"237.304688\" xlink:href=\"#DejaVuSans-105\"/>\r\n      <use x=\"265.087891\" xlink:href=\"#DejaVuSans-111\"/>\r\n      <use x=\"326.269531\" xlink:href=\"#DejaVuSans-110\"/>\r\n      <use x=\"389.648438\" xlink:href=\"#DejaVuSans-115\"/>\r\n     </g>\r\n    </g>\r\n   </g>\r\n   <g id=\"line2d_13\">\r\n    <path clip-path=\"url(#p97ffdad9a0)\" d=\"M 91.37358 541.209034 \r\nL 200.074878 519.423757 \r\nL 308.776177 490.758918 \r\nL 417.477476 465.53386 \r\nL 526.178774 429.98946 \r\nL 634.880073 352.594396 \r\nL 743.581372 206.403719 \r\nL 852.28267 47.027216 \r\n\" style=\"fill:none;stroke:#1f77b4;stroke-linecap:square;stroke-width:1.5;\"/>\r\n   </g>\r\n   <g id=\"patch_3\">\r\n    <path d=\"M 53.328125 565.918125 \r\nL 53.328125 22.318125 \r\n\" style=\"fill:none;stroke:#000000;stroke-linecap:square;stroke-linejoin:miter;stroke-width:0.8;\"/>\r\n   </g>\r\n   <g id=\"patch_4\">\r\n    <path d=\"M 890.328125 565.918125 \r\nL 890.328125 22.318125 \r\n\" style=\"fill:none;stroke:#000000;stroke-linecap:square;stroke-linejoin:miter;stroke-width:0.8;\"/>\r\n   </g>\r\n   <g id=\"patch_5\">\r\n    <path d=\"M 53.328125 565.918125 \r\nL 890.328125 565.918125 \r\n\" style=\"fill:none;stroke:#000000;stroke-linecap:square;stroke-linejoin:miter;stroke-width:0.8;\"/>\r\n   </g>\r\n   <g id=\"patch_6\">\r\n    <path d=\"M 53.328125 22.318125 \r\nL 890.328125 22.318125 \r\n\" style=\"fill:none;stroke:#000000;stroke-linecap:square;stroke-linejoin:miter;stroke-width:0.8;\"/>\r\n   </g>\r\n   <g id=\"text_15\">\r\n    <!-- 250 -->\r\n    <g transform=\"translate(81.82983 541.209034)scale(0.1 -0.1)\">\r\n     <use xlink:href=\"#DejaVuSans-50\"/>\r\n     <use x=\"63.623047\" xlink:href=\"#DejaVuSans-53\"/>\r\n     <use x=\"127.246094\" xlink:href=\"#DejaVuSans-48\"/>\r\n    </g>\r\n   </g>\r\n   <g id=\"text_16\">\r\n    <!-- 288 -->\r\n    <g transform=\"translate(190.531128 519.423757)scale(0.1 -0.1)\">\r\n     <use xlink:href=\"#DejaVuSans-50\"/>\r\n     <use x=\"63.623047\" xlink:href=\"#DejaVuSans-56\"/>\r\n     <use x=\"127.246094\" xlink:href=\"#DejaVuSans-56\"/>\r\n    </g>\r\n   </g>\r\n   <g id=\"text_17\">\r\n    <!-- 338 -->\r\n    <g transform=\"translate(299.232427 490.758918)scale(0.1 -0.1)\">\r\n     <defs>\r\n      <path d=\"M 40.578125 39.3125 \r\nQ 47.65625 37.796875 51.625 33 \r\nQ 55.609375 28.21875 55.609375 21.1875 \r\nQ 55.609375 10.40625 48.1875 4.484375 \r\nQ 40.765625 -1.421875 27.09375 -1.421875 \r\nQ 22.515625 -1.421875 17.65625 -0.515625 \r\nQ 12.796875 0.390625 7.625 2.203125 \r\nL 7.625 11.71875 \r\nQ 11.71875 9.328125 16.59375 8.109375 \r\nQ 21.484375 6.890625 26.8125 6.890625 \r\nQ 36.078125 6.890625 40.9375 10.546875 \r\nQ 45.796875 14.203125 45.796875 21.1875 \r\nQ 45.796875 27.640625 41.28125 31.265625 \r\nQ 36.765625 34.90625 28.71875 34.90625 \r\nL 20.21875 34.90625 \r\nL 20.21875 43.015625 \r\nL 29.109375 43.015625 \r\nQ 36.375 43.015625 40.234375 45.921875 \r\nQ 44.09375 48.828125 44.09375 54.296875 \r\nQ 44.09375 59.90625 40.109375 62.90625 \r\nQ 36.140625 65.921875 28.71875 65.921875 \r\nQ 24.65625 65.921875 20.015625 65.03125 \r\nQ 15.375 64.15625 9.8125 62.3125 \r\nL 9.8125 71.09375 \r\nQ 15.4375 72.65625 20.34375 73.4375 \r\nQ 25.25 74.21875 29.59375 74.21875 \r\nQ 40.828125 74.21875 47.359375 69.109375 \r\nQ 53.90625 64.015625 53.90625 55.328125 \r\nQ 53.90625 49.265625 50.4375 45.09375 \r\nQ 46.96875 40.921875 40.578125 39.3125 \r\nz\r\n\" id=\"DejaVuSans-51\"/>\r\n     </defs>\r\n     <use xlink:href=\"#DejaVuSans-51\"/>\r\n     <use x=\"63.623047\" xlink:href=\"#DejaVuSans-51\"/>\r\n     <use x=\"127.246094\" xlink:href=\"#DejaVuSans-56\"/>\r\n    </g>\r\n   </g>\r\n   <g id=\"text_18\">\r\n    <!-- 382 -->\r\n    <g transform=\"translate(407.933726 465.53386)scale(0.1 -0.1)\">\r\n     <use xlink:href=\"#DejaVuSans-51\"/>\r\n     <use x=\"63.623047\" xlink:href=\"#DejaVuSans-56\"/>\r\n     <use x=\"127.246094\" xlink:href=\"#DejaVuSans-50\"/>\r\n    </g>\r\n   </g>\r\n   <g id=\"text_19\">\r\n    <!-- 444 -->\r\n    <g transform=\"translate(516.635024 429.98946)scale(0.1 -0.1)\">\r\n     <use xlink:href=\"#DejaVuSans-52\"/>\r\n     <use x=\"63.623047\" xlink:href=\"#DejaVuSans-52\"/>\r\n     <use x=\"127.246094\" xlink:href=\"#DejaVuSans-52\"/>\r\n    </g>\r\n   </g>\r\n   <g id=\"text_20\">\r\n    <!-- 579 -->\r\n    <g transform=\"translate(625.336323 352.594396)scale(0.1 -0.1)\">\r\n     <use xlink:href=\"#DejaVuSans-53\"/>\r\n     <use x=\"63.623047\" xlink:href=\"#DejaVuSans-55\"/>\r\n     <use x=\"127.246094\" xlink:href=\"#DejaVuSans-57\"/>\r\n    </g>\r\n   </g>\r\n   <g id=\"text_21\">\r\n    <!-- 834 -->\r\n    <g transform=\"translate(734.037622 206.403719)scale(0.1 -0.1)\">\r\n     <use xlink:href=\"#DejaVuSans-56\"/>\r\n     <use x=\"63.623047\" xlink:href=\"#DejaVuSans-51\"/>\r\n     <use x=\"127.246094\" xlink:href=\"#DejaVuSans-52\"/>\r\n    </g>\r\n   </g>\r\n   <g id=\"text_22\">\r\n    <!-- 1112 -->\r\n    <g transform=\"translate(839.55767 47.027216)scale(0.1 -0.1)\">\r\n     <use xlink:href=\"#DejaVuSans-49\"/>\r\n     <use x=\"63.623047\" xlink:href=\"#DejaVuSans-49\"/>\r\n     <use x=\"127.246094\" xlink:href=\"#DejaVuSans-49\"/>\r\n     <use x=\"190.869141\" xlink:href=\"#DejaVuSans-50\"/>\r\n    </g>\r\n   </g>\r\n   <g id=\"text_23\">\r\n    <!-- Citation of Professor Li since 2014 -->\r\n    <g transform=\"translate(369.557187 16.318125)scale(0.12 -0.12)\">\r\n     <defs>\r\n      <path id=\"DejaVuSans-32\"/>\r\n      <path d=\"M 37.109375 75.984375 \r\nL 37.109375 68.5 \r\nL 28.515625 68.5 \r\nQ 23.6875 68.5 21.796875 66.546875 \r\nQ 19.921875 64.59375 19.921875 59.515625 \r\nL 19.921875 54.6875 \r\nL 34.71875 54.6875 \r\nL 34.71875 47.703125 \r\nL 19.921875 47.703125 \r\nL 19.921875 0 \r\nL 10.890625 0 \r\nL 10.890625 47.703125 \r\nL 2.296875 47.703125 \r\nL 2.296875 54.6875 \r\nL 10.890625 54.6875 \r\nL 10.890625 58.5 \r\nQ 10.890625 67.625 15.140625 71.796875 \r\nQ 19.390625 75.984375 28.609375 75.984375 \r\nz\r\n\" id=\"DejaVuSans-102\"/>\r\n      <path d=\"M 19.671875 64.796875 \r\nL 19.671875 37.40625 \r\nL 32.078125 37.40625 \r\nQ 38.96875 37.40625 42.71875 40.96875 \r\nQ 46.484375 44.53125 46.484375 51.125 \r\nQ 46.484375 57.671875 42.71875 61.234375 \r\nQ 38.96875 64.796875 32.078125 64.796875 \r\nz\r\nM 9.8125 72.90625 \r\nL 32.078125 72.90625 \r\nQ 44.34375 72.90625 50.609375 67.359375 \r\nQ 56.890625 61.8125 56.890625 51.125 \r\nQ 56.890625 40.328125 50.609375 34.8125 \r\nQ 44.34375 29.296875 32.078125 29.296875 \r\nL 19.671875 29.296875 \r\nL 19.671875 0 \r\nL 9.8125 0 \r\nz\r\n\" id=\"DejaVuSans-80\"/>\r\n      <path d=\"M 9.8125 72.90625 \r\nL 19.671875 72.90625 \r\nL 19.671875 8.296875 \r\nL 55.171875 8.296875 \r\nL 55.171875 0 \r\nL 9.8125 0 \r\nz\r\n\" id=\"DejaVuSans-76\"/>\r\n      <path d=\"M 48.78125 52.59375 \r\nL 48.78125 44.1875 \r\nQ 44.96875 46.296875 41.140625 47.34375 \r\nQ 37.3125 48.390625 33.40625 48.390625 \r\nQ 24.65625 48.390625 19.8125 42.84375 \r\nQ 14.984375 37.3125 14.984375 27.296875 \r\nQ 14.984375 17.28125 19.8125 11.734375 \r\nQ 24.65625 6.203125 33.40625 6.203125 \r\nQ 37.3125 6.203125 41.140625 7.25 \r\nQ 44.96875 8.296875 48.78125 10.40625 \r\nL 48.78125 2.09375 \r\nQ 45.015625 0.34375 40.984375 -0.53125 \r\nQ 36.96875 -1.421875 32.421875 -1.421875 \r\nQ 20.0625 -1.421875 12.78125 6.34375 \r\nQ 5.515625 14.109375 5.515625 27.296875 \r\nQ 5.515625 40.671875 12.859375 48.328125 \r\nQ 20.21875 56 33.015625 56 \r\nQ 37.15625 56 41.109375 55.140625 \r\nQ 45.0625 54.296875 48.78125 52.59375 \r\nz\r\n\" id=\"DejaVuSans-99\"/>\r\n     </defs>\r\n     <use xlink:href=\"#DejaVuSans-67\"/>\r\n     <use x=\"69.824219\" xlink:href=\"#DejaVuSans-105\"/>\r\n     <use x=\"97.607422\" xlink:href=\"#DejaVuSans-116\"/>\r\n     <use x=\"136.816406\" xlink:href=\"#DejaVuSans-97\"/>\r\n     <use x=\"198.095703\" xlink:href=\"#DejaVuSans-116\"/>\r\n     <use x=\"237.304688\" xlink:href=\"#DejaVuSans-105\"/>\r\n     <use x=\"265.087891\" xlink:href=\"#DejaVuSans-111\"/>\r\n     <use x=\"326.269531\" xlink:href=\"#DejaVuSans-110\"/>\r\n     <use x=\"389.648438\" xlink:href=\"#DejaVuSans-32\"/>\r\n     <use x=\"421.435547\" xlink:href=\"#DejaVuSans-111\"/>\r\n     <use x=\"482.617188\" xlink:href=\"#DejaVuSans-102\"/>\r\n     <use x=\"517.822266\" xlink:href=\"#DejaVuSans-32\"/>\r\n     <use x=\"549.609375\" xlink:href=\"#DejaVuSans-80\"/>\r\n     <use x=\"608.162109\" xlink:href=\"#DejaVuSans-114\"/>\r\n     <use x=\"647.025391\" xlink:href=\"#DejaVuSans-111\"/>\r\n     <use x=\"708.207031\" xlink:href=\"#DejaVuSans-102\"/>\r\n     <use x=\"743.412109\" xlink:href=\"#DejaVuSans-101\"/>\r\n     <use x=\"804.935547\" xlink:href=\"#DejaVuSans-115\"/>\r\n     <use x=\"857.035156\" xlink:href=\"#DejaVuSans-115\"/>\r\n     <use x=\"909.134766\" xlink:href=\"#DejaVuSans-111\"/>\r\n     <use x=\"970.316406\" xlink:href=\"#DejaVuSans-114\"/>\r\n     <use x=\"1011.429688\" xlink:href=\"#DejaVuSans-32\"/>\r\n     <use x=\"1043.216797\" xlink:href=\"#DejaVuSans-76\"/>\r\n     <use x=\"1098.929688\" xlink:href=\"#DejaVuSans-105\"/>\r\n     <use x=\"1126.712891\" xlink:href=\"#DejaVuSans-32\"/>\r\n     <use x=\"1158.5\" xlink:href=\"#DejaVuSans-115\"/>\r\n     <use x=\"1210.599609\" xlink:href=\"#DejaVuSans-105\"/>\r\n     <use x=\"1238.382812\" xlink:href=\"#DejaVuSans-110\"/>\r\n     <use x=\"1301.761719\" xlink:href=\"#DejaVuSans-99\"/>\r\n     <use x=\"1356.742188\" xlink:href=\"#DejaVuSans-101\"/>\r\n     <use x=\"1418.265625\" xlink:href=\"#DejaVuSans-32\"/>\r\n     <use x=\"1450.052734\" xlink:href=\"#DejaVuSans-50\"/>\r\n     <use x=\"1513.675781\" xlink:href=\"#DejaVuSans-48\"/>\r\n     <use x=\"1577.298828\" xlink:href=\"#DejaVuSans-49\"/>\r\n     <use x=\"1640.921875\" xlink:href=\"#DejaVuSans-52\"/>\r\n    </g>\r\n   </g>\r\n  </g>\r\n </g>\r\n <defs>\r\n  <clipPath id=\"p97ffdad9a0\">\r\n   <rect height=\"543.6\" width=\"837\" x=\"53.328125\" y=\"22.318125\"/>\r\n  </clipPath>\r\n </defs>\r\n</svg>\r\n",
      "image/png": "[encoded data removed]"
     },
     "metadata": {
      "needs_background": "light"
     }
    }
   ],
   "source": [
    "# Plot into line chart\n",
    "plt.figure()\n",
    "plt.plot(date,data_set_CNN)\n",
    "plt.scatter(date,data_set_CNN)\n",
    "\n",
    "plt.xlabel(\"Year\")\n",
    "plt.ylabel(\"Citations\")\n",
    "plt.title(\"Citation of Professor Li since 2014\")\n",
    "\n",
    "for i in range(len(data_set_CNN)):\n",
    "    plt.annotate(data_set_CNN[i], (date[i],data_set_CNN[i]), ha='center')\n",
    "\n",
    "plt.show()"
   ]
  },
  {
   "cell_type": "code",
   "execution_count": null,
   "metadata": {},
   "outputs": [],
   "source": []
  },
  {
   "cell_type": "code",
   "execution_count": 19,
   "metadata": {},
   "outputs": [
    {
     "output_type": "stream",
     "name": "stderr",
     "text": [
      "[NbConvertApp] Converting notebook CAZ_SIT742Task1.ipynb to html\n[NbConvertApp] Writing 995873 bytes to CAZ_SIT742Task1.html\n"
     ]
    }
   ],
   "source": [
    "# Save result as html\n",
    "!jupyter nbconvert --to html CAZ_SIT742Task1.ipynb"
   ]
  },
  {
   "cell_type": "code",
   "execution_count": null,
   "metadata": {},
   "outputs": [],
   "source": []
  }
 ],
 "metadata": {
  "colab": {
   "collapsed_sections": [],
   "name": "SIT742Task1.ipynb",
   "provenance": [],
   "toc_visible": true
  },
  "kernelspec": {
   "name": "python380jvsc74a57bd0133071799e6565f246e665a181b3135c4a08833d91d72c947e8ef83e76e9de89",
   "display_name": "Python 3.8.0 64-bit"
  },
  "language_info": {
   "codemirror_mode": {
    "name": "ipython",
    "version": 3
   },
   "file_extension": ".py",
   "mimetype": "text/x-python",
   "name": "python",
   "nbconvert_exporter": "python",
   "pygments_lexer": "ipython3",
   "version": "3.8.0"
  },
  "name": "SampleCode",
  "notebookId": 2691131752868967
 },
 "nbformat": 4,
 "nbformat_minor": 1
}